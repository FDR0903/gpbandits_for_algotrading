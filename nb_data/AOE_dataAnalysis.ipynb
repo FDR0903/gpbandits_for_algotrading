{
 "cells": [
  {
   "cell_type": "code",
   "execution_count": 1,
   "id": "94a2891e-5533-47a5-83a7-85ce391b5d63",
   "metadata": {
    "tags": []
   },
   "outputs": [],
   "source": [
    "import pandas as pd, numpy as np, matplotlib.pyplot as plt\n",
    "import os\n",
    "import datetime\n",
    "import pathlib\n",
    "import matplotlib.dates as md\n",
    "import matplotlib.gridspec as gridspec\n",
    "from IPython.display import clear_output\n",
    "import matplotlib.ticker as mtick\n",
    "import matplotlib.dates as md"
   ]
  },
  {
   "cell_type": "code",
   "execution_count": 2,
   "id": "aa5712d8-e15e-42fc-9697-e5920cee1f76",
   "metadata": {
    "tags": []
   },
   "outputs": [],
   "source": [
    "def make_patch_spines_invisible(ax):\n",
    "    ax.set_frame_on(True)\n",
    "    ax.patch.set_visible(False)\n",
    "    for sp in ax.spines.values():\n",
    "        sp.set_visible(False)\n",
    "\n",
    "def alignYaxes(axes, align_values=None):\n",
    "    from matplotlib.pyplot import MaxNLocator\n",
    "\n",
    "    nax=len(axes)\n",
    "    ticks=[aii.get_yticks() for aii in axes]\n",
    "    if align_values is None:\n",
    "        aligns=[ticks[ii][0] for ii in range(nax)]\n",
    "    else:\n",
    "        if len(align_values) != nax:\n",
    "            raise Exception(\"Length of <axes> doesn't equal that of <align_values>.\")\n",
    "        aligns=align_values\n",
    "\n",
    "    bounds=[aii.get_ylim() for aii in axes]\n",
    "\n",
    "    # align at some points\n",
    "    ticks_align=[ticks[ii]-aligns[ii] for ii in range(nax)]\n",
    "\n",
    "    # scale the range to 1-100\n",
    "    ranges=[tii[-1]-tii[0] for tii in ticks]\n",
    "    lgs=[-np.log10(rii)+2. for rii in ranges]\n",
    "    igs=[np.floor(ii) for ii in lgs]\n",
    "    log_ticks=[ticks_align[ii]*(10.**igs[ii]) for ii in range(nax)]\n",
    "\n",
    "    # put all axes ticks into a single array, then compute new ticks for all\n",
    "    comb_ticks=np.concatenate(log_ticks)\n",
    "    comb_ticks.sort()\n",
    "    locator=MaxNLocator(nbins='auto', steps=[1, 2, 2.5, 3, 4, 5, 8, 10])\n",
    "    new_ticks=locator.tick_values(comb_ticks[0], comb_ticks[-1])\n",
    "    new_ticks=[new_ticks/10.**igs[ii] for ii in range(nax)]\n",
    "    new_ticks=[new_ticks[ii]+aligns[ii] for ii in range(nax)]\n",
    "\n",
    "    # find the lower bound\n",
    "    idx_l=0\n",
    "    for i in range(len(new_ticks[0])):\n",
    "        if any([new_ticks[jj][i] > bounds[jj][0] for jj in range(nax)]):\n",
    "            idx_l=i-1\n",
    "            break\n",
    "\n",
    "    # find the upper bound\n",
    "    idx_r=0\n",
    "    for i in range(len(new_ticks[0])):\n",
    "        if all([new_ticks[jj][i] > bounds[jj][1] for jj in range(nax)]):\n",
    "            idx_r=i\n",
    "            break\n",
    "\n",
    "    # trim tick lists by bounds\n",
    "    new_ticks=[tii[idx_l:idx_r+1] for tii in new_ticks]\n",
    "\n",
    "    # set ticks for each axis\n",
    "    for axii, tii in zip(axes, new_ticks):\n",
    "        axii.set_yticks(tii)\n",
    "\n",
    "    return new_ticks"
   ]
  },
  {
   "cell_type": "code",
   "execution_count": 3,
   "id": "a47f5f29-0221-4fb7-90de-8d82a2a26b88",
   "metadata": {
    "tags": []
   },
   "outputs": [],
   "source": [
    "def rescale_plot(W=5, l=6, w=3):\n",
    "    plt.rcParams.update({\n",
    "            'figure.figsize': (W, W/(l/w)),     # 6:3 aspect ratio\n",
    "            'font.size' : 9,                   # Set font size to 11pt\n",
    "            'axes.labelsize': 9,               # -> axis labels\n",
    "            'legend.fontsize': 9,              # -> legends\n",
    "            'font.family': 'lmodern',\n",
    "            'text.usetex': True,\n",
    "            'text.latex.preamble': (            # LaTeX preamble\n",
    "                r'\\usepackage{lmodern}'\n",
    "                # ... more packages if needed\n",
    "            )\n",
    "        })"
   ]
  },
  {
   "cell_type": "code",
   "execution_count": 4,
   "id": "4b214a1e-835e-48a4-86cf-fc2ab66ce846",
   "metadata": {
    "tags": []
   },
   "outputs": [],
   "source": [
    "def get_LOB_data(data_path, asset_name, trade_date):\n",
    "    LOB_data_path = os.path.join(data_path, asset_name, f'{asset_name}_{trade_date}_34200000_57600000_orderbook_5.csv')\n",
    "    LOB_data      = pd.read_csv(LOB_data_path,\n",
    "                                usecols   = [0, 1, 2, 3],\n",
    "                                engine    = 'c',\n",
    "                                index_col = None,\n",
    "                                header    = None,\n",
    "                                infer_datetime_format = True)\n",
    "\n",
    "    LOB_messages = pd.read_csv(f'{data_path}/{asset_name}/{asset_name}_{trade_date}_34200000_57600000_message_5.csv', \n",
    "                               usecols   = [0,1],\n",
    "                               engine    = 'c',\n",
    "                               index_col = 0,\n",
    "                               header    = None)\n",
    "    LOB_data.index = LOB_messages.index\n",
    "    LOB_data.columns = [f'ask_1', f'ask_volume_1', f'bid_1', f'bid_volume_1']\n",
    "    LOB_data.index.name = 'time'\n",
    "    LOB_data = LOB_data.reset_index(drop=False).groupby('time').last()\n",
    "    \n",
    "    return LOB_data, LOB_messages"
   ]
  },
  {
   "cell_type": "code",
   "execution_count": 5,
   "id": "2470b5e1-3e96-472a-871f-125441ebaf3a",
   "metadata": {},
   "outputs": [],
   "source": [
    "def ema(series, periods, fillna=False):\n",
    "    if fillna:\n",
    "        return series.ewm(span=periods, min_periods=0).mean()\n",
    "    return series.ewm(span=periods, min_periods=periods).mean()\n",
    "\n",
    "def macd_signal_2(close, n_fast=12, n_slow=26, n_sign=9, fillna=False):\n",
    "    emafast = ema(close, n_fast, fillna)\n",
    "    emaslow = ema(close, n_slow, fillna)\n",
    "    macd = emafast - emaslow\n",
    "    macd = (macd - ema(macd, n_sign, fillna))\n",
    "    macd = macd / close.shift(n_slow+n_fast)\n",
    "    \n",
    "    if fillna:\n",
    "        macd = macd.replace([np.inf, -np.inf], np.nan).fillna(0)\n",
    "        \n",
    "    return pd.Series(macd, name='MACD')"
   ]
  },
  {
   "cell_type": "code",
   "execution_count": 6,
   "id": "2ef40190-a620-4b22-8fa7-2b12621ba18a",
   "metadata": {
    "tags": []
   },
   "outputs": [],
   "source": [
    "def add_fwd_cols(all_fwd_cols, _LOB_features):\n",
    "    for col in all_fwd_cols:\n",
    "        fwd_w = int(col.split('_')[-1])\n",
    "        _LOB_features[col] = _LOB_features['mid_price'].diff(fwd_w).shift(-fwd_w)"
   ]
  },
  {
   "cell_type": "markdown",
   "id": "09a7eb61-406f-4e42-86ad-33d2d54ce4fb",
   "metadata": {},
   "source": [
    "# Global variables"
   ]
  },
  {
   "cell_type": "code",
   "execution_count": 7,
   "id": "9a628fe8-b1e6-480a-b0e9-36c38c369b72",
   "metadata": {
    "tags": []
   },
   "outputs": [],
   "source": [
    "data_path     = pathlib.Path(os.path.abspath(os.path.join('..')), \"data\")\n",
    "data_path     = pathlib.Path(os.path.abspath(os.path.join('..', '..')), \"AOE3_data\")\n",
    "reward_path   = pathlib.Path(os.path.abspath(os.path.join('..')), \"data\", \"Rewards\")\n",
    "feature_path  = pathlib.Path(os.path.abspath(os.path.join('..')), \"data\", \"Features\")"
   ]
  },
  {
   "cell_type": "code",
   "execution_count": 8,
   "id": "35bf53e7-d671-468b-919d-36b8381ce9a6",
   "metadata": {
    "tags": []
   },
   "outputs": [],
   "source": [
    "asset_names    = (\"BIDU\", \"COST\", \"GILD\", \"DELL\", \"GOOG\", \"INTC\")"
   ]
  },
  {
   "cell_type": "code",
   "execution_count": 9,
   "id": "4491a7c1-52bc-4496-bb48-eec68654f582",
   "metadata": {
    "tags": []
   },
   "outputs": [],
   "source": [
    "tick_size     = 0.01\n",
    "\n",
    "fwd_cols = []\n",
    "fwd_col_l = (1, 5, 10, 20, 50, 40, 60, 100, 300, 500, 1000)\n",
    "for w in fwd_col_l:\n",
    "    fwd_cols += [f'fwd_price_move_{w}']"
   ]
  },
  {
   "cell_type": "markdown",
   "id": "d8a393a1-cdcb-4481-9776-5a143cffcea3",
   "metadata": {
    "tags": []
   },
   "source": [
    "# Data Statistics\n",
    "### Basic statistics"
   ]
  },
  {
   "cell_type": "code",
   "execution_count": 10,
   "id": "f9f8d67e-3208-4690-89f6-6ffd634ae68e",
   "metadata": {
    "tags": []
   },
   "outputs": [],
   "source": [
    "asset_stats = {}\n",
    "for asset_name in asset_names:\n",
    "    all_data = None\n",
    "    len_data = 0\n",
    "    avg_50trades = 0\n",
    "    avg_frq = 0\n",
    "    i_avg = 0\n",
    "    events_per_minute = 0\n",
    "    avg_volume_bbid = 0\n",
    "    avg_volume_bask = 0\n",
    "    avg_baspread = 0\n",
    "    for filename in os.listdir(feature_path):\n",
    "        f = os.path.join(feature_path, filename)\n",
    "        # checking if it is a file\n",
    "        if os.path.isfile(f):\n",
    "            if asset_name in filename:\n",
    "                trade_date = filename.split('_')[1]\n",
    "                feature_fn = f'{asset_name}_{trade_date}_LOB_features.pkl'\n",
    "                _all_data  = pd.read_pickle(f'{str(feature_path)}/{feature_fn}')\n",
    "                \n",
    "                # filter on important information\n",
    "                try:\n",
    "                    avg_volume_bbid   += _all_data.bid_volume_1.mean()\n",
    "                    avg_volume_bask   += _all_data.ask_volume_1.mean()\n",
    "                    \n",
    "                    # relevant events per minute\n",
    "                    events_per_minute += len(_all_data)/(6.5 * 60)\n",
    "                    \n",
    "                    # number of trades\n",
    "                    len_data     += len(_all_data)\n",
    "                    \n",
    "                    # avg events for 50 trades\n",
    "                    avg_50trades += _all_data['timestamp'].diff(20).replace({pd.NaT: np.nan}).dropna().apply(pd.Timedelta.total_seconds).mean()\n",
    "                    avg_frq      += float(np.mean(np.diff(_all_data.timestamp)))/1e9\n",
    "                    i_avg        += 1\n",
    "                    \n",
    "                    # avg ba spread\n",
    "                    avg_baspread += _all_data['ba_spread'].mean()\n",
    "                    \n",
    "                except Exception as e:\n",
    "                    print('Could not load asset ', asset_name, 'for date', trade_date)\n",
    "                    print('error: ', str(e))\n",
    "    if False:\n",
    "        print('*************************')\n",
    "        print(asset_name)\n",
    "        print('*************************')\n",
    "        print('Lenght of data', len_data)\n",
    "        print('events per minute', events_per_minute    / i_avg)\n",
    "        print('avg volume at best bid', avg_volume_bbid / i_avg)\n",
    "        print('avg volume at best ask', avg_volume_bask / i_avg)\n",
    "        print('avg time for 50 trades', avg_50trades    /i_avg)\n",
    "        print('Average B/A spread', avg_baspread/i_avg/tick_size)\n",
    "    \n",
    "    asset_stats[asset_name] =  {'lendata': len_data, \n",
    "                                'events_per_minute' : events_per_minute    / i_avg,\n",
    "                                'avg_volume_bbid'   : avg_volume_bbid / i_avg,\n",
    "                                'avg_volume_bask'   : avg_volume_bask / i_avg,\n",
    "                                'avg_50trades'      : avg_50trades    /i_avg,\n",
    "                                'avg_freq'          : avg_frq    /i_avg,\n",
    "                                'avg_baspread'      : avg_baspread/i_avg/tick_size}\n",
    "                                "
   ]
  },
  {
   "cell_type": "code",
   "execution_count": 11,
   "id": "77f7c7bb-9905-4663-ba67-be2e69ed2fb9",
   "metadata": {
    "tags": []
   },
   "outputs": [
    {
     "data": {
      "text/html": [
       "<div>\n",
       "<style scoped>\n",
       "    .dataframe tbody tr th:only-of-type {\n",
       "        vertical-align: middle;\n",
       "    }\n",
       "\n",
       "    .dataframe tbody tr th {\n",
       "        vertical-align: top;\n",
       "    }\n",
       "\n",
       "    .dataframe thead th {\n",
       "        text-align: right;\n",
       "    }\n",
       "</style>\n",
       "<table border=\"1\" class=\"dataframe\">\n",
       "  <thead>\n",
       "    <tr style=\"text-align: right;\">\n",
       "      <th></th>\n",
       "      <th>lendata</th>\n",
       "      <th>events_per_minute</th>\n",
       "      <th>avg_volume_bbid</th>\n",
       "      <th>avg_volume_bask</th>\n",
       "      <th>avg_50trades</th>\n",
       "      <th>avg_freq</th>\n",
       "      <th>avg_baspread</th>\n",
       "    </tr>\n",
       "  </thead>\n",
       "  <tbody>\n",
       "    <tr>\n",
       "      <th>BIDU</th>\n",
       "      <td>6527016.0</td>\n",
       "      <td>288.550663</td>\n",
       "      <td>144.666986</td>\n",
       "      <td>143.594855</td>\n",
       "      <td>4.379803</td>\n",
       "      <td>0.218956</td>\n",
       "      <td>9.881444</td>\n",
       "    </tr>\n",
       "    <tr>\n",
       "      <th>COST</th>\n",
       "      <td>8539648.0</td>\n",
       "      <td>377.526437</td>\n",
       "      <td>70.543739</td>\n",
       "      <td>71.005566</td>\n",
       "      <td>4.082035</td>\n",
       "      <td>0.204064</td>\n",
       "      <td>29.871846</td>\n",
       "    </tr>\n",
       "    <tr>\n",
       "      <th>GILD</th>\n",
       "      <td>12982394.0</td>\n",
       "      <td>573.934306</td>\n",
       "      <td>411.891693</td>\n",
       "      <td>446.374009</td>\n",
       "      <td>2.110918</td>\n",
       "      <td>0.105537</td>\n",
       "      <td>1.795371</td>\n",
       "    </tr>\n",
       "    <tr>\n",
       "      <th>DELL</th>\n",
       "      <td>8231914.0</td>\n",
       "      <td>363.921927</td>\n",
       "      <td>287.497959</td>\n",
       "      <td>297.571909</td>\n",
       "      <td>3.386645</td>\n",
       "      <td>0.169398</td>\n",
       "      <td>1.840823</td>\n",
       "    </tr>\n",
       "    <tr>\n",
       "      <th>GOOG</th>\n",
       "      <td>45833859.0</td>\n",
       "      <td>1991.910430</td>\n",
       "      <td>369.627844</td>\n",
       "      <td>368.450109</td>\n",
       "      <td>0.599237</td>\n",
       "      <td>0.029961</td>\n",
       "      <td>1.624649</td>\n",
       "    </tr>\n",
       "    <tr>\n",
       "      <th>INTC</th>\n",
       "      <td>33807730.0</td>\n",
       "      <td>1469.262495</td>\n",
       "      <td>6607.306745</td>\n",
       "      <td>6332.021053</td>\n",
       "      <td>0.810294</td>\n",
       "      <td>0.040514</td>\n",
       "      <td>1.162990</td>\n",
       "    </tr>\n",
       "  </tbody>\n",
       "</table>\n",
       "</div>"
      ],
      "text/plain": [
       "         lendata  events_per_minute  avg_volume_bbid  avg_volume_bask  \\\n",
       "BIDU   6527016.0         288.550663       144.666986       143.594855   \n",
       "COST   8539648.0         377.526437        70.543739        71.005566   \n",
       "GILD  12982394.0         573.934306       411.891693       446.374009   \n",
       "DELL   8231914.0         363.921927       287.497959       297.571909   \n",
       "GOOG  45833859.0        1991.910430       369.627844       368.450109   \n",
       "INTC  33807730.0        1469.262495      6607.306745      6332.021053   \n",
       "\n",
       "      avg_50trades  avg_freq  avg_baspread  \n",
       "BIDU      4.379803  0.218956      9.881444  \n",
       "COST      4.082035  0.204064     29.871846  \n",
       "GILD      2.110918  0.105537      1.795371  \n",
       "DELL      3.386645  0.169398      1.840823  \n",
       "GOOG      0.599237  0.029961      1.624649  \n",
       "INTC      0.810294  0.040514      1.162990  "
      ]
     },
     "execution_count": 11,
     "metadata": {},
     "output_type": "execute_result"
    }
   ],
   "source": [
    "statsdf = pd.DataFrame.from_dict({asset_name: [asset_stats[asset_name][k] for k in asset_stats[asset_name].keys()] for asset_name in asset_names}) \n",
    "statsdf.index = asset_stats[asset_name].keys()\n",
    "statsdf.T"
   ]
  },
  {
   "cell_type": "code",
   "execution_count": 27,
   "id": "1d5f9717-6ce7-48c0-8405-f54c67548c8a",
   "metadata": {},
   "outputs": [
    {
     "data": {
      "text/plain": [
       "0.28495440729483285"
      ]
     },
     "execution_count": 27,
     "metadata": {},
     "output_type": "execute_result"
    }
   ],
   "source": [
    "60/210.56"
   ]
  },
  {
   "cell_type": "markdown",
   "id": "d18fe993-1cdd-4927-a55f-df8f72cbad08",
   "metadata": {},
   "source": [
    "# Volume as a function of time"
   ]
  },
  {
   "cell_type": "code",
   "execution_count": 47,
   "id": "3e3796a5-bd94-454e-9a1a-780424f69209",
   "metadata": {
    "tags": []
   },
   "outputs": [],
   "source": []
  },
  {
   "cell_type": "code",
   "execution_count": 57,
   "id": "a111b3fb-2085-472c-872a-4ab20ab6f7ce",
   "metadata": {
    "tags": []
   },
   "outputs": [],
   "source": [
    "asset_names    = (\"BIDU\", )"
   ]
  },
  {
   "cell_type": "code",
   "execution_count": 59,
   "id": "5f758d2b-7caa-4cd9-9956-1c4f4058580f",
   "metadata": {
    "tags": []
   },
   "outputs": [
    {
     "name": "stdout",
     "output_type": "stream",
     "text": [
      "************ BIDU\n",
      "error : 2022-10-17\n"
     ]
    },
    {
     "ename": "AttributeError",
     "evalue": "'NoneType' object has no attribute 'fillna'",
     "output_type": "error",
     "traceback": [
      "\u001b[0;31m---------------------------------------------------------------------------\u001b[0m",
      "\u001b[0;31mAttributeError\u001b[0m                            Traceback (most recent call last)",
      "Cell \u001b[0;32mIn[59], line 31\u001b[0m\n\u001b[1;32m     29\u001b[0m             \u001b[38;5;28;01mexcept\u001b[39;00m \u001b[38;5;167;01mException\u001b[39;00m \u001b[38;5;28;01mas\u001b[39;00m e:\n\u001b[1;32m     30\u001b[0m                 \u001b[38;5;28mprint\u001b[39m(\u001b[38;5;124m'\u001b[39m\u001b[38;5;124merror :\u001b[39m\u001b[38;5;124m'\u001b[39m, trade_date)\n\u001b[0;32m---> 31\u001b[0m volume_curve_dict[asset_name] \u001b[38;5;241m=\u001b[39m \u001b[43mvolume_curve\u001b[49m\u001b[38;5;241;43m.\u001b[39;49m\u001b[43mfillna\u001b[49m(\u001b[38;5;241m0\u001b[39m)\u001b[38;5;241m.\u001b[39msum(axis\u001b[38;5;241m=\u001b[39m\u001b[38;5;241m1\u001b[39m)\u001b[38;5;241m/\u001b[39mvolume_curve\u001b[38;5;241m.\u001b[39mfillna(\u001b[38;5;241m0\u001b[39m)\u001b[38;5;241m.\u001b[39msum(axis\u001b[38;5;241m=\u001b[39m\u001b[38;5;241m1\u001b[39m)\u001b[38;5;241m.\u001b[39msum()\n\u001b[1;32m     32\u001b[0m vol_curve_dict[asset_name] \u001b[38;5;241m=\u001b[39m vol_curve\u001b[38;5;241m.\u001b[39mfillna(\u001b[38;5;241m0\u001b[39m)\u001b[38;5;241m.\u001b[39msum(axis\u001b[38;5;241m=\u001b[39m\u001b[38;5;241m1\u001b[39m)\u001b[38;5;241m/\u001b[39mvolume_curve\u001b[38;5;241m.\u001b[39mfillna(\u001b[38;5;241m0\u001b[39m)\u001b[38;5;241m.\u001b[39msum(axis\u001b[38;5;241m=\u001b[39m\u001b[38;5;241m1\u001b[39m)\u001b[38;5;241m.\u001b[39msum()\n",
      "\u001b[0;31mAttributeError\u001b[0m: 'NoneType' object has no attribute 'fillna'"
     ]
    }
   ],
   "source": [
    "volume_curve_dict = {}\n",
    "vol_curve_dict = {}\n",
    "for asset_name in asset_names:\n",
    "    print('************', asset_name)\n",
    "    volume_curve = None\n",
    "    vol_curve = None\n",
    "    for filename in os.listdir(os.path.join(data_path, asset_name)):\n",
    "        f = os.path.join(data_path, asset_name, filename)\n",
    "        # checking if it is a file\n",
    "        if os.path.isfile(f):\n",
    "            if 'message' in filename:\n",
    "                trade_date = filename.split('_')[1]\n",
    "                try:\n",
    "                    LOB_data, LOB_messages = get_LOB_data(data_path, asset_name, trade_date)\n",
    "\n",
    "                    LOB_data['timestamp']   = [datetime.datetime.strptime('1990-01-01', '%Y-%m-%d') + datetime.timedelta(seconds=i) for i in LOB_data.index]    \n",
    "\n",
    "                    if volume_curve is None:\n",
    "                        volume_curve = LOB_data[['ask_1', 'timestamp']].set_index('timestamp').resample(\"5min\").count().fillna(0)\n",
    "                    else:\n",
    "                        volume_curve[trade_date] = LOB_data[['ask_1', 'timestamp']].set_index('timestamp').resample(\"5min\").count().fillna(0)\n",
    "                    \n",
    "                    LOB_data['mid'] = (LOB_data['ask_1'] + LOB_data['bid_1'])/2/10000\n",
    "                    if volume_curve is None:\n",
    "                        vol_curve = LOB_data[['mid', 'timestamp']].set_index('timestamp').diff(1).rolling('5min').std()\n",
    "                    else:\n",
    "                        vol_curve[trade_date] = LOB_data[['mid', 'timestamp']].set_index('timestamp').diff(1).rolling('5min').std()\n",
    "                        \n",
    "                except Exception as e:\n",
    "                    print('error :', trade_date)\n",
    "    volume_curve_dict[asset_name] = volume_curve.fillna(0).sum(axis=1)/volume_curve.fillna(0).sum(axis=1).sum()\n",
    "    vol_curve_dict[asset_name] = vol_curve.fillna(0).sum(axis=1)/vol_curve.fillna(0).sum(axis=1).sum()"
   ]
  },
  {
   "cell_type": "code",
   "execution_count": 26,
   "id": "1929f33e-311f-4242-b6ca-4436d576db35",
   "metadata": {
    "tags": []
   },
   "outputs": [
    {
     "ename": "NameError",
     "evalue": "name 'vol_curve_dict' is not defined",
     "output_type": "error",
     "traceback": [
      "\u001b[0;31m---------------------------------------------------------------------------\u001b[0m",
      "\u001b[0;31mNameError\u001b[0m                                 Traceback (most recent call last)",
      "Input \u001b[0;32mIn [26]\u001b[0m, in \u001b[0;36m<cell line: 1>\u001b[0;34m()\u001b[0m\n\u001b[0;32m----> 1\u001b[0m \u001b[43mvol_curve_dict\u001b[49m[\u001b[38;5;124m'\u001b[39m\u001b[38;5;124mBIDU\u001b[39m\u001b[38;5;124m'\u001b[39m]\u001b[38;5;241m.\u001b[39mresample(\u001b[38;5;124m'\u001b[39m\u001b[38;5;124m5min\u001b[39m\u001b[38;5;124m'\u001b[39m)\u001b[38;5;241m.\u001b[39mmean()\u001b[38;5;241m.\u001b[39mplot()\n",
      "\u001b[0;31mNameError\u001b[0m: name 'vol_curve_dict' is not defined"
     ]
    }
   ],
   "source": [
    "vol_curve_dict['BIDU'].resample('5min').mean().plot()"
   ]
  },
  {
   "cell_type": "code",
   "execution_count": 13,
   "id": "58aaddb0-83e9-4173-acb2-891b14226614",
   "metadata": {
    "tags": []
   },
   "outputs": [
    {
     "data": {
      "image/png": "[encoded data removed]",
      "text/plain": [
       "<Figure size 400x240 with 1 Axes>"
      ]
     },
     "metadata": {},
     "output_type": "display_data"
    }
   ],
   "source": [
    "rescale_plot(W=4, l=5, w=3)\n",
    "\n",
    "fig, ax1 = plt.subplots(1, 1, sharey=True, sharex=True, constrained_layout=True)\n",
    "\n",
    "l_colors       = (\"k\", \"blue\", \"tan\", \"grey\", \"brown\", \"darkblue\", \"purple\")\n",
    "_asset_names   = asset_names #(\"BIDU\", \"COST\", \"CSCO\", \"DELL\")  # #\n",
    "\n",
    "#trend\n",
    "for (asset_name, l_color) in zip(_asset_names, l_colors):\n",
    "    ax1.plot(volume_curve_dict[asset_name].index, \n",
    "             100*volume_curve_dict[asset_name].rolling(2).mean(), \n",
    "             color=l_color, lw=2)\n",
    "\n",
    "for ax in (ax1,):\n",
    "    ax.yaxis.tick_right()\n",
    "    ax.yaxis.set_label_position(\"left\")\n",
    "    ax.grid(axis='both', color='gainsboro', linestyle='-', linewidth=0.5)\n",
    "    ax.set_axisbelow(True)\n",
    "    \n",
    "ax1.legend(asset_names, loc='upper center', fancybox=True, framealpha=0.2, handlelength=0.2, ncol=2)\n",
    "ax1.set_xlabel('Time of day')\n",
    "ax1.set_ylabel('Distribution')\n",
    "percc = normal2 = mtick.StrMethodFormatter('\\%{x:,.1f}')\n",
    "ax1.yaxis.set_major_formatter(percc)\n",
    "\n",
    "ax1.set_title(r'Number of trades')\n",
    "ax1.xaxis.set_major_formatter(md.DateFormatter('%H:%M'))\n",
    "plt.tight_layout()\n",
    "plt.savefig(f'plots/Ushaped.pdf', bbox_inches='tight')"
   ]
  },
  {
   "cell_type": "code",
   "execution_count": null,
   "id": "4e3bf367-5ead-4522-9767-3c06e993fa9f",
   "metadata": {},
   "outputs": [],
   "source": []
  },
  {
   "cell_type": "markdown",
   "id": "c465ef7a-80a2-48fe-bd51-2fa301b31f9d",
   "metadata": {},
   "source": [
    "# Signals predictive power"
   ]
  },
  {
   "cell_type": "code",
   "execution_count": 26,
   "id": "3833a111-5e59-4af0-a228-7ffe0ddd153a",
   "metadata": {
    "tags": []
   },
   "outputs": [
    {
     "data": {
      "text/plain": [
       "Index(['mid_price', 'imbalance_1', 'ba_spread', 'timestamp',\n",
       "       'macd_1200_2600_900', 'macd_120_260_90', 'macd_12_26_9', 'macd_8_24_9',\n",
       "       'bid_volume_1', 'ask_volume_1', 'time_of_day', 'new_feature',\n",
       "       'fwd_price_move_1', 'fwd_price_move_5', 'fwd_price_move_10',\n",
       "       'fwd_price_move_20', 'fwd_price_move_50', 'fwd_price_move_40',\n",
       "       'fwd_price_move_60', 'fwd_price_move_100', 'fwd_price_move_300',\n",
       "       'fwd_price_move_500', 'fwd_price_move_1000'],\n",
       "      dtype='object')"
      ]
     },
     "execution_count": 26,
     "metadata": {},
     "output_type": "execute_result"
    }
   ],
   "source": [
    "LOB_features.columns"
   ]
  },
  {
   "cell_type": "code",
   "execution_count": 38,
   "id": "330ea15a-32e1-4185-824a-ed197463d6ad",
   "metadata": {
    "tags": []
   },
   "outputs": [
    {
     "name": "stdout",
     "output_type": "stream",
     "text": [
      "********************************\n",
      "*  BIDU\n",
      "********************************\n",
      "********************************\n",
      "*  COST\n",
      "********************************\n",
      "********************************\n",
      "*  GILD\n",
      "********************************\n",
      "********************************\n",
      "*  DELL\n",
      "********************************\n",
      "********************************\n",
      "*  GOOG\n",
      "********************************\n",
      "********************************\n",
      "*  INTC\n",
      "********************************\n"
     ]
    }
   ],
   "source": [
    "results = {}\n",
    "cutoff_count = 10\n",
    "rolling_normalizer_w = 300*30\n",
    "for asset_name in asset_names:\n",
    "    print('********************************')\n",
    "    print('* ', asset_name)\n",
    "    print('********************************')\n",
    "    \n",
    "    dic_results    = {}\n",
    "    \n",
    "    feature_1_name = 'macd_8_24_9'\n",
    "    feature_2_name = 'imbalance_1'\n",
    "    \n",
    "    filenames      = os.listdir('../data/Features')\n",
    "    trade_dates    = [fn.split('_')[1] for fn in filenames if asset_name in fn]\n",
    "    \n",
    "    for trade_date in trade_dates:\n",
    "        #print('Reading:',trade_date)\n",
    "        features_fn   = f'{asset_name}_{trade_date}_LOB_features.pkl'\n",
    "        try:\n",
    "            LOB_features = pd.read_pickle(f'../data/Features/{features_fn}')\n",
    "            \n",
    "            #LOB_features['new_feature'] = macd_signal_2(LOB_features['mid_price'], n_fast=8, n_slow=24, n_sign=9, fillna=True)    \n",
    "            LOB_features[feature_2_name] = LOB_features[feature_2_name].round(1)\n",
    "            \n",
    "            \n",
    "            # rescale macd features\n",
    "            #(LOB_features[feature_1_name]/LOB_features[feature_1_name].abs().max()).round(1)   # rescale macd between -1 and 1\n",
    "            #quantile03 = LOB_features[feature_1_name].quantile(0.001)\n",
    "            #quantile07 = LOB_features[feature_1_name].quantile(0.999)\n",
    "            #LOB_features.loc[LOB_features[((LOB_features[feature_1_name] < quantile03) | \n",
    "            #                                 (LOB_features[feature_1_name] > quantile07))].index, feature_1_name] = np.nan \n",
    "            \n",
    "            rolling_max_macd = LOB_features[feature_1_name].max() #.rolling(rolling_normalizer_w)\n",
    "            rolling_min_macd = LOB_features[feature_1_name].min() #.rolling(rolling_normalizer_w)\n",
    "            LOB_features[feature_1_name] = -1.4 + 2.4 * (LOB_features[feature_1_name] - rolling_min_macd) / (rolling_max_macd - rolling_min_macd)\n",
    "            LOB_features[feature_1_name] = LOB_features[feature_1_name].round(1)\n",
    "            \n",
    "            add_fwd_cols(fwd_cols, LOB_features)\n",
    "            \n",
    "            LOB_features_predictive = LOB_features[[feature_1_name, feature_2_name] + fwd_cols].dropna()\n",
    "\n",
    "            predictive_feature = feature_1_name\n",
    "            counts1 = (LOB_features_predictive[[predictive_feature] + fwd_cols].groupby(predictive_feature).count())\n",
    "            avgs1   = (LOB_features_predictive[[predictive_feature] + fwd_cols].groupby(predictive_feature).mean())\n",
    "            #clear_output()\n",
    "            avgs1[counts1<cutoff_count] = np.nan\n",
    "            \n",
    "            # normalise MACD\n",
    "            avgs1       = avgs1.sort_index()#.fillna(method='ffill').fillna(method='bfill')\n",
    "            \n",
    "            # hit ratio\n",
    "            hitratio1 = []\n",
    "            for fwd_col in fwd_cols:\n",
    "                prediction_  =  - (LOB_features[predictive_feature]>0).astype(int) + (LOB_features[predictive_feature]<0).astype(int) # macd\n",
    "                hitratio1 += [(prediction_ == LOB_features[fwd_col].apply(np.sign)).astype(int).describe()['mean']]\n",
    "                \n",
    "            predictive_feature = feature_2_name\n",
    "            counts2 = (LOB_features_predictive[[predictive_feature] + fwd_cols].groupby(predictive_feature).count())\n",
    "            avgs2   = (LOB_features_predictive[[predictive_feature] + fwd_cols].groupby(predictive_feature).mean())\n",
    "            avgs2[counts2<cutoff_count]=np.nan\n",
    "            avgs2 = avgs2.sort_index()#.fillna(method='ffill').fillna(method='bfill')\n",
    "            \n",
    "            # hit ratio\n",
    "            hitratio2 = []\n",
    "            for fwd_col in fwd_cols:\n",
    "                prediction_  =  - (LOB_features[predictive_feature]<0).astype(int)  + (LOB_features[predictive_feature]>0).astype(int) # imbalance\n",
    "                hitratio2 += [(prediction_ == LOB_features[fwd_col].apply(np.sign)).astype(int).describe()['mean']]\n",
    "                \n",
    "            dic_results[trade_date] = (counts1, avgs1, counts2, avgs2, hitratio1, hitratio2)\n",
    "\n",
    "        except Exception as e:\n",
    "            print('Could not load asset ', asset_name, 'for date', trade_date)\n",
    "            print(str(e))\n",
    "    \n",
    "    results[asset_name] = dic_results"
   ]
  },
  {
   "cell_type": "code",
   "execution_count": 39,
   "id": "b98144d6-82c1-4c81-a6bc-61e31bdaf805",
   "metadata": {
    "tags": []
   },
   "outputs": [],
   "source": [
    "avg_results  = {}\n",
    "_results     = {}\n",
    "smooth_w_1   = 4\n",
    "smooth_w_2   = 1\n",
    "#hitratios   = []\n",
    "\n",
    "# Cleaning of results\n",
    "for asset_name in asset_names:\n",
    "    avg_results[asset_name] = {}\n",
    "    tmp_dico = {}\n",
    "    for s in results[asset_name].keys():\n",
    "        counts1, avgs1, counts2, avgs2, hitratios1, hitratio2 = results[asset_name][s]\n",
    "        _counts1, _avgs1, _counts2, _avgs2 = counts1.copy(), avgs1.copy(), counts2.copy(), avgs2.copy()\n",
    "\n",
    "        #_avgs1 = _avgs1[_counts1>cutoff_count].dropna(); _avgs2 = _avgs2[_counts2>cutoff_count].dropna()\n",
    "        # rescale MACD to make it comparable\n",
    "        #_avgs1.index = np.round(_avgs1.index/np.max(np.abs(np.array(_avgs1.index))), 1)\n",
    "        #_avgs2.index = np.round(_avgs2.index/np.max(np.abs(np.array(_avgs2.index))), 1)\n",
    "        \n",
    "        _avgs1 = _avgs1/asset_stats[asset_name]['avg_baspread']/tick_size\n",
    "        _avgs2 = _avgs2/asset_stats[asset_name]['avg_baspread']/tick_size\n",
    "        \n",
    "        tmp_dico[s] = (_avgs1.sort_index(), _avgs2.sort_index())\n",
    "    for fwd_col in fwd_cols:\n",
    "        avg_results[asset_name][fwd_col] = (pd.concat((tmp_dico[s][0][fwd_col] for s in tmp_dico.keys()), axis=1).sort_index().mean(axis=1), \n",
    "                                               pd.concat((tmp_dico[s][1][fwd_col] for s in tmp_dico.keys()), axis=1).sort_index().mean(axis=1))     \n",
    "        avg_results[asset_name][fwd_col] = (avg_results[asset_name][fwd_col][0][::-1].rolling(smooth_w_1).mean()[::-1].rolling(smooth_w_1).mean(), \n",
    "                                            avg_results[asset_name][fwd_col][1][::-1].rolling(smooth_w_2).mean()[::-1].rolling(smooth_w_2).mean())"
   ]
  },
  {
   "cell_type": "code",
   "execution_count": 40,
   "id": "496556c1-1f4c-4182-b279-0a90b7a2bd2b",
   "metadata": {},
   "outputs": [
    {
     "name": "stdout",
     "output_type": "stream",
     "text": [
      "fwd_price_move_20\n",
      "fwd_price_move_50\n"
     ]
    },
    {
     "data": {
      "image/png": "[encoded data removed]",
      "text/plain": [
       "<Figure size 450x375 with 4 Axes>"
      ]
     },
     "metadata": {},
     "output_type": "display_data"
    }
   ],
   "source": [
    "fwd_col_l_ = 3\n",
    "fwd_col_l_2 = 4\n",
    "print(fwd_cols[fwd_col_l_])\n",
    "print(fwd_cols[fwd_col_l_2])\n",
    "\n",
    "rescale_plot(W=4.5, l=6, w=5)\n",
    "\n",
    "plt.rcParams['ytick.right'] = plt.rcParams['ytick.labelright'] = True \n",
    "plt.rcParams['ytick.left'] = plt.rcParams['ytick.labelleft'] = False\n",
    "\n",
    "fig, ((ax1, ax2), (ax3, ax4)) = plt.subplots(2, 2, sharey=True, sharex=True)\n",
    "\n",
    "l_colors       = (\"k\", \"blue\", \"tan\", \"grey\", \"brown\", \"darkblue\", \"purple\")\n",
    "_asset_names   = asset_names #(\"BIDU\", \"COST\", \"CSCO\", \"DELL\")  # #\n",
    "\n",
    "\n",
    "for (asset_name, l_color) in zip(_asset_names, l_colors):\n",
    "    avgs1, avgs2 = avg_results[asset_name][fwd_cols[fwd_col_l_]] #avg_results[asset_name]\n",
    "    #if asset_name == 'DELL':\n",
    "        #avgs1 = avgs1[::-1].rolling(2).mean()[::-1]\n",
    "    avgs1_ = avgs1.copy().dropna()\n",
    "    avgs1_.index = - 1 + 2 * (avgs1.dropna().index - avgs1.dropna().index.min()) /(avgs1.dropna().index.max() - avgs1.dropna().index.min())    \n",
    "    ax1.plot(avgs1_, color=l_color, lw=3)\n",
    "    ax2.plot(avgs2, color=l_color, lw=3)\n",
    "    \n",
    "    avgs1, avgs2 = avg_results[asset_name][fwd_cols[fwd_col_l_2]] #avg_results[asset_name]\n",
    "    #if asset_name == 'DELL':\n",
    "        #avgs1 = avgs1[::-1].rolling(2).mean()[::-1]\n",
    "    avgs1_ = avgs1.copy().dropna()\n",
    "    avgs1_.index = - 1 + 2 * (avgs1.dropna().index - avgs1.dropna().index.min()) /(avgs1.dropna().index.max() - avgs1.dropna().index.min())    \n",
    "    ax3.plot(avgs1_, color=l_color, lw=3)\n",
    "    ax4.plot(avgs2, color=l_color, lw=3)\n",
    "    \n",
    "for ax in (ax1,ax2, ax3, ax4):\n",
    "    ax.grid(axis='both', color='gainsboro', linestyle='-', linewidth=0.5)\n",
    "    ax.set_axisbelow(True)\n",
    "ax1.yaxis.set_label_position(\"left\")\n",
    "ax2.yaxis.set_label_position(\"right\")\n",
    "\n",
    "\n",
    "ax2.legend(_asset_names, loc='upper center', fancybox=True, framealpha=0.1, handlelength=0.2, ncol=2)\n",
    "\n",
    "ax1.set_ylabel('Fwd. rtr. in terms' + r'\\\\' + 'of b.a. spread (20 trades)')\n",
    "ax3.set_ylabel('Fwd. rtr. in terms' + r'\\\\' + 'of b.a. spread (100 trades)')\n",
    "\n",
    "ax3.set_xlabel('MACD')\n",
    "ax4.set_xlabel('IMB')\n",
    "\n",
    "ax1.set_ylim(-0.5, 0.5)\n",
    "ax1.set_yticks((-0.5, -0.25, 0, 0.25, 0.5))\n",
    "\n",
    "ax1.set_xlim(-1, 1)\n",
    "plt.tight_layout()\n",
    "plt.savefig(f'plots/AOE0.pdf', bbox_inches='tight')"
   ]
  },
  {
   "cell_type": "markdown",
   "id": "5dd93648-9309-4468-8f3f-0ef250fad9a0",
   "metadata": {},
   "source": [
    "# Evidence of signals mixing being bad"
   ]
  },
  {
   "cell_type": "code",
   "execution_count": 17,
   "id": "e031122d-dc26-484a-a270-07fd2d28f429",
   "metadata": {
    "tags": []
   },
   "outputs": [
    {
     "name": "stdout",
     "output_type": "stream",
     "text": [
      "**** BIDU\n",
      "**** COST\n",
      "**** GILD\n",
      "**** DELL\n",
      "**** GOOG\n",
      "**** INTC\n"
     ]
    }
   ],
   "source": [
    "asset_name   = 'BIDU'\n",
    "fwd_window   = 'fwd_price_move_20'\n",
    "\n",
    "dict_acc = {}\n",
    "\n",
    "for asset_name in asset_names:\n",
    "    print('****', asset_name)\n",
    "    accuracy_MACD = []\n",
    "    accuracy_Imbalance = []\n",
    "    accuracy_Both = []\n",
    "    accuracy_MACD2 = []\n",
    "    accuracy_Imbalance2 = []\n",
    "    accuracy_Both2 = []\n",
    "    \n",
    "    filenames    = os.listdir('../data/Features')\n",
    "    trade_dates  = [fn.split('_')[1] for fn in filenames if asset_name in fn]\n",
    "\n",
    "    for trade_date in trade_dates:\n",
    "        feature_fn = f'{asset_name}_{trade_date}_LOB_features.pkl'\n",
    "        _all_data  = pd.read_pickle(f'{str(feature_path)}/{feature_fn}')#.set_index('timestamp')\n",
    "        _all_data['new_feature'] = macd_signal_2(_all_data['mid_price'], n_fast=8, n_slow=24, n_sign=9, fillna=True)    \n",
    "\n",
    "        _all_data[\"prediction_MACD\"] =  - (_all_data[\"new_feature\"]>0).astype(int) + (_all_data[\"new_feature\"]<0).astype(int)\n",
    "        _all_data[\"prediction_IMB\"]  =  - (_all_data[\"imbalance_1\"]<0).astype(int) + (_all_data[\"imbalance_1\"]>0).astype(int)\n",
    "        _all_data[\"oracle\"]          =  _all_data.mid_price.diff(20).shift(-20).apply(np.sign)\n",
    "        \n",
    "        _all_data = _all_data[_all_data.oracle != 0]\n",
    "        accuracy_Imbalance += [((_all_data[\"prediction_IMB\"] == _all_data[\"oracle\"]).astype(int).value_counts()/len(_all_data))[1]]\n",
    "        accuracy_MACD += [((_all_data[\"prediction_MACD\"] == _all_data[\"oracle\"]).astype(int).value_counts()/len(_all_data))[1]]\n",
    "        accuracy_Both += [(((_all_data[\"prediction_MACD\"] + _all_data[\"prediction_IMB\"]).apply(np.sign)==_all_data[\"oracle\"]).astype(int).value_counts()/len(_all_data))[1]]\n",
    "        \n",
    "        _all_data2 = _all_data[_all_data.imbalance_1.abs() > _all_data.imbalance_1.abs().quantile(0.8)]\n",
    "        accuracy_Imbalance2 += [((_all_data2[\"prediction_IMB\"] == _all_data2[\"oracle\"]).astype(int).value_counts()/len(_all_data2))[1]]\n",
    "        \n",
    "        _all_data3 = _all_data.copy()\n",
    "        _all_data3['new_feature'] = - 1 + 2 * (_all_data3['new_feature'] - _all_data3['new_feature'].min()) /(_all_data3['new_feature'].max() - _all_data3['new_feature'].min())    \n",
    "        _all_data3 = _all_data3[_all_data3.new_feature.abs() > _all_data3.new_feature.abs().quantile(0.8)]\n",
    "        accuracy_MACD2 += [((_all_data3[\"prediction_IMB\"] == _all_data3[\"oracle\"]).astype(int).value_counts()/len(_all_data3))[1]]\n",
    "        \n",
    "        waw = (_all_data2[~_all_data2.index.duplicated(keep='first')].reindex(_all_data.index)['new_feature'].fillna(0) + \\\n",
    "             _all_data3[~_all_data3.index.duplicated(keep='first')].reindex(_all_data.index)['imbalance_1'].fillna(0)).apply(np.sign)\n",
    "        \n",
    "        accuracy_Both2 += [((waw ==_all_data[\"oracle\"]).astype(int).value_counts()/len(_all_data))[1]]\n",
    "        \n",
    "    dict_acc[asset_name] = (accuracy_Imbalance, accuracy_MACD, accuracy_Both, accuracy_Imbalance2, accuracy_MACD2, accuracy_Both2)\n",
    "#_all_data"
   ]
  },
  {
   "cell_type": "code",
   "execution_count": 18,
   "id": "a9b5c2e8-d84d-4250-94c0-27c1bc2e1991",
   "metadata": {
    "tags": []
   },
   "outputs": [
    {
     "data": {
      "text/html": [
       "<div>\n",
       "<style scoped>\n",
       "    .dataframe tbody tr th:only-of-type {\n",
       "        vertical-align: middle;\n",
       "    }\n",
       "\n",
       "    .dataframe tbody tr th {\n",
       "        vertical-align: top;\n",
       "    }\n",
       "\n",
       "    .dataframe thead th {\n",
       "        text-align: right;\n",
       "    }\n",
       "</style>\n",
       "<table border=\"1\" class=\"dataframe\">\n",
       "  <thead>\n",
       "    <tr style=\"text-align: right;\">\n",
       "      <th></th>\n",
       "      <th>IMB</th>\n",
       "      <th>MACD</th>\n",
       "      <th>BOTH</th>\n",
       "      <th>IMB2</th>\n",
       "      <th>MACD2</th>\n",
       "      <th>BOTH2</th>\n",
       "    </tr>\n",
       "  </thead>\n",
       "  <tbody>\n",
       "    <tr>\n",
       "      <th>BIDU</th>\n",
       "      <td>52.488615</td>\n",
       "      <td>51.580555</td>\n",
       "      <td>31.324651</td>\n",
       "      <td>58.561476</td>\n",
       "      <td>51.983289</td>\n",
       "      <td>18.177834</td>\n",
       "    </tr>\n",
       "    <tr>\n",
       "      <th>COST</th>\n",
       "      <td>53.468871</td>\n",
       "      <td>53.194155</td>\n",
       "      <td>31.970722</td>\n",
       "      <td>61.072082</td>\n",
       "      <td>52.990601</td>\n",
       "      <td>18.136886</td>\n",
       "    </tr>\n",
       "    <tr>\n",
       "      <th>GILD</th>\n",
       "      <td>61.334777</td>\n",
       "      <td>49.161369</td>\n",
       "      <td>33.977531</td>\n",
       "      <td>74.749575</td>\n",
       "      <td>56.657924</td>\n",
       "      <td>19.158869</td>\n",
       "    </tr>\n",
       "    <tr>\n",
       "      <th>DELL</th>\n",
       "      <td>58.890339</td>\n",
       "      <td>49.707218</td>\n",
       "      <td>32.334217</td>\n",
       "      <td>73.244217</td>\n",
       "      <td>54.662191</td>\n",
       "      <td>19.235001</td>\n",
       "    </tr>\n",
       "    <tr>\n",
       "      <th>GOOG</th>\n",
       "      <td>61.102692</td>\n",
       "      <td>50.229793</td>\n",
       "      <td>32.738896</td>\n",
       "      <td>72.669785</td>\n",
       "      <td>58.495598</td>\n",
       "      <td>19.440274</td>\n",
       "    </tr>\n",
       "    <tr>\n",
       "      <th>INTC</th>\n",
       "      <td>82.798108</td>\n",
       "      <td>52.448800</td>\n",
       "      <td>45.754211</td>\n",
       "      <td>98.791860</td>\n",
       "      <td>73.355295</td>\n",
       "      <td>23.773639</td>\n",
       "    </tr>\n",
       "  </tbody>\n",
       "</table>\n",
       "</div>"
      ],
      "text/plain": [
       "            IMB       MACD       BOTH       IMB2      MACD2      BOTH2\n",
       "BIDU  52.488615  51.580555  31.324651  58.561476  51.983289  18.177834\n",
       "COST  53.468871  53.194155  31.970722  61.072082  52.990601  18.136886\n",
       "GILD  61.334777  49.161369  33.977531  74.749575  56.657924  19.158869\n",
       "DELL  58.890339  49.707218  32.334217  73.244217  54.662191  19.235001\n",
       "GOOG  61.102692  50.229793  32.738896  72.669785  58.495598  19.440274\n",
       "INTC  82.798108  52.448800  45.754211  98.791860  73.355295  23.773639"
      ]
     },
     "execution_count": 18,
     "metadata": {},
     "output_type": "execute_result"
    }
   ],
   "source": [
    "resultsDF = pd.DataFrame.from_dict({asset_name: [ np.mean(dict_acc[asset_name][i]) for i in range(6)] for asset_name in asset_names})\n",
    "resultsDF.index = ['IMB', 'MACD', 'BOTH', 'IMB2', 'MACD2', 'BOTH2']\n",
    "100*resultsDF.T"
   ]
  },
  {
   "cell_type": "markdown",
   "id": "561619b8-954c-4aa8-b1fb-f6fffb913083",
   "metadata": {
    "tags": []
   },
   "source": [
    "# Evidence of non stationarity"
   ]
  },
  {
   "cell_type": "code",
   "execution_count": 19,
   "id": "a93f5343-42e9-4c60-aff9-ab99d83bef83",
   "metadata": {
    "tags": []
   },
   "outputs": [
    {
     "data": {
      "image/png": "[encoded data removed]",
      "text/plain": [
       "<Figure size 400x200 with 2 Axes>"
      ]
     },
     "metadata": {},
     "output_type": "display_data"
    }
   ],
   "source": [
    "asset_name   = 'BIDU'\n",
    "fwd_window   = 'fwd_price_move_20'\n",
    "filenames    = os.listdir('../data/Features')\n",
    "trade_dates  = [fn.split('_')[1] for fn in filenames if asset_name in fn]\n",
    "\n",
    "trade_date_1 = np.sort(trade_dates)[0]\n",
    "trade_date_2 = np.sort(trade_dates)[30]\n",
    "smooth_w_1   = 3\n",
    "\n",
    "rescale_plot(W=4, l=6, w=3)\n",
    "\n",
    "fig, (ax1, ax2) = plt.subplots(1, 2, sharey=False, sharex=True, constrained_layout=True)\n",
    "\n",
    "l_colors       = (\"k\", \"blue\", \"tan\", \"grey\", \"brown\", \"darkblue\", \"purple\")\n",
    "\n",
    "for (trade_date_, ax_, l_color) in zip((trade_date_1, trade_date_2), (ax1, ax1), l_colors):\n",
    "    counts1, avgs1, counts2, avgs2, hitratio1, hitratio2 = results[asset_name][trade_date_]\n",
    "    avgs1  = avgs2[::-1].rolling(smooth_w_1).mean()[::-1].rolling(smooth_w_1).mean()\n",
    "    _avgs1 = avgs1/asset_stats[asset_name]['avg_baspread']/tick_size\n",
    "    _avgs1 = _avgs1.copy().dropna()[fwd_window]\n",
    "    _avgs1.index = - 1 + 2 * (_avgs1.dropna().index - _avgs1.dropna().index.min()) /(_avgs1.dropna().index.max() - _avgs1.dropna().index.min())    \n",
    "    ax_.plot(_avgs1, color=l_color, lw=3)\n",
    "    \n",
    "for ax in (ax1,):\n",
    "    ax.grid(axis='both', color='gainsboro', linestyle='-', linewidth=0.5)\n",
    "    ax.set_axisbelow(True)\n",
    "    \n",
    "ax1.yaxis.set_label_position(\"left\")\n",
    "ax1.yaxis.tick_right()\n",
    "ax1.legend([trade_date_1, trade_date_2], loc='upper left', fancybox=True, framealpha=0.3, handlelength=0.3, ncol=1)\n",
    "\n",
    "ax1.set_ylabel('Fwd. rtr. in b.a. spread')\n",
    "ax1.set_xlabel('IMB')\n",
    "ax1.set_title(f'{asset_name} - Imbalance')\n",
    "\n",
    "ax3          = ax1 \n",
    "ax1          = ax2\n",
    "trade_date_1 = np.sort(trade_dates)[0] #32 51\n",
    "trade_date_2 = np.sort(trade_dates)[51] #20\n",
    "\n",
    "for (trade_date_, ax_, l_color) in zip((trade_date_1, trade_date_2), (ax1, ax1), l_colors):\n",
    "    counts1, avgs1, counts2, avgs2, hitratio1, hitratio2 = results[asset_name][trade_date_]\n",
    "    avgs1  = avgs1[::-1].rolling(smooth_w_1).mean()[::-1].rolling(smooth_w_1).mean()\n",
    "    _avgs1 = avgs1/asset_stats[asset_name]['avg_baspread']/tick_size\n",
    "    _avgs1 = _avgs1.copy().dropna()[fwd_window]\n",
    "    _avgs1.index = - 1 + 2 * (_avgs1.dropna().index - _avgs1.dropna().index.min()) /(_avgs1.dropna().index.max() - _avgs1.dropna().index.min())    \n",
    "    ax_.plot(_avgs1, color=l_color, lw=3)\n",
    "    \n",
    "for ax in (ax1,):\n",
    "    ax.grid(axis='both', color='gainsboro', linestyle='-', linewidth=0.5)\n",
    "    ax.set_axisbelow(True)\n",
    "    \n",
    "ax1.yaxis.set_label_position(\"left\")\n",
    "ax1.yaxis.tick_right()\n",
    "ax1.legend([trade_date_1, trade_date_2], loc='upper left', fancybox=True, framealpha=0.3, handlelength=0.3, ncol=1)\n",
    "ax1.set_xlabel('MACD')\n",
    "ax1.set_title(f'{asset_name} - MACD')\n",
    "\n",
    "ax1.set_xlim(-1, 1)\n",
    "ax1.set_ylim(-0.5, 0.5)\n",
    "\n",
    "alignYaxes((ax3, ax2))\n",
    "\n",
    "plt.tight_layout()\n",
    "plt.savefig(f'plots/NS_PLOT.pdf', bbox_inches='tight')"
   ]
  },
  {
   "cell_type": "code",
   "execution_count": 20,
   "id": "160385c5-92e4-49c1-afd5-c004dbea645b",
   "metadata": {
    "tags": []
   },
   "outputs": [],
   "source": [
    "i = 7"
   ]
  },
  {
   "cell_type": "code",
   "execution_count": 21,
   "id": "05eec92f-1b3b-42f4-9a0b-11e876985bde",
   "metadata": {
    "tags": []
   },
   "outputs": [
    {
     "data": {
      "image/png": "[encoded data removed]",
      "text/plain": [
       "<Figure size 400x200 with 2 Axes>"
      ]
     },
     "metadata": {},
     "output_type": "display_data"
    }
   ],
   "source": [
    "asset_name   = 'COST'\n",
    "fwd_window   = 'fwd_price_move_20'\n",
    "\n",
    "filenames    = os.listdir('../data/Features')\n",
    "trade_dates  = [fn.split('_')[1] for fn in filenames if asset_name in fn]\n",
    "trade_date   = trade_dates[i] #-15\n",
    "i+=1\n",
    "feature_fn = f'{asset_name}_{trade_date}_LOB_features.pkl'\n",
    "_all_data  = pd.read_pickle(f'{str(feature_path)}/{feature_fn}')#.set_index('timestamp')\n",
    "_all_data['new_feature'] = macd_signal_2(_all_data['mid_price'], n_fast=8, n_slow=24, n_sign=9, fillna=True)    \n",
    "\n",
    "_all_data[\"prediction_MACD\"] =  - (_all_data[\"new_feature\"]>0).astype(int) + (_all_data[\"new_feature\"]<0).astype(int)\n",
    "_all_data[\"prediction_IMB\"]  =  - (_all_data[\"imbalance_1\"]<0).astype(int) + (_all_data[\"imbalance_1\"]>0).astype(int)\n",
    "_all_data[\"oracle\"]          =  _all_data.mid_price.diff(20).shift(-20).apply(np.sign)\n",
    "\n",
    "_all_data[\"accuracy_MACD\"] = (_all_data[\"prediction_MACD\"] == _all_data[\"oracle\"]).astype(int)\n",
    "_all_data[\"accuracy_IMB\"] = (_all_data[\"prediction_IMB\"] == _all_data[\"oracle\"]).astype(int)\n",
    "\n",
    "_all_data = _all_data[_all_data.oracle != 0]\n",
    "\n",
    "if True:\n",
    "    fig, (ax, ax2) = plt.subplots(2, 1, sharex=True)\n",
    "    _all_data.set_index('timestamp')[[\"accuracy_MACD\", \"accuracy_IMB\"]].rolling('10min').mean().iloc[1000:].plot(ax=ax)\n",
    "    ax.xaxis.set_major_formatter(md.DateFormatter('%H:%M'))\n",
    "    _all_data.set_index('timestamp')[['mid_price']].iloc[1000:].plot(ax=ax2)\n",
    "    ax.grid('both'); ax2.grid('both')\n",
    "    plt.tight_layout()\n",
    "    plt.show()"
   ]
  },
  {
   "cell_type": "code",
   "execution_count": 23,
   "id": "859b15de-ee96-4e80-b5eb-c8cfdec56370",
   "metadata": {
    "tags": []
   },
   "outputs": [
    {
     "data": {
      "text/plain": [
       "<matplotlib.legend.Legend at 0x134f57b20>"
      ]
     },
     "execution_count": 23,
     "metadata": {},
     "output_type": "execute_result"
    },
    {
     "data": {
      "image/png": "[encoded data removed]",
      "text/plain": [
       "<Figure size 400x200 with 2 Axes>"
      ]
     },
     "metadata": {},
     "output_type": "display_data"
    }
   ],
   "source": [
    "fig, (ax2, ax1) = plt.subplots(2, 1, sharex=True)\n",
    "ax1.plot(_all_data.set_index('timestamp').mid_price.between_time('09:40', '10:30'), color='k', lw=2)\n",
    "rolling_accuracy  =_all_data.set_index('timestamp')[[\"accuracy_MACD\", \"accuracy_IMB\"]].rolling('10min').mean().rolling(10).mean().between_time('09:40', '10:30')\n",
    "ax2.plot(rolling_accuracy.resample('2min').mean().index, rolling_accuracy.resample('2min').mean().iloc[:, 0], color='k', lw=3)\n",
    "ax2.plot(rolling_accuracy.resample('2min').mean().index, rolling_accuracy.resample('2min').mean().iloc[:, 1], color='brown', lw=3)\n",
    "\n",
    "ax1.xaxis.set_major_formatter(md.DateFormatter('%H:%M'))\n",
    "ax1.grid('both'); ax2.grid('both')\n",
    "ax2.legend(['MACD', 'IMB'], ncol=2)"
   ]
  },
  {
   "cell_type": "code",
   "execution_count": null,
   "id": "d552e254-88de-4f23-858c-3744dd8b19d7",
   "metadata": {
    "tags": []
   },
   "outputs": [],
   "source": []
  },
  {
   "cell_type": "code",
   "execution_count": 24,
   "id": "f9a33fb3-cb76-4f5d-a8cf-f9f200b6394c",
   "metadata": {
    "tags": []
   },
   "outputs": [
    {
     "data": {
      "image/png": "[encoded data removed]",
      "text/plain": [
       "<Figure size 300x300 with 2 Axes>"
      ]
     },
     "metadata": {},
     "output_type": "display_data"
    }
   ],
   "source": [
    "rescale_plot(W=3, l=4, w=4)\n",
    "\n",
    "fig, (ax2, ax1) = plt.subplots(2, 1, sharey=False, sharex=True, constrained_layout=True)\n",
    "\n",
    "l_colors       = (\"k\", \"blue\", \"tan\", \"grey\", \"brown\", \"darkblue\", \"purple\")\n",
    "\n",
    "ax1.plot(_all_data.set_index('timestamp').mid_price.between_time('09:35', '10:45'), color='k', lw=2)\n",
    "rolling_accuracy  =_all_data.set_index('timestamp')[[\"accuracy_MACD\", \"accuracy_IMB\"]].rolling('10min').mean().between_time('09:35', '10:45')\n",
    "\n",
    "ax2.plot(rolling_accuracy.resample('2min').mean().index, 100*rolling_accuracy.resample('2min').mean().iloc[:, 0], color='k', lw=3)\n",
    "ax2.plot(rolling_accuracy.resample('2min').mean().index, 100*rolling_accuracy.resample('2min').mean().iloc[:, 1], color='brown', lw=2)\n",
    "\n",
    "ax1.xaxis.set_major_formatter(md.DateFormatter('%H:%M'))\n",
    "    \n",
    "ax1.yaxis.set_label_position(\"left\")\n",
    "ax1.yaxis.tick_right()\n",
    "ax1.legend([asset_name], loc='best', fancybox=True, framealpha=0.3, handlelength=0.3, ncol=1)\n",
    "\n",
    "ax1.set_ylabel('Price')\n",
    "ax2.set_ylabel('Accuracy')\n",
    "\n",
    "for ax in (ax1, ax2):\n",
    "    ax.grid(axis='both', color='gainsboro', linestyle='-', linewidth=0.5)\n",
    "    ax.set_axisbelow(True)\n",
    "    \n",
    "ax1.yaxis.set_label_position(\"left\")\n",
    "ax1.yaxis.tick_right()\n",
    "\n",
    "ax2.legend(['MACD', 'IMB'], loc='lower right', fancybox=True, framealpha=0.3, handlelength=0.3, ncol=2)\n",
    "ax1.set_xlabel('Time')\n",
    "ax2.set_title(f'Accuracy')\n",
    "ax2.yaxis.set_major_formatter(mtick.StrMethodFormatter('{x:,.0f}\\%'))\n",
    "ax1.yaxis.set_major_formatter(mtick.StrMethodFormatter('\\${x:,.1f}'))\n",
    "\n",
    "#alignYaxes((ax1, ax2))\n",
    "ax2.set_ylim(48,62)\n",
    "ax2.set_yticks((50, 55, 60))\n",
    "ax1.set_xticks(ax1.get_xticks()[::2])\n",
    "plt.tight_layout()\n",
    "plt.savefig(f'plots/NS_PLOT_2.pdf', bbox_inches='tight')"
   ]
  },
  {
   "cell_type": "code",
   "execution_count": null,
   "id": "e6cb3226-de16-404c-9702-0a569363d4c2",
   "metadata": {},
   "outputs": [],
   "source": []
  }
 ],
 "metadata": {
  "kernelspec": {
   "display_name": "Python 3 (ipykernel)",
   "language": "python",
   "name": "python3"
  },
  "language_info": {
   "codemirror_mode": {
    "name": "ipython",
    "version": 3
   },
   "file_extension": ".py",
   "mimetype": "text/x-python",
   "name": "python",
   "nbconvert_exporter": "python",
   "pygments_lexer": "ipython3",
   "version": "3.9.12"
  }
 },
 "nbformat": 4,
 "nbformat_minor": 5
}
