{
 "cells": [
  {
   "cell_type": "code",
   "execution_count": 1,
   "id": "11539250",
   "metadata": {},
   "outputs": [],
   "source": [
    "import numpy as np\n",
    "import matplotlib.pyplot as plt\n",
    "import pandas as pd\n",
    "from   IPython.display import display, HTML\n",
    "from collections import deque\n",
    "import random\n",
    "import os\n",
    "import sys\n",
    "import pathlib\n",
    "from collections import deque\n",
    "from tqdm.notebook import tqdm, trange\n",
    "import datetime\n",
    "from scipy import interpolate\n",
    "import math\n",
    "\n",
    "import matplotlib.ticker as mtick\n",
    "import matplotlib.dates as md\n",
    "\n",
    "from IPython.display import clear_output\n",
    "\n",
    "os.environ[\"KMP_DUPLICATE_LIB_OK\"] = \"TRUE\"\n",
    "\n",
    "import torch\n",
    "import gpytorch\n",
    "import matplotlib.dates as md"
   ]
  },
  {
   "cell_type": "code",
   "execution_count": 2,
   "id": "a45c1f4d",
   "metadata": {},
   "outputs": [],
   "source": [
    "parent_module_path = os.path.abspath(os.path.join('..'))\n",
    "if parent_module_path not in sys.path:\n",
    "    sys.path.append(parent_module_path)"
   ]
  },
  {
   "cell_type": "code",
   "execution_count": 3,
   "id": "6378a4fa",
   "metadata": {},
   "outputs": [
    {
     "data": {
      "text/html": [
       "<style>.container { width:100% !important; }</style>"
      ],
      "text/plain": [
       "<IPython.core.display.HTML object>"
      ]
     },
     "metadata": {},
     "output_type": "display_data"
    }
   ],
   "source": [
    "pd.set_option('display.width', 1000)\n",
    "display(HTML(\"<style>.container { width:100% !important; }</style>\"))\n",
    "pd.set_option('mode.chained_assignment', None)"
   ]
  },
  {
   "cell_type": "code",
   "execution_count": 4,
   "id": "b12cc155-cc28-4b6f-80c8-853774d3e594",
   "metadata": {},
   "outputs": [],
   "source": [
    "def ema(series, periods, fillna=False):\n",
    "    if fillna:\n",
    "        return series.ewm(span=periods, min_periods=0).mean()\n",
    "    return series.ewm(span=periods, min_periods=periods).mean()\n",
    "\n",
    "def macd_signal(close, n_fast=12, n_slow=26, n_sign=9, fillna=False):\n",
    "    \"\"\"Moving Average Convergence Divergence (MACD Signal)\n",
    "    Args:\n",
    "        close(pandas.Series): dataset 'Close' column.\n",
    "        n_fast(int): n period short-term.\n",
    "        n_slow(int): n period long-term.\n",
    "        n_sign(int): n period to signal.\n",
    "        fillna(bool): if True, fill nan values.\n",
    "\n",
    "    Returns:\n",
    "        EMA of MACD: pandas.Series: New feature generated.\n",
    "    \"\"\"\n",
    "    emafast = ema(close, n_fast, fillna)\n",
    "    emaslow = ema(close, n_slow, fillna)\n",
    "    macd = emafast - emaslow\n",
    "    macd_signal = ema(macd, n_sign, fillna)\n",
    "    \n",
    "    macd_diff = macd - macd_signal\n",
    "    if fillna:\n",
    "        macd_signal = macd_signal.replace([np.inf, -np.inf], np.nan).fillna(0)\n",
    "    return pd.Series(macd_diff, name='MACD_diff')\n",
    "\n",
    "\n",
    "def macd_signal_2(close, n_fast=12, n_slow=26, n_sign=9, fillna=False):\n",
    "    emafast = ema(close, n_fast, fillna)\n",
    "    emaslow = ema(close, n_slow, fillna)\n",
    "    macd = emafast - emaslow\n",
    "    macd = (macd - ema(macd, n_sign, fillna))\n",
    "    macd = macd / close.shift(n_slow+n_sign)\n",
    "    \n",
    "    if fillna:\n",
    "        macd = macd.replace([np.inf, -np.inf], np.nan).fillna(0)\n",
    "        \n",
    "    return pd.Series(macd, name='MACD')\n",
    "\n",
    "def get_LOB_features(LOB_data, trade_date, tick_size):\n",
    "    # create features\n",
    "    LOB_data['mid_price']       = (LOB_data['ask_1'] + LOB_data['bid_1'])/2\n",
    "    LOB_features                = LOB_data[['mid_price']]/ 10000\n",
    "    LOB_features['imbalance_1'] = (LOB_data['bid_volume_1'] - LOB_data['ask_volume_1'])/(LOB_data['bid_volume_1'] + LOB_data['ask_volume_1'])\n",
    "    LOB_features['macd_120_260_90'] = macd_signal(LOB_features['mid_price'], n_fast=120, n_slow=260, n_sign=90, fillna=True)\n",
    "    LOB_features['macd_1200_2600_900'] = macd_signal(LOB_features['mid_price'], n_fast=1200, n_slow=2600, n_sign=900, fillna=True)\n",
    "    LOB_features['timestamp']   = [datetime.datetime.strptime(trade_date, '%Y-%m-%d') + datetime.timedelta(seconds=i) for i in LOB_features.index]    \n",
    "\n",
    "#     # create predictors\n",
    "#     unique_index_values = LOB_features['macd_120_260_90'].round(4).unique()\n",
    "#     for unique_value in unique_index_values:\n",
    "#         if unique_value not in macd_model.index:\n",
    "#             macd_model.loc[unique_value,:] = np.nan\n",
    "#     macd_model2 = macd_model.sort_index().fillna(method='ffill').fillna(method='bfill')  \n",
    "\n",
    "#     nb_trades_ahead, fwd_price_move_w = 100, 'fwd_price_move_100'\n",
    "#     LOB_features['imbalance_signal'] = (imb_model.loc[LOB_features['imbalance_1'].round(2), fwd_price_move_w].values*tick_size/nb_trades_ahead)*len(LOB_features)\n",
    "\n",
    "#     nb_trades_ahead, fwd_price_move_w = 20000, 'fwd_price_move_20000'\n",
    "#     LOB_features['macd_1_signal'] = (macd_model2.loc[LOB_features['macd_120_260_90'].round(4), fwd_price_move_w].values*tick_size/nb_trades_ahead)*len(LOB_features)\n",
    "\n",
    "#     nb_trades_ahead, fwd_price_move_w = 500, 'fwd_price_move_500'\n",
    "#     LOB_features['macd_2_signal'] = (macd_model2.loc[LOB_features['macd_120_260_90'].round(4), fwd_price_move_w].values*tick_size/nb_trades_ahead)*len(LOB_features)\n",
    "    \n",
    "    timeofday = ((LOB_features.timestamp.astype('datetime64[%s]' % 'h') - \\\n",
    "                LOB_features.timestamp.astype('datetime64[%s]' % 'D')).values/3600000000000).astype(float) + \\\n",
    "                (((LOB_features.timestamp.astype('datetime64[%s]' % 'm')-\\\n",
    "                 LOB_features.timestamp.astype('datetime64[%s]' % 'h')).values/60000000000).astype(float)/60).round(1)\n",
    "    LOB_features['time_of_day'] = timeofday\n",
    "    \n",
    "    return LOB_features"
   ]
  },
  {
   "cell_type": "code",
   "execution_count": 5,
   "id": "459c1c71-3315-402b-bd05-8d39ec9be1a9",
   "metadata": {},
   "outputs": [],
   "source": [
    "def get_LOB_data(data_path, asset_name, trade_date):\n",
    "    LOB_data_path = os.path.join(data_path, asset_name, f'{asset_name}_{trade_date}_34200000_57600000_orderbook_5.csv')\n",
    "    LOB_data      = pd.read_csv(LOB_data_path,\n",
    "                                usecols   = [0, 1, 2, 3],\n",
    "                                engine    = 'c',\n",
    "                                index_col = None,\n",
    "                                header    = None,\n",
    "                                infer_datetime_format = True)\n",
    "\n",
    "    LOB_messages = pd.read_csv(f'{data_path}/{asset_name}/{asset_name}_{trade_date}_34200000_57600000_message_5.csv', \n",
    "                               usecols   = [0],\n",
    "                               engine    = 'c',\n",
    "                               index_col = 0,\n",
    "                               header    = None)\n",
    "    LOB_data.index = LOB_messages.index\n",
    "    LOB_data.columns = [f'ask_1', f'ask_volume_1', f'bid_1', f'bid_volume_1']\n",
    "    LOB_data.index.name = 'time'\n",
    "    LOB_data = LOB_data.reset_index(drop=False).groupby('time').last()\n",
    "    \n",
    "    return LOB_data"
   ]
  },
  {
   "cell_type": "code",
   "execution_count": 6,
   "id": "25e5d00d-7758-4fd6-b903-9c75861a1067",
   "metadata": {},
   "outputs": [],
   "source": [
    "# LOB_data"
   ]
  },
  {
   "cell_type": "code",
   "execution_count": 7,
   "id": "9f72112f-1f85-4526-bb68-bb8a75e686f8",
   "metadata": {},
   "outputs": [],
   "source": [
    "# imb_model  = pd.read_pickle('../nb_trading/imb_model.pkl')\n",
    "# macd_model = pd.read_pickle('../nb_trading/macd_model.pkl')"
   ]
  },
  {
   "cell_type": "markdown",
   "id": "305f946a",
   "metadata": {},
   "source": [
    "# Load Data & Signals"
   ]
  },
  {
   "cell_type": "code",
   "execution_count": 8,
   "id": "714b8dbe",
   "metadata": {},
   "outputs": [],
   "source": [
    "from AOE.utils import get_meta_order_df, verbose_print\n",
    "from AOE.plots import rescale_plot\n",
    "from AOE.plots import hit_ratio_analysis, reward_distribution_analysis, regret_plots, analyze_meta_order"
   ]
  },
  {
   "cell_type": "code",
   "execution_count": 9,
   "id": "604dceab",
   "metadata": {},
   "outputs": [],
   "source": [
    "data_path     = pathlib.Path(os.path.abspath(os.path.join('..')), \"data\")\n",
    "reward_path   = pathlib.Path(os.path.abspath(os.path.join('..')), \"data\", \"Rewards\")\n",
    "feature_path  = pathlib.Path(os.path.abspath(os.path.join('..')), \"data\", \"Features\")\n",
    "\n",
    "asset_name    = \"GILD\"\n",
    "tick_size     = 0.01"
   ]
  },
  {
   "cell_type": "code",
   "execution_count": 11,
   "id": "55563c7f-185b-4ebd-b607-67702e105ee4",
   "metadata": {},
   "outputs": [
    {
     "name": "stdout",
     "output_type": "stream",
     "text": [
      "%:  100.0 %\n",
      "File name:  GILD_2022-11-22_34200000_57600000_orderbook_5.csv\n",
      "got the data\n"
     ]
    }
   ],
   "source": [
    "all_data = {}\n",
    "i        = 0\n",
    "\n",
    "for filename in os.listdir(os.path.join(data_path, asset_name)):\n",
    "    i += 1\n",
    "    f = os.path.join(os.path.join(data_path, asset_name),filename)\n",
    "    if 'orderbook' in f:\n",
    "        if os.path.isfile(f):\n",
    "            trade_date = f.split('_')[1]\n",
    "            print('%: ', 100*(round(i/len(os.listdir(os.path.join(data_path, asset_name))), 2)) , \"%\")\n",
    "            print('File name: ', filename)\n",
    "            # if not os.path.isfile(f'../data/Features/LOB_features_{trade_date}.pkl'):\n",
    "            LOB_data      = get_LOB_data(data_path, asset_name, trade_date)\n",
    "            print('got the data')\n",
    "            # LOB_data      = LOB_data.iloc[::10,:]\n",
    "            LOB_features  = get_LOB_features(LOB_data, trade_date, tick_size)\n",
    "            \n",
    "            LOB_features['macd_120_260_90'] = macd_signal_2(LOB_features['mid_price'], n_fast=120, n_slow=260, n_sign=90, fillna=True)*1e5\n",
    "            LOB_features['macd_12_26_9'] = macd_signal_2(LOB_features['mid_price'], n_fast=12, n_slow=26, n_sign=9, fillna=True)*1e5\n",
    "            \n",
    "            LOB_features.to_pickle(f'{str(feature_path)}/{asset_name}_{trade_date}_LOB_features.pkl')\n",
    "            # else:\n",
    "            #     LOB_features = pd.read_pickle(f'../data/Features/LOB_features_{trade_date}.pkl')\n",
    "            \n",
    "            # take data every 10 trades\n",
    "            LOB_features = LOB_features.set_index('timestamp')\n",
    "            \n",
    "            # all_data[trade_date] = LOB_features\n",
    "            clear_output(wait=True)"
   ]
  },
  {
   "cell_type": "code",
   "execution_count": null,
   "id": "e0818951-ea1a-44db-9f43-f696dabad281",
   "metadata": {},
   "outputs": [],
   "source": []
  },
  {
   "cell_type": "code",
   "execution_count": null,
   "id": "e49cb5b8-caf7-4eed-a5c4-696e9bb70f00",
   "metadata": {},
   "outputs": [],
   "source": []
  },
  {
   "cell_type": "code",
   "execution_count": null,
   "id": "7083d8e7-2445-4850-b2df-de58c9f7cb0f",
   "metadata": {},
   "outputs": [],
   "source": []
  }
 ],
 "metadata": {
  "kernelspec": {
   "display_name": "Python 3 (ipykernel)",
   "language": "python",
   "name": "python3"
  },
  "language_info": {
   "codemirror_mode": {
    "name": "ipython",
    "version": 3
   },
   "file_extension": ".py",
   "mimetype": "text/x-python",
   "name": "python",
   "nbconvert_exporter": "python",
   "pygments_lexer": "ipython3",
   "version": "3.10.9"
  }
 },
 "nbformat": 4,
 "nbformat_minor": 5
}
