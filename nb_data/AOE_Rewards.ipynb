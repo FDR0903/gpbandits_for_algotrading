{
 "cells": [
  {
   "cell_type": "code",
   "execution_count": 1,
   "id": "9a2718d7",
   "metadata": {},
   "outputs": [],
   "source": [
    "import numpy as np\n",
    "import matplotlib.pyplot as plt\n",
    "import pandas as pd\n",
    "from   IPython.display import display, HTML\n",
    "import pprint\n",
    "import datetime\n",
    "import matplotlib.dates as md\n",
    "from pathlib import Path\n",
    "import os\n",
    "import math\n",
    "from scipy.stats import poisson\n",
    "from scipy import interpolate\n",
    "from collections import deque\n",
    "import matplotlib.dates as md\n",
    "from IPython.display import clear_output\n",
    "from scipy.interpolate import interpn\n",
    "from scipy.interpolate import RegularGridInterpolator\n",
    "import sys\n",
    "import pathlib"
   ]
  },
  {
   "cell_type": "code",
   "execution_count": 2,
   "id": "a7858682",
   "metadata": {},
   "outputs": [],
   "source": [
    "import statsmodels.api as sm\n",
    "import scipy.integrate as integrate"
   ]
  },
  {
   "cell_type": "code",
   "execution_count": 3,
   "id": "e096bfc4",
   "metadata": {},
   "outputs": [
    {
     "data": {
      "text/html": [
       "<style>.container { width:100% !important; }</style>"
      ],
      "text/plain": [
       "<IPython.core.display.HTML object>"
      ]
     },
     "metadata": {},
     "output_type": "display_data"
    }
   ],
   "source": [
    "pd.set_option('display.width', 1000)\n",
    "display(HTML(\"<style>.container { width:100% !important; }</style>\"))\n",
    "pd.set_option('mode.chained_assignment', None)\n",
    "import matplotlib.ticker as mtick\n",
    "fmt = '${x:,.2f}'\n",
    "tick = mtick.StrMethodFormatter(fmt)\n",
    "tick2 = mtick.StrMethodFormatter('${x:,.0f}')\n",
    "normal = mtick.StrMethodFormatter('{x:,.0f}')\n",
    "normal2 = mtick.StrMethodFormatter('{x:,.2f}')\n",
    "percc = mtick.StrMethodFormatter('{x:,.0%}')"
   ]
  },
  {
   "cell_type": "code",
   "execution_count": 4,
   "id": "0eec9df3-866d-475f-a9ac-c4ae4ac2ed1e",
   "metadata": {},
   "outputs": [],
   "source": [
    "parent_module_path = os.path.abspath(os.path.join('..'))\n",
    "if parent_module_path not in sys.path:\n",
    "    sys.path.append(parent_module_path)"
   ]
  },
  {
   "cell_type": "code",
   "execution_count": 5,
   "id": "b29f2c99",
   "metadata": {},
   "outputs": [],
   "source": [
    "colors       = {'red': '#ff207c', 'grey': '#42535b', 'blue': '#207cff', 'orange': '#ffa320', 'green': '#00ec8b'}\n",
    "config_ticks = {'size': 14, 'color': colors['grey'], 'labelcolor': colors['grey']}\n",
    "config_title = {'size': 18, 'color': colors['grey'], 'ha': 'left', 'va': 'baseline'}"
   ]
  },
  {
   "cell_type": "code",
   "execution_count": 6,
   "id": "8c556960-a67e-4f64-a9ae-2e2dc6580bd5",
   "metadata": {},
   "outputs": [],
   "source": [
    "def ema(series, periods, fillna=False):\n",
    "    if fillna:\n",
    "        return series.ewm(span=periods, min_periods=0).mean()\n",
    "    return series.ewm(span=periods, min_periods=periods).mean()\n",
    "\n",
    "def rsi(close, n=14, rtrfreq=1, fillna=False): # n in number of trades\n",
    "    diff = close.diff(rtrfreq)\n",
    "    which_dn = diff < 0\n",
    "\n",
    "    up, dn = diff, diff*0\n",
    "    up[which_dn], dn[which_dn] = 0, -up[which_dn]\n",
    "\n",
    "    emaup = ema(up, n, fillna)\n",
    "    emadn = ema(dn, n, fillna)\n",
    "\n",
    "    rsi = 100 * emaup / (emaup + emadn)\n",
    "    if fillna:\n",
    "        rsi = rsi.replace([np.inf, -np.inf], np.nan).fillna(50)\n",
    "    return pd.Series(rsi, name='rsi')\n",
    "\n",
    "def macd_signal(close, n_fast=12, n_slow=26, n_sign=9, fillna=False):\n",
    "    \"\"\"Moving Average Convergence Divergence (MACD Signal)\n",
    "    Args:\n",
    "        close(pandas.Series): dataset 'Close' column.\n",
    "        n_fast(int): n period short-term.\n",
    "        n_slow(int): n period long-term.\n",
    "        n_sign(int): n period to signal.\n",
    "        fillna(bool): if True, fill nan values.\n",
    "\n",
    "    Returns:\n",
    "        EMA of MACD: pandas.Series: New feature generated.\n",
    "    \"\"\"\n",
    "    emafast = ema(close, n_fast, fillna)\n",
    "    emaslow = ema(close, n_slow, fillna)\n",
    "    macd = emafast - emaslow\n",
    "    macd_signal = ema(macd, n_sign, fillna)\n",
    "    \n",
    "    macd_diff = macd - macd_signal\n",
    "    if fillna:\n",
    "        macd_signal = macd_signal.replace([np.inf, -np.inf], np.nan).fillna(0)\n",
    "    return pd.Series(macd_diff, name='MACD_diff')"
   ]
  },
  {
   "cell_type": "markdown",
   "id": "6a4a9ef8",
   "metadata": {},
   "source": [
    "# Reward construction"
   ]
  },
  {
   "cell_type": "code",
   "execution_count": 7,
   "id": "a819b262-db9e-49ce-aa24-4d534cdae050",
   "metadata": {},
   "outputs": [],
   "source": [
    "def get_rewards(_LOB_features, _signal_names, _verbose, _freq= 's'):\n",
    "    # first add MR & TF\n",
    "    nb_seconds = len(_LOB_features.resample(f\"1{_freq}\"))\n",
    "    res        = {}\n",
    "    print(f\"number {_freq}:\", nb_seconds)\n",
    "    for _i_second in range(1, nb_seconds):\n",
    "        data_batch = _LOB_features.first(f\"{_i_second}{_freq}\").last(f\"1{_freq}\")\n",
    "        tmp_res    = {}\n",
    "\n",
    "        if _verbose: print('\\n**** ', data_batch.index[0])\n",
    "\n",
    "        for signal_name in _signal_names:\n",
    "            executionPrice_buy  = None\n",
    "            executionPrice_sell = None\n",
    "\n",
    "            S0               = data_batch.iloc[0].mid_price\n",
    "            ST               = data_batch.iloc[-1].mid_price\n",
    "            tmp_res['S0']    = S0\n",
    "            tmp_res['ST']    = ST\n",
    "            tmp_res['Twap_executionPrice'] = data_batch.mid_price.mean()\n",
    "\n",
    "            # for ti in range(len(data_batch)-1):\n",
    "            It  = data_batch.iloc[0][signal_name]\n",
    "\n",
    "            # check if signal is MR or TF\n",
    "            if 'MR' in signal_name:\n",
    "                It = -It\n",
    "\n",
    "            # Stp1          = data_batch.iloc[ti+1].mid_price\n",
    "\n",
    "            if It > 0:\n",
    "                # if executionPrice_buy is None: \n",
    "                executionPrice_buy = S0\n",
    "                executionPrice_sell = ST\n",
    "                \n",
    "            if It < 0:\n",
    "                # if executionPrice_sell is None: \n",
    "                executionPrice_buy = ST \n",
    "                executionPrice_sell = S0\n",
    "\n",
    "            # if executionPrice_buy is None:  executionPrice_buy  = data_batch.iloc[-1].mid_price\n",
    "            # if executionPrice_sell is None: executionPrice_sell = data_batch.iloc[-1].mid_price\n",
    "\n",
    "            tmp_res[signal_name] = {'executionPrice_buy' : executionPrice_buy, \n",
    "                                    'executionPrice_sell' : executionPrice_sell\n",
    "                                    }\n",
    "            \n",
    "            if _verbose:\n",
    "                print('** Signal name=', signal_name, \n",
    "                      ', executionPrice_buy=', executionPrice_buy,\n",
    "                      ', executionPrice_sell=', executionPrice_sell,\n",
    "                      ', S0=', S0,\n",
    "                      ', ST=', ST)\n",
    "\n",
    "            res[data_batch.index.values[0]] = tmp_res\n",
    "    return res"
   ]
  },
  {
   "cell_type": "code",
   "execution_count": 8,
   "id": "bd739008-eda4-44a7-b221-8ac523acf6dd",
   "metadata": {},
   "outputs": [],
   "source": [
    "def export_reward_results(_signal_names, _LOB_features, _trade_date, _res, _reward_path, _asset_name):\n",
    "    res_pnls = {}\n",
    "    keys     = []\n",
    "    twapPrices, S0s, STs  = [], [], []\n",
    "\n",
    "    for key_ in _res.keys():\n",
    "        twapPrices += [_res[key_]['Twap_executionPrice']  ]\n",
    "        S0s        += [_res[key_]['S0']]\n",
    "        STs        += [_res[key_]['ST']] \n",
    "        keys       += [key_]\n",
    "\n",
    "    for signal_name in _signal_names:\n",
    "        pnls, buyPrices, sellPrices  = [], [], []\n",
    "        for key_ in _res.keys():\n",
    "            try:\n",
    "                buyPrices  += [_res[key_][signal_name]['executionPrice_buy']  ] \n",
    "                sellPrices += [_res[key_][signal_name]['executionPrice_sell']  ]\n",
    "            except Exception as e:\n",
    "                buyPrices  += [np.nan]\n",
    "                sellPrices += [np.nan]\n",
    "\n",
    "        res_pnls[signal_name] = (buyPrices, sellPrices)\n",
    "        \n",
    "    df_pnls         = pd.DataFrame.from_dict( {_signal_names[i]:res_pnls[_signal_names[i]][0] for i in range(len(_signal_names)) })\n",
    "    df_pnls.index   =  keys\n",
    "    df_pnls.columns = [f'buyPrice_{col}' for col in df_pnls.columns]\n",
    "    for signal_name in _signal_names: \n",
    "        df_pnls[f'sellPrice_{signal_name}'] = res_pnls[signal_name][1] \n",
    "\n",
    "    df_pnls[f'twapPrice'] = [_res[key_]['Twap_executionPrice'] for key_ in _res.keys()]\n",
    "    df_pnls[f'S0'] = [_res[key_]['S0'] for key_ in _res.keys()]\n",
    "    df_pnls[f'ST'] = [_res[key_]['ST'] for key_ in _res.keys()]\n",
    "    \n",
    "    pnl_features = _LOB_features.loc[df_pnls.index]\n",
    "    \n",
    "    pd.concat((df_pnls, pnl_features), axis=1).to_pickle(os.path.join(_reward_path, f'{_asset_name}_{_trade_date}_rewards.pkl'))"
   ]
  },
  {
   "cell_type": "code",
   "execution_count": 9,
   "id": "1f35b3f7-a28c-48af-ac69-a13cd97c3acf",
   "metadata": {},
   "outputs": [],
   "source": [
    "data_path     = pathlib.Path(os.path.abspath(os.path.join('..')), \"data\", \"Market\")\n",
    "feature_path  = pathlib.Path(os.path.abspath(os.path.join('..')), \"data\", \"Features\")\n",
    "reward_path   = pathlib.Path(os.path.abspath(os.path.join('..')), \"data\", \"Rewards\")\n",
    "asset_names    = (\"BIDU\", \"COST\", \"CSCO\", \"GILD\", \"DELL\", \"GOOG\", \"INTC\") "
   ]
  },
  {
   "cell_type": "markdown",
   "id": "a6f8cadc-03dc-47be-a661-615d72643825",
   "metadata": {},
   "source": [
    "# Main script"
   ]
  },
  {
   "cell_type": "code",
   "execution_count": 14,
   "id": "9e2b5dde-95a2-47c3-adce-ed61b30ec54a",
   "metadata": {},
   "outputs": [],
   "source": [
    "from AOE.utils import get_LOB_data, verbose_print, get_features\n"
   ]
  },
  {
   "cell_type": "code",
   "execution_count": null,
   "id": "bea7556f-75af-4e65-8c15-e135f957dec5",
   "metadata": {},
   "outputs": [],
   "source": []
  },
  {
   "cell_type": "code",
   "execution_count": 16,
   "id": "674e7902-d3e1-4411-a5d6-2a5915fb5289",
   "metadata": {
    "tags": []
   },
   "outputs": [
    {
     "ename": "TimeoutError",
     "evalue": "[Errno 60] Operation timed out",
     "output_type": "error",
     "traceback": [
      "\u001b[0;31m---------------------------------------------------------------------------\u001b[0m",
      "\u001b[0;31mTimeoutError\u001b[0m                              Traceback (most recent call last)",
      "Cell \u001b[0;32mIn[16], line 1\u001b[0m\n\u001b[0;32m----> 1\u001b[0m \u001b[43mpd\u001b[49m\u001b[38;5;241;43m.\u001b[39;49m\u001b[43mread_pickle\u001b[49m\u001b[43m(\u001b[49m\u001b[43mf\u001b[49m\u001b[43m)\u001b[49m\n",
      "File \u001b[0;32m~/miniconda/envs/aoe/lib/python3.10/site-packages/pandas/io/pickle.py:208\u001b[0m, in \u001b[0;36mread_pickle\u001b[0;34m(filepath_or_buffer, compression, storage_options)\u001b[0m\n\u001b[1;32m    205\u001b[0m     \u001b[38;5;28;01mwith\u001b[39;00m warnings\u001b[38;5;241m.\u001b[39mcatch_warnings(record\u001b[38;5;241m=\u001b[39m\u001b[38;5;28;01mTrue\u001b[39;00m):\n\u001b[1;32m    206\u001b[0m         \u001b[38;5;66;03m# We want to silence any warnings about, e.g. moved modules.\u001b[39;00m\n\u001b[1;32m    207\u001b[0m         warnings\u001b[38;5;241m.\u001b[39msimplefilter(\u001b[38;5;124m\"\u001b[39m\u001b[38;5;124mignore\u001b[39m\u001b[38;5;124m\"\u001b[39m, \u001b[38;5;167;01mWarning\u001b[39;00m)\n\u001b[0;32m--> 208\u001b[0m         \u001b[38;5;28;01mreturn\u001b[39;00m \u001b[43mpickle\u001b[49m\u001b[38;5;241;43m.\u001b[39;49m\u001b[43mload\u001b[49m\u001b[43m(\u001b[49m\u001b[43mhandles\u001b[49m\u001b[38;5;241;43m.\u001b[39;49m\u001b[43mhandle\u001b[49m\u001b[43m)\u001b[49m\n\u001b[1;32m    209\u001b[0m \u001b[38;5;28;01mexcept\u001b[39;00m excs_to_catch:\n\u001b[1;32m    210\u001b[0m     \u001b[38;5;66;03m# e.g.\u001b[39;00m\n\u001b[1;32m    211\u001b[0m     \u001b[38;5;66;03m#  \"No module named 'pandas.core.sparse.series'\"\u001b[39;00m\n\u001b[1;32m    212\u001b[0m     \u001b[38;5;66;03m#  \"Can't get attribute '__nat_unpickle' on <module 'pandas._libs.tslib\"\u001b[39;00m\n\u001b[1;32m    213\u001b[0m     \u001b[38;5;28;01mreturn\u001b[39;00m pc\u001b[38;5;241m.\u001b[39mload(handles\u001b[38;5;241m.\u001b[39mhandle, encoding\u001b[38;5;241m=\u001b[39m\u001b[38;5;28;01mNone\u001b[39;00m)\n",
      "\u001b[0;31mTimeoutError\u001b[0m: [Errno 60] Operation timed out"
     ]
    }
   ],
   "source": [
    "pd.read_pickle(f)"
   ]
  },
  {
   "cell_type": "code",
   "execution_count": 17,
   "id": "a17a8ae3-3b76-48ba-98c1-cb839aa4a0e3",
   "metadata": {
    "tags": []
   },
   "outputs": [
    {
     "name": "stdout",
     "output_type": "stream",
     "text": [
      "*****************************************\n",
      "*      BIDU\n",
      "*****************************************\n",
      "trade_date: 2022-10-06\n",
      "19 %\n"
     ]
    },
    {
     "ename": "OSError",
     "evalue": "[Errno 89] Operation canceled",
     "output_type": "error",
     "traceback": [
      "\u001b[0;31m---------------------------------------------------------------------------\u001b[0m",
      "\u001b[0;31mOSError\u001b[0m                                   Traceback (most recent call last)",
      "Cell \u001b[0;32mIn[17], line 26\u001b[0m\n\u001b[1;32m     22\u001b[0m \u001b[38;5;28mprint\u001b[39m(\u001b[38;5;124mf\u001b[39m\u001b[38;5;124m'\u001b[39m\u001b[38;5;132;01m{\u001b[39;00m\u001b[38;5;250m \u001b[39m\u001b[38;5;28mround\u001b[39m(\u001b[38;5;241m100\u001b[39m\u001b[38;5;241m*\u001b[39mi_file\u001b[38;5;241m/\u001b[39m\u001b[38;5;250m \u001b[39mlen_list_files_an)\u001b[38;5;132;01m}\u001b[39;00m\u001b[38;5;124m %\u001b[39m\u001b[38;5;124m'\u001b[39m)\n\u001b[1;32m     23\u001b[0m \u001b[38;5;66;03m# if os.path.isfile(os.path.join(reward_path, f'{trade_date}_rewards.pkl')):\u001b[39;00m\n\u001b[1;32m     24\u001b[0m \u001b[38;5;66;03m#     print('File already exists')\u001b[39;00m\n\u001b[1;32m     25\u001b[0m \u001b[38;5;66;03m# else:\u001b[39;00m\n\u001b[0;32m---> 26\u001b[0m LOB_features \u001b[38;5;241m=\u001b[39m \u001b[43mpd\u001b[49m\u001b[38;5;241;43m.\u001b[39;49m\u001b[43mread_pickle\u001b[49m\u001b[43m(\u001b[49m\u001b[43mf\u001b[49m\u001b[43m)\u001b[49m\u001b[38;5;241m.\u001b[39mset_index(\u001b[38;5;124m'\u001b[39m\u001b[38;5;124mtimestamp\u001b[39m\u001b[38;5;124m'\u001b[39m)\n\u001b[1;32m     27\u001b[0m LOB_features[\u001b[38;5;124m'\u001b[39m\u001b[38;5;124mTF\u001b[39m\u001b[38;5;124m'\u001b[39m] \u001b[38;5;241m=\u001b[39m LOB_features[\u001b[38;5;124m'\u001b[39m\u001b[38;5;124mmacd_12_26_9\u001b[39m\u001b[38;5;124m'\u001b[39m]\n\u001b[1;32m     28\u001b[0m LOB_features[\u001b[38;5;124m'\u001b[39m\u001b[38;5;124mMR\u001b[39m\u001b[38;5;124m'\u001b[39m] \u001b[38;5;241m=\u001b[39m LOB_features[\u001b[38;5;124m'\u001b[39m\u001b[38;5;124mmacd_12_26_9\u001b[39m\u001b[38;5;124m'\u001b[39m]  \n",
      "File \u001b[0;32m~/miniconda/envs/aoe/lib/python3.10/site-packages/pandas/io/pickle.py:208\u001b[0m, in \u001b[0;36mread_pickle\u001b[0;34m(filepath_or_buffer, compression, storage_options)\u001b[0m\n\u001b[1;32m    205\u001b[0m     \u001b[38;5;28;01mwith\u001b[39;00m warnings\u001b[38;5;241m.\u001b[39mcatch_warnings(record\u001b[38;5;241m=\u001b[39m\u001b[38;5;28;01mTrue\u001b[39;00m):\n\u001b[1;32m    206\u001b[0m         \u001b[38;5;66;03m# We want to silence any warnings about, e.g. moved modules.\u001b[39;00m\n\u001b[1;32m    207\u001b[0m         warnings\u001b[38;5;241m.\u001b[39msimplefilter(\u001b[38;5;124m\"\u001b[39m\u001b[38;5;124mignore\u001b[39m\u001b[38;5;124m\"\u001b[39m, \u001b[38;5;167;01mWarning\u001b[39;00m)\n\u001b[0;32m--> 208\u001b[0m         \u001b[38;5;28;01mreturn\u001b[39;00m \u001b[43mpickle\u001b[49m\u001b[38;5;241;43m.\u001b[39;49m\u001b[43mload\u001b[49m\u001b[43m(\u001b[49m\u001b[43mhandles\u001b[49m\u001b[38;5;241;43m.\u001b[39;49m\u001b[43mhandle\u001b[49m\u001b[43m)\u001b[49m\n\u001b[1;32m    209\u001b[0m \u001b[38;5;28;01mexcept\u001b[39;00m excs_to_catch:\n\u001b[1;32m    210\u001b[0m     \u001b[38;5;66;03m# e.g.\u001b[39;00m\n\u001b[1;32m    211\u001b[0m     \u001b[38;5;66;03m#  \"No module named 'pandas.core.sparse.series'\"\u001b[39;00m\n\u001b[1;32m    212\u001b[0m     \u001b[38;5;66;03m#  \"Can't get attribute '__nat_unpickle' on <module 'pandas._libs.tslib\"\u001b[39;00m\n\u001b[1;32m    213\u001b[0m     \u001b[38;5;28;01mreturn\u001b[39;00m pc\u001b[38;5;241m.\u001b[39mload(handles\u001b[38;5;241m.\u001b[39mhandle, encoding\u001b[38;5;241m=\u001b[39m\u001b[38;5;28;01mNone\u001b[39;00m)\n",
      "\u001b[0;31mOSError\u001b[0m: [Errno 89] Operation canceled"
     ]
    }
   ],
   "source": [
    "for asset_name in asset_names:\n",
    "    \n",
    "    signal_names  = [\"imbalance_1\", \"MR\", \"TF\"]\n",
    "    verbose       = False\n",
    "    tick_size     = 0.01\n",
    "\n",
    "    i_file        = 0\n",
    "    list_files    = os.listdir(feature_path)\n",
    "    \n",
    "    len_list_files_an = len([s for s in os.listdir(feature_path) if asset_name in s])\n",
    "    for filename in list_files:\n",
    "        f = os.path.join(feature_path ,filename)\n",
    "        if (('features' in f) & (asset_name in f)):\n",
    "            if os.path.isfile(f):\n",
    "                i_file     += 1\n",
    "                trade_date = f.split('_')[1]\n",
    "                clear_output(wait=True)\n",
    "                print('*****************************************')\n",
    "                print('*     ', asset_name)\n",
    "                print('*****************************************')\n",
    "                print('trade_date:', trade_date)\n",
    "                print(f'{ round(100*i_file/ len_list_files_an)} %')\n",
    "                # if os.path.isfile(os.path.join(reward_path, f'{trade_date}_rewards.pkl')):\n",
    "                #     print('File already exists')\n",
    "                # else:\n",
    "                LOB_features = pd.read_pickle(f).set_index('timestamp')\n",
    "                LOB_features['TF'] = LOB_features['macd_12_26_9']\n",
    "                LOB_features['MR'] = LOB_features['macd_12_26_9']  \n",
    "\n",
    "                LOB_features['imbalance_1'] = LOB_features['imbalance_1'].rolling(10).mean()\n",
    "                LOB_features['TF'] = LOB_features['TF'].rolling(10).mean()\n",
    "                LOB_features['MR'] = LOB_features['MR'].rolling(10).mean()\n",
    "\n",
    "                res = get_rewards(LOB_features, signal_names, verbose)\n",
    "                export_reward_results(signal_names, LOB_features, trade_date, res, reward_path, asset_name)"
   ]
  },
  {
   "cell_type": "code",
   "execution_count": null,
   "id": "c8c25727-d7cf-49ba-bc9e-2278fca3fcb9",
   "metadata": {},
   "outputs": [],
   "source": []
  }
 ],
 "metadata": {
  "kernelspec": {
   "display_name": "Python 3 (ipykernel)",
   "language": "python",
   "name": "python3"
  },
  "language_info": {
   "codemirror_mode": {
    "name": "ipython",
    "version": 3
   },
   "file_extension": ".py",
   "mimetype": "text/x-python",
   "name": "python",
   "nbconvert_exporter": "python",
   "pygments_lexer": "ipython3",
   "version": "3.10.9"
  }
 },
 "nbformat": 4,
 "nbformat_minor": 5
}
