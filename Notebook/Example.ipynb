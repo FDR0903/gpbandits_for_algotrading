{
 "cells": [
  {
   "cell_type": "code",
   "execution_count": 1,
   "id": "11539250",
   "metadata": {},
   "outputs": [],
   "source": [
    "import numpy as np\n",
    "import matplotlib.pyplot as plt\n",
    "import pandas as pd\n",
    "from   IPython.display import display, HTML\n",
    "from collections import deque\n",
    "import random\n",
    "import os\n",
    "import sys\n",
    "import pathlib\n",
    "from collections import deque\n",
    "from tqdm.notebook import tqdm, trange\n",
    "import datetime\n",
    "from scipy import interpolate\n",
    "import math\n",
    "\n",
    "import matplotlib.ticker as mtick\n",
    "import matplotlib.dates as md\n",
    "\n",
    "from IPython.display import clear_output\n",
    "\n",
    "os.environ[\"KMP_DUPLICATE_LIB_OK\"] = \"TRUE\"\n",
    "\n",
    "import torch\n",
    "import gpytorch\n",
    "import matplotlib.dates as md\n",
    "import seaborn as sns"
   ]
  },
  {
   "cell_type": "code",
   "execution_count": 2,
   "id": "d9d6e6d8-0c4d-41d1-a233-ce9027fc2d20",
   "metadata": {
    "tags": []
   },
   "outputs": [],
   "source": [
    "%load_ext autoreload\n",
    "%autoreload 2"
   ]
  },
  {
   "cell_type": "code",
   "execution_count": 3,
   "id": "a45c1f4d",
   "metadata": {},
   "outputs": [],
   "source": [
    "parent_module_path = os.path.abspath(os.path.join('..'))\n",
    "if parent_module_path not in sys.path:\n",
    "    sys.path.append(parent_module_path)"
   ]
  },
  {
   "cell_type": "code",
   "execution_count": 4,
   "id": "3da2aea3-7e87-4ee2-b220-b5658ff3d9f4",
   "metadata": {
    "tags": []
   },
   "outputs": [
    {
     "name": "stdout",
     "output_type": "stream",
     "text": [
      "The Zen of Python, by Tim Peters\n",
      "\n",
      "Beautiful is better than ugly.\n",
      "Explicit is better than implicit.\n",
      "Simple is better than complex.\n",
      "Complex is better than complicated.\n",
      "Flat is better than nested.\n",
      "Sparse is better than dense.\n",
      "Readability counts.\n",
      "Special cases aren't special enough to break the rules.\n",
      "Although practicality beats purity.\n",
      "Errors should never pass silently.\n",
      "Unless explicitly silenced.\n",
      "In the face of ambiguity, refuse the temptation to guess.\n",
      "There should be one-- and preferably only one --obvious way to do it.\n",
      "Although that way may not be obvious at first unless you're Dutch.\n",
      "Now is better than never.\n",
      "Although never is often better than *right* now.\n",
      "If the implementation is hard to explain, it's a bad idea.\n",
      "If the implementation is easy to explain, it may be a good idea.\n",
      "Namespaces are one honking great idea -- let's do more of those!\n"
     ]
    }
   ],
   "source": [
    "from AOE.utils import verbose_print\n",
    "from AOE.bandit_plots import hit_ratio_analysis, reward_distribution_analysis, regret_plots\n",
    "from AOE.gp_bandit_finance_old import gp_bandit_finance, Wasserstein_GP_mean#, Wasserstein_GP\n",
    "from AOE.mtgp_bandit_finance import mtgp_bandit_finance\n",
    "from AOE.plots import rescale_plot\n",
    "from utils import get_bandit_objects, init_variables, init_dictionaries"
   ]
  },
  {
   "cell_type": "code",
   "execution_count": 5,
   "id": "6378a4fa",
   "metadata": {},
   "outputs": [
    {
     "data": {
      "text/html": [
       "<style>.container { width:100% !important; }</style>"
      ],
      "text/plain": [
       "<IPython.core.display.HTML object>"
      ]
     },
     "metadata": {},
     "output_type": "display_data"
    }
   ],
   "source": [
    "pd.set_option('display.width', 1000)\n",
    "display(HTML(\"<style>.container { width:100% !important; }</style>\"))\n",
    "pd.set_option('mode.chained_assignment', None)"
   ]
  },
  {
   "cell_type": "markdown",
   "id": "69dea3a8-ae4f-477d-8d6d-791e9ea0b4a1",
   "metadata": {},
   "source": [
    "# Load Data & Signals"
   ]
  },
  {
   "cell_type": "code",
   "execution_count": 6,
   "id": "41c738f3-a210-4f0c-84cc-c878ae0271fd",
   "metadata": {},
   "outputs": [
    {
     "name": "stdout",
     "output_type": "stream",
     "text": [
      "Average Bid Ask spread :  0.23489193932749663\n",
      "All features : \n",
      " ['twapPrice', 'S0', 'ST', 'mid_price', 'ask_1', 'bid_1', 'imbalance_1', 'ba_spread', 'bid_volume_1', 'ask_volume_1', 'MACD']\n"
     ]
    }
   ],
   "source": [
    "asset_name            = \"ANONYM\"\n",
    "\n",
    "all_data = pd.read_pickle(\"ANONYM.pkl\")\n",
    "features = all_data[[s for s in all_data.columns if (('buyPrice' not in s) & ('sellPrice' not in s))]] \n",
    "\n",
    "ba_mean = all_data.ba_spread.mean()\n",
    "print('Average Bid Ask spread : ', ba_mean)\n",
    "print('All features : \\n', list(features.columns))"
   ]
  },
  {
   "cell_type": "markdown",
   "id": "ee3598ff",
   "metadata": {},
   "source": [
    "# Signals and Bandit objects"
   ]
  },
  {
   "cell_type": "code",
   "execution_count": 7,
   "id": "f1195219-ebc1-4d7b-9f8a-dd12821daf42",
   "metadata": {},
   "outputs": [],
   "source": [
    "strategies  = {'imbalance_1' : {'name'             : 'imbalance_1',\n",
    "                                'params'           : {'feature_name'     : 'imbalance_1'},\n",
    "                                'contextual_params': {'feature_name'     : 'imbalance_1', \n",
    "                                                      'round'            : 1}},\n",
    "\n",
    "               'MACD' :  {'name'             : 'MACD',\n",
    "                          'params'           : {'feature_name'     : 'MACD'},\n",
    "                          'contextual_params': {'feature_name'     : 'MACD', \n",
    "                                                'round'            : 1}}}\n",
    "\n",
    "list_strategies = list(strategies.keys())\n",
    "\n",
    "d_lrstats, d_taus, d_delta_IIs, d_noises, d_lengthscales, d_correls, b_objs =\\\n",
    "                init_dictionaries( strategies)"
   ]
  },
  {
   "cell_type": "markdown",
   "id": "8e7843c2-b78a-49af-bbfd-c12b45ab623d",
   "metadata": {
    "tags": []
   },
   "source": [
    "# Strategic Layer"
   ]
  },
  {
   "cell_type": "code",
   "execution_count": 9,
   "id": "7ff4ce01-6f65-4edc-9628-f4a02358a0c7",
   "metadata": {
    "tags": []
   },
   "outputs": [],
   "source": [
    "def alpha(gamma, sigma, V, nu, dt):\n",
    "    cosh_alpha_dt = 1 + (gamma * V * (dt*sigma)**2) / (4 * nu)\n",
    "    return (1/dt) * np.arccosh(cosh_alpha_dt)\n",
    "\n",
    "def q_star(x, q0, T, gamma, sigma, V, nu, dt):\n",
    "    alpha_ = alpha(gamma, sigma, V, nu, dt)\n",
    "    return q0 * np.sinh(alpha_*(T - x))/np.sinh(alpha_*T)\n",
    "\n",
    "T                         = 10/60/24 # 10 minutes\n",
    "timesteps = np.linspace(0, T, 100)\n",
    "q0        = 100 #int(0.1 * V) # nb of shares to liquidate : 10% of total traded volume\n",
    "dt        = T/100"
   ]
  },
  {
   "cell_type": "code",
   "execution_count": null,
   "id": "0163731f-89d5-42b4-b5dc-7c0696d5bd5a",
   "metadata": {
    "tags": []
   },
   "outputs": [],
   "source": [
    "\n",
    "S0        = 100\n",
    "gamma     = 10**1 #per dollar\n",
    "\n"
   ]
  },
  {
   "cell_type": "code",
   "execution_count": null,
   "id": "7b45b696-cce5-47ea-9c4e-0f52bb9864e0",
   "metadata": {
    "tags": []
   },
   "outputs": [],
   "source": []
  },
  {
   "cell_type": "markdown",
   "id": "9db58e01-a058-4db6-9b9e-92cf5f1ec53a",
   "metadata": {},
   "source": [
    "# Trading simulation with speculative layer"
   ]
  },
  {
   "cell_type": "code",
   "execution_count": 10,
   "id": "8be769da-5e36-4689-b49b-ab87d8f00857",
   "metadata": {
    "tags": []
   },
   "outputs": [],
   "source": [
    "verbose_level             = 0 # set to 1 for all calculation details\n",
    "\n",
    "'''\n",
    "*****************************************\n",
    " variables for historical trading data\n",
    "*****************************************\n",
    "'''\n",
    "i_order                   = 0\n",
    "nb_added_rewards          = {bandit_k:0 for bandit_k in b_objs.keys()}\n",
    "arrival_intensity         = 0.5\n",
    "ref_price                 = 'ST' #'S0' #twapPrice\n",
    "nb_orders                 = 0"
   ]
  },
  {
   "cell_type": "code",
   "execution_count": 14,
   "id": "bb3a23e6-142e-46ff-8de6-88a2606b2792",
   "metadata": {
    "tags": []
   },
   "outputs": [
    {
     "name": "stdout",
     "output_type": "stream",
     "text": [
      "************************************ Simul number: 24\n"
     ]
    },
    {
     "data": {
      "text/html": [
       "<div>\n",
       "<style scoped>\n",
       "    .dataframe tbody tr th:only-of-type {\n",
       "        vertical-align: middle;\n",
       "    }\n",
       "\n",
       "    .dataframe tbody tr th {\n",
       "        vertical-align: top;\n",
       "    }\n",
       "\n",
       "    .dataframe thead th {\n",
       "        text-align: right;\n",
       "    }\n",
       "</style>\n",
       "<table border=\"1\" class=\"dataframe\">\n",
       "  <thead>\n",
       "    <tr style=\"text-align: right;\">\n",
       "      <th></th>\n",
       "      <th>count</th>\n",
       "      <th>mean</th>\n",
       "      <th>std</th>\n",
       "      <th>sharpe</th>\n",
       "    </tr>\n",
       "  </thead>\n",
       "  <tbody>\n",
       "    <tr>\n",
       "      <th>oracle</th>\n",
       "      <td>25.0</td>\n",
       "      <td>2.983500</td>\n",
       "      <td>1.691594</td>\n",
       "      <td>1.763720</td>\n",
       "    </tr>\n",
       "    <tr>\n",
       "      <th>GP_LR</th>\n",
       "      <td>25.0</td>\n",
       "      <td>1.343597</td>\n",
       "      <td>1.621383</td>\n",
       "      <td>0.828673</td>\n",
       "    </tr>\n",
       "    <tr>\n",
       "      <th>MTGP_LR</th>\n",
       "      <td>25.0</td>\n",
       "      <td>1.304430</td>\n",
       "      <td>1.531973</td>\n",
       "      <td>0.851470</td>\n",
       "    </tr>\n",
       "    <tr>\n",
       "      <th>GP</th>\n",
       "      <td>25.0</td>\n",
       "      <td>1.254194</td>\n",
       "      <td>1.632460</td>\n",
       "      <td>0.768284</td>\n",
       "    </tr>\n",
       "    <tr>\n",
       "      <th>GREEDY</th>\n",
       "      <td>25.0</td>\n",
       "      <td>1.218433</td>\n",
       "      <td>1.529898</td>\n",
       "      <td>0.796414</td>\n",
       "    </tr>\n",
       "    <tr>\n",
       "      <th>imbalance_1</th>\n",
       "      <td>25.0</td>\n",
       "      <td>1.148613</td>\n",
       "      <td>1.819431</td>\n",
       "      <td>0.631304</td>\n",
       "    </tr>\n",
       "    <tr>\n",
       "      <th>UCB</th>\n",
       "      <td>25.0</td>\n",
       "      <td>0.936601</td>\n",
       "      <td>1.673815</td>\n",
       "      <td>0.559561</td>\n",
       "    </tr>\n",
       "    <tr>\n",
       "      <th>RANDOM</th>\n",
       "      <td>25.0</td>\n",
       "      <td>0.787596</td>\n",
       "      <td>1.905260</td>\n",
       "      <td>0.413380</td>\n",
       "    </tr>\n",
       "    <tr>\n",
       "      <th>MACD</th>\n",
       "      <td>25.0</td>\n",
       "      <td>0.732252</td>\n",
       "      <td>1.592702</td>\n",
       "      <td>0.459754</td>\n",
       "    </tr>\n",
       "  </tbody>\n",
       "</table>\n",
       "</div>"
      ],
      "text/plain": [
       "             count      mean       std    sharpe\n",
       "oracle        25.0  2.983500  1.691594  1.763720\n",
       "GP_LR         25.0  1.343597  1.621383  0.828673\n",
       "MTGP_LR       25.0  1.304430  1.531973  0.851470\n",
       "GP            25.0  1.254194  1.632460  0.768284\n",
       "GREEDY        25.0  1.218433  1.529898  0.796414\n",
       "imbalance_1   25.0  1.148613  1.819431  0.631304\n",
       "UCB           25.0  0.936601  1.673815  0.559561\n",
       "RANDOM        25.0  0.787596  1.905260  0.413380\n",
       "MACD          25.0  0.732252  1.592702  0.459754"
      ]
     },
     "metadata": {},
     "output_type": "display_data"
    },
    {
     "name": "stdout",
     "output_type": "stream",
     "text": [
      "RANDOM : 16.09 bps\n",
      "GREEDY : 24.89 bps\n",
      "UCB : 19.13 bps\n",
      "GP : 25.62 bps\n",
      "GP_LR : 27.45 bps\n",
      "MTGP_LR : 26.65 bps\n"
     ]
    },
    {
     "name": "stderr",
     "output_type": "stream",
     "text": [
      "/var/folders/h3/cyxpytps41d3jmsv99t0x7ww0000gn/T/ipykernel_41780/2506936922.py:200: UserWarning: set_ticklabels() should only be used with a fixed number of ticks, i.e. after set_ticks() or using a FixedLocator.\n",
      "  for ax in (ax1, ax2, ax3): ax.grid(axis='both'); ax.set_xticklabels(ax.get_xticklabels(), rotation=-45, ha='right')\n",
      "/var/folders/h3/cyxpytps41d3jmsv99t0x7ww0000gn/T/ipykernel_41780/2506936922.py:200: UserWarning: set_ticklabels() should only be used with a fixed number of ticks, i.e. after set_ticks() or using a FixedLocator.\n",
      "  for ax in (ax1, ax2, ax3): ax.grid(axis='both'); ax.set_xticklabels(ax.get_xticklabels(), rotation=-45, ha='right')\n",
      "/var/folders/h3/cyxpytps41d3jmsv99t0x7ww0000gn/T/ipykernel_41780/2506936922.py:200: UserWarning: set_ticklabels() should only be used with a fixed number of ticks, i.e. after set_ticks() or using a FixedLocator.\n",
      "  for ax in (ax1, ax2, ax3): ax.grid(axis='both'); ax.set_xticklabels(ax.get_xticklabels(), rotation=-45, ha='right')\n"
     ]
    },
    {
     "data": {
      "image/png": "[encoded data removed]",
      "text/plain": [
       "<Figure size 800x240 with 3 Axes>"
      ]
     },
     "metadata": {},
     "output_type": "display_data"
    }
   ],
   "source": [
    "nb_simulations    = 25\n",
    "res_simulations   = {}\n",
    "programme_horizon = '10min'\n",
    "\n",
    "i_starts = np.sort([int(i_start) for i_start in np.random.rand(nb_simulations)*(9*len(all_data)/10)])\n",
    "buysells          = 2*np.random.randint(0, 2, size=nb_simulations, dtype=int)-1\n",
    "\n",
    "for (i_simul, i_start, buysell) in zip(range(nb_simulations), i_starts, buysells):\n",
    "    # choose a random starting point for the programme starting time\n",
    "    programme_data = all_data.iloc[i_start:].first(programme_horizon)\n",
    "    \n",
    "    # Fill na exec prices accordingly\n",
    "    for col in programme_data.columns:\n",
    "        if 'Price_' in col:\n",
    "            programme_data[col].fillna(programme_data[ref_price], inplace=True)\n",
    "    \n",
    "    # This also create new bandit objects\n",
    "    bandit_rewards, bandits_fin_info, batch_times, bandits =\\\n",
    "                init_variables(programme_data,  strategies)\n",
    "    \n",
    "    verbose_print(verbose_level, None, f'I received an order at {None} with quantity {buysell}', True)\n",
    "    \n",
    "    q0     = 100*buysell\n",
    "    q      = np.zeros(len(batch_times)+1)\n",
    "    q[0]   = q0\n",
    "    dt     = T/len(batch_times)\n",
    "    \n",
    "    # try:\n",
    "    if True:\n",
    "        for (i_time, batch_time) in enumerate(batch_times):\n",
    "\n",
    "            sigma       = 5\n",
    "            q_cible     = q_star(T * i_time/len(batch_times), q0, T, 10**-3, 5, 1.5e7, 10, dt)\n",
    "            trade_size  = int(q_cible - q[i_time])\n",
    "            q[i_time+1] = q[i_time]+trade_size\n",
    "            V           = 15000000 \n",
    "\n",
    "            nb_orders   += 1\n",
    "            trade_date = str(batch_time).split(' ')[0]\n",
    "\n",
    "            ###############################################\n",
    "            # retrain GPs hyperparameters every N orders \n",
    "            ###############################################\n",
    "            retrain_hyperparameters = True\n",
    "\n",
    "            ##################################################\n",
    "            # if an order arrives: decide if buy & sell\n",
    "            ##################################################\n",
    "            i_order          += 1\n",
    "\n",
    "            ######################\n",
    "            # get feature values\n",
    "            ######################\n",
    "            feature_values = features.loc[batch_time, :]\n",
    "\n",
    "            ######################################\n",
    "            # select the strategy for all bandits\n",
    "            ######################################\n",
    "            verbose_print(verbose_level, batch_time, f'Selecting strategies ...')\n",
    "            best_strategies_bandits = {}\n",
    "            for bandit_k in bandits.keys():\n",
    "                verbose_print(verbose_level, batch_time, f'** Bandit {bandit_k}: Selecting strategies ...')\n",
    "                if i_time < 5*len(strategies): # at least 5 rewards before sampling\n",
    "                    best_strategies_bandits[bandit_k]  = random.choice(list(strategies.keys()))\n",
    "                else:\n",
    "                    best_strategies_bandits[bandit_k]  = bandits[bandit_k].select_best_strategy(feature_values)\n",
    "                verbose_print(verbose_level, batch_time, f'Selected strategy: {best_strategies_bandits[bandit_k]}')\n",
    "                \n",
    "                bandits_fin_info[bandit_k].loc[batch_time, 'best_strat']  = best_strategies_bandits[bandit_k]\n",
    "\n",
    "            ######################################\n",
    "            # Update & Retrain the GPs\n",
    "            # & Non stationarity test\n",
    "            ######################################\n",
    "            tmp_pnls = {bandit_k:np.nan for bandit_k in bandits.keys()}\n",
    "\n",
    "            for bandit_k in bandits.keys():\n",
    "                if buysell == 1:\n",
    "                    tmp_pnls[bandit_k] = -programme_data.loc[batch_time, f'buyPrice_{best_strategies_bandits[bandit_k]}'] + \\\n",
    "                                programme_data.loc[batch_time, ref_price]\n",
    "                else:\n",
    "                    tmp_pnls[bandit_k] = programme_data.loc[batch_time, f'sellPrice_{best_strategies_bandits[bandit_k]}'] - \\\n",
    "                                programme_data.loc[batch_time, ref_price]\n",
    "\n",
    "            for bandit_k in bandits.keys():\n",
    "                #print('Adding bandit : ', bandit_k, 'values are:', feature_values.MR, best_strategies_bandits[bandit_k], tmp_pnls[bandit_k])\n",
    "                try:\n",
    "                    bandits[bandit_k].update_data(features  = feature_values, \n",
    "                                                  strat     = best_strategies_bandits[bandit_k], \n",
    "                                                  reward    = tmp_pnls[bandit_k], #/ programme_data.loc[batch_time, 'ba_spread'],\n",
    "                                                  retrain_hyperparameters = retrain_hyperparameters)\n",
    "                except Exception as e:\n",
    "                    retrain_hyperparameters = True\n",
    "                    print('Error while updating the bandit ', bandit_k ,': ', str(e), '\\n', tmp_pnls[bandit_k])\n",
    "                    bandits[bandit_k].update_data(features  = feature_values, \n",
    "                                                  strat     = best_strategies_bandits[bandit_k], \n",
    "                                                  reward    = tmp_pnls[bandit_k], #/ programme_data.loc[batch_time, 'ba_spread'],\n",
    "                                                  retrain_hyperparameters = False)\n",
    "                    #bandits[bandit_k].strat_gp_dict[best_strategies_bandits[bandit_k]].train()\n",
    "            \n",
    "            ######################################\n",
    "            # Record rewards\n",
    "            ######################################\n",
    "            for bandit_k in bandits.keys():\n",
    "                if buysell == 1:\n",
    "                    bandits_fin_info[bandit_k].loc[batch_time,'execPrice']  = \\\n",
    "                                    programme_data.loc[batch_time, f'buyPrice_{best_strategies_bandits[bandit_k]}'] \n",
    "                else:\n",
    "                    bandits_fin_info[bandit_k].loc[batch_time,'execPrice']  = \\\n",
    "                                    programme_data.loc[batch_time, f'sellPrice_{best_strategies_bandits[bandit_k]}'] \n",
    "\n",
    "                bandit_rewards.loc[batch_time, bandit_k]               = tmp_pnls[bandit_k]\n",
    "                bandits_fin_info[bandit_k].loc[batch_time,'S0']        = programme_data.loc[batch_time, 'S0'] \n",
    "                bandits_fin_info[bandit_k].loc[batch_time,'ST']        = programme_data.loc[batch_time, 'ST'] \n",
    "                bandits_fin_info[bandit_k].loc[batch_time,'twapPrice'] = programme_data.loc[batch_time, 'twapPrice'] \n",
    "\n",
    "            for strat in strategies.keys():\n",
    "                if buysell == 1:\n",
    "                    bandit_rewards.loc[batch_time, strat] = \\\n",
    "                                -programme_data.loc[batch_time, f'buyPrice_{strat}'] + \\\n",
    "                                programme_data.loc[batch_time, ref_price]\n",
    "                else:\n",
    "                    bandit_rewards.loc[batch_time, strat] = \\\n",
    "                                programme_data.loc[batch_time, f'sellPrice_{strat}'] - \\\n",
    "                                programme_data.loc[batch_time, ref_price]\n",
    "            \n",
    "            ##############################\n",
    "            # Record oracle info\n",
    "            ##############################\n",
    "            oracle_strategy = bandit_rewards.loc[batch_time, strategies.keys()].idxmax() #(pnls_buy.loc[batch_time]).idxmax()\n",
    "            bandit_rewards.loc[batch_time, 'oracle'] = bandit_rewards.loc[batch_time, f'{oracle_strategy}']\n",
    "            verbose_print(verbose_level, batch_time, f\"Oracle strategy: {oracle_strategy}\")\n",
    "        \n",
    "        # multiply pnls by trading speed\n",
    "        v = np.diff(q)\n",
    "        for i in range(len(bandit_rewards)):\n",
    "            bandit_rewards.iloc[i,:] = np.abs(v[i]) * bandit_rewards.iloc[i,:]\n",
    "        \n",
    "        # Store this simulation's results\n",
    "        res_simulations[i_simul] = buysell, bandit_rewards, bandits_fin_info, q\n",
    "        \n",
    "        # UCB_LR results\n",
    "        for bandit_name in get_bandit_objects(strategies).keys():\n",
    "            if 'MTGP_' in bandit_name:\n",
    "                for strat in strategies.keys():\n",
    "                    lrstats_ = list(bandits[bandit_name].records['lr_statistic']) # same for all strats    \n",
    "                    i_strat_ = list_strategies.index(strat)\n",
    "                    noises_  = list(bandits[bandit_name].records['noise']) # same for all strats\n",
    "                    d_noises[bandit_name][strat]           += [float(i[i_strat_]) for i in noises_]\n",
    "                    lengthscales_ = list(bandits[bandit_name].records['lengthscale']) # same for all strats\n",
    "\n",
    "                    # store the correlation between tasks\n",
    "                    correls = []\n",
    "                    for task_covar in bandits[bandit_name].records['task_covar']:\n",
    "                        __diag = np.sqrt(np.diag(np.diag(task_covar)))\n",
    "                        __gaid = np.linalg.inv(__diag)\n",
    "                        __corl = __gaid @ task_covar @ __gaid\n",
    "                        correls += [__corl[0, 1]]\n",
    "                    d_correls[bandit_name]     += correls\n",
    "                    \n",
    "                    d_lrstats[bandit_name][strat]          += [float(i[0]) for i in lrstats_]\n",
    "                    d_taus[bandit_name][strat]             += [float(i[1]) for i in lrstats_]\n",
    "                    d_delta_IIs[bandit_name][strat]        += [float(i[2]) for i in lrstats_]\n",
    "                    d_lengthscales[bandit_name][strat]     += [float(i) for i in lengthscales_]\n",
    "\n",
    "        # verbose\n",
    "        clear_output(wait=True)\n",
    "        print('************************************ Simul number:', i_simul)\n",
    "        \n",
    "        '''\n",
    "        ************************************\n",
    "        * Plot the trading programme\n",
    "        ************************************\n",
    "        ''' \n",
    "        rescale_plot(8, 10, 3)\n",
    "        fig, (ax1, ax2, ax3) = plt.subplots(1, 3, sharex=True, constrained_layout=True)\n",
    "\n",
    "        # plot programme prices\n",
    "        ax1.plot(programme_data.index, programme_data.mid_price, color='k', lw=2)\n",
    "        \n",
    "        # get regrets & rewards\n",
    "        rewards_to_plot = pd.DataFrame(index=programme_data.index)\n",
    "        for bandit_k in bandits.keys():\n",
    "            rewards_to_plot[bandit_k] = np.array(bandit_rewards[bandit_k])\n",
    "        for (i_strat, strat) in enumerate(strategies.keys()):\n",
    "            rewards_to_plot[strat]    = np.array(bandit_rewards[strat])\n",
    "        rewards_to_plot = rewards_to_plot.sort_index()\n",
    "        ax2.plot(rewards_to_plot.index, rewards_to_plot.dropna().cumsum(), lw=2)\n",
    "        ax2.legend(list(rewards_to_plot.columns), \n",
    "               loc='best', fancybox=True, framealpha=0.1, handlelength=0.1)\n",
    "        df_sim_results = pd.concat( (res_simulations[i][1].dropna().cumsum().iloc[-1]/ba_mean for i in res_simulations.keys()), axis=1).T\n",
    "        stats_sim = df_sim_results.describe().T\n",
    "        stats_sim['sharpe'] = stats_sim['mean'] / stats_sim['std']\n",
    "        \n",
    "        # Some printing\n",
    "        display(stats_sim.sort_values(by='mean', ascending=False).loc[:, ['count', 'mean', 'std', 'sharpe']])\n",
    "        for bandit_k in bandits.keys():\n",
    "            print( bandit_k, ':', round(10000 * stats_sim.loc[bandit_k, 'mean']/bandits_fin_info[bandit_k].execPrice.mean(), 2), \"bps\" )\n",
    "        ax3.plot(res_simulations[i_simul][1].dropna().index, q[1:], color='k', lw=2) #np.linspace(len(res_simulations[i_simul][1].dropna()), 0, len(res_simulations[i_simul][1].dropna()))\n",
    "        for ax in (ax1, ax2, ax3): ax.grid(axis='both'); ax.set_xticklabels(ax.get_xticklabels(), rotation=-45, ha='right')\n",
    "        plt.show()"
   ]
  },
  {
   "cell_type": "markdown",
   "id": "12d06130-6b72-4d6e-b9ce-1a0ca7191792",
   "metadata": {},
   "source": [
    "# Statistics: plots"
   ]
  },
  {
   "cell_type": "code",
   "execution_count": 15,
   "id": "aad642a0-a141-468f-9abe-045d878637ed",
   "metadata": {
    "tags": []
   },
   "outputs": [],
   "source": [
    "bandit_name  = 'MTGP_LR'\n",
    "\n",
    "all_noises           = {}\n",
    "all_lengthscales     = []\n",
    "\n",
    "for strat in strategies.keys():\n",
    "    all_noises[strat]       = []\n",
    "    \n",
    "for strat in strategies.keys(): #: #strategies.keys():\n",
    "    all_noises[strat]       += d_noises[bandit_name][strat]\n",
    "    all_lengthscales        += d_lengthscales[bandit_name][strat]\n",
    "\n",
    "all_lrs      = []\n",
    "all_taus     = []\n",
    "all_delta_II = []\n",
    "\n",
    "for strat in strategies.keys(): #: #strategies.keys():\n",
    "    all_lrs      += d_lrstats[bandit_name][strat]\n",
    "    all_taus     += d_taus[bandit_name][strat]\n",
    "    all_delta_II += [s for s in d_delta_IIs[bandit_name][strat]]"
   ]
  },
  {
   "cell_type": "code",
   "execution_count": 18,
   "id": "7ca13a20-7b0f-4587-8d77-b17ba78f4071",
   "metadata": {
    "tags": []
   },
   "outputs": [
    {
     "data": {
      "image/png": "[encoded data removed]",
      "text/plain": [
       "<Figure size 700x210 with 4 Axes>"
      ]
     },
     "metadata": {},
     "output_type": "display_data"
    }
   ],
   "source": [
    "import seaborn as sns\n",
    "\n",
    "rescale_plot(W = 7, \n",
    "             l = 10, \n",
    "             w = 3, \n",
    "             fontsize = 10)\n",
    "\n",
    "fig, axes = plt.subplots(1, 4, constrained_layout=True)\n",
    "\n",
    "qnt99   = np.quantile(all_lrs, 0.99) \n",
    "qnt02   = np.quantile(all_lrs, 0.01) \n",
    "all_lrs_ = [s for s in all_lrs if s < qnt99]\n",
    "all_lrs_ = [s for s in all_lrs_ if s > qnt02]\n",
    "\n",
    "qnt99   = np.quantile(all_taus, 0.99) \n",
    "qnt02   = np.quantile(all_taus, 0.01) \n",
    "all_taus_ = [s for s in all_taus if s < qnt99]\n",
    "all_taus_ = [s for s in all_taus_ if s > qnt02]\n",
    "\n",
    "sns.histplot(all_lrs_, \n",
    "             color = \"k\", \n",
    "             label = \"Compact\", \n",
    "             ax    = axes[0], lw=2, \n",
    "             line_kws = dict(color='k', lw=3),\n",
    "             kde   = False, stat='density') #, binwidth=1.\n",
    "sns.histplot(all_delta_II, \n",
    "             color = \"k\", \n",
    "             label = \"Compact\", \n",
    "             ax    = axes[1], lw=2, \n",
    "             line_kws = dict(color='k', lw=3),\n",
    "             kde   = False, stat='density')\n",
    "\n",
    "all_lengthscales = pd.Series(all_lengthscales)[pd.Series(all_lengthscales)<np.quantile(all_lengthscales, 0.75)]\n",
    "\n",
    "sns.histplot(all_lengthscales, \n",
    "             color = \"k\", \n",
    "             label = \"Compact\", \n",
    "             ax    = axes[2], lw=3, \n",
    "             line_kws = dict(color='k', lw=3),\n",
    "             kde   = False, stat='density', alpha=0.7)\n",
    "\n",
    "sns.histplot(pd.Series(d_correls[bandit_name]).rolling(10).mean(), \n",
    "             color = \"k\", \n",
    "             label = \"Compact\", \n",
    "             ax    = axes[3], lw=3, \n",
    "             line_kws = dict(color='k', lw=3),\n",
    "             kde   = False, stat='density', bins=10, alpha=0.7)\n",
    "\n",
    "\n",
    "axes[0].axvline(np.mean(all_taus_), color='blue', lw=3, alpha=0.7)\n",
    "axes[0].xaxis.set_major_formatter( mtick.StrMethodFormatter('${x:,.0f}$'))\n",
    "axes[0].legend([r'$\\mathcal{C}_\\text{I}$', '$\\mathcal{R}$'],  loc='upper right', \n",
    "               fancybox=True, framealpha=0.2, handlelength=0.4, ncol=1)\n",
    "\n",
    "\n",
    "axes[1].legend([r'$\\delta_\\text{II}$'],  loc='upper right', fancybox=True, framealpha=0.2, handlelength=0.4, ncol=2)\n",
    "axes[1].set_xticks(axes[1].get_xticks()[::2])\n",
    "axes[1].set_xlim(0, 1)\n",
    "\n",
    "axes[2].grid('both')\n",
    "axes[2].yaxis.tick_right()\n",
    "axes[2].yaxis.set_label_position(\"left\")\n",
    "axes[2].set_axisbelow(True)\n",
    "axes[2].legend([r'$l$'],  \n",
    "                  loc        = 'upper right', \n",
    "                  fancybox   = True, \n",
    "                  framealpha = 0.2, handlelength=0.4, ncol=2)\n",
    "\n",
    "axes[2].xaxis.set_major_formatter( mtick.StrMethodFormatter('${x:,.2f}$'))\n",
    "#ax.set_xticks(ax.get_xticks()[::1])\n",
    "#axes[2].set_xlim(-0.1, 10.)\n",
    "axes[3].set_xlim(-1, 1)\n",
    "axes[1].set_ylabel(''); axes[2].set_ylabel(''); axes[1].set_ylabel('')\n",
    "\n",
    "axes[3].legend(['Correlation'],  \n",
    "                  loc        = 'upper left', \n",
    "                  fancybox   = True, \n",
    "                  framealpha = 0.2, handlelength=0.4, ncol=2)\n",
    "\n",
    "for ax in axes:\n",
    "    ax.grid('both')\n",
    "    ax.yaxis.tick_right()\n",
    "    ax.yaxis.set_label_position(\"left\")\n",
    "    ax.set_axisbelow(True)\n",
    "\n",
    "plt.savefig(f'statistics_{asset_name}.pdf', bbox_inches='tight')\n",
    "plt.show()"
   ]
  },
  {
   "cell_type": "markdown",
   "id": "4c4a830b-e2fe-4c40-a17f-004b5a3c4ad7",
   "metadata": {},
   "source": [
    "# Statistics - print"
   ]
  },
  {
   "cell_type": "code",
   "execution_count": 20,
   "id": "77d53b97-13e4-40e3-b7b4-15d54083fedf",
   "metadata": {
    "tags": []
   },
   "outputs": [
    {
     "name": "stdout",
     "output_type": "stream",
     "text": [
      "**** % of actions ****\n"
     ]
    },
    {
     "data": {
      "text/plain": [
       "MTGP_LR    $51.88\\%$ -- $48.12\\%$\n",
       "GP_LR      $44.26\\%$ -- $55.74\\%$\n",
       "GP         $40.82\\%$ -- $59.18\\%$\n",
       "UCB        $53.95\\%$ -- $46.05\\%$\n",
       "GREEDY     $52.93\\%$ -- $47.07\\%$\n",
       "dtype: object"
      ]
     },
     "metadata": {},
     "output_type": "display_data"
    },
    {
     "name": "stdout",
     "output_type": "stream",
     "text": [
      "\n",
      "**** Correlation ****\n",
      "$ 50.31 \\%$ ($ 44.86 \\%$)\n",
      "\n",
      "**** % of change points ****\n",
      "$ 2.3 \\%$\n",
      "\n",
      "**** LR statistic - threshold ****\n",
      "$ 8.75 $ ($ 9.46 $) -- $ 36.73 $\n",
      "\n",
      "**** delta_II ****\n",
      "$ 46.38 \\%$  ($ 15.53 \\%$)\n",
      "\n",
      "**** lengthscale ****\n",
      "$ 0.36 $ ($ 0.42 $)\n"
     ]
    }
   ],
   "source": [
    "bandit_names = list(res_simulations[0][2].keys())\n",
    "printed_df   = pd.DataFrame(columns=bandit_names, index=list(res_simulations[0][2][bandit_names[0]].best_strat.unique()))\n",
    "\n",
    "for bandit_name_ in bandit_names:\n",
    "    best_strat_counts = res_simulations[0][2][bandit_name_][['best_strat']].value_counts()\n",
    "    for i_simul in range(1, len(res_simulations)):\n",
    "        best_strat_counts += res_simulations[i_simul][2][bandit_name_][['best_strat']].value_counts()\n",
    "    printed_df[bandit_name_] = (100*best_strat_counts/best_strat_counts.sum()).values\n",
    "\n",
    "print('**** % of actions ****')\n",
    "display(('$'+printed_df[['MTGP_LR', 'GP_LR', 'GP', 'UCB', 'GREEDY']].round(2).astype(str)+'\\%$').loc['imbalance_1', :] +\\\n",
    "        \" -- \" + ('$'+printed_df[['MTGP_LR', 'GP_LR', 'GP', 'UCB', 'GREEDY']].round(2).astype(str)+'\\%$').loc[list(strategies.keys())[1], :])\n",
    "\n",
    "all_lrs_temoin = []\n",
    "for bandit_name_ in bandits.keys():\n",
    "    if ('MTGP_' in bandit_name_):\n",
    "        for strat in strategies.keys(): #: #strategies.keys():\n",
    "            all_lrs_temoin  += d_lrstats[bandit_name_][strat]\n",
    "\n",
    "all_lrs_temoin_df = pd.DataFrame(all_lrs_temoin).sort_values(by=0)\n",
    "\n",
    "print('\\n**** Correlation ****')\n",
    "print( '$', np.round(100*np.mean(correl_series), 2),'\\%$ ($',  np.round(100*np.std(correl_series), 2),'\\%$)')\n",
    "\n",
    "print('\\n**** % of change points ****')\n",
    "print(\"$\",round(100-100*len(all_lrs_temoin_df[all_lrs_temoin_df < np.mean(all_taus)].dropna())/len(all_lrs_temoin_df), 2),\"\\%$\")\n",
    "\n",
    "print('\\n**** LR statistic - threshold ****')\n",
    "print( '$', np.round(np.median(all_lrs_), 2),'$ ($',  np.round(np.std(all_lrs_), 2),'$) -- $', np.round(np.median(all_taus_), 2),'$')\n",
    "\n",
    "print('\\n**** delta_II ****')\n",
    "print( '$', np.round(100*np.mean(all_delta_II), 2),'\\%$  ($',  np.round(100*np.std(all_delta_II), 2),'\\%$)')\n",
    "\n",
    "print('\\n**** lengthscale ****')\n",
    "print( '$', np.round(np.median(all_lengthscales), 2),'$ ($',  np.round(np.std(all_lengthscales), 2),'$)')"
   ]
  },
  {
   "cell_type": "code",
   "execution_count": null,
   "id": "b7c1d59a-8a7a-43a3-8095-5f1a4e4447e4",
   "metadata": {},
   "outputs": [],
   "source": []
  }
 ],
 "metadata": {
  "kernelspec": {
   "display_name": "Python 3 (ipykernel)",
   "language": "python",
   "name": "python3"
  },
  "language_info": {
   "codemirror_mode": {
    "name": "ipython",
    "version": 3
   },
   "file_extension": ".py",
   "mimetype": "text/x-python",
   "name": "python",
   "nbconvert_exporter": "python",
   "pygments_lexer": "ipython3",
   "version": "3.10.13"
  }
 },
 "nbformat": 4,
 "nbformat_minor": 5
}
