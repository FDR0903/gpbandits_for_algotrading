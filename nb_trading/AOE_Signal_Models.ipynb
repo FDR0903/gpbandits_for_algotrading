{
 "cells": [
  {
   "cell_type": "code",
   "execution_count": 30,
   "id": "11539250",
   "metadata": {},
   "outputs": [],
   "source": [
    "import numpy as np\n",
    "import matplotlib.pyplot as plt\n",
    "import pandas as pd\n",
    "from   IPython.display import display, HTML\n",
    "from collections import deque\n",
    "import random\n",
    "import os, pathlib, sys\n",
    "from IPython.display import clear_output"
   ]
  },
  {
   "cell_type": "code",
   "execution_count": 31,
   "id": "6378a4fa",
   "metadata": {},
   "outputs": [
    {
     "data": {
      "text/html": [
       "<style>.container { width:100% !important; }</style>"
      ],
      "text/plain": [
       "<IPython.core.display.HTML object>"
      ]
     },
     "metadata": {},
     "output_type": "display_data"
    }
   ],
   "source": [
    "pd.set_option('display.width', 1000)\n",
    "display(HTML(\"<style>.container { width:100% !important; }</style>\"))\n",
    "pd.set_option('mode.chained_assignment', None)"
   ]
  },
  {
   "cell_type": "code",
   "execution_count": 32,
   "id": "6bb08ed4-f314-4868-bd68-7603db8a2d46",
   "metadata": {},
   "outputs": [],
   "source": [
    "parent_module_path = os.path.abspath(os.path.join('..'))\n",
    "if parent_module_path not in sys.path:\n",
    "    sys.path.append(parent_module_path)"
   ]
  },
  {
   "cell_type": "code",
   "execution_count": 33,
   "id": "3e510bd2",
   "metadata": {},
   "outputs": [],
   "source": [
    "import matplotlib.ticker as mtick\n",
    "import matplotlib.dates as md\n",
    "import matplotlib.gridspec as gridspec\n",
    "from matplotlib.dates import DateFormatter\n",
    "\n",
    "tick    = mtick.StrMethodFormatter('\\${x:,.0f}')\n",
    "tick2    = mtick.StrMethodFormatter('\\${x:,.2f}')\n",
    "normal  = mtick.StrMethodFormatter('{x:,.0f}')\n",
    "normal2 = mtick.StrMethodFormatter('{x:,.2f}')"
   ]
  },
  {
   "cell_type": "code",
   "execution_count": 34,
   "id": "d84f471f-1057-4ebd-b1ec-97117fc83a46",
   "metadata": {},
   "outputs": [],
   "source": [
    "def rescale_plot(W=5, rectangle=False):\n",
    "    if rectangle:\n",
    "        plt.rcParams.update({\n",
    "            'figure.figsize': (W, W/(6/3)),     # 4:3 aspect ratio\n",
    "            'font.size' : 8,                   # Set font size to 11pt\n",
    "            'axes.labelsize': 8,               # -> axis labels\n",
    "            'legend.fontsize': 8,              # -> legends\n",
    "            'font.family': 'lmodern',\n",
    "            'text.usetex': True,\n",
    "            'text.latex.preamble': (            # LaTeX preamble\n",
    "                r'\\usepackage{lmodern}'\n",
    "                # ... more packages if needed\n",
    "            )\n",
    "        })\n",
    "    else:\n",
    "        plt.rcParams.update({\n",
    "            'figure.figsize': (W, W/(4/3)),     # 4:3 aspect ratio\n",
    "            'font.size' : 8,                   # Set font size to 11pt\n",
    "            'axes.labelsize': 8,               # -> axis labels\n",
    "            'legend.fontsize': 8,              # -> legends\n",
    "            'font.family': 'lmodern',\n",
    "            'text.usetex': True,\n",
    "            'text.latex.preamble': (            # LaTeX preamble\n",
    "                r'\\usepackage{lmodern}'\n",
    "                # ... more packages if needed\n",
    "            )\n",
    "        })"
   ]
  },
  {
   "cell_type": "code",
   "execution_count": 35,
   "id": "eae38811-4038-441a-9c22-d36f04481c56",
   "metadata": {},
   "outputs": [],
   "source": [
    "def plot_fwd_predictive_power(predictive_feature, ax1, ax2, \n",
    "                              ax3, fwd_cols_st, fwd_cols_lt, \n",
    "                              fwd_cols_vlt, LOB_features, tick_size, \n",
    "                              round_value, cut_nb = 1000, smoothing = 2):\n",
    "    for (ax, fwd_cols, titlen) in zip( (ax1, ax2, ax3), (fwd_cols_st, fwd_cols_lt, fwd_cols_vlt), ('st', 'lt', 'vlt')):\n",
    "        counts = (LOB_features[[predictive_feature] + fwd_cols].round(round_value).groupby(predictive_feature).count().iloc[1:-1])\n",
    "        avgs   = (LOB_features[[predictive_feature] + fwd_cols].round(round_value).groupby(predictive_feature).mean().iloc[1:-1]/tick_size)\n",
    "        avgs[counts<cut_nb]=np.nan\n",
    "        \n",
    "        for ((ii, _), clirs) in zip(enumerate(fwd_cols), ( 'k', 'tan','grey', 'darkblue') ):\n",
    "            ax.plot(avgs.iloc[:,0].rolling(smoothing).mean(), color=clirs)\n",
    "            \n",
    "        ax.legend([s.split('_')[-1]+' trades' for s in fwd_cols])\n",
    "        ax.yaxis.tick_right()\n",
    "        ax.yaxis.set_label_position(\"right\")\n",
    "        ax.grid(axis='both', color='gainsboro', linestyle='-', linewidth=0.5)\n",
    "        ax.set_axisbelow(True)\n",
    "        ax.set_title(f'{predictive_feature}: {titlen}')"
   ]
  },
  {
   "cell_type": "code",
   "execution_count": 36,
   "id": "9921d217-b46f-4e73-a4a8-77aed9e8bba2",
   "metadata": {},
   "outputs": [],
   "source": [
    "def add_fwd_cols(all_fwd_cols, _LOB_features):\n",
    "    for col in all_fwd_cols:\n",
    "        fwd_w = int(col.split('_')[-1])\n",
    "        _LOB_features[col] = _LOB_features['mid_price'].diff(int(fwd_w/10)).shift(-int(fwd_w/10))"
   ]
  },
  {
   "cell_type": "code",
   "execution_count": 37,
   "id": "4fa461dd-bbb0-4eb7-b8d0-a42dc2ed0d2e",
   "metadata": {},
   "outputs": [],
   "source": [
    "def fwd_predictive_power_curve(trade_date,\n",
    "                               predictive_feature, fwd_cols, \n",
    "                               LOB_features, tick_size, \n",
    "                               round_value, cut_nb = 1000, smoothing = 2):\n",
    "    features_fn   = f'{asset_name}_{trade_date}_LOB_features.pkl'\n",
    "    LOB_features  = pd.read_pickle(f'../data/Features/{features_fn}')    \n",
    "    add_fwd_cols(fwd_cols, LOB_features)\n",
    "    counts = (LOB_features[[predictive_feature] + fwd_cols].round(round_value).groupby(predictive_feature).count().iloc[1:-1])\n",
    "    avgs   = (LOB_features[[predictive_feature] + fwd_cols].round(round_value).groupby(predictive_feature).mean().iloc[1:-1]/tick_size)\n",
    "    stds   = (LOB_features[[predictive_feature] + fwd_cols].round(round_value).groupby(predictive_feature).std().iloc[1:-1]/tick_size)\n",
    "    \n",
    "    avgs[counts<cut_nb]=np.nan\n",
    "    stds[counts<cut_nb]=np.nan\n",
    "    \n",
    "    avgs = avgs.rolling(smoothing).mean()\n",
    "    stds = stds.rolling(smoothing).mean()\n",
    "    \n",
    "    return avgs, stds, counts"
   ]
  },
  {
   "cell_type": "code",
   "execution_count": 38,
   "id": "aa8e7c90-c49d-4e18-bcb6-6ae112d26629",
   "metadata": {},
   "outputs": [],
   "source": [
    "def ema(series, periods, fillna=False):\n",
    "    if fillna:\n",
    "        return series.ewm(span=periods, min_periods=0).mean()\n",
    "    return series.ewm(span=periods, min_periods=periods).mean()\n",
    "\n",
    "def macd_signal(close, n_fast=12, n_slow=26, n_sign=9, fillna=False):\n",
    "    emafast = ema(close, n_fast, fillna)\n",
    "    emaslow = ema(close, n_slow, fillna)\n",
    "    macd = emafast - emaslow\n",
    "    macd = (macd - ema(macd, n_sign, fillna))\n",
    "    macd = macd / close.shift(n_slow+n_sign)\n",
    "    \n",
    "    if fillna:\n",
    "        macd = macd.replace([np.inf, -np.inf], np.nan).fillna(0)\n",
    "        \n",
    "    return pd.Series(macd, name='MACD')"
   ]
  },
  {
   "cell_type": "code",
   "execution_count": 39,
   "id": "714b8dbe",
   "metadata": {},
   "outputs": [],
   "source": [
    "from AOE.utils import get_LOB_data, get_LOB_features, verbose_print #get_features"
   ]
  },
  {
   "cell_type": "code",
   "execution_count": 40,
   "id": "f3098779-0a65-497d-b989-64b53de71327",
   "metadata": {},
   "outputs": [],
   "source": [
    "fwd_cols_st, fwd_cols_lt, fwd_cols_vlt = [], [], []\n",
    "\n",
    "fwd_col_l_st  = (1,  10,  50, 100)\n",
    "fwd_col_l_lt  = (300, 500, 1000, 5000)\n",
    "fwd_col_l_vlt = (10000, 20000, 50000, 100000)\n",
    "\n",
    "for w in fwd_col_l_st:\n",
    "    fwd_cols_st += [f'fwd_price_move_{w}']\n",
    "for w in fwd_col_l_lt:\n",
    "    fwd_cols_lt += [f'fwd_price_move_{w}']\n",
    "for w in fwd_col_l_vlt:\n",
    "    fwd_cols_vlt += [f'fwd_price_move_{w}']\n",
    "\n",
    "all_fwd_cols = [f'fwd_price_move_{w}' for w in [1, 5, 10, 20, 50, 40, 60, 100, 300, 500, 1000, 5000, 10000, 20000, 50000, 100000]]"
   ]
  },
  {
   "cell_type": "code",
   "execution_count": 41,
   "id": "769432c8-3d74-49a3-b588-1e172641272e",
   "metadata": {},
   "outputs": [],
   "source": [
    "fwd_cols_st, fwd_cols_lt, fwd_cols_vlt = [], [], []\n",
    "\n",
    "fwd_col_l_st  = (50,)\n",
    "fwd_col_l_lt  = (70,)\n",
    "fwd_col_l_vlt = (1000,)\n",
    "\n",
    "for w in fwd_col_l_st:\n",
    "    fwd_cols_st += [f'fwd_price_move_{w}']\n",
    "for w in fwd_col_l_lt:\n",
    "    fwd_cols_lt += [f'fwd_price_move_{w}']\n",
    "for w in fwd_col_l_vlt:\n",
    "    fwd_cols_vlt += [f'fwd_price_move_{w}']\n",
    "\n",
    "all_fwd_cols = [f'fwd_price_move_{w}' for w in [50, 70, 1000]]"
   ]
  },
  {
   "cell_type": "markdown",
   "id": "39cea448-cc86-47de-a1db-feb53579a0c1",
   "metadata": {},
   "source": [
    "# Predictive power for specific times"
   ]
  },
  {
   "cell_type": "code",
   "execution_count": 42,
   "id": "48f27a92-c795-49c1-8965-903275cded52",
   "metadata": {},
   "outputs": [],
   "source": [
    "asset_name    = \"BIDU\"\n",
    "trade_date    = '2022-10-03'\n",
    "tick_size     = 0.01\n",
    "\n",
    "features_fn   = f'{asset_name}_{trade_date}_LOB_features.pkl'\n",
    "LOB_features  = pd.read_pickle(f'../data/Features/{features_fn}')\n",
    "add_fwd_cols(all_fwd_cols, LOB_features)"
   ]
  },
  {
   "cell_type": "code",
   "execution_count": 43,
   "id": "2427ca7e-2fdd-469d-8335-5d830dda5ea6",
   "metadata": {},
   "outputs": [
    {
     "data": {
      "image/png": "[encoded data removed]",
      "text/plain": [
       "<Figure size 180x135 with 4 Axes>"
      ]
     },
     "metadata": {
      "needs_background": "light"
     },
     "output_type": "display_data"
    }
   ],
   "source": [
    "rescale_plot(W=2.5, rectangle=False)\n",
    "\n",
    "fwd_mov_window = \"fwd_price_move_70\"\n",
    "signal_name    = \"macd_12_26_9\"\n",
    "\n",
    "fig, ((ax1, ax2),(ax3, ax4)) = plt.subplots(2, 2, sharex=True, sharey=True, constrained_layout=True)\n",
    "\n",
    "trade_date_3 = '2022-01-19'\n",
    "trade_date_3 = '2022-10-03'\n",
    "curve_3, stds_3, counts_3      = fwd_predictive_power_curve(trade_date_3, \n",
    "                                                             signal_name, \n",
    "                                                             [fwd_mov_window],  \n",
    "                                                             LOB_features, tick_size, 2, 10, 10)\n",
    "ax1.plot(curve_3.index, curve_3.values, color='k', linewidth=3)\n",
    "# ax1.fill_between(curve_3.index, (curve_3-stds_3).iloc[:,0].values\n",
    "#                  , (curve_3+stds_3).iloc[:,0].values, color='gray', linewidth=3)\n",
    "\n",
    "trade_date_4 = '2022-01-26' #\n",
    "trade_date_4 = '2022-10-04' #\n",
    "curve_4, stds_4, counts_4       = fwd_predictive_power_curve(trade_date_4, \n",
    "                                         signal_name, \n",
    "                                         [fwd_mov_window],  \n",
    "                                         LOB_features, tick_size, 2, 10, 15)\n",
    "ax2.plot(curve_4.index, curve_4.values, color='k', linewidth=3)\n",
    "# ax2.fill_between(curve_4.index, (curve_4-stds_4).iloc[:,0].values\n",
    "#                  , (curve_4+stds_4).iloc[:,0].values, color='gray', linewidth=3)\n",
    "\n",
    "trade_date_1 = '2022-05-09' #'2022-06-29' #2022-05-09\n",
    "trade_date_1 = '2022-10-05' #'2022-06-29' #2022-05-09\n",
    "curve_1, stds_1, counts_1      = fwd_predictive_power_curve(trade_date_1, \n",
    "                                         signal_name, \n",
    "                                         [fwd_mov_window],  \n",
    "                                         LOB_features, tick_size, 2, 10, 10)\n",
    "ax3.plot(curve_1.index, curve_1.values, color='k', linewidth=3)\n",
    "# ax3.fill_between(curve_1.index, (curve_1-stds_1).iloc[:,0].values\n",
    "#                  , (curve_1+stds_1).iloc[:,0].values, color='gray', linewidth=3)\n",
    "\n",
    "trade_date_2 = '2022-06-10' #2021-07-02  2021-09-07\n",
    "trade_date_2 = '2022-10-06' #2021-07-02  2021-09-07\n",
    "curve_2, stds_2, counts_2      = fwd_predictive_power_curve(trade_date_2, \n",
    "                                         signal_name, \n",
    "                                         [fwd_mov_window],  \n",
    "                                         LOB_features, tick_size, 2, 10, 10)\n",
    "ax4.plot(curve_2.index, curve_2.values, color='k', linewidth=3)\n",
    "# ax4.fill_between(curve_2.index, (curve_2-stds_2).iloc[:,0].values\n",
    "#                  , (curve_2+stds_2).iloc[:,0].values, color='gray', linewidth=3)\n",
    "\n",
    "# ax1.set_title('19/01/2022')\n",
    "# ax2.set_title('26/01/2022')\n",
    "# ax3.set_title('09/05/2022')\n",
    "# ax4.set_title('10/06/2022')\n",
    "\n",
    "ax1.legend([trade_date_3.split('-')[2]+'/'+\n",
    "            trade_date_3.split('-')[1]+'/'+\n",
    "            trade_date_3.split('-')[0]], handlelength=0., framealpha=0.2, loc='best')\n",
    "ax2.legend([trade_date_4.split('-')[2]+'/'+\n",
    "            trade_date_4.split('-')[1]+'/'+\n",
    "            trade_date_4.split('-')[0]], handlelength=0., framealpha=0.2, loc='best')\n",
    "ax3.legend([trade_date_1.split('-')[2]+'/'+\n",
    "            trade_date_1.split('-')[1]+'/'+\n",
    "            trade_date_1.split('-')[0]], handlelength=0., framealpha=0.2, loc='best')\n",
    "ax4.legend([trade_date_2.split('-')[2]+'/'+\n",
    "            trade_date_2.split('-')[1]+'/'+\n",
    "            trade_date_2.split('-')[0]], handlelength=0., framealpha=0.2, loc='best')\n",
    "\n",
    "ax1.set_xlim( -1., 1.)\n",
    "ax1.set_ylim( -0.15, 0.15)\n",
    "\n",
    "for aax in (ax1, ax2, ax3, ax4):\n",
    "    # x.xaxis.set_major_formatter(percc0)\n",
    "    # aax.yaxis.tick_right()\n",
    "    aax.yaxis.set_label_position(\"left\")\n",
    "    aax.grid(axis='both',  linestyle='-', linewidth=0.5)\n",
    "    aax.set_axisbelow(True)\n",
    "\n",
    "# ax2.set_xlim( -1, 1)\n",
    "# ax2.set_ylim( -0.5, 0.5)\n",
    "\n",
    "# ax1.xaxis.set_major_formatter(percc3)\n",
    "ax1.tick_params(\"y\", left=False, labelleft=False)\n",
    "ax2.tick_params(\"y\", right=True, labelright=True)\n",
    "\n",
    "ax3.tick_params(\"y\", left=False, labelleft=False)\n",
    "ax4.tick_params(\"y\", right=True, labelright=True)\n",
    "\n",
    "ax1.set_ylabel('Ticks')\n",
    "ax3.set_ylabel('Ticks')\n",
    "ax3.set_xlabel('MACD')\n",
    "ax4.set_xlabel('MACD')\n",
    "\n",
    "plt.savefig(f'plots/AOE1_{asset_name}.pdf', bbox_inches='tight')\n",
    "plt.show()"
   ]
  },
  {
   "cell_type": "code",
   "execution_count": 17,
   "id": "3ec48b08-1443-4ca4-b984-e3756560c294",
   "metadata": {},
   "outputs": [],
   "source": [
    "# 2021-10-18 (2022-06-29) U shaped\n",
    "# 2021-08-18, 2021-12-09,  2022-03-21 only extreme values (good quality)\n",
    "# 2021-12-20 trend following (1000)\n",
    "# 2022-03-17 trend following good quality \n",
    "# 2022-06-06 only large positive values\n",
    "# 2021-08-23 with 500, trend following\n",
    "# 2022-06-13 only large negative\n",
    "# 2022-01-26 mean reversion with 10\n",
    "# 2021-08-20 mean reversion good quality\n",
    "\n",
    "#   2022-06-14  2022-04-01  (trend following)"
   ]
  },
  {
   "cell_type": "code",
   "execution_count": 18,
   "id": "3121542c-f172-4ce8-80c0-40cde878ede1",
   "metadata": {},
   "outputs": [],
   "source": [
    "# LOB_features.loc[i0:i0+1800]\n",
    "# LOB_features['macd'] = macd_signal(LOB_features['mid_price'], n_fast=120, n_slow=260, n_sign=90, fillna=True)*1e5"
   ]
  },
  {
   "cell_type": "code",
   "execution_count": 47,
   "id": "f85a1c3b-402b-4c35-ac8d-206a22ede093",
   "metadata": {},
   "outputs": [],
   "source": [
    "path        = \"../data/Features\"\n",
    "dir_list    = os.listdir(path)\n",
    "dic_results = {}"
   ]
  },
  {
   "cell_type": "code",
   "execution_count": null,
   "id": "9f348481-45da-43da-a84f-a2a7a16172c1",
   "metadata": {},
   "outputs": [],
   "source": []
  },
  {
   "cell_type": "code",
   "execution_count": 61,
   "id": "9fa0d749-0a43-40b9-9960-d0dd9af02eb6",
   "metadata": {},
   "outputs": [],
   "source": [
    "hitratios_hist = {}\n",
    "for filename in dir_list:\n",
    "    if (('LOB_features' in filename) & (asset_name in filename)):\n",
    "        trade_date    = filename.split('_')[1]\n",
    "        #print(trade_date)\n",
    "        # trade_date    = '2022-01-19'\n",
    "        LOB_features  = pd.read_pickle(f'../data/Features/{filename}')\n",
    "        add_fwd_cols(all_fwd_cols, LOB_features)\n",
    "\n",
    "        y  = LOB_features.mid_price.diff(70).shift(-70).apply(np.sign).round()\n",
    "        x1 = LOB_features.macd_12_26_9.apply(np.sign).round()\n",
    "        x2 = LOB_features.imbalance_1.apply(np.sign).round()\n",
    "\n",
    "        y[y==-1]   = 0\n",
    "        x1[x1==-1] = 0\n",
    "        x2[x2==-1] = 0\n",
    "\n",
    "        x1[x1==-0.0] = 0\n",
    "        x2[x2==-0.0] = 0\n",
    "\n",
    "        hitratio1 = pd.concat((x1, y), axis=1).dropna()\n",
    "        hitratio1.columns = ['x', 'y']\n",
    "        hitratio1['hitratio'] = (hitratio1.x == hitratio1.y)\n",
    "\n",
    "        hitratio2 = pd.concat((x2, y), axis=1).dropna()\n",
    "        hitratio2.columns = ['x', 'y']\n",
    "        hitratio2['hitratio'] = (hitratio2.x == hitratio2.y)\n",
    "\n",
    "        hitratios = pd.concat((hitratio1.hitratio,hitratio2.hitratio), axis=1)\n",
    "        hitratios.columns = ['MACD', 'Imbalance']\n",
    "        \n",
    "        hitratios_hist[trade_date] = hitratios.mean().values\n",
    "        # print(trade_date)\n",
    "        # print(hitratios.mean())\n",
    "        # print('\\n')"
   ]
  },
  {
   "cell_type": "code",
   "execution_count": 60,
   "id": "4e225341-63d4-4ca5-9d21-0e950074218b",
   "metadata": {},
   "outputs": [
    {
     "data": {
      "text/html": [
       "<div>\n",
       "<style scoped>\n",
       "    .dataframe tbody tr th:only-of-type {\n",
       "        vertical-align: middle;\n",
       "    }\n",
       "\n",
       "    .dataframe tbody tr th {\n",
       "        vertical-align: top;\n",
       "    }\n",
       "\n",
       "    .dataframe thead th {\n",
       "        text-align: right;\n",
       "    }\n",
       "</style>\n",
       "<table border=\"1\" class=\"dataframe\">\n",
       "  <thead>\n",
       "    <tr style=\"text-align: right;\">\n",
       "      <th></th>\n",
       "      <th>0</th>\n",
       "      <th>1</th>\n",
       "    </tr>\n",
       "  </thead>\n",
       "  <tbody>\n",
       "    <tr>\n",
       "      <th>2022-10-24</th>\n",
       "      <td>0.497314</td>\n",
       "      <td>0.513117</td>\n",
       "    </tr>\n",
       "    <tr>\n",
       "      <th>2022-10-17</th>\n",
       "      <td>0.499112</td>\n",
       "      <td>0.534333</td>\n",
       "    </tr>\n",
       "    <tr>\n",
       "      <th>2022-10-26</th>\n",
       "      <td>0.501546</td>\n",
       "      <td>0.520868</td>\n",
       "    </tr>\n",
       "    <tr>\n",
       "      <th>2022-12-22</th>\n",
       "      <td>0.503180</td>\n",
       "      <td>0.534620</td>\n",
       "    </tr>\n",
       "    <tr>\n",
       "      <th>2022-12-19</th>\n",
       "      <td>0.503439</td>\n",
       "      <td>0.542149</td>\n",
       "    </tr>\n",
       "  </tbody>\n",
       "</table>\n",
       "</div>"
      ],
      "text/plain": [
       "                   0         1\n",
       "2022-10-24  0.497314  0.513117\n",
       "2022-10-17  0.499112  0.534333\n",
       "2022-10-26  0.501546  0.520868\n",
       "2022-12-22  0.503180  0.534620\n",
       "2022-12-19  0.503439  0.542149"
      ]
     },
     "execution_count": 60,
     "metadata": {},
     "output_type": "execute_result"
    }
   ],
   "source": [
    "pd.DataFrame.from_dict(hitratios_hist).T.sort_values(by=0).tail()"
   ]
  },
  {
   "cell_type": "code",
   "execution_count": 64,
   "id": "1f5a25fd-f14d-4098-94a9-0124b0883406",
   "metadata": {},
   "outputs": [
    {
     "data": {
      "text/plain": [
       "array([0.51899076, 0.48061626, 0.53196375])"
      ]
     },
     "execution_count": 64,
     "metadata": {},
     "output_type": "execute_result"
    }
   ],
   "source": [
    "LOB_features  = pd.read_pickle(f'../data/Features/{features_fn}')\n",
    "add_fwd_cols(all_fwd_cols, LOB_features)\n",
    "\n",
    "y  = LOB_features.mid_price.diff(70).shift(-70).apply(np.sign).round()\n",
    "x1 = -LOB_features.macd_12_26_9.apply(np.sign).round()\n",
    "x2 = LOB_features.macd_12_26_9.apply(np.sign).round()\n",
    "x3 = LOB_features.imbalance_1.apply(np.sign).round()\n",
    "\n",
    "# x2 = LOB_features.imbalance_1.apply(np.sign).round()\n",
    "todrop = y[y==0].index\n",
    "\n",
    "y.drop(todrop)\n",
    "x1.drop(todrop)\n",
    "x1.drop(todrop)\n",
    "\n",
    "y[y==1]   = 0\n",
    "x1[x1==1] = 0\n",
    "x2[x2==1] = 0\n",
    "x3[x3==1] = 0\n",
    "\n",
    "x1[x1==-0.0] = 0\n",
    "x2[x2==-0.0] = 0\n",
    "x3[x3==-0.0] = 0\n",
    "\n",
    "hitratio1 = pd.concat((x1, y), axis=1)\n",
    "hitratio1.columns = ['x', 'y']\n",
    "hitratio1['hitratio'] = (hitratio1.x == hitratio1.y)\n",
    "\n",
    "hitratio2 = pd.concat((x2, y), axis=1)\n",
    "hitratio2.columns = ['x', 'y']\n",
    "hitratio2['hitratio'] = (hitratio2.x == hitratio2.y)\n",
    "\n",
    "hitratio3 = pd.concat((x3, y), axis=1)\n",
    "hitratio3.columns = ['x', 'y']\n",
    "hitratio3['hitratio'] = (hitratio3.x == hitratio3.y)\n",
    "\n",
    "hitratios = pd.concat((hitratio1.hitratio,\n",
    "                       hitratio2.hitratio,\n",
    "                       hitratio3.hitratio), axis=1)\n",
    "hitratios.columns = ['MACD MR', 'MACD TF', 'Imbalance']\n",
    "hitratios.index = LOB_features.timestamp\n",
    "\n",
    "hitratios.mean().values"
   ]
  },
  {
   "cell_type": "code",
   "execution_count": 66,
   "id": "98cc517e-586b-47e2-80fe-97ddace25e2f",
   "metadata": {},
   "outputs": [
    {
     "data": {
      "image/png": "[encoded data removed]",
      "text/plain": [
       "<Figure size 201.6x151.2 with 2 Axes>"
      ]
     },
     "metadata": {
      "needs_background": "light"
     },
     "output_type": "display_data"
    }
   ],
   "source": [
    "rolling_w = 70*60*2\n",
    "\n",
    "range_ = '5min'\n",
    "\n",
    "rescale_plot(W=2.8, rectangle=False)\n",
    "\n",
    "fig, (ax, ax1)= plt.subplots(2, 1, sharex=True,  constrained_layout=True)\n",
    "\n",
    "hit_ratios_to_plot = hitratios.rolling('1min').mean().iloc[1000:].first(range_)\n",
    "\n",
    "ax.plot(hit_ratios_to_plot.index, \n",
    "         hit_ratios_to_plot.iloc[:, 0],\n",
    "        color='k', linewidth=2)\n",
    "\n",
    "ax.plot(hit_ratios_to_plot.index, \n",
    "         hit_ratios_to_plot.iloc[:, 1], \n",
    "       color = 'gray', linewidth=2)\n",
    "\n",
    "ax.plot(hit_ratios_to_plot.index, \n",
    "         hit_ratios_to_plot.iloc[:, 2], \n",
    "        color = 'tan', linewidth=2)\n",
    "\n",
    "ax1.plot(LOB_features.set_index('timestamp').first(range_).index,\n",
    "         LOB_features.set_index('timestamp').first(range_).mid_price,\n",
    "         color='k', linewidth=3)\n",
    "ax.legend(['MR', 'TF', 'Imbalance'], \n",
    "          handlelength=0.2, framealpha=0.2, loc='best', ncol=3)\n",
    "\n",
    "myFmt = DateFormatter(\"%H:%M\")\n",
    "\n",
    "ax.xaxis.set_major_formatter(myFmt)\n",
    "\n",
    "for x in (ax,ax1):\n",
    "    x.yaxis.tick_right()\n",
    "    x.yaxis.set_label_position(\"left\")\n",
    "    x.grid(axis='both',  linestyle='-', linewidth=0.5)\n",
    "    x.set_axisbelow(True)\n",
    "\n",
    "# ax1.xaxis.set_major_formatter(percc3)\n",
    "\n",
    "# ax.set_xlabel('Ticks')\n",
    "ax.set_ylabel('Accuracy')\n",
    "ax1.set_ylabel('Price')\n",
    "\n",
    "ax1.tick_params(axis='x', rotation=90)\n",
    "\n",
    "plt.savefig(f'plots/AOE3_{asset_name}.pdf', bbox_inches='tight')\n",
    "plt.show()"
   ]
  },
  {
   "cell_type": "code",
   "execution_count": null,
   "id": "02d1463c-e0a2-4e5a-a76b-feab8b933e53",
   "metadata": {},
   "outputs": [],
   "source": []
  },
  {
   "cell_type": "code",
   "execution_count": null,
   "id": "4e823e7f-aa8f-459d-854a-b58e0627c154",
   "metadata": {},
   "outputs": [],
   "source": []
  },
  {
   "cell_type": "code",
   "execution_count": 361,
   "id": "018a4f47-b230-4fae-8d74-3ccde63a821d",
   "metadata": {},
   "outputs": [],
   "source": [
    "trade_date    = '2022-06-10'\n",
    "LOB_features  = pd.read_pickle(f'../data/Features2/LOB_features_{trade_date}.pkl')\n",
    "add_fwd_cols(all_fwd_cols, LOB_features)"
   ]
  },
  {
   "cell_type": "code",
   "execution_count": 68,
   "id": "1b91fdc5-3418-4d9f-b011-0d514d282d76",
   "metadata": {},
   "outputs": [
    {
     "name": "stdout",
     "output_type": "stream",
     "text": [
      "2022-10-03 12:18:00.152651\n",
      "2022-10-03 12:23:58.486375\n"
     ]
    },
    {
     "ename": "KeyboardInterrupt",
     "evalue": "",
     "output_type": "error",
     "traceback": [
      "\u001b[0;31m---------------------------------------------------------------------------\u001b[0m",
      "\u001b[0;31mKeyboardInterrupt\u001b[0m                         Traceback (most recent call last)",
      "Input \u001b[0;32mIn [68]\u001b[0m, in \u001b[0;36m<cell line: 5>\u001b[0;34m()\u001b[0m\n\u001b[1;32m     22\u001b[0m \u001b[38;5;28mprint\u001b[39m(LOB_features\u001b[38;5;241m.\u001b[39mloc[from_i:to_i]\u001b[38;5;241m.\u001b[39miloc[\u001b[38;5;241m0\u001b[39m]\u001b[38;5;241m.\u001b[39mtimestamp)\n\u001b[1;32m     23\u001b[0m \u001b[38;5;28mprint\u001b[39m(LOB_features\u001b[38;5;241m.\u001b[39mloc[from_i:to_i]\u001b[38;5;241m.\u001b[39miloc[\u001b[38;5;241m-\u001b[39m\u001b[38;5;241m1\u001b[39m]\u001b[38;5;241m.\u001b[39mtimestamp)\n\u001b[1;32m     25\u001b[0m plot_fwd_predictive_power(\u001b[38;5;124m'\u001b[39m\u001b[38;5;124mmacd_12_26_9\u001b[39m\u001b[38;5;124m'\u001b[39m,\n\u001b[1;32m     26\u001b[0m                           ax0, \n\u001b[0;32m---> 27\u001b[0m                           \u001b[43mfig\u001b[49m\u001b[38;5;241;43m.\u001b[39;49m\u001b[43madd_subplot\u001b[49m\u001b[43m(\u001b[49m\u001b[43mgs\u001b[49m\u001b[43m[\u001b[49m\u001b[38;5;241;43m1\u001b[39;49m\u001b[43m,\u001b[49m\u001b[43m \u001b[49m\u001b[38;5;241;43m0\u001b[39;49m\u001b[43m]\u001b[49m\u001b[43m)\u001b[49m, \n\u001b[1;32m     28\u001b[0m                           fig\u001b[38;5;241m.\u001b[39madd_subplot(gs[\u001b[38;5;241m2\u001b[39m, \u001b[38;5;241m0\u001b[39m]), \n\u001b[1;32m     29\u001b[0m                           fwd_cols_st, fwd_cols_lt, fwd_cols_vlt, \n\u001b[1;32m     30\u001b[0m                           LOB_features\u001b[38;5;241m.\u001b[39mloc[from_i:to_i], tick_size, \u001b[38;5;241m2\u001b[39m, \u001b[38;5;241m10\u001b[39m, \u001b[38;5;241m10\u001b[39m)\n\u001b[1;32m     32\u001b[0m plot_fwd_predictive_power(\u001b[38;5;124m'\u001b[39m\u001b[38;5;124mimbalance_1\u001b[39m\u001b[38;5;124m'\u001b[39m, \n\u001b[1;32m     33\u001b[0m                           ax1, \n\u001b[1;32m     34\u001b[0m                           fig\u001b[38;5;241m.\u001b[39madd_subplot(gs[\u001b[38;5;241m1\u001b[39m, \u001b[38;5;241m1\u001b[39m]), \n\u001b[1;32m     35\u001b[0m                           fig\u001b[38;5;241m.\u001b[39madd_subplot(gs[\u001b[38;5;241m2\u001b[39m, \u001b[38;5;241m1\u001b[39m]), \n\u001b[1;32m     36\u001b[0m                           fwd_cols_st, fwd_cols_lt, fwd_cols_vlt, \n\u001b[1;32m     37\u001b[0m                           LOB_features\u001b[38;5;241m.\u001b[39mloc[from_i:to_i], tick_size, \u001b[38;5;241m2\u001b[39m, \u001b[38;5;241m0\u001b[39m, \u001b[38;5;241m10\u001b[39m)\n\u001b[1;32m     39\u001b[0m \u001b[38;5;66;03m# ax1.set_ylabel('Average forward price move in number of ticks')\u001b[39;00m\n",
      "File \u001b[0;32m~/opt/anaconda3/lib/python3.9/site-packages/matplotlib/figure.py:772\u001b[0m, in \u001b[0;36mFigureBase.add_subplot\u001b[0;34m(self, *args, **kwargs)\u001b[0m\n\u001b[1;32m    769\u001b[0m         args \u001b[38;5;241m=\u001b[39m \u001b[38;5;28mtuple\u001b[39m(\u001b[38;5;28mmap\u001b[39m(\u001b[38;5;28mint\u001b[39m, \u001b[38;5;28mstr\u001b[39m(args[\u001b[38;5;241m0\u001b[39m])))\n\u001b[1;32m    770\u001b[0m     projection_class, pkw \u001b[38;5;241m=\u001b[39m \u001b[38;5;28mself\u001b[39m\u001b[38;5;241m.\u001b[39m_process_projection_requirements(\n\u001b[1;32m    771\u001b[0m         \u001b[38;5;241m*\u001b[39margs, \u001b[38;5;241m*\u001b[39m\u001b[38;5;241m*\u001b[39mkwargs)\n\u001b[0;32m--> 772\u001b[0m     ax \u001b[38;5;241m=\u001b[39m \u001b[43msubplot_class_factory\u001b[49m\u001b[43m(\u001b[49m\u001b[43mprojection_class\u001b[49m\u001b[43m)\u001b[49m\u001b[43m(\u001b[49m\u001b[38;5;28;43mself\u001b[39;49m\u001b[43m,\u001b[49m\u001b[43m \u001b[49m\u001b[38;5;241;43m*\u001b[39;49m\u001b[43margs\u001b[49m\u001b[43m,\u001b[49m\u001b[43m \u001b[49m\u001b[38;5;241;43m*\u001b[39;49m\u001b[38;5;241;43m*\u001b[39;49m\u001b[43mpkw\u001b[49m\u001b[43m)\u001b[49m\n\u001b[1;32m    773\u001b[0m     key \u001b[38;5;241m=\u001b[39m (projection_class, pkw)\n\u001b[1;32m    774\u001b[0m \u001b[38;5;28;01mreturn\u001b[39;00m \u001b[38;5;28mself\u001b[39m\u001b[38;5;241m.\u001b[39m_add_axes_internal(ax, key)\n",
      "File \u001b[0;32m~/opt/anaconda3/lib/python3.9/site-packages/matplotlib/axes/_subplots.py:34\u001b[0m, in \u001b[0;36mSubplotBase.__init__\u001b[0;34m(self, fig, *args, **kwargs)\u001b[0m\n\u001b[1;32m     15\u001b[0m \u001b[38;5;124;03m\"\"\"\u001b[39;00m\n\u001b[1;32m     16\u001b[0m \u001b[38;5;124;03mParameters\u001b[39;00m\n\u001b[1;32m     17\u001b[0m \u001b[38;5;124;03m----------\u001b[39;00m\n\u001b[0;32m   (...)\u001b[0m\n\u001b[1;32m     31\u001b[0m \u001b[38;5;124;03m    Keyword arguments are passed to the Axes (sub)class constructor.\u001b[39;00m\n\u001b[1;32m     32\u001b[0m \u001b[38;5;124;03m\"\"\"\u001b[39;00m\n\u001b[1;32m     33\u001b[0m \u001b[38;5;66;03m# _axes_class is set in the subplot_class_factory\u001b[39;00m\n\u001b[0;32m---> 34\u001b[0m \u001b[38;5;28;43mself\u001b[39;49m\u001b[38;5;241;43m.\u001b[39;49m\u001b[43m_axes_class\u001b[49m\u001b[38;5;241;43m.\u001b[39;49m\u001b[38;5;21;43m__init__\u001b[39;49m\u001b[43m(\u001b[49m\u001b[38;5;28;43mself\u001b[39;49m\u001b[43m,\u001b[49m\u001b[43m \u001b[49m\u001b[43mfig\u001b[49m\u001b[43m,\u001b[49m\u001b[43m \u001b[49m\u001b[43m[\u001b[49m\u001b[38;5;241;43m0\u001b[39;49m\u001b[43m,\u001b[49m\u001b[43m \u001b[49m\u001b[38;5;241;43m0\u001b[39;49m\u001b[43m,\u001b[49m\u001b[43m \u001b[49m\u001b[38;5;241;43m1\u001b[39;49m\u001b[43m,\u001b[49m\u001b[43m \u001b[49m\u001b[38;5;241;43m1\u001b[39;49m\u001b[43m]\u001b[49m\u001b[43m,\u001b[49m\u001b[43m \u001b[49m\u001b[38;5;241;43m*\u001b[39;49m\u001b[38;5;241;43m*\u001b[39;49m\u001b[43mkwargs\u001b[49m\u001b[43m)\u001b[49m\n\u001b[1;32m     35\u001b[0m \u001b[38;5;66;03m# This will also update the axes position.\u001b[39;00m\n\u001b[1;32m     36\u001b[0m \u001b[38;5;28mself\u001b[39m\u001b[38;5;241m.\u001b[39mset_subplotspec(SubplotSpec\u001b[38;5;241m.\u001b[39m_from_subplot_args(fig, args))\n",
      "File \u001b[0;32m~/opt/anaconda3/lib/python3.9/site-packages/matplotlib/_api/deprecation.py:456\u001b[0m, in \u001b[0;36mmake_keyword_only.<locals>.wrapper\u001b[0;34m(*args, **kwargs)\u001b[0m\n\u001b[1;32m    450\u001b[0m \u001b[38;5;28;01mif\u001b[39;00m \u001b[38;5;28mlen\u001b[39m(args) \u001b[38;5;241m>\u001b[39m name_idx:\n\u001b[1;32m    451\u001b[0m     warn_deprecated(\n\u001b[1;32m    452\u001b[0m         since, message\u001b[38;5;241m=\u001b[39m\u001b[38;5;124m\"\u001b[39m\u001b[38;5;124mPassing the \u001b[39m\u001b[38;5;132;01m%(name)s\u001b[39;00m\u001b[38;5;124m \u001b[39m\u001b[38;5;132;01m%(obj_type)s\u001b[39;00m\u001b[38;5;124m \u001b[39m\u001b[38;5;124m\"\u001b[39m\n\u001b[1;32m    453\u001b[0m         \u001b[38;5;124m\"\u001b[39m\u001b[38;5;124mpositionally is deprecated since Matplotlib \u001b[39m\u001b[38;5;132;01m%(since)s\u001b[39;00m\u001b[38;5;124m; the \u001b[39m\u001b[38;5;124m\"\u001b[39m\n\u001b[1;32m    454\u001b[0m         \u001b[38;5;124m\"\u001b[39m\u001b[38;5;124mparameter will become keyword-only \u001b[39m\u001b[38;5;132;01m%(removal)s\u001b[39;00m\u001b[38;5;124m.\u001b[39m\u001b[38;5;124m\"\u001b[39m,\n\u001b[1;32m    455\u001b[0m         name\u001b[38;5;241m=\u001b[39mname, obj_type\u001b[38;5;241m=\u001b[39m\u001b[38;5;124mf\u001b[39m\u001b[38;5;124m\"\u001b[39m\u001b[38;5;124mparameter of \u001b[39m\u001b[38;5;132;01m{\u001b[39;00mfunc\u001b[38;5;241m.\u001b[39m\u001b[38;5;18m__name__\u001b[39m\u001b[38;5;132;01m}\u001b[39;00m\u001b[38;5;124m()\u001b[39m\u001b[38;5;124m\"\u001b[39m)\n\u001b[0;32m--> 456\u001b[0m \u001b[38;5;28;01mreturn\u001b[39;00m \u001b[43mfunc\u001b[49m\u001b[43m(\u001b[49m\u001b[38;5;241;43m*\u001b[39;49m\u001b[43margs\u001b[49m\u001b[43m,\u001b[49m\u001b[43m \u001b[49m\u001b[38;5;241;43m*\u001b[39;49m\u001b[38;5;241;43m*\u001b[39;49m\u001b[43mkwargs\u001b[49m\u001b[43m)\u001b[49m\n",
      "File \u001b[0;32m~/opt/anaconda3/lib/python3.9/site-packages/matplotlib/axes/_base.py:624\u001b[0m, in \u001b[0;36m_AxesBase.__init__\u001b[0;34m(self, fig, rect, facecolor, frameon, sharex, sharey, label, xscale, yscale, box_aspect, **kwargs)\u001b[0m\n\u001b[1;32m    621\u001b[0m \u001b[38;5;28mself\u001b[39m\u001b[38;5;241m.\u001b[39mspines \u001b[38;5;241m=\u001b[39m mspines\u001b[38;5;241m.\u001b[39mSpines\u001b[38;5;241m.\u001b[39mfrom_dict(\u001b[38;5;28mself\u001b[39m\u001b[38;5;241m.\u001b[39m_gen_axes_spines())\n\u001b[1;32m    623\u001b[0m \u001b[38;5;66;03m# this call may differ for non-sep axes, e.g., polar\u001b[39;00m\n\u001b[0;32m--> 624\u001b[0m \u001b[38;5;28;43mself\u001b[39;49m\u001b[38;5;241;43m.\u001b[39;49m\u001b[43m_init_axis\u001b[49m\u001b[43m(\u001b[49m\u001b[43m)\u001b[49m\n\u001b[1;32m    625\u001b[0m \u001b[38;5;28;01mif\u001b[39;00m facecolor \u001b[38;5;129;01mis\u001b[39;00m \u001b[38;5;28;01mNone\u001b[39;00m:\n\u001b[1;32m    626\u001b[0m     facecolor \u001b[38;5;241m=\u001b[39m mpl\u001b[38;5;241m.\u001b[39mrcParams[\u001b[38;5;124m'\u001b[39m\u001b[38;5;124maxes.facecolor\u001b[39m\u001b[38;5;124m'\u001b[39m]\n",
      "File \u001b[0;32m~/opt/anaconda3/lib/python3.9/site-packages/matplotlib/axes/_base.py:746\u001b[0m, in \u001b[0;36m_AxesBase._init_axis\u001b[0;34m(self)\u001b[0m\n\u001b[1;32m    744\u001b[0m \u001b[38;5;28mself\u001b[39m\u001b[38;5;241m.\u001b[39mspines\u001b[38;5;241m.\u001b[39mbottom\u001b[38;5;241m.\u001b[39mregister_axis(\u001b[38;5;28mself\u001b[39m\u001b[38;5;241m.\u001b[39mxaxis)\n\u001b[1;32m    745\u001b[0m \u001b[38;5;28mself\u001b[39m\u001b[38;5;241m.\u001b[39mspines\u001b[38;5;241m.\u001b[39mtop\u001b[38;5;241m.\u001b[39mregister_axis(\u001b[38;5;28mself\u001b[39m\u001b[38;5;241m.\u001b[39mxaxis)\n\u001b[0;32m--> 746\u001b[0m \u001b[38;5;28mself\u001b[39m\u001b[38;5;241m.\u001b[39myaxis \u001b[38;5;241m=\u001b[39m \u001b[43mmaxis\u001b[49m\u001b[38;5;241;43m.\u001b[39;49m\u001b[43mYAxis\u001b[49m\u001b[43m(\u001b[49m\u001b[38;5;28;43mself\u001b[39;49m\u001b[43m)\u001b[49m\n\u001b[1;32m    747\u001b[0m \u001b[38;5;28mself\u001b[39m\u001b[38;5;241m.\u001b[39mspines\u001b[38;5;241m.\u001b[39mleft\u001b[38;5;241m.\u001b[39mregister_axis(\u001b[38;5;28mself\u001b[39m\u001b[38;5;241m.\u001b[39myaxis)\n\u001b[1;32m    748\u001b[0m \u001b[38;5;28mself\u001b[39m\u001b[38;5;241m.\u001b[39mspines\u001b[38;5;241m.\u001b[39mright\u001b[38;5;241m.\u001b[39mregister_axis(\u001b[38;5;28mself\u001b[39m\u001b[38;5;241m.\u001b[39myaxis)\n",
      "File \u001b[0;32m~/opt/anaconda3/lib/python3.9/site-packages/matplotlib/axis.py:2280\u001b[0m, in \u001b[0;36mYAxis.__init__\u001b[0;34m(self, *args, **kwargs)\u001b[0m\n\u001b[1;32m   2279\u001b[0m \u001b[38;5;28;01mdef\u001b[39;00m \u001b[38;5;21m__init__\u001b[39m(\u001b[38;5;28mself\u001b[39m, \u001b[38;5;241m*\u001b[39margs, \u001b[38;5;241m*\u001b[39m\u001b[38;5;241m*\u001b[39mkwargs):\n\u001b[0;32m-> 2280\u001b[0m     \u001b[38;5;28;43msuper\u001b[39;49m\u001b[43m(\u001b[49m\u001b[43m)\u001b[49m\u001b[38;5;241;43m.\u001b[39;49m\u001b[38;5;21;43m__init__\u001b[39;49m\u001b[43m(\u001b[49m\u001b[38;5;241;43m*\u001b[39;49m\u001b[43margs\u001b[49m\u001b[43m,\u001b[49m\u001b[43m \u001b[49m\u001b[38;5;241;43m*\u001b[39;49m\u001b[38;5;241;43m*\u001b[39;49m\u001b[43mkwargs\u001b[49m\u001b[43m)\u001b[49m\n\u001b[1;32m   2281\u001b[0m     \u001b[38;5;66;03m# x in display coords, y in axes coords (to be updated at draw time by\u001b[39;00m\n\u001b[1;32m   2282\u001b[0m     \u001b[38;5;66;03m# _update_label_positions and _update_offset_text_position).\u001b[39;00m\n\u001b[1;32m   2283\u001b[0m     \u001b[38;5;28mself\u001b[39m\u001b[38;5;241m.\u001b[39mlabel\u001b[38;5;241m.\u001b[39mset(\n\u001b[1;32m   2284\u001b[0m         x\u001b[38;5;241m=\u001b[39m\u001b[38;5;241m0\u001b[39m, y\u001b[38;5;241m=\u001b[39m\u001b[38;5;241m0.5\u001b[39m,\n\u001b[1;32m   2285\u001b[0m         verticalalignment\u001b[38;5;241m=\u001b[39m\u001b[38;5;124m'\u001b[39m\u001b[38;5;124mbottom\u001b[39m\u001b[38;5;124m'\u001b[39m, horizontalalignment\u001b[38;5;241m=\u001b[39m\u001b[38;5;124m'\u001b[39m\u001b[38;5;124mcenter\u001b[39m\u001b[38;5;124m'\u001b[39m,\n\u001b[0;32m   (...)\u001b[0m\n\u001b[1;32m   2288\u001b[0m             mtransforms\u001b[38;5;241m.\u001b[39mIdentityTransform(), \u001b[38;5;28mself\u001b[39m\u001b[38;5;241m.\u001b[39maxes\u001b[38;5;241m.\u001b[39mtransAxes),\n\u001b[1;32m   2289\u001b[0m     )\n",
      "File \u001b[0;32m~/opt/anaconda3/lib/python3.9/site-packages/matplotlib/axis.py:681\u001b[0m, in \u001b[0;36mAxis.__init__\u001b[0;34m(self, axes, pickradius)\u001b[0m\n\u001b[1;32m    678\u001b[0m \u001b[38;5;28mself\u001b[39m\u001b[38;5;241m.\u001b[39m_minor_tick_kw \u001b[38;5;241m=\u001b[39m \u001b[38;5;28mdict\u001b[39m()\n\u001b[1;32m    680\u001b[0m \u001b[38;5;28mself\u001b[39m\u001b[38;5;241m.\u001b[39mclear()\n\u001b[0;32m--> 681\u001b[0m \u001b[38;5;28;43mself\u001b[39;49m\u001b[38;5;241;43m.\u001b[39;49m\u001b[43m_set_scale\u001b[49m\u001b[43m(\u001b[49m\u001b[38;5;124;43m'\u001b[39;49m\u001b[38;5;124;43mlinear\u001b[39;49m\u001b[38;5;124;43m'\u001b[39;49m\u001b[43m)\u001b[49m\n",
      "File \u001b[0;32m~/opt/anaconda3/lib/python3.9/site-packages/matplotlib/axis.py:764\u001b[0m, in \u001b[0;36mAxis._set_scale\u001b[0;34m(self, value, **kwargs)\u001b[0m\n\u001b[1;32m    762\u001b[0m \u001b[38;5;28;01melse\u001b[39;00m:\n\u001b[1;32m    763\u001b[0m     \u001b[38;5;28mself\u001b[39m\u001b[38;5;241m.\u001b[39m_scale \u001b[38;5;241m=\u001b[39m value\n\u001b[0;32m--> 764\u001b[0m \u001b[38;5;28;43mself\u001b[39;49m\u001b[38;5;241;43m.\u001b[39;49m\u001b[43m_scale\u001b[49m\u001b[38;5;241;43m.\u001b[39;49m\u001b[43mset_default_locators_and_formatters\u001b[49m\u001b[43m(\u001b[49m\u001b[38;5;28;43mself\u001b[39;49m\u001b[43m)\u001b[49m\n\u001b[1;32m    766\u001b[0m \u001b[38;5;28mself\u001b[39m\u001b[38;5;241m.\u001b[39misDefault_majloc \u001b[38;5;241m=\u001b[39m \u001b[38;5;28;01mTrue\u001b[39;00m\n\u001b[1;32m    767\u001b[0m \u001b[38;5;28mself\u001b[39m\u001b[38;5;241m.\u001b[39misDefault_minloc \u001b[38;5;241m=\u001b[39m \u001b[38;5;28;01mTrue\u001b[39;00m\n",
      "File \u001b[0;32m~/opt/anaconda3/lib/python3.9/site-packages/matplotlib/scale.py:107\u001b[0m, in \u001b[0;36mLinearScale.set_default_locators_and_formatters\u001b[0;34m(self, axis)\u001b[0m\n\u001b[1;32m    104\u001b[0m \u001b[38;5;28;01mdef\u001b[39;00m \u001b[38;5;21mset_default_locators_and_formatters\u001b[39m(\u001b[38;5;28mself\u001b[39m, axis):\n\u001b[1;32m    105\u001b[0m     \u001b[38;5;66;03m# docstring inherited\u001b[39;00m\n\u001b[1;32m    106\u001b[0m     axis\u001b[38;5;241m.\u001b[39mset_major_locator(AutoLocator())\n\u001b[0;32m--> 107\u001b[0m     axis\u001b[38;5;241m.\u001b[39mset_major_formatter(\u001b[43mScalarFormatter\u001b[49m\u001b[43m(\u001b[49m\u001b[43m)\u001b[49m)\n\u001b[1;32m    108\u001b[0m     axis\u001b[38;5;241m.\u001b[39mset_minor_formatter(NullFormatter())\n\u001b[1;32m    109\u001b[0m     \u001b[38;5;66;03m# update the minor locator for x and y axis based on rcParams\u001b[39;00m\n",
      "File \u001b[0;32m~/opt/anaconda3/lib/python3.9/site-packages/matplotlib/ticker.py:444\u001b[0m, in \u001b[0;36mScalarFormatter.__init__\u001b[0;34m(self, useOffset, useMathText, useLocale)\u001b[0m\n\u001b[1;32m    442\u001b[0m \u001b[38;5;28;01mif\u001b[39;00m useMathText \u001b[38;5;129;01mis\u001b[39;00m \u001b[38;5;28;01mFalse\u001b[39;00m:\n\u001b[1;32m    443\u001b[0m     \u001b[38;5;28;01mtry\u001b[39;00m:\n\u001b[0;32m--> 444\u001b[0m         ufont \u001b[38;5;241m=\u001b[39m \u001b[43mmpl\u001b[49m\u001b[38;5;241;43m.\u001b[39;49m\u001b[43mfont_manager\u001b[49m\u001b[38;5;241;43m.\u001b[39;49m\u001b[43mfindfont\u001b[49m\u001b[43m(\u001b[49m\n\u001b[1;32m    445\u001b[0m \u001b[43m            \u001b[49m\u001b[43mmpl\u001b[49m\u001b[38;5;241;43m.\u001b[39;49m\u001b[43mfont_manager\u001b[49m\u001b[38;5;241;43m.\u001b[39;49m\u001b[43mFontProperties\u001b[49m\u001b[43m(\u001b[49m\n\u001b[1;32m    446\u001b[0m \u001b[43m                \u001b[49m\u001b[43mmpl\u001b[49m\u001b[38;5;241;43m.\u001b[39;49m\u001b[43mrcParams\u001b[49m\u001b[43m[\u001b[49m\u001b[38;5;124;43m\"\u001b[39;49m\u001b[38;5;124;43mfont.family\u001b[39;49m\u001b[38;5;124;43m\"\u001b[39;49m\u001b[43m]\u001b[49m\n\u001b[1;32m    447\u001b[0m \u001b[43m            \u001b[49m\u001b[43m)\u001b[49m\u001b[43m,\u001b[49m\n\u001b[1;32m    448\u001b[0m \u001b[43m            \u001b[49m\u001b[43mfallback_to_default\u001b[49m\u001b[38;5;241;43m=\u001b[39;49m\u001b[38;5;28;43;01mFalse\u001b[39;49;00m\u001b[43m,\u001b[49m\n\u001b[1;32m    449\u001b[0m \u001b[43m        \u001b[49m\u001b[43m)\u001b[49m\n\u001b[1;32m    450\u001b[0m     \u001b[38;5;28;01mexcept\u001b[39;00m \u001b[38;5;167;01mValueError\u001b[39;00m:\n\u001b[1;32m    451\u001b[0m         ufont \u001b[38;5;241m=\u001b[39m \u001b[38;5;28;01mNone\u001b[39;00m\n",
      "File \u001b[0;32m~/opt/anaconda3/lib/python3.9/site-packages/matplotlib/font_manager.py:1307\u001b[0m, in \u001b[0;36mFontManager.findfont\u001b[0;34m(self, prop, fontext, directory, fallback_to_default, rebuild_if_missing)\u001b[0m\n\u001b[1;32m   1301\u001b[0m \u001b[38;5;66;03m# Pass the relevant rcParams (and the font manager, as `self`) to\u001b[39;00m\n\u001b[1;32m   1302\u001b[0m \u001b[38;5;66;03m# _findfont_cached so to prevent using a stale cache entry after an\u001b[39;00m\n\u001b[1;32m   1303\u001b[0m \u001b[38;5;66;03m# rcParam was changed.\u001b[39;00m\n\u001b[1;32m   1304\u001b[0m rc_params \u001b[38;5;241m=\u001b[39m \u001b[38;5;28mtuple\u001b[39m(\u001b[38;5;28mtuple\u001b[39m(rcParams[key]) \u001b[38;5;28;01mfor\u001b[39;00m key \u001b[38;5;129;01min\u001b[39;00m [\n\u001b[1;32m   1305\u001b[0m     \u001b[38;5;124m\"\u001b[39m\u001b[38;5;124mfont.serif\u001b[39m\u001b[38;5;124m\"\u001b[39m, \u001b[38;5;124m\"\u001b[39m\u001b[38;5;124mfont.sans-serif\u001b[39m\u001b[38;5;124m\"\u001b[39m, \u001b[38;5;124m\"\u001b[39m\u001b[38;5;124mfont.cursive\u001b[39m\u001b[38;5;124m\"\u001b[39m, \u001b[38;5;124m\"\u001b[39m\u001b[38;5;124mfont.fantasy\u001b[39m\u001b[38;5;124m\"\u001b[39m,\n\u001b[1;32m   1306\u001b[0m     \u001b[38;5;124m\"\u001b[39m\u001b[38;5;124mfont.monospace\u001b[39m\u001b[38;5;124m\"\u001b[39m])\n\u001b[0;32m-> 1307\u001b[0m \u001b[38;5;28;01mreturn\u001b[39;00m \u001b[38;5;28;43mself\u001b[39;49m\u001b[38;5;241;43m.\u001b[39;49m\u001b[43m_findfont_cached\u001b[49m\u001b[43m(\u001b[49m\n\u001b[1;32m   1308\u001b[0m \u001b[43m    \u001b[49m\u001b[43mprop\u001b[49m\u001b[43m,\u001b[49m\u001b[43m \u001b[49m\u001b[43mfontext\u001b[49m\u001b[43m,\u001b[49m\u001b[43m \u001b[49m\u001b[43mdirectory\u001b[49m\u001b[43m,\u001b[49m\u001b[43m \u001b[49m\u001b[43mfallback_to_default\u001b[49m\u001b[43m,\u001b[49m\u001b[43m \u001b[49m\u001b[43mrebuild_if_missing\u001b[49m\u001b[43m,\u001b[49m\n\u001b[1;32m   1309\u001b[0m \u001b[43m    \u001b[49m\u001b[43mrc_params\u001b[49m\u001b[43m)\u001b[49m\n",
      "File \u001b[0;32m~/opt/anaconda3/lib/python3.9/site-packages/matplotlib/font_manager.py:1336\u001b[0m, in \u001b[0;36mFontManager._findfont_cached\u001b[0;34m(self, prop, fontext, directory, fallback_to_default, rebuild_if_missing, rc_params)\u001b[0m\n\u001b[1;32m   1333\u001b[0m     \u001b[38;5;28;01mcontinue\u001b[39;00m\n\u001b[1;32m   1334\u001b[0m \u001b[38;5;66;03m# Matching family should have top priority, so multiply it by 10.\u001b[39;00m\n\u001b[1;32m   1335\u001b[0m score \u001b[38;5;241m=\u001b[39m (\u001b[38;5;28mself\u001b[39m\u001b[38;5;241m.\u001b[39mscore_family(prop\u001b[38;5;241m.\u001b[39mget_family(), font\u001b[38;5;241m.\u001b[39mname) \u001b[38;5;241m*\u001b[39m \u001b[38;5;241m10\u001b[39m\n\u001b[0;32m-> 1336\u001b[0m          \u001b[38;5;241m+\u001b[39m \u001b[38;5;28;43mself\u001b[39;49m\u001b[38;5;241;43m.\u001b[39;49m\u001b[43mscore_style\u001b[49m\u001b[43m(\u001b[49m\u001b[43mprop\u001b[49m\u001b[38;5;241;43m.\u001b[39;49m\u001b[43mget_style\u001b[49m\u001b[43m(\u001b[49m\u001b[43m)\u001b[49m\u001b[43m,\u001b[49m\u001b[43m \u001b[49m\u001b[43mfont\u001b[49m\u001b[38;5;241;43m.\u001b[39;49m\u001b[43mstyle\u001b[49m\u001b[43m)\u001b[49m\n\u001b[1;32m   1337\u001b[0m          \u001b[38;5;241m+\u001b[39m \u001b[38;5;28mself\u001b[39m\u001b[38;5;241m.\u001b[39mscore_variant(prop\u001b[38;5;241m.\u001b[39mget_variant(), font\u001b[38;5;241m.\u001b[39mvariant)\n\u001b[1;32m   1338\u001b[0m          \u001b[38;5;241m+\u001b[39m \u001b[38;5;28mself\u001b[39m\u001b[38;5;241m.\u001b[39mscore_weight(prop\u001b[38;5;241m.\u001b[39mget_weight(), font\u001b[38;5;241m.\u001b[39mweight)\n\u001b[1;32m   1339\u001b[0m          \u001b[38;5;241m+\u001b[39m \u001b[38;5;28mself\u001b[39m\u001b[38;5;241m.\u001b[39mscore_stretch(prop\u001b[38;5;241m.\u001b[39mget_stretch(), font\u001b[38;5;241m.\u001b[39mstretch)\n\u001b[1;32m   1340\u001b[0m          \u001b[38;5;241m+\u001b[39m \u001b[38;5;28mself\u001b[39m\u001b[38;5;241m.\u001b[39mscore_size(prop\u001b[38;5;241m.\u001b[39mget_size(), font\u001b[38;5;241m.\u001b[39msize))\n\u001b[1;32m   1341\u001b[0m _log\u001b[38;5;241m.\u001b[39mdebug(\u001b[38;5;124m'\u001b[39m\u001b[38;5;124mfindfont: score(\u001b[39m\u001b[38;5;132;01m%s\u001b[39;00m\u001b[38;5;124m) = \u001b[39m\u001b[38;5;132;01m%s\u001b[39;00m\u001b[38;5;124m'\u001b[39m, font, score)\n\u001b[1;32m   1342\u001b[0m \u001b[38;5;28;01mif\u001b[39;00m score \u001b[38;5;241m<\u001b[39m best_score:\n",
      "File \u001b[0;32m~/opt/anaconda3/lib/python3.9/site-packages/matplotlib/font_manager.py:1170\u001b[0m, in \u001b[0;36mFontManager.score_style\u001b[0;34m(self, style1, style2)\u001b[0m\n\u001b[1;32m   1160\u001b[0m \u001b[38;5;28;01mdef\u001b[39;00m \u001b[38;5;21mscore_style\u001b[39m(\u001b[38;5;28mself\u001b[39m, style1, style2):\n\u001b[1;32m   1161\u001b[0m     \u001b[38;5;124;03m\"\"\"\u001b[39;00m\n\u001b[1;32m   1162\u001b[0m \u001b[38;5;124;03m    Return a match score between *style1* and *style2*.\u001b[39;00m\n\u001b[1;32m   1163\u001b[0m \n\u001b[0;32m   (...)\u001b[0m\n\u001b[1;32m   1168\u001b[0m \u001b[38;5;124;03m    No match returns 1.0.\u001b[39;00m\n\u001b[1;32m   1169\u001b[0m \u001b[38;5;124;03m    \"\"\"\u001b[39;00m\n\u001b[0;32m-> 1170\u001b[0m     \u001b[38;5;28;01mif\u001b[39;00m \u001b[43mstyle1\u001b[49m\u001b[43m \u001b[49m\u001b[38;5;241;43m==\u001b[39;49m\u001b[43m \u001b[49m\u001b[43mstyle2\u001b[49m:\n\u001b[1;32m   1171\u001b[0m         \u001b[38;5;28;01mreturn\u001b[39;00m \u001b[38;5;241m0.0\u001b[39m\n\u001b[1;32m   1172\u001b[0m     \u001b[38;5;28;01melif\u001b[39;00m (style1 \u001b[38;5;129;01min\u001b[39;00m (\u001b[38;5;124m'\u001b[39m\u001b[38;5;124mitalic\u001b[39m\u001b[38;5;124m'\u001b[39m, \u001b[38;5;124m'\u001b[39m\u001b[38;5;124moblique\u001b[39m\u001b[38;5;124m'\u001b[39m)\n\u001b[1;32m   1173\u001b[0m           \u001b[38;5;129;01mand\u001b[39;00m style2 \u001b[38;5;129;01min\u001b[39;00m (\u001b[38;5;124m'\u001b[39m\u001b[38;5;124mitalic\u001b[39m\u001b[38;5;124m'\u001b[39m, \u001b[38;5;124m'\u001b[39m\u001b[38;5;124moblique\u001b[39m\u001b[38;5;124m'\u001b[39m)):\n",
      "\u001b[0;31mKeyboardInterrupt\u001b[0m: "
     ]
    },
    {
     "data": {
      "image/png": "[encoded data removed]",
      "text/plain": [
       "<Figure size 360x270 with 2 Axes>"
      ]
     },
     "metadata": {
      "needs_background": "light"
     },
     "output_type": "display_data"
    }
   ],
   "source": [
    "from time import sleep\n",
    "\n",
    "rescale_plot(5)\n",
    "\n",
    "for i in range(100):\n",
    "    fig = plt.figure()\n",
    "    gs  = gridspec.GridSpec(nrows=3, ncols=2)\n",
    "\n",
    "\n",
    "    clear_output(wait=True)\n",
    "    i0     = 34200\n",
    "    from_i = i0 + (360)*i\n",
    "    to_i   = from_i + 360\n",
    "\n",
    "    # only some values are predictive\n",
    "    # from_i = i0 + 1800*4\n",
    "    # to_i   = from_i + 1800/2\n",
    "\n",
    "    ax0 = fig.add_subplot(gs[0, 0])\n",
    "    ax1 = fig.add_subplot(gs[0, 1])\n",
    "\n",
    "    print(LOB_features.loc[from_i:to_i].iloc[0].timestamp)\n",
    "    print(LOB_features.loc[from_i:to_i].iloc[-1].timestamp)\n",
    "    \n",
    "    plot_fwd_predictive_power('macd_12_26_9',\n",
    "                              ax0, \n",
    "                              fig.add_subplot(gs[1, 0]), \n",
    "                              fig.add_subplot(gs[2, 0]), \n",
    "                              fwd_cols_st, fwd_cols_lt, fwd_cols_vlt, \n",
    "                              LOB_features.loc[from_i:to_i], tick_size, 2, 10, 10)\n",
    "\n",
    "    plot_fwd_predictive_power('imbalance_1', \n",
    "                              ax1, \n",
    "                              fig.add_subplot(gs[1, 1]), \n",
    "                              fig.add_subplot(gs[2, 1]), \n",
    "                              fwd_cols_st, fwd_cols_lt, fwd_cols_vlt, \n",
    "                              LOB_features.loc[from_i:to_i], tick_size, 2, 0, 10)\n",
    "\n",
    "    # ax1.set_ylabel('Average forward price move in number of ticks')\n",
    "    plt.title('Predictive power: trend signal')\n",
    "    plt.title('Predictive power: imbalance signal')\n",
    "    plt.tight_layout()\n",
    "    plt.show()\n",
    "    sleep(2)\n",
    "\n",
    "# plt.savefig('MSFT_predictive_features.pdf')"
   ]
  },
  {
   "cell_type": "code",
   "execution_count": null,
   "id": "3f909535-2267-4e0f-8a30-fb2945612b00",
   "metadata": {},
   "outputs": [],
   "source": [
    "i "
   ]
  },
  {
   "cell_type": "code",
   "execution_count": 559,
   "id": "4345235b-690c-4ade-a40a-c5aacc283867",
   "metadata": {},
   "outputs": [
    {
     "name": "stdout",
     "output_type": "stream",
     "text": [
      "2021-10-04 09:30:00.000121\n",
      "2021-10-04 09:35:59.825343\n"
     ]
    },
    {
     "data": {
      "image/png": "[encoded data removed]",
      "text/plain": [
       "<Figure size 360x270 with 6 Axes>"
      ]
     },
     "metadata": {
      "needs_background": "light"
     },
     "output_type": "display_data"
    }
   ],
   "source": [
    "from time import sleep\n",
    "\n",
    "rescale_plot(5)\n",
    "\n",
    "i = 0\n",
    "\n",
    "fig = plt.figure()\n",
    "gs  = gridspec.GridSpec(nrows=3, ncols=2)\n",
    "\n",
    "\n",
    "clear_output(wait=True)\n",
    "i0     = 34200\n",
    "from_i = i0 + (360)*i\n",
    "to_i   = from_i + 360\n",
    "\n",
    "# only some values are predictive\n",
    "# from_i = i0 + 1800*4\n",
    "# to_i   = from_i + 1800/2\n",
    "\n",
    "ax0 = fig.add_subplot(gs[0, 0])\n",
    "ax1 = fig.add_subplot(gs[0, 1])\n",
    "\n",
    "print(LOB_features.loc[from_i:to_i].iloc[0].timestamp)\n",
    "print(LOB_features.loc[from_i:to_i].iloc[-1].timestamp)\n",
    "\n",
    "plot_fwd_predictive_power('macd_12_26_9',\n",
    "                          ax0, \n",
    "                          fig.add_subplot(gs[1, 0]), \n",
    "                          fig.add_subplot(gs[2, 0]), \n",
    "                          fwd_cols_st, fwd_cols_lt, fwd_cols_vlt, \n",
    "                          LOB_features.loc[from_i:to_i], tick_size, 2, 0, 10)\n",
    "\n",
    "plot_fwd_predictive_power('imbalance_1', \n",
    "                          ax1, \n",
    "                          fig.add_subplot(gs[1, 1]), \n",
    "                          fig.add_subplot(gs[2, 1]), \n",
    "                          fwd_cols_st, fwd_cols_lt, fwd_cols_vlt, \n",
    "                          LOB_features.loc[from_i:to_i], tick_size, 1, 0, 1)\n",
    "\n",
    "# ax1.set_ylabel('Average forward price move in number of ticks')\n",
    "plt.title('Predictive power: trend signal')\n",
    "plt.title('Predictive power: imbalance signal')\n",
    "plt.tight_layout()\n",
    "plt.show()\n",
    "\n",
    "# plt.savefig('MSFT_predictive_features.pdf')"
   ]
  },
  {
   "cell_type": "code",
   "execution_count": null,
   "id": "a96438db-0e25-427e-bc53-13a90e78eacc",
   "metadata": {},
   "outputs": [],
   "source": []
  },
  {
   "cell_type": "code",
   "execution_count": 170,
   "id": "6805950f-9920-4e43-9451-6e789cdc0d9b",
   "metadata": {},
   "outputs": [],
   "source": [
    "31-32\n",
    "19-10\n",
    "42-43\n",
    "43-44\n",
    "45-46\n",
    "46-47\n",
    "\n",
    "25-30\n",
    "\n",
    "\n",
    "# def plot_fwd_predictive_power_seconds(predictive_feature, ax1, ax2, ax3, fwd_cols_st, fwd_cols_lt, fwd_cols_vlt, LOB_features, tick_size, round_value):\n",
    "#     for (ax, fwd_cols, titlen) in zip( (ax1, ax2, ax3), (fwd_cols_st, fwd_cols_lt, fwd_cols_vlt), ('st', 'lt', 'vlt')):\n",
    "#         counts = (LOB_features[[predictive_feature] + fwd_cols].round(round_value).groupby(predictive_feature).count().iloc[1:-1])\n",
    "#         avgs   = (LOB_features[[predictive_feature] + fwd_cols].round(round_value).groupby(predictive_feature).mean().iloc[1:-1]/tick_size)\n",
    "#         avgs[counts<500]=np.nan\n",
    "        \n",
    "#         ax.plot(avgs.iloc[:,0], color='tan')\n",
    "#         ax.plot(avgs.iloc[:,1], color='k')\n",
    "#         ax.plot(avgs.iloc[:,2], color='grey')\n",
    "#         ax.plot(avgs.iloc[:,3], color='darkblue')\n",
    "        \n",
    "#         ax.legend([s.split('_')[-1]+' trades' for s in fwd_cols])\n",
    "#         ax.yaxis.tick_right()\n",
    "#         # ax.tick_params(axis='both', **config_ticks)\n",
    "#         ax.yaxis.set_label_position(\"right\")\n",
    "#         # ax.yaxis.label.set_color('grey')\n",
    "#         ax.grid(axis='both', color='gainsboro', linestyle='-', linewidth=0.5)\n",
    "#         ax.set_axisbelow(True)\n",
    "#         ax.set_title(f'{predictive_feature}: {titlen}')"
   ]
  },
  {
   "cell_type": "code",
   "execution_count": 101,
   "id": "2b192e11-5a25-4269-b2c5-8eac60cc9ea1",
   "metadata": {},
   "outputs": [],
   "source": [
    "# LOB_features_t = LOB_features.set_index('timestamp')\n",
    "# LOB_features_t['fwd_10ms']  = LOB_features_t.mid_price.rolling('10ms').apply(lambda x: x[-1] - x[0])\n",
    "# LOB_features_t['fwd_100ms'] = LOB_features_t.mid_price.rolling('100ms').apply(lambda x: x[-1] - x[0])\n",
    "# LOB_features_t['fwd_500ms'] = LOB_features_t.mid_price.rolling('500s').apply(lambda x: x[-1] - x[0])\n",
    "# LOB_features_t['fwd_1s']    = LOB_features_t.mid_price.rolling('1s').apply(lambda x: x[-1] - x[0])\n",
    "# LOB_features_t['fwd_1m']    = LOB_features_t.mid_price.rolling('60s').apply(lambda x: x[-1] - x[0])"
   ]
  },
  {
   "cell_type": "code",
   "execution_count": 102,
   "id": "218273ce-dec4-462c-8a0e-d7e511f50cf1",
   "metadata": {},
   "outputs": [],
   "source": [
    "# predictive_feature = 'imbalance_1'\n",
    "# round_value = 3\n",
    "# fwd_cols = [f'fwd_{s}' for s in ['10ms', '100ms', '500ms', '1s', '1m']] #"
   ]
  },
  {
   "cell_type": "code",
   "execution_count": 103,
   "id": "6e5d8e99-ace1-467b-8b6c-5623398c853a",
   "metadata": {},
   "outputs": [],
   "source": [
    "# LOB_features.iloc[::50]"
   ]
  },
  {
   "cell_type": "code",
   "execution_count": 104,
   "id": "8c89fac5-f6c1-4878-a9e3-c90bbb8708ba",
   "metadata": {},
   "outputs": [],
   "source": [
    "# counts = (LOB_features_t[[predictive_feature] + fwd_cols].round(round_value).groupby(predictive_feature).count().iloc[1:-1])\n",
    "# avgs   = (LOB_features_t[[predictive_feature] + fwd_cols].round(round_value).groupby(predictive_feature).mean().iloc[1:-1]/tick_size)\n",
    "\n",
    "# # avgs[counts<500]=np.nan\n",
    "\n",
    "# fig, ax = plt.subplots(1, 1)\n",
    "\n",
    "# ax.plot(avgs.iloc[:,0], color='tan')\n",
    "# ax.plot(avgs.iloc[:,1], color='k')\n",
    "# ax.plot(avgs.iloc[:,2], color='grey')\n",
    "# ax.legend(avgs.columns)\n",
    "# # ax.plot(avgs.iloc[:,3], color='darkblue')"
   ]
  },
  {
   "cell_type": "markdown",
   "id": "ad5bf5df-3733-4d01-b4b5-b4b59e4a5eab",
   "metadata": {},
   "source": [
    "### Activity dynamics"
   ]
  },
  {
   "cell_type": "code",
   "execution_count": 264,
   "id": "f1ad8aa3-ed83-4e9e-be70-5efcbe5d5668",
   "metadata": {},
   "outputs": [],
   "source": [
    "path        = \"../data/Features2\"\n",
    "dir_list    = os.listdir(path)\n",
    "dic_results = {}"
   ]
  },
  {
   "cell_type": "code",
   "execution_count": 269,
   "id": "a1f3e85f-65d8-494c-aabd-932251fb83d2",
   "metadata": {},
   "outputs": [
    {
     "name": "stdout",
     "output_type": "stream",
     "text": [
      "Reading: 2021-10-04\n"
     ]
    }
   ],
   "source": [
    "for filename in dir_list:\n",
    "    if 'LOB_features' in filename:\n",
    "        trade_date    = filename.split('_')[-1].split(\".\")[0]        \n",
    "        print('Reading:',trade_date)\n",
    "        \n",
    "        LOB_features = pd.read_pickle(f'../data/Features2/LOB_features_{trade_date}.pkl')\n",
    "        tmpActivityDF_1min = LOB_features[['mid_price', 'timestamp']].set_index('timestamp').resample('1min').count()\n",
    "        tmpActivityDF_1min.index = [pd.to_datetime(s).time() for s in tmpActivityDF_1min.index]\n",
    "        \n",
    "        tmpActivityDF_1s = LOB_features[['mid_price', 'timestamp']].set_index('timestamp').resample('1s').count()\n",
    "        tmpActivityDF_1s.index = [pd.to_datetime(s).time() for s in tmpActivityDF_1s.index]\n",
    "        \n",
    "        dic_results[trade_date] = (tmpActivityDF_1s, tmpActivityDF_1min)\n",
    "        clear_output(wait=True)"
   ]
  },
  {
   "cell_type": "code",
   "execution_count": 270,
   "id": "6ac9676b-8712-42d1-8529-32b875696043",
   "metadata": {},
   "outputs": [
    {
     "data": {
      "image/png": "[encoded data removed]",
      "text/plain": [
       "<Figure size 144x108 with 1 Axes>"
      ]
     },
     "metadata": {
      "needs_background": "light"
     },
     "output_type": "display_data"
    }
   ],
   "source": [
    "rescale_plot(2.)\n",
    "\n",
    "fig, ax = plt.subplots(1, 1, constrained_layout=True, sharex=True, sharey=True)\n",
    "\n",
    "# macd\n",
    "avgs = pd.concat((dic_results[s][0] for s in dic_results.keys()), axis=1).mean(axis=1)#.rolling(20).mean()\n",
    "stds = pd.concat((dic_results[s][0] for s in dic_results.keys()), axis=1).std(axis=1)\n",
    "\n",
    "avgs.plot(ax=ax, color='k', linewidth=2)\n",
    "ax.fill_between( avgs.index,avgs-stds,avgs+stds,\n",
    "                facecolor='silver', hatch=\"ooo\", edgecolor=\"gray\")\n",
    "\n",
    "ax.legend(['Trades per minute'], handlelength=0.2, framealpha=0.2, loc='upper center')\n",
    "# ax.set_xlim( -1, 1)\n",
    "# ax.set_ylim( -0.2, 0.2)\n",
    "\n",
    "ax.yaxis.set_label_position(\"left\")\n",
    "ax.grid(axis='both',  linestyle='-', linewidth=0.5)\n",
    "ax.set_axisbelow(True)\n",
    "ax.yaxis.tick_right()\n",
    "# ax.set_ylabel('Ticks')\n",
    "ax.set_xlabel('Time of day')\n",
    "\n",
    "locs = ax.get_xticks()\n",
    "new_xticks=['', avgs.iloc[[int(len(avgs) * 0.25) ]].index[0].hour, \n",
    "              avgs.iloc[[int(len(avgs) * 0.75) ]].index[0].hour, '']\n",
    "ax.set_xticks(locs, new_xticks)\n",
    "ax.set_xlim(datetime.time(9, 0),datetime.time(16, 30))\n",
    "\n",
    "plt.savefig('Ushaped.pdf', bbox_inches='tight')\n",
    "# plt.show()"
   ]
  },
  {
   "cell_type": "code",
   "execution_count": 281,
   "id": "5d96b908-43ff-42f9-bb67-623b73746a9b",
   "metadata": {},
   "outputs": [],
   "source": [
    "# allmean/len(dir_list)"
   ]
  },
  {
   "cell_type": "code",
   "execution_count": 279,
   "id": "b40b3f86-e30d-4609-8b63-042095722662",
   "metadata": {},
   "outputs": [],
   "source": [
    "# dir_list"
   ]
  },
  {
   "cell_type": "code",
   "execution_count": 282,
   "id": "6b1a6913-fe97-4a6c-a122-d9383de4bec9",
   "metadata": {},
   "outputs": [],
   "source": [
    "# allmean = 0\n",
    "# for filename in dir_list:\n",
    "#     if 'LOB_features' in filename:\n",
    "#         trade_date    = filename.split('_')[-1].split(\".\")[0]        \n",
    "#         LOB_features = pd.read_pickle(f'../data/Features2/LOB_features_{trade_date}.pkl')\n",
    "#         allmean += LOB_features[['mid_price', 'timestamp']].set_index('timestamp').resample('1s').count().mean()\n"
   ]
  },
  {
   "cell_type": "markdown",
   "id": "5b8d6f90",
   "metadata": {},
   "source": [
    "### Average predictive power"
   ]
  },
  {
   "cell_type": "code",
   "execution_count": 251,
   "id": "9d78ba42-51ac-4d46-9f3e-cbdf144553bf",
   "metadata": {},
   "outputs": [],
   "source": [
    "from AOE.utils import get_LOB_data, get_LOB_features, get_meta_order_df, verbose_print"
   ]
  },
  {
   "cell_type": "code",
   "execution_count": 252,
   "id": "9307c869-d3b7-48c9-b479-e215b91f5ccb",
   "metadata": {},
   "outputs": [],
   "source": [
    "path     = \"../data/Features2\"\n",
    "dir_list = os.listdir(path)\n",
    "dic_results = {}"
   ]
  },
  {
   "cell_type": "code",
   "execution_count": 477,
   "id": "9b81084a",
   "metadata": {
    "scrolled": true
   },
   "outputs": [
    {
     "name": "stdout",
     "output_type": "stream",
     "text": [
      "Reading: 2021-10-21\n",
      "Reading: 2021-09-28\n",
      "Reading: 2021-09-14\n",
      "Reading: 2022-05-20\n",
      "Reading: 2022-02-15\n",
      "Reading: 2021-12-30\n",
      "Reading: 2022-05-09\n",
      "Reading: 2022-02-14\n",
      "Reading: 2021-12-31\n",
      "Reading: 2022-02-28\n",
      "Reading: 2021-09-15\n",
      "Reading: 2021-09-01\n",
      "Reading: 2021-09-29\n",
      "Reading: 2021-10-20\n",
      "Reading: 2021-10-08\n",
      "Reading: 2021-10-22\n",
      "Reading: 2021-07-06\n",
      "Reading: 2021-07-12\n",
      "Reading: 2021-09-17\n",
      "Reading: 2021-09-03\n",
      "Reading: 2022-05-23\n",
      "Reading: 2021-12-27\n",
      "Reading: 2022-02-16\n",
      "Reading: 2022-02-17\n",
      "Reading: 2021-09-02\n",
      "Reading: 2021-09-16\n",
      "Reading: 2021-07-13\n",
      "Reading: 2021-07-07\n",
      "Reading: 2021-10-27\n",
      "Reading: 2021-12-22\n",
      "Reading: 2022-05-26\n",
      "Reading: 2022-05-27\n",
      "Reading: 2021-12-23\n",
      "Reading: 2021-07-16\n",
      "Reading: 2021-07-02\n",
      "Reading: 2021-09-07\n",
      "Reading: 2021-09-13\n",
      "Reading: 2021-10-26\n",
      "Reading: 2021-10-18\n",
      "Reading: 2021-07-28\n",
      "Reading: 2021-07-14\n",
      "Reading: 2022-05-19\n",
      "Reading: 2021-12-21\n",
      "Reading: 2021-12-09\n",
      "Reading: 2022-05-25\n",
      "Reading: 2022-05-31\n",
      "Reading: 2022-05-24\n",
      "Reading: 2021-12-08\n",
      "Reading: 2021-12-20\n",
      "Reading: 2022-05-18\n",
      "Reading: 2022-02-11\n",
      "Reading: 2021-07-01\n",
      "Reading: 2021-07-15\n",
      "Reading: 2021-09-10\n",
      "Reading: 2021-07-29\n",
      "Reading: 2021-10-19\n",
      "Reading: 2021-10-25\n",
      "Reading: 2022-03-22\n",
      "Reading: 2021-11-02\n",
      "Reading: 2022-01-27\n",
      "Reading: 2021-11-16\n",
      "Reading: 2022-06-06\n",
      "Reading: 2021-08-23\n",
      "Reading: 2022-06-07\n",
      "Reading: 2022-06-13\n",
      "Reading: 2021-11-17\n",
      "Reading: 2021-11-03\n",
      "Reading: 2022-01-26\n",
      "Reading: 2022-03-23\n",
      "Reading: 2022-04-28\n",
      "Reading: 2022-03-21\n",
      "Reading: 2022-03-09\n",
      "Reading: 2022-04-14\n",
      "Reading: 2021-11-15\n",
      "Reading: 2022-01-24\n",
      "Reading: 2021-11-01\n",
      "Reading: 2021-11-29\n",
      "Reading: 2022-01-18\n",
      "Reading: 2021-08-20\n",
      "Reading: 2021-06-25\n",
      "Reading: 2021-06-24\n",
      "Reading: 2021-08-09\n",
      "Reading: 2021-06-30\n",
      "Reading: 2021-06-18\n",
      "Reading: 2022-01-19\n",
      "Reading: 2022-06-10\n",
      "Reading: 2022-01-25\n",
      "Reading: 2022-01-31\n",
      "Reading: 2022-03-08\n",
      "Reading: 2022-04-01\n",
      "Reading: 2022-04-29\n",
      "Reading: 2022-04-05\n",
      "Reading: 2022-03-18\n",
      "Reading: 2022-04-11\n",
      "Reading: 2022-03-30\n",
      "Reading: 2022-03-24\n",
      "Reading: 2022-06-14\n",
      "Reading: 2021-11-10\n",
      "Reading: 2022-06-28\n",
      "Reading: 2021-11-04\n",
      "Reading: 2022-01-21\n",
      "Reading: 2021-08-19\n",
      "Reading: 2021-08-25\n",
      "Reading: 2021-06-08\n",
      "Reading: 2021-08-31\n",
      "Reading: 2021-08-30\n",
      "Reading: 2021-06-09\n",
      "Reading: 2021-08-24\n",
      "Reading: 2021-06-21\n",
      "Reading: 2021-08-18\n",
      "Reading: 2021-11-05\n",
      "Reading: 2022-06-29\n",
      "Reading: 2022-01-20\n",
      "Reading: 2021-11-11\n",
      "Reading: 2022-06-01\n",
      "Reading: 2022-03-25\n",
      "Reading: 2022-03-31\n",
      "Reading: 2022-04-04\n",
      "Reading: 2022-04-12\n",
      "Reading: 2022-04-06\n",
      "Reading: 2022-06-17\n",
      "Reading: 2022-06-03\n",
      "Reading: 2021-06-23\n",
      "Reading: 2021-08-26\n",
      "Reading: 2021-08-27\n",
      "Reading: 2021-06-22\n",
      "Reading: 2021-11-12\n",
      "Reading: 2022-06-02\n",
      "Reading: 2022-06-16\n",
      "Reading: 2022-04-07\n",
      "Reading: 2022-04-13\n",
      "Reading: 2022-03-03\n",
      "Reading: 2022-03-17\n",
      "Reading: 2022-04-22\n",
      "Reading: 2021-11-23\n",
      "Reading: 2022-01-06\n",
      "Reading: 2022-01-12\n",
      "Reading: 2022-06-27\n",
      "Reading: 2021-08-16\n",
      "Reading: 2021-08-02\n",
      "Reading: 2021-06-07\n",
      "Reading: 2021-08-03\n",
      "Reading: 2021-08-17\n",
      "Reading: 2022-01-13\n",
      "Reading: 2021-11-22\n",
      "Reading: 2022-01-07\n",
      "Reading: 2022-03-16\n",
      "Reading: 2022-03-02\n",
      "Reading: 2022-03-14\n",
      "Reading: 2022-03-28\n",
      "Reading: 2022-04-21\n",
      "Reading: 2022-01-11\n",
      "Reading: 2022-01-05\n",
      "Reading: 2022-06-24\n",
      "Reading: 2021-11-08\n",
      "Reading: 2022-06-30\n",
      "Reading: 2021-06-10\n",
      "Reading: 2021-06-04\n",
      "Reading: 2021-06-11\n",
      "Reading: 2021-11-09\n",
      "Reading: 2022-01-04\n",
      "Reading: 2022-01-10\n",
      "Reading: 2022-03-29\n",
      "Reading: 2022-04-20\n",
      "Reading: 2022-04-08\n",
      "Reading: 2022-03-01\n",
      "Reading: 2022-03-15\n",
      "Reading: 2022-04-18\n",
      "Reading: 2022-03-11\n",
      "Reading: 2022-01-28\n",
      "Reading: 2022-06-21\n",
      "Reading: 2021-11-19\n",
      "Reading: 2022-01-14\n",
      "Reading: 2022-06-09\n",
      "Reading: 2021-06-15\n",
      "Reading: 2021-06-01\n",
      "Reading: 2021-08-04\n",
      "Reading: 2021-06-29\n",
      "Reading: 2021-08-10\n",
      "Reading: 2021-08-11\n",
      "Reading: 2021-06-28\n",
      "Reading: 2021-08-05\n",
      "Reading: 2021-06-14\n",
      "Reading: 2021-11-24\n",
      "Reading: 2022-06-08\n",
      "Reading: 2021-11-30\n",
      "Reading: 2021-11-18\n",
      "Reading: 2022-03-04\n",
      "Reading: 2022-04-19\n",
      "Reading: 2022-03-10\n",
      "Reading: 2022-04-25\n",
      "Reading: 2022-04-27\n",
      "Reading: 2022-06-22\n",
      "Reading: 2022-01-03\n",
      "Reading: 2021-11-26\n",
      "Reading: 2021-06-02\n",
      "Reading: 2021-06-16\n",
      "Reading: 2021-08-13\n",
      "Reading: 2021-08-06\n",
      "Reading: 2021-08-12\n",
      "Reading: 2021-06-17\n",
      "Reading: 2021-06-03\n",
      "Reading: 2022-04-26\n",
      "Reading: 2021-10-28\n",
      "Reading: 2021-10-14\n",
      "Reading: 2021-07-30\n",
      "Reading: 2021-09-09\n",
      "Reading: 2021-09-21\n",
      "Reading: 2021-12-10\n",
      "Reading: 2021-07-19\n",
      "Reading: 2021-09-20\n",
      "Reading: 2021-09-08\n",
      "Reading: 2021-10-01\n",
      "Reading: 2021-10-15\n",
      "Reading: 2021-10-29\n",
      "Reading: 2021-07-27\n",
      "Reading: 2021-09-22\n",
      "Reading: 2022-05-16\n",
      "Reading: 2022-05-02\n",
      "Reading: 2022-02-23\n",
      "Reading: 2021-12-06\n",
      "Reading: 2021-12-13\n",
      "Reading: 2022-02-22\n",
      "Reading: 2021-12-07\n",
      "Reading: 2022-05-03\n",
      "Reading: 2022-05-17\n",
      "Reading: 2021-09-23\n",
      "Reading: 2021-07-26\n",
      "Reading: 2021-10-06\n",
      "Reading: 2021-10-12\n",
      "Reading: 2021-09-27\n",
      "Reading: 2021-07-22\n",
      "Reading: 2021-12-03\n",
      "Reading: 2021-12-17\n",
      "Reading: 2022-05-13\n",
      "Reading: 2022-05-06\n",
      "Reading: 2022-05-12\n",
      "Reading: 2021-12-16\n",
      "Reading: 2021-12-02\n",
      "Reading: 2021-07-23\n",
      "Reading: 2021-10-13\n",
      "Reading: 2021-10-07\n",
      "Reading: 2021-10-11\n",
      "Reading: 2021-10-05\n",
      "Reading: 2021-07-09\n",
      "Reading: 2021-09-24\n",
      "Reading: 2021-09-30\n",
      "Reading: 2021-07-21\n",
      "Reading: 2021-12-14\n",
      "Reading: 2022-02-25\n",
      "Reading: 2021-12-28\n",
      "Reading: 2022-05-04\n",
      "Reading: 2022-05-10\n",
      "Reading: 2022-02-18\n",
      "Reading: 2022-05-11\n",
      "Reading: 2022-05-05\n",
      "Reading: 2021-12-29\n",
      "Reading: 2022-02-24\n",
      "Reading: 2021-12-01\n",
      "Reading: 2021-12-15\n",
      "Reading: 2021-07-20\n",
      "Reading: 2021-07-08\n",
      "Reading: 2021-10-04\n"
     ]
    }
   ],
   "source": [
    "feature_1_name= 'macd_12_26_9'; feature_1_rounding = 2\n",
    "feature_2_name= 'imbalance_1';  feature_2_rounding = 2\n",
    "\n",
    "for filename in dir_list:\n",
    "    if 'LOB_features' in filename:\n",
    "        trade_date    = filename.split('_')[-1].split(\".\")[0]        \n",
    "        # if '2022-06' in trade_date:\n",
    "        print('Reading:',trade_date)\n",
    "        if not trade_date in dic_results.keys():\n",
    "            LOB_features = pd.read_pickle(f'../data/Features2/LOB_features_{trade_date}.pkl')\n",
    "            \n",
    "            add_fwd_cols(all_fwd_cols, LOB_features)\n",
    "\n",
    "            LOB_features[feature_1_name] = LOB_features[feature_1_name].round(feature_1_rounding)\n",
    "            LOB_features[feature_2_name] = LOB_features[feature_2_name].round(feature_2_rounding)\n",
    "            LOB_features_predictive = LOB_features[[feature_1_name, feature_2_name, feature_3_name] + all_fwd_cols].dropna()\n",
    "\n",
    "            predictive_feature = feature_1_name\n",
    "            counts1 = (LOB_features_predictive[[predictive_feature] + all_fwd_cols].groupby(predictive_feature).count())\n",
    "            avgs1   = (LOB_features_predictive[[predictive_feature] + all_fwd_cols].groupby(predictive_feature).mean()/tick_size)\n",
    "            avgs1[counts1<100]=np.nan\n",
    "            avgs1 = avgs1.sort_index().fillna(method='ffill').fillna(method='bfill')\n",
    "            avgs1 = avgs1 - LOB_features_predictive[all_fwd_cols].mean()/tick_size\n",
    "\n",
    "            predictive_feature = feature_2_name\n",
    "            counts2 = (LOB_features_predictive[[predictive_feature] + all_fwd_cols].groupby(predictive_feature).count())\n",
    "            avgs2   = (LOB_features_predictive[[predictive_feature] + all_fwd_cols].groupby(predictive_feature).mean()/tick_size)\n",
    "            avgs2[counts2<100]=np.nan\n",
    "            avgs2 = avgs2.sort_index().fillna(method='ffill').fillna(method='bfill')\n",
    "            avgs2 = avgs2 - LOB_features_predictive[all_fwd_cols].mean()/tick_size\n",
    "\n",
    "\n",
    "            dic_results[trade_date] = (counts1, avgs1, \n",
    "                                       counts2, avgs2)"
   ]
  },
  {
   "cell_type": "code",
   "execution_count": 479,
   "id": "48821dc6-87ee-4453-b692-1e4ff044ca26",
   "metadata": {},
   "outputs": [],
   "source": [
    "# counts1"
   ]
  },
  {
   "cell_type": "code",
   "execution_count": 263,
   "id": "63080242-3f76-41be-b2fb-1c7cd6d55724",
   "metadata": {},
   "outputs": [
    {
     "data": {
      "image/png": "[encoded data removed]",
      "text/plain": [
       "<Figure size 165.6x82.8 with 2 Axes>"
      ]
     },
     "metadata": {
      "needs_background": "light"
     },
     "output_type": "display_data"
    }
   ],
   "source": [
    "rescale_plot(2.3, True)\n",
    "\n",
    "fig, (ax, ax2) = plt.subplots(1, 2, constrained_layout=True, sharex=True, sharey=True)\n",
    "\n",
    "# macd\n",
    "feature_name = 'macd_12_26_9'; feature_rounding = 2\n",
    "fwd_cols_    = ['fwd_price_move_50']\n",
    "\n",
    "i    = 0\n",
    "avgs = pd.concat((pd.concat((dic_results[s][2*i+1][colname].rolling(10).mean() for s in dic_results.keys()), axis=1).mean(axis=1).dropna() for colname in fwd_cols_), axis=1)\n",
    "avgs.plot(ax=ax, color='k', linewidth=3)\n",
    "ax.fill_between( (avgs-pd.concat((dic_results[key_][1][fwd_cols_].rolling(10).mean() for key_ in dic_results.keys()), axis=1).std(axis=1).to_frame()).index,\n",
    "                (avgs-1*pd.concat( (dic_results[key_][1][fwd_cols_].rolling(10).mean() for key_ in dic_results.keys()), axis=1).std(axis=1).to_frame()).values[:,0],\n",
    "                (avgs+1*pd.concat((dic_results[key_][1][fwd_cols_].rolling(10).mean() for key_ in dic_results.keys()), axis=1).std(axis=1).to_frame()).values[:,0],\n",
    "                facecolor='silver', hatch=\"ooo\", edgecolor=\"gray\")\n",
    "\n",
    "# imbalance\n",
    "feature_name = 'imbalance_1'; feature_rounding = 2\n",
    "fwd_cols_    = ['fwd_price_move_50']\n",
    "i    = 1\n",
    "avgs = pd.concat((pd.concat((dic_results[s][2*i+1][colname].rolling(10).mean() for s in dic_results.keys()), axis=1).mean(axis=1).dropna() for colname in fwd_cols_), axis=1)\n",
    "\n",
    "avgs.plot(ax=ax2, color='k', linewidth=3)\n",
    "ax2.fill_between( (avgs-pd.concat((dic_results[key_][3][fwd_cols_].rolling(10).mean() for key_ in dic_results.keys()), axis=1).std(axis=1).to_frame()).index,\n",
    "                (avgs-2*pd.concat( (dic_results[key_][3][fwd_cols_].rolling(10).mean() for key_ in dic_results.keys()), axis=1).std(axis=1).to_frame()).values[:,0],\n",
    "                (avgs+2*pd.concat((dic_results[key_][3][fwd_cols_].rolling(10).mean() for key_ in dic_results.keys()), axis=1).std(axis=1).to_frame()).values[:,0],\n",
    "                facecolor='silver', hatch=\"ooo\", edgecolor=\"gray\")\n",
    "\n",
    "\n",
    "ax.legend([], handlelength=0.2, framealpha=0.2, loc='lower right')\n",
    "ax2.legend([], handlelength=0.2, framealpha=0.2, loc='lower right')\n",
    "\n",
    "ax.set_xlim( -1, 1)\n",
    "ax.set_ylim( -0.2, 0.2)\n",
    "\n",
    "for aax in (ax, ax2):\n",
    "    aax.yaxis.set_label_position(\"left\")\n",
    "    aax.grid(axis='both',  linestyle='-', linewidth=0.5)\n",
    "    aax.set_axisbelow(True)\n",
    "    \n",
    "ax.tick_params(\"y\", left=False, labelleft=False)\n",
    "ax2.tick_params(\"y\", right=True, labelright=True)\n",
    "\n",
    "ax.set_ylabel('Ticks')\n",
    "ax2.set_xlabel('Imbalance')\n",
    "ax.set_xlabel('MACD')\n",
    "\n",
    "plt.savefig('AOE0.pdf', bbox_inches='tight')\n",
    "plt.show()\n",
    "\n",
    "# plt.show()"
   ]
  },
  {
   "cell_type": "code",
   "execution_count": 522,
   "id": "58489e8c-053a-4e8e-b329-d602fb29bdd0",
   "metadata": {},
   "outputs": [
    {
     "data": {
      "text/plain": [
       "<AxesSubplot:>"
      ]
     },
     "execution_count": 522,
     "metadata": {},
     "output_type": "execute_result"
    },
    {
     "data": {
      "image/png": "[encoded data removed]",
      "text/plain": [
       "<Figure size 165.6x82.8 with 1 Axes>"
      ]
     },
     "metadata": {
      "needs_background": "light"
     },
     "output_type": "display_data"
    }
   ],
   "source": [
    "LOB_features.imbalance_1.hist(bins=30)"
   ]
  },
  {
   "cell_type": "code",
   "execution_count": 495,
   "id": "6ad82cb1-87a0-449a-bb0d-10b7f62d949f",
   "metadata": {},
   "outputs": [
    {
     "data": {
      "text/plain": [
       "<AxesSubplot:xlabel='macd_12_26_9'>"
      ]
     },
     "execution_count": 495,
     "metadata": {},
     "output_type": "execute_result"
    },
    {
     "data": {
      "image/png": "[encoded data removed]",
      "text/plain": [
       "<Figure size 165.6x82.8 with 1 Axes>"
      ]
     },
     "metadata": {
      "needs_background": "light"
     },
     "output_type": "display_data"
    }
   ],
   "source": [
    "(stds).plot()"
   ]
  },
  {
   "cell_type": "code",
   "execution_count": 525,
   "id": "f9302bf3-22f2-4909-9ca9-0f5878a09336",
   "metadata": {},
   "outputs": [
    {
     "data": {
      "image/png": "[encoded data removed]",
      "text/plain": [
       "<Figure size 165.6x82.8 with 2 Axes>"
      ]
     },
     "metadata": {
      "needs_background": "light"
     },
     "output_type": "display_data"
    }
   ],
   "source": [
    "rescale_plot(2.3, True)\n",
    "fwd_cols_    = ['fwd_price_move_70']\n",
    "\n",
    "fig, (ax, ax2) = plt.subplots(1, 2, constrained_layout=True, sharex=True, sharey=True)\n",
    "\n",
    "# macd\n",
    "avgs = pd.concat((pd.concat((dic_results[s][0][colname] for s in dic_results.keys()), axis=1).mean(axis=1).dropna() for colname in fwd_cols_), axis=1)\n",
    "stds = (pd.concat( (dic_results[key_][1][fwd_cols_] for key_ in dic_results.keys()), axis=1).std(axis=1).to_frame())\n",
    "avgs.plot(ax=ax, color='k', linewidth=3)\n",
    "\n",
    "# imbalance\n",
    "avgs = pd.concat((pd.concat((dic_results[s][2][colname] for s in dic_results.keys()), axis=1).mean(axis=1).dropna() for colname in fwd_cols_), axis=1)\n",
    "avgs.rolling(2).mean().plot(ax=ax2, color='k', linewidth=3)\n",
    "\n",
    "\n",
    "ax.legend([], handlelength=0.2, framealpha=0.2, loc='lower right')\n",
    "ax2.legend([], handlelength=0.2, framealpha=0.2, loc='lower right')\n",
    "\n",
    "ax.set_xlim( -1, 1)\n",
    "ax2.set_xlim( -1, 1)\n",
    "\n",
    "# ax.set_ylim( -0.2, 0.2)\n",
    "\n",
    "for aax in (ax, ax2):\n",
    "    aax.yaxis.set_label_position(\"left\")\n",
    "    aax.grid(axis='both',  linestyle='-', linewidth=0.5)\n",
    "    aax.set_axisbelow(True)\n",
    "\n",
    "ax.tick_params(\"y\", left=False, labelleft=False)\n",
    "ax2.tick_params(\"y\", right=True, labelright=True)\n",
    "\n",
    "ax.set_ylabel('Ticks')\n",
    "ax2.set_xlabel('Imbalance')\n",
    "ax.set_xlabel('MACD')\n",
    "\n",
    "plt.savefig('AOE2.pdf', bbox_inches='tight')\n",
    "plt.show()\n",
    "\n",
    "# plt.show()"
   ]
  },
  {
   "cell_type": "code",
   "execution_count": 526,
   "id": "e09eb724-bd73-4ee4-a263-6d88cdbedf5a",
   "metadata": {},
   "outputs": [
    {
     "data": {
      "text/html": [
       "<div>\n",
       "<style scoped>\n",
       "    .dataframe tbody tr th:only-of-type {\n",
       "        vertical-align: middle;\n",
       "    }\n",
       "\n",
       "    .dataframe tbody tr th {\n",
       "        vertical-align: top;\n",
       "    }\n",
       "\n",
       "    .dataframe thead th {\n",
       "        text-align: right;\n",
       "    }\n",
       "</style>\n",
       "<table border=\"1\" class=\"dataframe\">\n",
       "  <thead>\n",
       "    <tr style=\"text-align: right;\">\n",
       "      <th></th>\n",
       "      <th>0</th>\n",
       "    </tr>\n",
       "    <tr>\n",
       "      <th>imbalance_1</th>\n",
       "      <th></th>\n",
       "    </tr>\n",
       "  </thead>\n",
       "  <tbody>\n",
       "    <tr>\n",
       "      <th>-1.00</th>\n",
       "      <td>1917.220532</td>\n",
       "    </tr>\n",
       "    <tr>\n",
       "      <th>-0.99</th>\n",
       "      <td>11762.722433</td>\n",
       "    </tr>\n",
       "    <tr>\n",
       "      <th>-0.98</th>\n",
       "      <td>12426.513308</td>\n",
       "    </tr>\n",
       "    <tr>\n",
       "      <th>-0.97</th>\n",
       "      <td>6363.809886</td>\n",
       "    </tr>\n",
       "    <tr>\n",
       "      <th>-0.96</th>\n",
       "      <td>10314.197719</td>\n",
       "    </tr>\n",
       "    <tr>\n",
       "      <th>...</th>\n",
       "      <td>...</td>\n",
       "    </tr>\n",
       "    <tr>\n",
       "      <th>0.96</th>\n",
       "      <td>9112.224335</td>\n",
       "    </tr>\n",
       "    <tr>\n",
       "      <th>0.97</th>\n",
       "      <td>5693.718631</td>\n",
       "    </tr>\n",
       "    <tr>\n",
       "      <th>0.98</th>\n",
       "      <td>10320.612167</td>\n",
       "    </tr>\n",
       "    <tr>\n",
       "      <th>0.99</th>\n",
       "      <td>9383.954373</td>\n",
       "    </tr>\n",
       "    <tr>\n",
       "      <th>1.00</th>\n",
       "      <td>1549.338403</td>\n",
       "    </tr>\n",
       "  </tbody>\n",
       "</table>\n",
       "<p>201 rows × 1 columns</p>\n",
       "</div>"
      ],
      "text/plain": [
       "                        0\n",
       "imbalance_1              \n",
       "-1.00         1917.220532\n",
       "-0.99        11762.722433\n",
       "-0.98        12426.513308\n",
       "-0.97         6363.809886\n",
       "-0.96        10314.197719\n",
       "...                   ...\n",
       " 0.96         9112.224335\n",
       " 0.97         5693.718631\n",
       " 0.98        10320.612167\n",
       " 0.99         9383.954373\n",
       " 1.00         1549.338403\n",
       "\n",
       "[201 rows x 1 columns]"
      ]
     },
     "execution_count": 526,
     "metadata": {},
     "output_type": "execute_result"
    }
   ],
   "source": [
    "avgs"
   ]
  },
  {
   "cell_type": "code",
   "execution_count": 57,
   "id": "d0e5c371-aac5-4bff-8376-4d34f70d6b6a",
   "metadata": {},
   "outputs": [],
   "source": [
    "i=1\n",
    "avgs1 = pd.concat((pd.concat((dic_results[s][2*i+1][colname] for s in dic_results.keys()), axis=1\n",
    "                            ).dropna().mean(axis=1).rolling(5).mean() for colname in all_fwd_cols), axis=1)    \n",
    "avgs1.columns = all_fwd_cols\n",
    "avgs1.fillna(method='bfill').to_pickle('macd_model.pkl')\n",
    "\n",
    "i=0\n",
    "avgs2 = pd.concat((pd.concat((dic_results[s][2*i+1][colname] for s in dic_results.keys()), axis=1\n",
    "                            ).dropna().mean(axis=1).rolling(5).mean() for colname in all_fwd_cols), axis=1)    \n",
    "avgs2.columns = all_fwd_cols\n",
    "avgs2.fillna(method='bfill').to_pickle('macd_model.pkl')\n",
    "# avgs2.fillna(method='bfill').to_pickle('imb_model.pkl')"
   ]
  },
  {
   "cell_type": "code",
   "execution_count": null,
   "id": "cd4913c2",
   "metadata": {},
   "outputs": [],
   "source": [
    "# # rolling averaged predicted movement\n",
    "# fig, (ax1, ax2) = plt.subplots(1, 2, figsize=(12, 6), sharex=True)\n",
    "\n",
    "# predictive_feature = 'imbalance_1_rounded'\n",
    "# rolling_predictive_power = LOB_features_predictive[[predictive_feature, 'Avg_price_move_60']]\n",
    "# reindex_features = LOB_features.loc[rolling_predictive_power.index]\n",
    "# # rolling_predictive_power.index = .timestamp\n",
    "# rolling_predictive_power = pd.concat( (rolling_predictive_power.iloc[-i:-i+3000].groupby(predictive_feature).mean().T/tick_size for i in range(3001,len(rolling_predictive_power),1000)), axis=0)\n",
    "# rolling_predictive_power.index = (reindex_features.timestamp.values[-i+3000] for i in range(3001,len(LOB_features_predictive),1000))\n",
    "# rolling_predictive_power[::-1].loc[:,np.sort(LOB_features_predictive[predictive_feature].unique())].loc[:, -1:-0.75].fillna(method='ffill').mean(axis=1).plot(color='k', ax=ax1)\n",
    "\n",
    "# predictive_feature = 'price_trend_2_rounded'\n",
    "# rolling_predictive_power = LOB_features_predictive[[predictive_feature, 'Avg_price_move_60']]\n",
    "# reindex_features = LOB_features.loc[rolling_predictive_power.index]\n",
    "# # rolling_predictive_power.index = .timestamp\n",
    "# rolling_predictive_power = pd.concat( (rolling_predictive_power.iloc[-i:-i+3000].groupby(predictive_feature).mean().T/tick_size for i in range(3001,len(rolling_predictive_power),1000)), axis=0)\n",
    "# rolling_predictive_power.index = (reindex_features.timestamp.values[-i+3000] for i in range(3001,len(LOB_features_predictive),1000))\n",
    "# rolling_predictive_power[::-1].loc[:,np.sort(LOB_features_predictive[predictive_feature].unique())].loc[:, -0.004:-0.002].fillna(method='ffill').mean(axis=1).plot(color='k', ax=ax2)"
   ]
  },
  {
   "cell_type": "markdown",
   "id": "affbc087",
   "metadata": {},
   "source": [
    "# Evidence of non stationarity"
   ]
  },
  {
   "cell_type": "code",
   "execution_count": null,
   "id": "19a2231e",
   "metadata": {},
   "outputs": [],
   "source": [
    "trade_date    = '2014-09-02'\n",
    "tick_size     = 0.001\n",
    "LOB_data      = get_LOB_data(f'{os.getcwd()}/{data_path}' , asset_name, trade_date)\n",
    "LOB_features  = get_features(LOB_data,\n",
    "                             trade_date = trade_date,\n",
    "                             trend      = ({'w' : 50},),\n",
    "                             vol        = (),\n",
    "                             depth      = {'w' : 500})\n",
    "LOB_features_predictive = LOB_features[['imbalance_1_rounded',\n",
    "                                        'imbalance_2_rounded',\n",
    "                                        \"trend_0_rounded\",'fwd_price_move_5', 'fwd_price_move_10', \n",
    "                                        'fwd_price_move_20', 'fwd_price_move_50', 'fwd_price_move_100']].dropna()"
   ]
  },
  {
   "cell_type": "code",
   "execution_count": null,
   "id": "334f220e",
   "metadata": {},
   "outputs": [],
   "source": [
    "fwd_cols             = ['fwd_price_move_5', 'fwd_price_move_20', 'fwd_price_move_50', 'fwd_price_move_100']\n",
    "predictive_feature_1 = 'imbalance_1_rounded'\n",
    "predictive_feature_2 = 'imbalance_2_rounded'\n",
    "fwd_window           = 'fwd_price_move_50'\n",
    "\n",
    "df_predictive_power  = LOB_features_predictive[[fwd_window, predictive_feature_1, predictive_feature_2]]\n",
    "df_predictive_power[fwd_window] = df_predictive_power[fwd_window]/tick_size"
   ]
  },
  {
   "cell_type": "code",
   "execution_count": null,
   "id": "714316e1",
   "metadata": {},
   "outputs": [],
   "source": [
    "avgs1_ = avgs1.reindex(avgs1.index.union(df_predictive_power[predictive_feature_1].unique())).sort_index().fillna(method='ffill').fillna(method='bfill')\n",
    "avgs2_ = avgs2.reindex(avgs2.index.union(df_predictive_power[predictive_feature_2].unique())).sort_index().fillna(method='ffill').fillna(method='bfill')\n",
    "\n",
    "avgs1_     = avgs1_[fwd_window]\n",
    "avgs2_     = avgs2_[fwd_window]"
   ]
  },
  {
   "cell_type": "code",
   "execution_count": null,
   "id": "a7b6af89",
   "metadata": {},
   "outputs": [],
   "source": [
    "# avgs1"
   ]
  },
  {
   "cell_type": "code",
   "execution_count": null,
   "id": "3a011bdd",
   "metadata": {},
   "outputs": [],
   "source": [
    "rolling_w            = 5000\n",
    "lastwindow           = '4h'\n",
    "\n",
    "# df_predictive_power[predictive_feature_1] = df_predictive_power[predictive_feature_1].round(4)\n",
    "# df_predictive_power[predictive_feature_1] = df_predictive_power[predictive_feature_1].round(2)\n",
    "\n",
    "df_predictive_power['predictive_move_feature_1'] = avgs1_.loc[df_predictive_power[predictive_feature_1]].values\n",
    "df_predictive_power['predictive_move_feature_2'] = avgs2_.loc[df_predictive_power[predictive_feature_2]].values\n",
    "\n",
    "print(LOB_features.timestamp.diff(rolling_w).mean()/np.timedelta64(1,\"s\"))\n",
    "\n",
    "df_predictive_power['MAE_feature_1'] = ((df_predictive_power[fwd_window] - \\\n",
    "                                        df_predictive_power[\"predictive_move_feature_1\"]).abs()\n",
    "                                       ).rolling(rolling_w, min_periods=rolling_w).mean()\n",
    "\n",
    "df_predictive_power['MAE_feature_2'] = ((df_predictive_power[fwd_window] - \\\n",
    "                                        df_predictive_power[\"predictive_move_feature_2\"]).abs()\n",
    "                                       ).rolling(rolling_w, min_periods=rolling_w).mean()\n",
    "\n",
    "# df_predictive_power = df_predictive_power.iloc[0:len(df_predictive_power):rolling_w]\n",
    "\n",
    "best_dynamics_feature = df_predictive_power[['MAE_feature_1', 'MAE_feature_2']].idxmin(axis=1).dropna()\n",
    "\n",
    "best_dynamics_feature[ best_dynamics_feature== 'MAE_feature_1'] = 1\n",
    "best_dynamics_feature[ best_dynamics_feature== 'MAE_feature_2'] = 2\n",
    "\n",
    "print(len(np.diff(best_dynamics_feature.diff(1)[best_dynamics_feature.diff(1)!=0])))\n",
    "print(np.mean(np.diff(best_dynamics_feature.diff(1)[best_dynamics_feature.diff(1)!=0].index.values)))\n",
    "\n",
    "fig, (ax1, ax2) = plt.subplots(1, 2)\n",
    "\n",
    "pd.concat((LOB_features.loc[best_dynamics_feature.index].timestamp, \n",
    "           best_dynamics_feature), axis=1\n",
    "         ).set_index('timestamp').first(lastwindow).plot(ax=ax1)\n",
    "\n",
    "pd.concat((LOB_features.loc[best_dynamics_feature.index].timestamp, best_dynamics_feature\n",
    "          ), axis=1).set_index('timestamp').last(lastwindow).plot(ax=ax2)"
   ]
  },
  {
   "cell_type": "code",
   "execution_count": null,
   "id": "1d35432a",
   "metadata": {},
   "outputs": [],
   "source": [
    "# w = 1000000\n",
    "\n",
    "df_to_plot = pd.concat((LOB_features.loc[df_predictive_power.index].timestamp, \n",
    "                        df_predictive_power), axis=1)\n",
    "# plt.plot(LOB_features.loc[df_predictive_power.iloc[:w].index].timestamp.values,\n",
    "#           df_predictive_power[['MAE_feature_1']].iloc[:w].values, color='k')\n",
    "# plt.plot(LOB_features.loc[df_predictive_power.iloc[:w].index].timestamp.values,\n",
    "#           df_predictive_power[['MAE_feature_2']].iloc[:w].values, color='blue')\n",
    "# df_to_plot.set_index('timestamp').last('8h')[['MAE_feature_1', 'MAE_feature_2']].plot()\n",
    "df_to_plot.reset_index().iloc[-200000:][['MAE_feature_1', 'MAE_feature_2']].plot()\n"
   ]
  },
  {
   "cell_type": "code",
   "execution_count": null,
   "id": "c69820ca",
   "metadata": {},
   "outputs": [],
   "source": [
    "LOB_features.loc[df_predictive_power.iloc[-w:].index].timestamp.values"
   ]
  },
  {
   "cell_type": "code",
   "execution_count": null,
   "id": "bdda2905",
   "metadata": {},
   "outputs": [],
   "source": [
    "cols = rolling_predictive_power.Avg_price_move_60.unique()"
   ]
  }
 ],
 "metadata": {
  "kernelspec": {
   "display_name": "Python 3 (ipykernel)",
   "language": "python",
   "name": "python3"
  },
  "language_info": {
   "codemirror_mode": {
    "name": "ipython",
    "version": 3
   },
   "file_extension": ".py",
   "mimetype": "text/x-python",
   "name": "python",
   "nbconvert_exporter": "python",
   "pygments_lexer": "ipython3",
   "version": "3.10.9"
  }
 },
 "nbformat": 4,
 "nbformat_minor": 5
}
