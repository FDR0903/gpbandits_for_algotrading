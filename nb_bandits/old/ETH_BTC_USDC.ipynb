{
 "cells": [
  {
   "cell_type": "code",
   "execution_count": 2,
   "metadata": {},
   "outputs": [],
   "source": [
    "from   IPython.display import display, HTML\n",
    "import numpy as np\n",
    "import matplotlib.pyplot as plt\n",
    "import matplotlib.ticker as mtick\n",
    "import matplotlib.dates as md\n",
    "import scipy\n",
    "from scipy.integrate import solve_ivp\n",
    "import pandas as pd\n",
    "import datetime\n",
    "from statsmodels.tsa.api import VAR\n",
    "from IPython.display import clear_output"
   ]
  },
  {
   "cell_type": "code",
   "execution_count": 3,
   "metadata": {
    "scrolled": true,
    "tags": []
   },
   "outputs": [
    {
     "data": {
      "text/html": [
       "<style>.container { width:100% !important; }</style>"
      ],
      "text/plain": [
       "<IPython.core.display.HTML object>"
      ]
     },
     "metadata": {},
     "output_type": "display_data"
    }
   ],
   "source": [
    "pd.set_option('display.width', 1000)\n",
    "display(HTML(\"<style>.container { width:100% !important; }</style>\"))\n",
    "pd.set_option('mode.chained_assignment', None)\n",
    "\n",
    "fmt     = '\\${x:,.2f}'\n",
    "tick    = mtick.StrMethodFormatter(fmt)\n",
    "tick2   = mtick.StrMethodFormatter('\\${x:,.0f}')\n",
    "normal  = mtick.StrMethodFormatter('{x:,.0f}')\n",
    "normal2 = mtick.StrMethodFormatter('{x:,.2f}')"
   ]
  },
  {
   "cell_type": "markdown",
   "metadata": {},
   "source": [
    "# Functions for the notebook"
   ]
  },
  {
   "cell_type": "code",
   "execution_count": 3,
   "metadata": {},
   "outputs": [],
   "source": [
    "def rescale_plot(W=5, l=6, w=3, fontsize=10):\n",
    "    plt.rcParams.update({\n",
    "            'figure.figsize': (W, W/(l/w)),     # 6:3 aspect ratio\n",
    "            'font.size' : fontsize,                   # Set font size to 11pt\n",
    "            'axes.labelsize': fontsize,               # -> axis labels\n",
    "            'legend.fontsize': fontsize,              # -> legends\n",
    "            'font.family': 'lmodern',\n",
    "            'text.usetex': True,\n",
    "            'text.latex.preamble':             # LaTeX preamble\n",
    "                r\"\\usepackage{amssymb}\\usepackage{lmodern}\\usepackage{amsfonts}\\usepackage{amsmath}\"\n",
    "                # ... more packages if needed\n",
    "            \n",
    "        })"
   ]
  },
  {
   "cell_type": "code",
   "execution_count": 4,
   "metadata": {},
   "outputs": [],
   "source": [
    "def make_patch_spines_invisible(ax):\n",
    "    ax.set_frame_on(True)\n",
    "    ax.patch.set_visible(False)\n",
    "    for sp in ax.spines.values():\n",
    "        sp.set_visible(False)\n",
    "\n",
    "def alignYaxes(axes, align_values=None):\n",
    "    from matplotlib.pyplot import MaxNLocator\n",
    "\n",
    "    nax=len(axes)\n",
    "    ticks=[aii.get_yticks() for aii in axes]\n",
    "    if align_values is None:\n",
    "        aligns=[ticks[ii][0] for ii in range(nax)]\n",
    "    else:\n",
    "        if len(align_values) != nax:\n",
    "            raise Exception(\"Length of <axes> doesn't equal that of <align_values>.\")\n",
    "        aligns=align_values\n",
    "\n",
    "    bounds=[aii.get_ylim() for aii in axes]\n",
    "\n",
    "    # align at some points\n",
    "    ticks_align=[ticks[ii]-aligns[ii] for ii in range(nax)]\n",
    "\n",
    "    # scale the range to 1-100\n",
    "    ranges=[tii[-1]-tii[0] for tii in ticks]\n",
    "    lgs=[-np.log10(rii)+2. for rii in ranges]\n",
    "    igs=[np.floor(ii) for ii in lgs]\n",
    "    log_ticks=[ticks_align[ii]*(10.**igs[ii]) for ii in range(nax)]\n",
    "\n",
    "    # put all axes ticks into a single array, then compute new ticks for all\n",
    "    comb_ticks=np.concatenate(log_ticks)\n",
    "    comb_ticks.sort()\n",
    "    locator=MaxNLocator(nbins='auto', steps=[1, 2, 2.5, 3, 4, 5, 8, 10])\n",
    "    new_ticks=locator.tick_values(comb_ticks[0], comb_ticks[-1])\n",
    "    new_ticks=[new_ticks/10.**igs[ii] for ii in range(nax)]\n",
    "    new_ticks=[new_ticks[ii]+aligns[ii] for ii in range(nax)]\n",
    "\n",
    "    # find the lower bound\n",
    "    idx_l=0\n",
    "    for i in range(len(new_ticks[0])):\n",
    "        if any([new_ticks[jj][i] > bounds[jj][0] for jj in range(nax)]):\n",
    "            idx_l=i-1\n",
    "            break\n",
    "\n",
    "    # find the upper bound\n",
    "    idx_r=0\n",
    "    for i in range(len(new_ticks[0])):\n",
    "        if all([new_ticks[jj][i] > bounds[jj][1] for jj in range(nax)]):\n",
    "            idx_r=i\n",
    "            break\n",
    "\n",
    "    # trim tick lists by bounds\n",
    "    new_ticks=[tii[idx_l:idx_r+1] for tii in new_ticks]\n",
    "\n",
    "    # set ticks for each axis\n",
    "    for axii, tii in zip(axes, new_ticks):\n",
    "        axii.set_yticks(tii)\n",
    "\n",
    "    return new_ticks"
   ]
  },
  {
   "cell_type": "code",
   "execution_count": 5,
   "metadata": {},
   "outputs": [],
   "source": [
    "def getCointRelations_(Prices, dt): # 1min):\n",
    "    d            = len(Prices.columns)\n",
    "    Prices       = Prices.reset_index(drop=True)\n",
    "    model        = VAR(Prices.dropna())\n",
    "    model_fitted = model.fit(1)\n",
    "    C            = model_fitted.coefs\n",
    "    R            = -scipy.linalg.logm(C[0]) / dt\n",
    "    cointV       = np.linalg.inv(np.linalg.eig(R)[1])\n",
    "    Sbar         = np.linalg.inv(np.eye(d) - scipy.linalg.expm(-R  * dt) ) @ model_fitted.coefs_exog\n",
    "    RR           = scipy.sparse.kronsum(R, R).toarray()\n",
    "    Sigmat       = model_fitted.resid.cov().values \n",
    "    Sigma        = np.linalg.inv((np.eye(d*d) - scipy.linalg.expm(- RR * dt))) @ RR @ np.array(np.hstack(Sigmat.T))\n",
    "    Sigma        = np.reshape(Sigma, (d,d))\n",
    "    return R, cointV, model_fitted, Sbar[:, 0], Sigma"
   ]
  },
  {
   "cell_type": "markdown",
   "metadata": {},
   "source": [
    "# Data download"
   ]
  },
  {
   "cell_type": "code",
   "execution_count": 6,
   "metadata": {},
   "outputs": [],
   "source": [
    "pool1 = 'USDC_WETH_500.csv'\n",
    "pool2 = 'WBTC_USDC_3000.csv'\n",
    "\n",
    "pair1 = 'ETHUSDT.csv'\n",
    "pair2 = 'BTCUSDT.csv'\n",
    "\n",
    "if False:\n",
    "    Swapdata1 = pd.read_csv(pool1,infer_datetime_format=True).set_index('swapIndex')#.resample('1')\n",
    "    Swapdata2 = pd.read_csv(pool2,infer_datetime_format=True).set_index('swapIndex')#.resample('1')\n",
    "\n",
    "    binancedata1 = pd.read_csv(pair1,infer_datetime_format=True).rename(columns={'Unnamed: 0':'timestamp'})\n",
    "    binancedata2 = pd.read_csv(pair2,infer_datetime_format=True).rename(columns={'Unnamed: 0':'timestamp'})\n",
    "    \n",
    "    # add kappa data\n",
    "    Swapdata1 = Swapdata1[~Swapdata1.index.duplicated()].sort_index()\n",
    "    Swapdata1['poolPricePrev'] = Swapdata1['poolPrice'].shift(1)\n",
    "    Swapdata1['dSwapIndex']    = [0]+list(np.diff(Swapdata1.index))    \n",
    "    Swapdata1['kappa']         = np.nan\n",
    "    goodSwapData               = Swapdata1[ ((Swapdata1.amountUSD.abs()>10) & (Swapdata1.dSwapIndex == 1))]\n",
    "    Swapdata1.loc[goodSwapData.index, 'kappa'] = goodSwapData['amount1'].astype(float) /   (goodSwapData['poolPrice'].astype(float)**-0.5 - goodSwapData['poolPricePrev'].astype(float)**-0.5)\n",
    "\n",
    "    # add kappa data for \n",
    "    Swapdata2 = Swapdata2[~Swapdata2.index.duplicated()].sort_index()\n",
    "    Swapdata2['poolPrice']     = 1/Swapdata2['poolPrice']\n",
    "    Swapdata2['poolPricePrev'] = Swapdata2['poolPrice'].shift(1)\n",
    "    Swapdata2['dSwapIndex']    = [0]+list(np.diff(Swapdata2.index))    \n",
    "    Swapdata2['kappa']         = np.nan\n",
    "    goodSwapData               = Swapdata2[ ((Swapdata2.amountUSD.abs()>10) & (Swapdata2.dSwapIndex == 1))]\n",
    "    Swapdata2.loc[goodSwapData.index, 'kappa'] = goodSwapData['amount0'].astype(float) /   (goodSwapData['poolPrice'].astype(float)**-0.5 - goodSwapData['poolPricePrev'].astype(float)**-0.5)\n",
    "\n",
    "    Swapdata1['timestamp']    = pd.to_datetime(Swapdata1['timestamp'])\n",
    "    Swapdata2['timestamp']    = pd.to_datetime(Swapdata2['timestamp'])\n",
    "\n",
    "    binancedata1['timestamp'] = pd.to_datetime(binancedata1['timestamp'])\n",
    "    binancedata2['timestamp'] = pd.to_datetime(binancedata2['timestamp'])\n",
    "    \n",
    "    from_date = '2022-01-01 00:00'\n",
    "    to_date   = '2022-07-01 00:00'\n",
    "\n",
    "    Swapdata1    = Swapdata1[ ((Swapdata1.timestamp<=to_date) & (Swapdata1.timestamp>=from_date))]\n",
    "    Swapdata2    = Swapdata2[ ((Swapdata2.timestamp<=to_date) & (Swapdata2.timestamp>=from_date))]\n",
    "    binancedata1 = binancedata1[ ((binancedata1.timestamp<=to_date) & (binancedata1.timestamp>=from_date))]\n",
    "    binancedata2 = binancedata2[ ((binancedata2.timestamp<=to_date) & (binancedata2.timestamp>=from_date))]\n",
    "    \n",
    "    Swapdata1[['timestamp','poolPrice', 'amountUSD',  'amount0', 'amount1', 'kappa']].to_pickle(\"Swapdata1.pkl\")\n",
    "    Swapdata2[['timestamp','poolPrice', 'amountUSD',  'amount0', 'amount1', 'kappa']].to_pickle(\"Swapdata2.pkl\")\n",
    "    binancedata1[['timestamp', 'Open', 'Close', 'Volume']].to_pickle(\"binancedata1.pkl\")\n",
    "    binancedata2[['timestamp', 'Open', 'Close', 'Volume']].to_pickle(\"binancedata2.pkl\")\n",
    "else:\n",
    "    Swapdata1 = pd.read_pickle('Swapdata1.pkl')\n",
    "    Swapdata2 = pd.read_pickle('Swapdata2.pkl')\n",
    "    binancedata1 = pd.read_pickle('binancedata1.pkl')\n",
    "    binancedata2 = pd.read_pickle('binancedata2.pkl')"
   ]
  },
  {
   "cell_type": "markdown",
   "metadata": {},
   "source": [
    "# Data statistics"
   ]
  },
  {
   "cell_type": "code",
   "execution_count": 7,
   "metadata": {},
   "outputs": [
    {
     "name": "stdout",
     "output_type": "stream",
     "text": [
      "Uniswap volume for ETHUSDC:  129.79539863094269\n",
      "Uniswap volume for BTCUSDC:  5.088557410838686\n",
      "Binance volume for ETHUSDC:  267.4473617859828\n",
      "Binance volume for BTCUSDC:  358.3759305863686\n"
     ]
    }
   ],
   "source": [
    "print('Uniswap volume for ETHUSDC: ', Swapdata1.amountUSD.sum()/1e9)\n",
    "print('Uniswap volume for BTCUSDC: ', Swapdata2.amountUSD.sum()/1e9)\n",
    "print('Binance volume for ETHUSDC: ', (binancedata1.Volume*binancedata1.Close).sum()/1e9)\n",
    "print('Binance volume for BTCUSDC: ', (binancedata2.Volume*binancedata2.Close).sum()/1e9)"
   ]
  },
  {
   "cell_type": "code",
   "execution_count": 8,
   "metadata": {},
   "outputs": [
    {
     "name": "stdout",
     "output_type": "stream",
     "text": [
      "Uniswap frequency for ETHUSDC:  13 seconds\n",
      "Uniswap frequency for BTCUSDC:  380 seconds\n",
      "Binance frequency for ETHUSDC:  0.12969722813705853 seconds\n",
      "Binance frequency for BTCUSDC:  1.4895673657857327 seconds\n"
     ]
    }
   ],
   "source": [
    "print('Uniswap frequency for ETHUSDC: ', int(np.mean(np.diff(Swapdata1.timestamp)/1e9)), \"seconds\")\n",
    "print('Uniswap frequency for BTCUSDC: ', int(np.mean(np.diff(Swapdata2.timestamp)/1e9)), \"seconds\")\n",
    "print('Binance frequency for ETHUSDC: ', 60/binancedata1.Volume.mean(), \"seconds\")\n",
    "print('Binance frequency for BTCUSDC: ', 60/binancedata2.Volume.mean(), \"seconds\")"
   ]
  },
  {
   "cell_type": "markdown",
   "metadata": {},
   "source": [
    "# Co-movement analysis"
   ]
  },
  {
   "cell_type": "code",
   "execution_count": 9,
   "metadata": {},
   "outputs": [
    {
     "data": {
      "image/png": "[encoded data removed]",
      "text/plain": [
       "<Figure size 360x180 with 2 Axes>"
      ]
     },
     "metadata": {
      "needs_background": "light"
     },
     "output_type": "display_data"
    }
   ],
   "source": [
    "rescale_plot(W=5, l=6, w=3, fontsize=10)\n",
    "\n",
    "fig, ax1 = plt.subplots(1, 1, constrained_layout=True)\n",
    "ax2      = ax1.twinx()\n",
    "\n",
    "ax1.plot(Swapdata1.set_index(\"timestamp\").poolPrice.resample('5min').last(), color='k', lw=1)\n",
    "ax2.plot(Swapdata2.set_index(\"timestamp\").poolPrice.resample('5min').last(), color='steelblue', lw=1.5, alpha=0.8)\n",
    "\n",
    "ax1.tick_params('y',colors='k')\n",
    "ax2.tick_params('y',colors='darkblue')\n",
    "\n",
    "for ax in (ax1, ax2):\n",
    "    ax.grid(axis='both', color='gainsboro', linestyle='-', linewidth=0.5)\n",
    "    ax.set_axisbelow(True)\n",
    "    ax.yaxis.set_major_formatter(tick2)\n",
    "\n",
    "ax1.yaxis.set_label_position(\"left\")\n",
    "ax2.yaxis.set_label_position(\"right\")\n",
    "\n",
    "ax1.legend(['ETH'], loc='upper left', fancybox=True, framealpha=0., handlelength=0.3, ncol=1)\n",
    "ax2.legend(['BTC'], loc='upper right', fancybox=True, framealpha=0., handlelength=0.3, ncol=1)\n",
    "\n",
    "ax1.set_ylabel('Instantaneous rate')\n",
    "#ax.set_xlabel('Date')\n",
    "ax1.set_title(r'UNISWAP')\n",
    "#ax1.grid('both')\n",
    "ax1.xaxis.set_major_formatter(md.DateFormatter('%b %Y'))\n",
    "ax1.set_xticks(ax1.get_xticks()[::2])\n",
    "\n",
    "alignYaxes((ax1,ax2))\n",
    "plt.savefig('COINT.pdf', bbox_inches='tight')\n",
    "plt.show()"
   ]
  },
  {
   "cell_type": "code",
   "execution_count": 10,
   "metadata": {},
   "outputs": [],
   "source": [
    "from_date = '2022-04-01 15:00'\n",
    "to_date   = '2022-04-01 17:00'\n",
    "\n",
    "Swapdata2_    = Swapdata2.fillna(method='ffill')[ ((Swapdata2.timestamp<=to_date) & (Swapdata2.timestamp>=from_date))]\n",
    "binancedata2_ = binancedata2.fillna(method='ffill')[ ((binancedata2.timestamp<=to_date) & (binancedata2.timestamp>=from_date))]\n",
    "\n",
    "Swapdata1_    = Swapdata1.fillna(method='ffill')[ ((Swapdata1.timestamp<=to_date) & (Swapdata1.timestamp>=from_date))]\n",
    "binancedata1_ = binancedata1.fillna(method='ffill')[ ((binancedata1.timestamp<=to_date) & (binancedata1.timestamp>=from_date))]"
   ]
  },
  {
   "cell_type": "code",
   "execution_count": 11,
   "metadata": {},
   "outputs": [
    {
     "data": {
      "image/png": "[encoded data removed]",
      "text/plain": [
       "<Figure size 360x135 with 2 Axes>"
      ]
     },
     "metadata": {
      "needs_background": "light"
     },
     "output_type": "display_data"
    }
   ],
   "source": [
    "rescale_plot(W=5, l=8, w=3, fontsize=10)\n",
    "\n",
    "fig, (ax1, ax2) = plt.subplots(1, 2, constrained_layout=True, sharex=True)\n",
    "\n",
    "ax2.plot(Swapdata2_.set_index(\"timestamp\").poolPrice.resample('1min').last().fillna(method='ffill'), color='steelblue', lw=1.5, alpha=0.8)\n",
    "ax2.plot(binancedata2_.set_index(\"timestamp\").Close.resample('1min').last(), color='k', lw=1.5, alpha=0.8)\n",
    "\n",
    "ax1.plot(Swapdata1_.set_index(\"timestamp\").poolPrice.resample('1min').last().fillna(method='ffill'), color='steelblue', lw=1.5, alpha=0.8)\n",
    "ax1.plot(binancedata1_.set_index(\"timestamp\").Close.resample('1min').last(), color='k', lw=1.5, alpha=0.8)\n",
    "\n",
    "for ax in (ax1, ax2):\n",
    "    ax.grid(axis='both')\n",
    "    ax.set_axisbelow(True)\n",
    "    ax.yaxis.set_major_formatter(tick2)\n",
    "    ax.tick_params('y',colors='k')\n",
    "\n",
    "ax1.yaxis.tick_left()\n",
    "ax2.yaxis.tick_right()\n",
    "\n",
    "ax1.yaxis.set_label_position(\"left\")\n",
    "\n",
    "ax1.legend(['Uniswap', 'Binance'], loc='lower right', fancybox=True, framealpha=0., handlelength=0.3, ncol=1)\n",
    "ax2.legend(['Uniswap', 'Binance'], loc='lower right', fancybox=True, framealpha=0., handlelength=0.3, ncol=1)\n",
    "\n",
    "ax1.set_ylabel('Instantaneous rate')\n",
    "ax1.set_title(r'Lead-lag: ETH')\n",
    "ax2.set_title(r'Lead-lag: BTC')\n",
    "ax1.xaxis.set_major_formatter(md.DateFormatter('%H:%M'))\n",
    "ax1.set_xticks(ax1.get_xticks()[::2])\n",
    "\n",
    "alignYaxes((ax1,ax2))\n",
    "plt.savefig('LEADLAG.pdf', bbox_inches='tight')\n",
    "plt.show()"
   ]
  },
  {
   "cell_type": "markdown",
   "metadata": {},
   "source": [
    "# Cointegration analysis"
   ]
  },
  {
   "cell_type": "code",
   "execution_count": 12,
   "metadata": {},
   "outputs": [
    {
     "name": "stdout",
     "output_type": "stream",
     "text": [
      "eigenvectors :\n",
      "[[ 1.          1.          1.          1.        ]\n",
      " [-0.02218232  0.08902653 -0.07240214 -0.14400107]\n",
      " [-1.00251126 -1.003903    0.18636557  0.062554  ]\n",
      " [ 0.02250571 -0.08826871 -0.03774732  0.31939083]]\n",
      "Trace static for the null cointegration rank <= 0 : 11195.966337522726\n",
      "Critical levels for the null : [90%     95%     99%]\n",
      "Critical values for the null : [44.4929 47.8545 54.6815]\n",
      "Trace static for the null cointegration rank <= 1 : 4821.519427445466\n",
      "Critical levels for the null : [90%     95%     99%]\n",
      "Critical values for the null : [27.0669 29.7961 35.4628]\n",
      "Trace static for the null cointegration rank <= 2 : 11.445748050608628\n",
      "Critical levels for the null : [90%     95%     99%]\n",
      "Critical values for the null : [13.4294 15.4943 19.9349]\n",
      "Trace static for the null cointegration rank <= 3 : 0.11631698365529894\n",
      "Critical levels for the null : [90%     95%     99%]\n",
      "Critical values for the null : [2.7055 3.8415 6.6349]\n",
      "2\n"
     ]
    },
    {
     "data": {
      "text/html": [
       "<table class=\"simpletable\">\n",
       "<caption>Johansen cointegration test using trace test statistic with 5% significance level</caption>\n",
       "<tr>\n",
       "  <th>r_0</th> <th>r_1</th> <th>test statistic</th> <th>critical value</th>\n",
       "</tr>\n",
       "<tr>\n",
       "    <td>0</td>   <td>4</td>      <td>1.120e+04</td>          <td>47.85</td>\n",
       "</tr>\n",
       "<tr>\n",
       "    <td>1</td>   <td>4</td>          <td>4822.</td>          <td>29.80</td>\n",
       "</tr>\n",
       "<tr>\n",
       "    <td>2</td>   <td>4</td>          <td>11.45</td>          <td>15.49</td>\n",
       "</tr>\n",
       "</table>"
      ],
      "text/plain": [
       "<class 'statsmodels.iolib.table.SimpleTable'>"
      ]
     },
     "execution_count": 12,
     "metadata": {},
     "output_type": "execute_result"
    }
   ],
   "source": [
    "# np.linalg.matrix_rank(R)\n",
    "from statsmodels.tsa.vector_ar.vecm import coint_johansen\n",
    "from statsmodels.tsa.vector_ar.vecm import select_coint_rank\n",
    "\n",
    "# between binance prices\n",
    "prices1 = binancedata1.set_index('timestamp').Close.resample('5min').last()\n",
    "prices2 = binancedata2.set_index('timestamp').Close.resample('5min').last()\n",
    "prices3 = Swapdata1.set_index(\"timestamp\").poolPrice.resample('5min').last().fillna(method='ffill')\n",
    "prices4 = Swapdata2.set_index(\"timestamp\").poolPrice.resample('5min').last().fillna(method='ffill')\n",
    "\n",
    "prices1 = prices1[~prices1.index.duplicated(keep='first')]\n",
    "prices2 = prices2[~prices2.index.duplicated(keep='first')]\n",
    "prices3 = prices3[~prices3.index.duplicated(keep='first')]\n",
    "prices4 = prices4[~prices4.index.duplicated(keep='first')]\n",
    "\n",
    "Prices  = pd.concat((prices1, prices2, prices3, prices4), axis=1).dropna()\n",
    "timestampIndex = Prices.index\n",
    "Prices = Prices.reset_index(drop=True)\n",
    "    \n",
    "Prices.columns = ['S1', 'S2', 'Z1', 'Z2']\n",
    "\n",
    "result = coint_johansen(Prices, 0, 1)\n",
    "\n",
    "print('eigenvectors :')\n",
    "eigenvectors = result.evec/result.evec[0]\n",
    "print(eigenvectors)\n",
    "\n",
    "print(f'Trace static for the null cointegration rank <= 0 : {result.lr1[0]}')\n",
    "print(f'Critical levels for the null : [90%     95%     99%]')\n",
    "print(f'Critical values for the null : {result.cvt[0]}')\n",
    "\n",
    "print(f'Trace static for the null cointegration rank <= 1 : {result.lr1[1]}')\n",
    "print(f'Critical levels for the null : [90%     95%     99%]')\n",
    "print(f'Critical values for the null : {result.cvt[1]}')\n",
    "\n",
    "print(f'Trace static for the null cointegration rank <= 2 : {result.lr1[2]}')\n",
    "print(f'Critical levels for the null : [90%     95%     99%]')\n",
    "print(f'Critical values for the null : {result.cvt[2]}')\n",
    "\n",
    "print(f'Trace static for the null cointegration rank <= 3 : {result.lr1[3]}')\n",
    "print(f'Critical levels for the null : [90%     95%     99%]')\n",
    "print(f'Critical values for the null : {result.cvt[3]}')\n",
    "\n",
    "# print(f'Trace static for the null cointegration rank <= 1 : {result.lr1[2]}')\n",
    "# print(f'Critical levels for the null : [90%     95%     99%]')\n",
    "# print(f'Critical values for the null : {result.cvt[2]}')\n",
    "print(select_coint_rank(Prices, 0, 1, signif=0.05).rank)\n",
    "select_coint_rank(Prices, 0, 1, signif=0.05).summary()"
   ]
  },
  {
   "cell_type": "code",
   "execution_count": 13,
   "metadata": {},
   "outputs": [],
   "source": [
    "prices1, prices2, prices3, prices4 = binancedata1.set_index('timestamp').Close, binancedata2.set_index('timestamp').Close, Swapdata1.set_index(\"timestamp\").poolPrice, Swapdata2.set_index(\"timestamp\").poolPrice\n",
    "prices1, prices2, prices3, prices4 = prices1[~prices1.index.duplicated(keep='first')], prices2[~prices2.index.duplicated(keep='first')], prices3[~prices3.index.duplicated(keep='first')], prices4[~prices4.index.duplicated(keep='first')]\n",
    "kappas1, kappas2 = Swapdata1.set_index(\"timestamp\").kappa, Swapdata2.set_index(\"timestamp\").kappa\n",
    "kappas1, kappas2 = kappas1[~kappas1.index.duplicated(keep='first')], kappas2[~kappas2.index.duplicated(keep='first')]\n",
    "\n",
    "allPrices  = pd.concat((prices1, prices2, prices3, prices4), axis=1)\n",
    "allkappas  = pd.concat((kappas1, kappas2), axis=1)"
   ]
  },
  {
   "cell_type": "code",
   "execution_count": 14,
   "metadata": {},
   "outputs": [
    {
     "name": "stdout",
     "output_type": "stream",
     "text": [
      "Sbar =  [  977.34054256 19501.29273932   973.84558168 19447.88948222]\n",
      "R = \n"
     ]
    },
    {
     "data": {
      "text/html": [
       "<div>\n",
       "<style scoped>\n",
       "    .dataframe tbody tr th:only-of-type {\n",
       "        vertical-align: middle;\n",
       "    }\n",
       "\n",
       "    .dataframe tbody tr th {\n",
       "        vertical-align: top;\n",
       "    }\n",
       "\n",
       "    .dataframe thead th {\n",
       "        text-align: right;\n",
       "    }\n",
       "</style>\n",
       "<table border=\"1\" class=\"dataframe\">\n",
       "  <thead>\n",
       "    <tr style=\"text-align: right;\">\n",
       "      <th></th>\n",
       "      <th>S1</th>\n",
       "      <th>S2</th>\n",
       "      <th>Z1</th>\n",
       "      <th>Z2</th>\n",
       "    </tr>\n",
       "  </thead>\n",
       "  <tbody>\n",
       "    <tr>\n",
       "      <th>S1</th>\n",
       "      <td>11.82</td>\n",
       "      <td>-0.35</td>\n",
       "      <td>-11.74</td>\n",
       "      <td>0.34</td>\n",
       "    </tr>\n",
       "    <tr>\n",
       "      <th>S2</th>\n",
       "      <td>47.31</td>\n",
       "      <td>-0.15</td>\n",
       "      <td>-47.09</td>\n",
       "      <td>0.14</td>\n",
       "    </tr>\n",
       "    <tr>\n",
       "      <th>Z1</th>\n",
       "      <td>-130.61</td>\n",
       "      <td>3.75</td>\n",
       "      <td>131.43</td>\n",
       "      <td>-3.83</td>\n",
       "    </tr>\n",
       "    <tr>\n",
       "      <th>Z2</th>\n",
       "      <td>740.74</td>\n",
       "      <td>-72.79</td>\n",
       "      <td>-742.45</td>\n",
       "      <td>72.87</td>\n",
       "    </tr>\n",
       "  </tbody>\n",
       "</table>\n",
       "</div>"
      ],
      "text/plain": [
       "        S1     S2      Z1     Z2\n",
       "S1   11.82  -0.35  -11.74   0.34\n",
       "S2   47.31  -0.15  -47.09   0.14\n",
       "Z1 -130.61   3.75  131.43  -3.83\n",
       "Z2  740.74 -72.79 -742.45  72.87"
      ]
     },
     "metadata": {},
     "output_type": "display_data"
    }
   ],
   "source": [
    "allR, cointV, model_fitted, Sbar, Sigma =  getCointRelations_(allPrices.resample('1min').last().dropna(), dt=int(np.mean(np.diff(allPrices.resample('1min').last().dropna().index)/1e9))/60/60/24 ) # 2 days\n",
    "print('Sbar = ', Sbar)\n",
    "print('R = ')\n",
    "display(pd.DataFrame(allR,columns=Prices.columns, index=Prices.columns).round(2))"
   ]
  },
  {
   "cell_type": "markdown",
   "metadata": {},
   "source": [
    "# In-sample estimation - Out-of-Sample trading for one run"
   ]
  },
  {
   "cell_type": "markdown",
   "metadata": {},
   "source": [
    "#### In sample estimation"
   ]
  },
  {
   "cell_type": "code",
   "execution_count": 199,
   "metadata": {},
   "outputs": [],
   "source": [
    "from_date_is = '2022-02-01 00:00'\n",
    "from_date_os = '2022-02-02 00:00'\n",
    "to_date_os   = '2022-02-02 12:00'"
   ]
  },
  {
   "cell_type": "code",
   "execution_count": 200,
   "metadata": {},
   "outputs": [],
   "source": [
    "# in-sample estimation\n",
    "freq_          = '5min'\n",
    "Prices         = allPrices.fillna(method='ffill').resample(freq_).last().loc[from_date_is:from_date_os]\n",
    "timestampIndex = Prices.index\n",
    "Prices         = Prices.reset_index(drop=True)\n",
    "Prices.columns = ['S1', 'S2', 'Z1', 'Z2']"
   ]
  },
  {
   "cell_type": "code",
   "execution_count": 201,
   "metadata": {},
   "outputs": [
    {
     "name": "stdout",
     "output_type": "stream",
     "text": [
      "Sbar =  [ 2772.18820526 38621.02489685  2773.92155142 38640.99648673]\n",
      "R = \n"
     ]
    },
    {
     "data": {
      "text/html": [
       "<div>\n",
       "<style scoped>\n",
       "    .dataframe tbody tr th:only-of-type {\n",
       "        vertical-align: middle;\n",
       "    }\n",
       "\n",
       "    .dataframe tbody tr th {\n",
       "        vertical-align: top;\n",
       "    }\n",
       "\n",
       "    .dataframe thead th {\n",
       "        text-align: right;\n",
       "    }\n",
       "</style>\n",
       "<table border=\"1\" class=\"dataframe\">\n",
       "  <thead>\n",
       "    <tr style=\"text-align: right;\">\n",
       "      <th></th>\n",
       "      <th>S1</th>\n",
       "      <th>S2</th>\n",
       "      <th>Z1</th>\n",
       "      <th>Z2</th>\n",
       "    </tr>\n",
       "  </thead>\n",
       "  <tbody>\n",
       "    <tr>\n",
       "      <th>S1</th>\n",
       "      <td>113.06</td>\n",
       "      <td>0.56</td>\n",
       "      <td>-114.26</td>\n",
       "      <td>1.17</td>\n",
       "    </tr>\n",
       "    <tr>\n",
       "      <th>S2</th>\n",
       "      <td>420.86</td>\n",
       "      <td>13.38</td>\n",
       "      <td>-523.94</td>\n",
       "      <td>16.44</td>\n",
       "    </tr>\n",
       "    <tr>\n",
       "      <th>Z1</th>\n",
       "      <td>-429.20</td>\n",
       "      <td>0.84</td>\n",
       "      <td>434.99</td>\n",
       "      <td>-0.20</td>\n",
       "    </tr>\n",
       "    <tr>\n",
       "      <th>Z2</th>\n",
       "      <td>88.93</td>\n",
       "      <td>-106.51</td>\n",
       "      <td>-42.98</td>\n",
       "      <td>101.09</td>\n",
       "    </tr>\n",
       "  </tbody>\n",
       "</table>\n",
       "</div>"
      ],
      "text/plain": [
       "        S1      S2      Z1      Z2\n",
       "S1  113.06    0.56 -114.26    1.17\n",
       "S2  420.86   13.38 -523.94   16.44\n",
       "Z1 -429.20    0.84  434.99   -0.20\n",
       "Z2   88.93 -106.51  -42.98  101.09"
      ]
     },
     "metadata": {},
     "output_type": "display_data"
    }
   ],
   "source": [
    "R, cointV, model_fitted, Sbar, Sigma =  getCointRelations_(Prices, dt=int(np.mean(np.diff(timestampIndex)/1e9))/60/60/24 ) # 2 days\n",
    "print('Sbar = ', Sbar)\n",
    "print('R = ')\n",
    "display(pd.DataFrame(R,columns=Prices.columns, index=Prices.columns).round(2))"
   ]
  },
  {
   "cell_type": "markdown",
   "metadata": {},
   "source": [
    "## Out of sample"
   ]
  },
  {
   "cell_type": "code",
   "execution_count": 202,
   "metadata": {},
   "outputs": [],
   "source": [
    "q0         = np.array([1000, 100]) # initial inventory\n",
    "eta        = 1/10/24/60 # trading freq\n",
    "phi        = 1e-6\n",
    "T          = 12/24\n",
    "alpha      = np.diag((10, 10))"
   ]
  },
  {
   "cell_type": "code",
   "execution_count": 203,
   "metadata": {},
   "outputs": [],
   "source": [
    "freq_          = '5min'\n",
    "Prices         = allPrices.fillna(method='ffill').resample(freq_).last().loc[from_date_os:to_date_os] #.dropna()\n",
    "timestampIndex = Prices.index\n",
    "Prices         = Prices.reset_index(drop=True)\n",
    "Prices.columns = ['S1', 'S2', 'Z1', 'Z2']\n",
    "\n",
    "Z       = Prices.iloc[:, 2:4]\n",
    "S       = Prices.iloc[:, :2]\n",
    "\n",
    "kappas =  allkappas.resample('1min').last().fillna(method='ffill').loc[from_date_os:to_date_os].loc[timestampIndex]"
   ]
  },
  {
   "cell_type": "code",
   "execution_count": 204,
   "metadata": {},
   "outputs": [],
   "source": [
    "def getspeed(t, qi, SZi, eta, invD, Sbar, A_interp, B_interp):\n",
    "    return (-0.5/eta) * invD @ ( 2* qi@A_interp(t) + B_interp(t)@ ((SZi-Sbar)/SZi))\n",
    "def getspeed_AC(t, qi, SZi, eta, invD, A_interp):\n",
    "    return (-0.5/eta) * invD @ ( 2* qi@A_interp(t))\n",
    "def solve_ABC(phi, tildeSigma, eta, alpha, Xi, R, invD):\n",
    "    ts         = np.linspace(0, T, 100000)\n",
    "    \n",
    "    print('Solving for A')\n",
    "    At         = lambda t, s: (phi* tildeSigma - (1/eta) * np.reshape(s, (2,2)).T @ invD @ np.reshape(s, (2,2))).flatten(order='C')\n",
    "    sol        = solve_ivp(At, [T, 0], -alpha.flatten(order='C'), t_eval=ts[::-1])\n",
    "    A          = sol.y\n",
    "    A_         = np.reshape(A, (2,2,np.shape(A)[1]))[:,:,::-1]\n",
    "    A_interp   = scipy.interpolate.interp1d(ts, A_)\n",
    "    \n",
    "    print('Solving for B')\n",
    "    Bt         = lambda t, s: ( Xi@R.T + np.reshape(s, (2,4))@R.T - (1/eta)*A_interp(t).T@invD@np.reshape(s, (2,4))).flatten(order='C')\n",
    "    sol        = solve_ivp(Bt, [T, 0], np.zeros(shape=(2,4)).flatten(order='C'), t_eval=ts[::-1])\n",
    "    B          = sol.y\n",
    "    B_         = np.reshape(B, (2,4,np.shape(B)[1]))[:,:,::-1]\n",
    "    B_interp   = scipy.interpolate.interp1d(ts, B_)\n",
    "\n",
    "#    print('Solving for C')\n",
    "#    Ct         = lambda t, s: (-Sbar.T@R@Xi.T - Sbar.T@R@B_interp(t).T - (1/eta)*s@invD@A_interp(t)).flatten(order='C')\n",
    "#    sol        = solve_ivp(Ct, [T, 0], np.zeros(shape=(2)), t_eval=ts[::-1])\n",
    "#    C          = sol.y\n",
    "#    C_         = np.reshape(C, (2,np.shape(C)[1]))[:,::-1]\n",
    "#    C_interp   = scipy.interpolate.interp1d(ts, C_)\n",
    "    \n",
    "    return A_interp, B_interp, A_, B_, ts"
   ]
  },
  {
   "cell_type": "code",
   "execution_count": null,
   "metadata": {},
   "outputs": [],
   "source": []
  },
  {
   "cell_type": "code",
   "execution_count": 216,
   "metadata": {},
   "outputs": [
    {
     "name": "stdout",
     "output_type": "stream",
     "text": [
      "D =\n"
     ]
    },
    {
     "data": {
      "text/html": [
       "<div>\n",
       "<style scoped>\n",
       "    .dataframe tbody tr th:only-of-type {\n",
       "        vertical-align: middle;\n",
       "    }\n",
       "\n",
       "    .dataframe tbody tr th {\n",
       "        vertical-align: top;\n",
       "    }\n",
       "\n",
       "    .dataframe thead th {\n",
       "        text-align: right;\n",
       "    }\n",
       "</style>\n",
       "<table border=\"1\" class=\"dataframe\">\n",
       "  <thead>\n",
       "    <tr style=\"text-align: right;\">\n",
       "      <th></th>\n",
       "      <th>0</th>\n",
       "      <th>1</th>\n",
       "    </tr>\n",
       "  </thead>\n",
       "  <tbody>\n",
       "    <tr>\n",
       "      <th>0</th>\n",
       "      <td>0.007284</td>\n",
       "      <td>0.000000</td>\n",
       "    </tr>\n",
       "    <tr>\n",
       "      <th>1</th>\n",
       "      <td>0.000000</td>\n",
       "      <td>0.292027</td>\n",
       "    </tr>\n",
       "  </tbody>\n",
       "</table>\n",
       "</div>"
      ],
      "text/plain": [
       "          0         1\n",
       "0  0.007284  0.000000\n",
       "1  0.000000  0.292027"
      ]
     },
     "metadata": {},
     "output_type": "display_data"
    },
    {
     "name": "stdout",
     "output_type": "stream",
     "text": [
      "Solving for A\n",
      "Solving for B\n"
     ]
    }
   ],
   "source": [
    "convexity_t  = Z.values**1.5 / kappas.values\n",
    "convexity_t[:, 1] = convexity_t[:, 1]/20\n",
    "\n",
    "D            = np.diag(convexity_t[0])\n",
    "print('D ='); display(pd.DataFrame(D))\n",
    "\n",
    "invD       = np.linalg.inv(D)\n",
    "tildeSigma = Z.diff(1).cov().values\n",
    "\n",
    "Xi         = np.array([[0,0,1,0],[0,0,0,1]])\n",
    "\n",
    "R, cointV, model_fitted, Sbar, Sigma =  getCointRelations_(Prices, dt=int(np.mean(np.diff(timestampIndex)/1e9))/60/60/24 ) # 2 days\n",
    "Sbar  = Prices.mean().values\n",
    "\n",
    "# solve A, B, C\n",
    "A_interp, B_interp, A_, B_, ts_ = solve_ABC(phi, tildeSigma, eta, alpha, Xi, allR, invD)"
   ]
  },
  {
   "cell_type": "markdown",
   "metadata": {},
   "source": [
    "### Solving for A and B when t=0"
   ]
  },
  {
   "cell_type": "code",
   "execution_count": 217,
   "metadata": {},
   "outputs": [
    {
     "data": {
      "image/png": "[encoded data removed]",
      "text/plain": [
       "<Figure size 720x216 with 12 Axes>"
      ]
     },
     "metadata": {
      "needs_background": "light"
     },
     "output_type": "display_data"
    }
   ],
   "source": [
    "rescale_plot(W=10, l=10, w=3, fontsize=8)\n",
    "fig, axes=plt.subplots(2, 2+4, constrained_layout=True)\n",
    "for i in range(2):\n",
    "    for j in range(2):\n",
    "        axes[i,j].plot(ts_, A_[i,j,:], color='k', lw=2); axes[i,j].grid('both'); axes[i,j].legend([f'A[{i},{j}]'])\n",
    "for i in range(2):\n",
    "    for j in range(4):\n",
    "        axes[i,2+j].plot(ts_, B_[i,j,:], color='k', lw=2); axes[i,2+j].grid('both'); axes[i,2+j].legend([f'B[{i},{j}]'])\n",
    "plt.show()"
   ]
  },
  {
   "cell_type": "code",
   "execution_count": 218,
   "metadata": {},
   "outputs": [],
   "source": [
    "nb_t = len(Z)\n",
    "dt   = T/nb_t\n",
    "ts   = np.linspace(0, T, nb_t)\n",
    "\n",
    "Z_   = Z.values\n",
    "SZ_  = Prices.values\n",
    "\n",
    "d                   = len(Z.columns)\n",
    "q, q_vwap, q_AC     = np.empty((nb_t, d)), np.empty((nb_t, d)), np.empty((nb_t, d))\n",
    "v, v_vwap, v_AC     = np.empty((nb_t, d)), np.empty((nb_t, d)), np.empty((nb_t, d))\n",
    "X, X_vwap, X_AC     = np.empty(nb_t), np.empty(nb_t), np.empty(nb_t)\n",
    "pnl, pnl_vwap, pnl_AC = np.empty(nb_t), np.empty(nb_t), np.empty(nb_t)\n",
    "\n",
    "SZ0    = SZ_[0]\n",
    "\n",
    "q[0,:] = q0; q_vwap[0,:] = q0; q_AC[0,:] = q0\n",
    "v[0,:] = getspeed(0, q0, SZ0, eta, invD, Sbar, A_interp, B_interp)\n",
    "v_AC[0,:] = getspeed_AC(0, q0, SZ0, eta, invD, A_interp)\n",
    "\n",
    "X[0]   = 0.; X_vwap[0]   = 0.; X_AC[0]   = 0.\n",
    "pnl[0] = 0.; pnl_vwap[0] = 0.; pnl_AC[0] = 0."
   ]
  },
  {
   "cell_type": "code",
   "execution_count": 219,
   "metadata": {},
   "outputs": [],
   "source": [
    "v_vwap = np.ones((nb_t,2))*(q0/nb_t)/dt\n",
    "\n",
    "for t in range(nb_t-1):\n",
    "    # solve for ABC\n",
    "    #print(t)\n",
    "    #A_interp, B_interp, A_, B_, _ = solve_ABC(phi, tildeSigma, eta, alpha, Xi, R, np.linalg.inv(np.diag(convexity_t[t,:])))\n",
    "    v[t,:]   = getspeed(ts[t], q[t,:], SZ_[t], eta, invD, Sbar, A_interp, B_interp)\n",
    "    q[t+1,:] = q[t,:] - v[t,:] * dt\n",
    "    X[t+1]   = X[t] + np.dot(v[t,:],Z_[t,:])*dt - np.dot(v[t,:],dt*np.diag(convexity_t[t,:])@v[t,:])*dt\n",
    "    pnl[t+1] = X[t+1] + np.dot(Z_[t+1,:],q[t+1,:]) - np.dot(Z_[0,:],q[0,:])\n",
    "    \n",
    "    v_AC[t,:]   = getspeed_AC(ts[t], q_AC[t,:], SZ_[t], eta, invD, A_interp)\n",
    "    q_AC[t+1,:] = q_AC[t,:] - v_AC[t,:] * dt\n",
    "    X_AC[t+1]   = X_AC[t] + np.dot(v_AC[t,:],Z_[t,:])*dt - np.dot(v_AC[t,:],dt*np.diag(convexity_t[t,:])@v_AC[t,:])*dt\n",
    "    pnl_AC[t+1] = X_AC[t+1] + np.dot(Z_[t+1,:],q_AC[t+1,:]) - np.dot(Z_[0,:],q_AC[0,:])\n",
    "    \n",
    "    q_vwap[t+1,:] = q_vwap[t,:] - v_vwap[t,:] * dt\n",
    "    X_vwap[t+1]   = X_vwap[t]   + np.dot(v_vwap[t,:],Z_[t,:])*dt - np.dot(v_vwap[t,:],dt*np.diag(convexity_t[t,:])@v_vwap[t,:])*dt\n",
    "    pnl_vwap[t+1] = X_vwap[t+1] + np.dot(Z_[t+1,:],q_vwap[t+1,:]) - np.dot(Z_[0,:],q_vwap[0,:])"
   ]
  },
  {
   "cell_type": "code",
   "execution_count": 231,
   "metadata": {},
   "outputs": [
    {
     "data": {
      "image/png": "[encoded data removed]",
      "text/plain": [
       "<Figure size 432x216 with 4 Axes>"
      ]
     },
     "metadata": {
      "needs_background": "light"
     },
     "output_type": "display_data"
    }
   ],
   "source": [
    "rescale_plot(W=6, l=6, w=3, fontsize=10)\n",
    "\n",
    "fig, ((ax1, ax2), (ax3, ax4)) = plt.subplots(2, 2, constrained_layout=True, sharex=True)\n",
    "\n",
    "ax1.plot(timestampIndex, q[:,0], color='k', lw=2)\n",
    "ax1.plot(timestampIndex, q_vwap[:,0], color='steelblue', lw=2)\n",
    "ax1.plot(timestampIndex, q_AC[:,0], color='green', lw=2)\n",
    "\n",
    "ax2.plot(timestampIndex, q[:,1], color='k', lw=2)\n",
    "ax2.plot(timestampIndex, q_vwap[:,1], color='steelblue', lw=2)\n",
    "ax2.plot(timestampIndex, q_AC[:,1], color='green', lw=2)\n",
    "\n",
    "ax3.plot(timestampIndex, Prices['S1'], color='k', lw=2)\n",
    "ax3.plot(timestampIndex, Prices['Z1'], color='steelblue', lw=2, alpha=0.6)\n",
    "ax4.plot(timestampIndex, Prices['S2'], color='k', lw=2)\n",
    "ax4.plot(timestampIndex, Prices['Z2'], color='steelblue', lw=2)\n",
    "\n",
    "ax1.legend(['Opt. strat.', 'TWAP', 'AC'], loc='upper right', fancybox=True, framealpha=0., handlelength=0.3, ncol=2)\n",
    "#ax2.legend(['Opt. strat.', 'TWAP'], loc='upper left', fancybox=True, framealpha=0., handlelength=0.3, ncol=1)\n",
    "ax3.legend(['Binance', 'Uniswap'], loc='upper right', fancybox=True, framealpha=0., handlelength=0.3, ncol=1)\n",
    "#ax4.legend(['Binance', 'Uniswap'], loc='upper left', fancybox=True, framealpha=0., handlelength=0.3, ncol=1)\n",
    "\n",
    "for ax in (ax1, ax2, ax3, ax4):\n",
    "    ax.grid('both')\n",
    "    #ax.yaxis.label.set_color('grey')\n",
    "    ax.grid(axis='both', color='gainsboro', linestyle='-', linewidth=1)\n",
    "    ax.set_axisbelow(True)\n",
    "    \n",
    "for ax in (ax1, ax3):\n",
    "    ax.yaxis.set_label_position(\"left\")\n",
    "    ax.yaxis.tick_left()\n",
    "    \n",
    "for ax in (ax2, ax4):\n",
    "    ax.yaxis.set_label_position(\"right\")\n",
    "    ax.yaxis.tick_right()\n",
    "    \n",
    "for ax in (ax1, ax2): ax.yaxis.set_major_formatter(normal)\n",
    "for ax in (ax3, ax4): ax.yaxis.set_major_formatter(tick2)\n",
    "#alignYaxes((ax1,ax2))\n",
    "\n",
    "ax1.set_ylabel('Inventory')\n",
    "ax3.set_ylabel('Exchange rate')\n",
    "ax1.set_title(r'ETH'); ax2.set_title(r'BTC')\n",
    "\n",
    "ax1.xaxis.set_major_formatter(md.DateFormatter('%H:%M'))\n",
    "ax3.tick_params(axis='x', rotation=20)\n",
    "ax4.tick_params(axis='x', rotation=20)\n",
    "\n",
    "plt.savefig('Inventory.pdf', bbox_inches='tight')\n",
    "plt.show()"
   ]
  },
  {
   "cell_type": "code",
   "execution_count": 215,
   "metadata": {},
   "outputs": [
    {
     "data": {
      "image/png": "[encoded data removed]",
      "text/plain": [
       "<Figure size 432x216 with 3 Axes>"
      ]
     },
     "metadata": {
      "needs_background": "light"
     },
     "output_type": "display_data"
    }
   ],
   "source": [
    "fig, ax = plt.subplots(3, 1, sharex=True)\n",
    "ax[0].plot(timestampIndex, q[:, 0])\n",
    "ax[1].plot(timestampIndex, Prices.iloc[:,0]-Prices.iloc[:,2])\n",
    "ax[2].plot(timestampIndex, (Prices.values-Sbar)/Sbar)\n",
    "ax[2].xaxis.set_major_formatter(md.DateFormatter('%H:%M'))"
   ]
  },
  {
   "cell_type": "code",
   "execution_count": 27,
   "metadata": {},
   "outputs": [
    {
     "data": {
      "text/plain": [
       "-73852.19014189113"
      ]
     },
     "execution_count": 27,
     "metadata": {},
     "output_type": "execute_result"
    }
   ],
   "source": [
    "pnl[-1]"
   ]
  },
  {
   "cell_type": "code",
   "execution_count": 44,
   "metadata": {},
   "outputs": [
    {
     "data": {
      "text/plain": [
       "[<matplotlib.lines.Line2D at 0x7ff2f3404a30>]"
      ]
     },
     "execution_count": 44,
     "metadata": {},
     "output_type": "execute_result"
    },
    {
     "data": {
      "image/png": "[encoded data removed]",
      "text/plain": [
       "<Figure size 432x216 with 1 Axes>"
      ]
     },
     "metadata": {
      "needs_background": "light"
     },
     "output_type": "display_data"
    }
   ],
   "source": [
    "plt.plot(pnl, 'k')\n",
    "plt.plot(pnl_vwap, \"red\")\n",
    "plt.plot(pnl_AC, \"g\")"
   ]
  },
  {
   "cell_type": "markdown",
   "metadata": {},
   "source": [
    "# Rolling trading"
   ]
  },
  {
   "cell_type": "code",
   "execution_count": 232,
   "metadata": {},
   "outputs": [],
   "source": [
    "q0_         = np.array([0, 0]) # initial inventory\n",
    "eta        = 1/24/60 # trading freq\n",
    "phi        = 1e-6\n",
    "T          = 12/24\n",
    "alpha      = np.diag((10, 10))\n",
    "\n",
    "isT        = 1 #12/24\n",
    "osT        = 12/24\n",
    "hour_shift = 12        \n",
    "\n",
    "freq_      = '5min'"
   ]
  },
  {
   "cell_type": "code",
   "execution_count": null,
   "metadata": {},
   "outputs": [],
   "source": []
  },
  {
   "cell_type": "code",
   "execution_count": 233,
   "metadata": {
    "tags": []
   },
   "outputs": [
    {
     "name": "stdout",
     "output_type": "stream",
     "text": [
      "2022-06-28 12:00 ----> 2022-06-30 00:00\n",
      "\n",
      " D= [[0.0028 0.    ]\n",
      " [0.     0.0489]]\n",
      "\n",
      " Pnls=\n"
     ]
    },
    {
     "data": {
      "text/plain": [
       "optimal    2658.233453\n",
       "twap          0.000000\n",
       "AC            0.000000\n",
       "dtype: float64"
      ]
     },
     "metadata": {},
     "output_type": "display_data"
    }
   ],
   "source": [
    "rescale_plot(W=8, l=6, w=3, fontsize=10)\n",
    "\n",
    "np.random.seed(26) #18, 19\n",
    "pnl_dict = {}\n",
    "from_date_is = '2022-01-01 00:00'\n",
    "from_date_os = '2022-01-02 00:00'\n",
    "to_date_os   = '2022-01-02 12:00'\n",
    "\n",
    "while to_date_os != '2022-06-30 12:00':\n",
    "    try:\n",
    "        q0 = np.random.choice((-1, 1))* q0_\n",
    "        #####################################################################\n",
    "        # in-sample estimation\n",
    "        #####################################################################\n",
    "        Prices         = allPrices.resample(freq_).last().loc[from_date_is:from_date_os].dropna()\n",
    "        timestampIndex = Prices.index\n",
    "        Prices         =  Prices.reset_index(drop=True)\n",
    "        Prices.columns = ['S1', 'S2', 'Z1', 'Z2']\n",
    "        R, cointV, model_fitted, Sbar, Sigma =  getCointRelations_(Prices, dt=int(np.mean(np.diff(timestampIndex)/1e9))/60/60/24 ) # 2 days\n",
    "        \n",
    "        ######################################################\n",
    "        # Out of sample trading\n",
    "        ######################################################\n",
    "        Prices         = allPrices.fillna(method='ffill').resample(freq_).last().loc[from_date_os:to_date_os] #.dropna()\n",
    "        timestampIndex = Prices.index\n",
    "        Prices         = Prices.reset_index(drop=True)\n",
    "        Prices.columns = ['S1', 'S2', 'Z1', 'Z2']\n",
    "        Z, S       = Prices.iloc[:, 2:4], Prices.iloc[:, :2]\n",
    "        \n",
    "        kappas =  allkappas.resample('1min').last().fillna(method='ffill').loc[from_date_os:to_date_os].loc[timestampIndex]\n",
    "        convexity_t  = Z.values**1.5 / kappas.values\n",
    "        convexity_t[:, 1] = convexity_t[:, 1]/50\n",
    "        D            = np.diag(convexity_t[0])\n",
    "        invD         = np.linalg.inv(D)\n",
    "        tildeSigma   = Z.diff(1).cov().values\n",
    "        Xi           = np.array([[0,0,1,0],[0,0,0,1]])\n",
    "        #R, cointV, model_fitted, Sbar, Sigma =  getCointRelations_(Prices, dt=int(np.mean(np.diff(timestampIndex)/1e9))/60/60/24 ) # 2 days\n",
    "        Sbar         = Prices.mean().values\n",
    "        \n",
    "        # solve A, B, C\n",
    "        A_interp, B_interp, A_, B_, ts_ = solve_ABC(phi, tildeSigma, eta, alpha, Xi, allR, invD)\n",
    "        \n",
    "        nb_t = len(Z)\n",
    "        dt   = T/nb_t\n",
    "        ts   = np.linspace(0, T, nb_t)\n",
    "\n",
    "        Z_   = Z.values\n",
    "        SZ_  = Prices.values\n",
    "\n",
    "        d                   = len(Z.columns)\n",
    "        q, q_vwap, q_AC     = np.empty((nb_t, d)), np.empty((nb_t, d)), np.empty((nb_t, d))\n",
    "        v, v_vwap, v_AC     = np.empty((nb_t, d)), np.empty((nb_t, d)), np.empty((nb_t, d))\n",
    "        X, X_vwap, X_AC     = np.empty(nb_t), np.empty(nb_t), np.empty(nb_t)\n",
    "        pnl, pnl_vwap, pnl_AC = np.empty(nb_t), np.empty(nb_t), np.empty(nb_t)\n",
    "\n",
    "        SZ0    = SZ_[0]\n",
    "\n",
    "        q[0,:] = q0; q_vwap[0,:] = q0; q_AC[0,:] = q0\n",
    "        v[0,:] = getspeed(0, q0, SZ0, eta, invD, Sbar, A_interp, B_interp)\n",
    "        v_AC[0,:] = getspeed_AC(0, q0, SZ0, eta, invD, A_interp)\n",
    "\n",
    "        X[0]   = 0.; X_vwap[0]   = 0.; X_AC[0]   = 0.\n",
    "        pnl[0] = 0.; pnl_vwap[0] = 0.; pnl_AC[0] = 0.\n",
    "        \n",
    "        v_vwap = np.ones((nb_t,2))*(q0/nb_t)/dt\n",
    "\n",
    "        for t in range(nb_t-1):\n",
    "            # solve for ABC\n",
    "            #print(t)\n",
    "            #A_interp, B_interp, A_, B_, _ = solve_ABC(phi, tildeSigma, eta, alpha, Xi, R, np.linalg.inv(np.diag(convexity_t[t,:])))\n",
    "            v[t,:]   = getspeed(ts[t], q[t,:], SZ_[t], eta, invD, Sbar, A_interp, B_interp)\n",
    "            q[t+1,:] = q[t,:] - v[t,:] * dt\n",
    "            X[t+1]   = X[t] + np.dot(v[t,:],Z_[t,:])*dt - np.dot(v[t,:],dt*np.diag(convexity_t[t,:])@v[t,:])*dt\n",
    "            pnl[t+1] = X[t+1] + np.dot(Z_[t+1,:],q[t+1,:]) - np.dot(Z_[0,:],q[0,:])\n",
    "\n",
    "            v_AC[t,:]   = getspeed_AC(ts[t], q_AC[t,:], SZ_[t], eta, invD, A_interp)\n",
    "            q_AC[t+1,:] = q_AC[t,:] - v_AC[t,:] * dt\n",
    "            X_AC[t+1]   = X_AC[t] + np.dot(v_AC[t,:],Z_[t,:])*dt - np.dot(v_AC[t,:],dt*np.diag(convexity_t[t,:])@v_AC[t,:])*dt\n",
    "            pnl_AC[t+1] = X_AC[t+1] + np.dot(Z_[t+1,:],q_AC[t+1,:]) - np.dot(Z_[0,:],q_AC[0,:])\n",
    "            \n",
    "            q_vwap[t+1,:] = q_vwap[t,:] - v_vwap[t,:] * dt\n",
    "            X_vwap[t+1]   = X_vwap[t]   + np.dot(v_vwap[t,:],Z_[t,:])*dt - np.dot(v_vwap[t,:],dt*np.diag(convexity_t[t,:])@v_vwap[t,:])*dt\n",
    "            pnl_vwap[t+1] = X_vwap[t+1] + np.dot(Z_[t+1,:],q_vwap[t+1,:]) - np.dot(Z_[0,:],q_vwap[0,:])\n",
    "        \n",
    "        ######################################################\n",
    "        # Store results\n",
    "        ######################################################\n",
    "        clear_output()\n",
    "        print(from_date_is + ' ----> ' + to_date_os)\n",
    "        print('\\n', 'D=', np.round(D, 4))\n",
    "        \n",
    "        pnl_dict[from_date_is] = {'optimal':pnl[-1], 'twap':pnl_vwap[-1], 'AC':pnl_AC[-1]}\n",
    "        \n",
    "        print('\\n','Pnls=')\n",
    "        display(pd.DataFrame.from_dict({strat:[ pnl_dict[k][strat] for k in pnl_dict.keys()] for strat in ('optimal', 'twap', 'AC')}).mean())\n",
    "        if False:\n",
    "            fig, ((ax, ax2), (ax3, ax4), (ax5, ax6), (ax7, ax8)) = plt.subplots(4, 2)\n",
    "            ax.plot(q[:,0], color='k');    ax.plot(q_vwap[:,0], color='b');    ax.plot(q_AC[:,0], color='g')\n",
    "            ax2.plot(q[:,1], color='k');   ax2.plot(q_vwap[:,1], color='b');    ax2.plot(q_AC[:,1], color='g')\n",
    "            ax3.plot(Z_[:,0], color='k');  ax4.plot(Z_[:,1], color='k')\n",
    "            ax3.plot(SZ_[:,0], color='b'); ax4.plot(SZ_[:,1], color='b')\n",
    "            ax5.plot(pnl, color='k');      ax5.plot(pnl_vwap, color='b');  ax6.plot(pnl_AC, color='g'); ax5.sharey(ax6)\n",
    "            ax7.plot(kappas1.values, color='b');  ax8.plot(kappas2.values, color='b')\n",
    "            plt.tight_layout()\n",
    "            plt.show()\n",
    "            \n",
    "    except Exception as e:\n",
    "        print('Error: ', str(e))\n",
    "        \n",
    "    from_date_is = datetime.datetime.strftime(datetime.datetime.strptime(from_date_is, '%Y-%m-%d %H:%M')+datetime.timedelta(hours = hour_shift), '%Y-%m-%d %H:%M')\n",
    "    from_date_os = datetime.datetime.strftime(datetime.datetime.strptime(from_date_os, '%Y-%m-%d %H:%M')+datetime.timedelta(hours = hour_shift), '%Y-%m-%d %H:%M')\n",
    "    to_date_os   = datetime.datetime.strftime(datetime.datetime.strptime(to_date_os, '%Y-%m-%d %H:%M')+datetime.timedelta(hours = hour_shift),   '%Y-%m-%d %H:%M')"
   ]
  },
  {
   "cell_type": "code",
   "execution_count": null,
   "metadata": {},
   "outputs": [],
   "source": []
  },
  {
   "cell_type": "markdown",
   "metadata": {},
   "source": [
    "18:<br>\n",
    "optimal    1776.794226 <br>\n",
    "twap      -2302.497128 <br>\n",
    "AC         -894.088222\n",
    "\n",
    "24: 4452.968130 \t1193.978548 \t1782.266342\n"
   ]
  },
  {
   "cell_type": "code",
   "execution_count": 234,
   "metadata": {},
   "outputs": [
    {
     "data": {
      "text/html": [
       "<div>\n",
       "<style scoped>\n",
       "    .dataframe tbody tr th:only-of-type {\n",
       "        vertical-align: middle;\n",
       "    }\n",
       "\n",
       "    .dataframe tbody tr th {\n",
       "        vertical-align: top;\n",
       "    }\n",
       "\n",
       "    .dataframe thead th {\n",
       "        text-align: right;\n",
       "    }\n",
       "</style>\n",
       "<table border=\"1\" class=\"dataframe\">\n",
       "  <thead>\n",
       "    <tr style=\"text-align: right;\">\n",
       "      <th></th>\n",
       "      <th>optimal</th>\n",
       "      <th>twap</th>\n",
       "      <th>AC</th>\n",
       "    </tr>\n",
       "  </thead>\n",
       "  <tbody>\n",
       "    <tr>\n",
       "      <th>count</th>\n",
       "      <td>357.000000</td>\n",
       "      <td>357.0</td>\n",
       "      <td>357.0</td>\n",
       "    </tr>\n",
       "    <tr>\n",
       "      <th>mean</th>\n",
       "      <td>2658.233453</td>\n",
       "      <td>0.0</td>\n",
       "      <td>0.0</td>\n",
       "    </tr>\n",
       "    <tr>\n",
       "      <th>std</th>\n",
       "      <td>5819.730415</td>\n",
       "      <td>0.0</td>\n",
       "      <td>0.0</td>\n",
       "    </tr>\n",
       "    <tr>\n",
       "      <th>min</th>\n",
       "      <td>-35901.865469</td>\n",
       "      <td>0.0</td>\n",
       "      <td>0.0</td>\n",
       "    </tr>\n",
       "    <tr>\n",
       "      <th>25%</th>\n",
       "      <td>1011.250931</td>\n",
       "      <td>0.0</td>\n",
       "      <td>0.0</td>\n",
       "    </tr>\n",
       "    <tr>\n",
       "      <th>50%</th>\n",
       "      <td>2080.162867</td>\n",
       "      <td>0.0</td>\n",
       "      <td>0.0</td>\n",
       "    </tr>\n",
       "    <tr>\n",
       "      <th>75%</th>\n",
       "      <td>4665.576560</td>\n",
       "      <td>0.0</td>\n",
       "      <td>0.0</td>\n",
       "    </tr>\n",
       "    <tr>\n",
       "      <th>max</th>\n",
       "      <td>28497.484177</td>\n",
       "      <td>0.0</td>\n",
       "      <td>0.0</td>\n",
       "    </tr>\n",
       "  </tbody>\n",
       "</table>\n",
       "</div>"
      ],
      "text/plain": [
       "            optimal   twap     AC\n",
       "count    357.000000  357.0  357.0\n",
       "mean    2658.233453    0.0    0.0\n",
       "std     5819.730415    0.0    0.0\n",
       "min   -35901.865469    0.0    0.0\n",
       "25%     1011.250931    0.0    0.0\n",
       "50%     2080.162867    0.0    0.0\n",
       "75%     4665.576560    0.0    0.0\n",
       "max    28497.484177    0.0    0.0"
      ]
     },
     "execution_count": 234,
     "metadata": {},
     "output_type": "execute_result"
    }
   ],
   "source": [
    "pnlDF = pd.DataFrame.from_dict({strat:[ pnl_dict[k][strat] for k in pnl_dict.keys()] for strat in ('optimal', 'twap', 'AC')})\n",
    "pnlDF.index = pnl_dict.keys()\n",
    "pnlDF.sort_values(by='optimal').describe()"
   ]
  },
  {
   "cell_type": "code",
   "execution_count": null,
   "metadata": {},
   "outputs": [],
   "source": []
  }
 ],
 "metadata": {
  "kernelspec": {
   "display_name": "Python 3 (ipykernel)",
   "language": "python",
   "name": "python3"
  },
  "language_info": {
   "codemirror_mode": {
    "name": "ipython",
    "version": 3
   },
   "file_extension": ".py",
   "mimetype": "text/x-python",
   "name": "python",
   "nbconvert_exporter": "python",
   "pygments_lexer": "ipython3",
   "version": "3.10.9"
  }
 },
 "nbformat": 4,
 "nbformat_minor": 4
}
