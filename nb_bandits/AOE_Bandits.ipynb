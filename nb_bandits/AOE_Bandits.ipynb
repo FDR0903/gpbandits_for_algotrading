{
 "cells": [
  {
   "cell_type": "code",
   "execution_count": 1,
   "id": "11539250",
   "metadata": {},
   "outputs": [],
   "source": [
    "import numpy as np\n",
    "import matplotlib.pyplot as plt\n",
    "import pandas as pd\n",
    "from   IPython.display import display, HTML\n",
    "from collections import deque\n",
    "import random\n",
    "import os\n",
    "import sys\n",
    "import pathlib\n",
    "from collections import deque\n",
    "from tqdm.notebook import tqdm, trange\n",
    "import datetime\n",
    "from scipy import interpolate\n",
    "import math\n",
    "\n",
    "import matplotlib.ticker as mtick\n",
    "import matplotlib.dates as md\n",
    "\n",
    "from IPython.display import clear_output\n",
    "\n",
    "os.environ[\"KMP_DUPLICATE_LIB_OK\"] = \"TRUE\"\n",
    "\n",
    "import torch\n",
    "import gpytorch\n",
    "import matplotlib.dates as md"
   ]
  },
  {
   "cell_type": "code",
   "execution_count": 2,
   "id": "a45c1f4d",
   "metadata": {},
   "outputs": [],
   "source": [
    "parent_module_path = os.path.abspath(os.path.join('..'))\n",
    "if parent_module_path not in sys.path:\n",
    "    sys.path.append(parent_module_path)"
   ]
  },
  {
   "cell_type": "code",
   "execution_count": 3,
   "id": "6378a4fa",
   "metadata": {},
   "outputs": [
    {
     "data": {
      "text/html": [
       "<style>.container { width:100% !important; }</style>"
      ],
      "text/plain": [
       "<IPython.core.display.HTML object>"
      ]
     },
     "metadata": {},
     "output_type": "display_data"
    }
   ],
   "source": [
    "pd.set_option('display.width', 1000)\n",
    "display(HTML(\"<style>.container { width:100% !important; }</style>\"))\n",
    "pd.set_option('mode.chained_assignment', None)"
   ]
  },
  {
   "cell_type": "code",
   "execution_count": 4,
   "id": "d7627f8f-d6cd-4776-b3e1-aa24e14109ea",
   "metadata": {
    "tags": []
   },
   "outputs": [],
   "source": [
    "def get_LOB_data(data_path, asset_name, trade_date):\n",
    "    LOB_data_path = os.path.join(data_path, asset_name, f'{asset_name}_{trade_date}_34200000_57600000_orderbook_5.csv')\n",
    "    LOB_data      = pd.read_csv(LOB_data_path,\n",
    "                                usecols   = [0, 1, 2, 3],\n",
    "                                engine    = 'c',\n",
    "                                index_col = None,\n",
    "                                header    = None,\n",
    "                                infer_datetime_format = True)\n",
    "\n",
    "    LOB_messages = pd.read_csv(f'{data_path}/{asset_name}/{asset_name}_{trade_date}_34200000_57600000_message_5.csv', \n",
    "                               usecols   = [0,1],\n",
    "                               engine    = 'c',\n",
    "                               index_col = 0,\n",
    "                               header    = None)\n",
    "    LOB_data.index = LOB_messages.index\n",
    "    LOB_data.columns = [f'ask_1', f'ask_volume_1', f'bid_1', f'bid_volume_1']\n",
    "    LOB_data.index.name = 'time'\n",
    "    LOB_data = LOB_data.reset_index(drop=False).groupby('time').last()\n",
    "    \n",
    "    return LOB_data, LOB_messages"
   ]
  },
  {
   "cell_type": "markdown",
   "id": "69dea3a8-ae4f-477d-8d6d-791e9ea0b4a1",
   "metadata": {},
   "source": [
    "# Load Data & Signals"
   ]
  },
  {
   "cell_type": "code",
   "execution_count": 5,
   "id": "41c738f3-a210-4f0c-84cc-c878ae0271fd",
   "metadata": {},
   "outputs": [],
   "source": [
    "asset_name = 'GOOG'\n",
    "predictive_power_freq = '500ms'"
   ]
  },
  {
   "cell_type": "code",
   "execution_count": 6,
   "id": "e777a51c-cc39-4fc2-a94b-4bde87756ec0",
   "metadata": {
    "tags": []
   },
   "outputs": [],
   "source": [
    "all_data = None\n",
    "for filename in os.listdir(f'../data/Rewards'):\n",
    "    f = os.path.join(f'../data/Rewards', filename)\n",
    "    # checking if it is a file\n",
    "    if os.path.isfile(f):\n",
    "        if asset_name in filename:\n",
    "            trade_date   = filename.split('_')[1]\n",
    "            reward_fn    = f'{asset_name}_{trade_date}_rewards.pkl'\n",
    "            _all_data    = pd.read_pickle(f'../data/Rewards/{reward_fn}')           \n",
    "            _all_data    = _all_data[~_all_data.index.duplicated()].resample(predictive_power_freq).last().fillna(method='ffill')\n",
    "            if all_data is None:\n",
    "                all_data = _all_data\n",
    "            else:\n",
    "                all_data = pd.concat((all_data, _all_data), axis=0)\n",
    "all_data = all_data.sort_index()"
   ]
  },
  {
   "cell_type": "code",
   "execution_count": 7,
   "id": "647e8fea-6600-4367-9815-c4b3d4241b98",
   "metadata": {
    "tags": []
   },
   "outputs": [
    {
     "data": {
      "text/plain": [
       "(2603109, 36)"
      ]
     },
     "execution_count": 7,
     "metadata": {},
     "output_type": "execute_result"
    }
   ],
   "source": [
    "np.shape(all_data)"
   ]
  },
  {
   "cell_type": "code",
   "execution_count": 8,
   "id": "242b1986-913d-4fbe-a4d7-67fea27efece",
   "metadata": {
    "tags": []
   },
   "outputs": [
    {
     "data": {
      "text/plain": [
       "numpy.timedelta64(2,'ns')"
      ]
     },
     "execution_count": 8,
     "metadata": {},
     "output_type": "execute_result"
    }
   ],
   "source": [
    "np.mean(np.diff(all_data.index))/1e9"
   ]
  },
  {
   "cell_type": "code",
   "execution_count": 9,
   "id": "b269ccc4-d15f-4813-bace-0f688f983d96",
   "metadata": {},
   "outputs": [
    {
     "name": "stdout",
     "output_type": "stream",
     "text": [
      "Average Bid Ask spread :  0.014910501250619927\n"
     ]
    }
   ],
   "source": [
    "# all_data\n",
    "# all_data.buyPrice_TF.dropna()\n",
    "# all_data\n",
    "print('Average Bid Ask spread : ', all_data.ba_spread.mean())"
   ]
  },
  {
   "cell_type": "markdown",
   "id": "ee3598ff",
   "metadata": {},
   "source": [
    "# GP bandits"
   ]
  },
  {
   "cell_type": "code",
   "execution_count": 10,
   "id": "83ab7de2-d611-4e4c-86df-f4c30fe46ff6",
   "metadata": {},
   "outputs": [
    {
     "name": "stdout",
     "output_type": "stream",
     "text": [
      "The Zen of Python, by Tim Peters\n",
      "\n",
      "Beautiful is better than ugly.\n",
      "Explicit is better than implicit.\n",
      "Simple is better than complex.\n",
      "Complex is better than complicated.\n",
      "Flat is better than nested.\n",
      "Sparse is better than dense.\n",
      "Readability counts.\n",
      "Special cases aren't special enough to break the rules.\n",
      "Although practicality beats purity.\n",
      "Errors should never pass silently.\n",
      "Unless explicitly silenced.\n",
      "In the face of ambiguity, refuse the temptation to guess.\n",
      "There should be one-- and preferably only one --obvious way to do it.\n",
      "Although that way may not be obvious at first unless you're Dutch.\n",
      "Now is better than never.\n",
      "Although never is often better than *right* now.\n",
      "If the implementation is hard to explain, it's a bad idea.\n",
      "If the implementation is easy to explain, it may be a good idea.\n",
      "Namespaces are one honking great idea -- let's do more of those!\n"
     ]
    }
   ],
   "source": [
    "from AOE.utils import verbose_print\n",
    "from AOE.bandit_plots import hit_ratio_analysis, reward_distribution_analysis, regret_plots\n",
    "from AOE.gp_bandit_finance import gp_bandit_finance, Wasserstein_GP_mean#, Wasserstein_GP\n",
    "from AOE.plots import rescale_plot"
   ]
  },
  {
   "cell_type": "code",
   "execution_count": 11,
   "id": "f1195219-ebc1-4d7b-9f8a-dd12821daf42",
   "metadata": {},
   "outputs": [],
   "source": [
    "strategies  = {'imbalance_1' : {'name'             : 'imbalance_1',\n",
    "                                     'params'           : {'feature_name'     : 'imbalance_1'},\n",
    "                                     'contextual_params': {'feature_name'     : 'imbalance_1'}},\n",
    "\n",
    "               'MR' : {'name'             : 'MR',\n",
    "                                  'params'           : {'feature_name'     : 'MR'},\n",
    "                                  'contextual_params': {'feature_name'     : 'MR'}},\n",
    "\n",
    "               'TF' : {'name'             : 'TF',\n",
    "                                  'params'           : {'feature_name'     : 'TF'},\n",
    "                                  'contextual_params': {'feature_name'     : 'TF'}}\n",
    "              }\n",
    "\n",
    "\n",
    "strategies  = {'imbalance_1' : {'name'             : 'imbalance_1',\n",
    "                                'params'           : {'feature_name'     : 'imbalance_1'},\n",
    "                                'contextual_params': {'feature_name'     : 'imbalance_1'}},\n",
    "\n",
    "               'MR2' : {'name'            : 'MR2',\n",
    "                      'params'           : {'feature_name'     : 'MR2'},\n",
    "                      'contextual_params': {'feature_name'     : 'MR2'}}\n",
    "              }"
   ]
  },
  {
   "cell_type": "code",
   "execution_count": 12,
   "id": "e9481d58-25ce-43b5-8321-2bf3cd31b0e5",
   "metadata": {},
   "outputs": [],
   "source": [
    "features = all_data[[s for s in all_data.columns if (('buyPrice' not in s) & ('sellPrice' not in s))]] "
   ]
  },
  {
   "cell_type": "code",
   "execution_count": 13,
   "id": "4e970f0c-5947-4dd7-a96c-3550675c0619",
   "metadata": {},
   "outputs": [
    {
     "name": "stdout",
     "output_type": "stream",
     "text": [
      "INTIALIZING!\n",
      "INTIALIZING!\n"
     ]
    }
   ],
   "source": [
    "# Likelihood models & non stationarity params\n",
    "likelihood              = gpytorch.likelihoods.GaussianLikelihood()\n",
    "likelihood.noise        = 0.0001\n",
    "\n",
    "size_buffer             = 30 # in terms of number of rewards to sample from\n",
    "size_buffer_2           = 30 # in terms of number of rewards to sample from\n",
    "size_window             = 16 # for non statonarity\n",
    "\n",
    "bandit_params = {'size_buffer': size_buffer_2, \n",
    "                 'size_window': size_window,\n",
    "                 'threshold'  : 0.0005,\n",
    "                 'lambda'     : 0.6,\n",
    "                 'delta'      : 0.6} # Delta is bound on type 1 error\n",
    "\n",
    "# Bandit objects\n",
    "_bandits = {'GP_UCB_NS'          : gp_bandit_finance(strategies, bandit_algo='UCB_NS', likelihood=likelihood, \n",
    "                                                      bandit_params = bandit_params),\n",
    "            'GP_UCB_WAS'         : gp_bandit_finance(strategies, bandit_algo='UCB_WAS', likelihood=likelihood, \n",
    "                                                      bandit_params = bandit_params, reinit=True),\n",
    "            'GP_UCB_WAS_NOREINIT': gp_bandit_finance(strategies, bandit_algo='UCB_WAS', likelihood=likelihood, \n",
    "                                                      bandit_params = bandit_params, reinit=False),\n",
    "            'GP_UCB_LR'          : gp_bandit_finance(strategies, bandit_algo='UCB_LR', likelihood=likelihood, \n",
    "                                                      bandit_params = bandit_params, reinit=True),\n",
    "            'GP_UCB_LR_NOREINIT' : gp_bandit_finance(strategies, bandit_algo='UCB_LR', likelihood=likelihood, \n",
    "                                                      bandit_params = bandit_params, reinit=False),\n",
    "            'RANDOM'             : gp_bandit_finance(strategies, bandit_algo='RANDOM', likelihood=likelihood, \n",
    "                                                      bandit_params = bandit_params),\n",
    "            'UCB_NS'             : gp_bandit_finance(strategies, bandit_algo='MAB_UCB', likelihood=likelihood, \n",
    "                                                      bandit_params = bandit_params)}\n",
    "           #'TS_ADAGA'      : gp_bandit_finance(strategies, bandit_algo='TS_ADAGA', likelihood=likelihood, \n",
    "           #                              bandit_params=bandit_params),\n",
    "           #'UCB_ADAGA'      : gp_bandit_finance(strategies, bandit_algo='UCB_ADAGA', likelihood=likelihood, \n",
    "           #                              bandit_params=bandit_params)}\n",
    "        \n",
    "_bandits = {'GP_UCB_LR'          : gp_bandit_finance(strategies, bandit_algo='UCB_LR', likelihood=likelihood, \n",
    "                                                      bandit_params = bandit_params, reinit=True),\n",
    "            'GP_UCB_LR_NOREINIT' : gp_bandit_finance(strategies, bandit_algo='UCB_LR', likelihood=likelihood, \n",
    "                                                      bandit_params = bandit_params, reinit=False)}"
   ]
  },
  {
   "cell_type": "markdown",
   "id": "e7cd52a8-1a9b-442c-9138-b05e67ce1388",
   "metadata": {},
   "source": [
    "# Other control parameters and variables"
   ]
  },
  {
   "cell_type": "code",
   "execution_count": 14,
   "id": "f0f1edd5-a05e-4fe8-a4a9-3e2b3b94beb8",
   "metadata": {
    "tags": []
   },
   "outputs": [],
   "source": [
    "# variables for historical trading data\n",
    "i_order                   = 0\n",
    "nb_added_rewards          = {bandit_k:0 for bandit_k in _bandits.keys()}\n",
    "verbose_level             = 0\n",
    "arrival_intensity         = 0.5\n",
    "ref_price                 = 'S0'\n",
    "nb_orders                 = 0"
   ]
  },
  {
   "cell_type": "code",
   "execution_count": 15,
   "id": "c2ffce51-ab03-4ce2-b603-1e263cdbc339",
   "metadata": {},
   "outputs": [],
   "source": [
    "def init_variables(all_data, _bandits):\n",
    "    \n",
    "    bandits = _bandits\n",
    "    bandit_rewards = pd.DataFrame(index=all_data.index)\n",
    "    for bandit_k in bandits.keys(): \n",
    "        bandit_rewards[bandit_k] = np.nan\n",
    "    bandit_rewards['oracle'] = np.nan\n",
    "    for strat in strategies.keys():\n",
    "        bandit_rewards[strat] = np.nan\n",
    "    \n",
    "    batch_times = list(all_data.index)\n",
    "    # distances   = {bandit_k:{strat: [] for strat in strategies.keys()} for bandit_k in bandits.keys()}\n",
    "\n",
    "    bandits_fin_info = {bandit_k:pd.DataFrame(index=all_data.index) for bandit_k in bandits.keys()}\n",
    "    for bandit_k in bandits.keys(): \n",
    "        bandits_fin_info[bandit_k]['execPrice'] = np.nan\n",
    "        bandits_fin_info[bandit_k]['S0']        = np.nan\n",
    "        bandits_fin_info[bandit_k]['ST']        = np.nan\n",
    "        bandits_fin_info[bandit_k]['twapPrice'] = np.nan\n",
    "        \n",
    "    return bandit_rewards, bandits_fin_info, batch_times, bandits"
   ]
  },
  {
   "cell_type": "markdown",
   "id": "9db58e01-a058-4db6-9b9e-92cf5f1ec53a",
   "metadata": {},
   "source": [
    "# Trading simulation"
   ]
  },
  {
   "cell_type": "code",
   "execution_count": 16,
   "id": "588f8c4c-79f6-4cf5-a709-eb820a24ce10",
   "metadata": {},
   "outputs": [],
   "source": [
    "def alpha(gamma, sigma, V, nu, dt):\n",
    "    cosh_alpha_dt = 1 + (gamma * V * (dt*sigma)**2) / (4 * nu)\n",
    "    return (1/dt) * np.arccosh(cosh_alpha_dt)\n",
    "\n",
    "def q_star(x, q0, T, gamma, sigma, V, nu, dt):\n",
    "    alpha_ = alpha(gamma, sigma, V, nu, dt)\n",
    "    return q0 * np.sinh(alpha_*(T - x))/np.sinh(alpha_*T)\n",
    "\n",
    "S0        = 100\n",
    "sigma     = 5\n",
    "V         = 15000000 #TransactionTape.set_index('time').traded_quantity.rolling('1h').sum().mean()\n",
    "nu        = 10 # 0.1 dollar per contract for AC style.\n",
    "gamma     = 10**1 #per dollar\n",
    "T         = 5/60/24\n",
    "\n",
    "timesteps = np.linspace(0, T, 100)\n",
    "q0        = 100 #int(0.1 * V) # nb of shares to liquidate : 10% of total traded volume\n",
    "dt        = T/100"
   ]
  },
  {
   "cell_type": "code",
   "execution_count": 17,
   "id": "bb3a23e6-142e-46ff-8de6-88a2606b2792",
   "metadata": {
    "tags": []
   },
   "outputs": [
    {
     "name": "stderr",
     "output_type": "stream",
     "text": [
      "/Users/faycaldrissi/miniconda/envs/aoe/lib/python3.10/site-packages/gpytorch/models/exact_gp.py:274: GPInputWarning: The input matches the stored training data. Did you forget to call model.train()?\n",
      "  warnings.warn(\n",
      "/Users/faycaldrissi/miniconda/envs/aoe/lib/python3.10/site-packages/gpytorch/models/exact_gp.py:274: GPInputWarning: The input matches the stored training data. Did you forget to call model.train()?\n",
      "  warnings.warn(\n",
      "/Users/faycaldrissi/miniconda/envs/aoe/lib/python3.10/site-packages/gpytorch/models/exact_gp.py:274: GPInputWarning: The input matches the stored training data. Did you forget to call model.train()?\n",
      "  warnings.warn(\n",
      "/Users/faycaldrissi/miniconda/envs/aoe/lib/python3.10/site-packages/gpytorch/models/exact_gp.py:274: GPInputWarning: The input matches the stored training data. Did you forget to call model.train()?\n",
      "  warnings.warn(\n",
      "/Users/faycaldrissi/miniconda/envs/aoe/lib/python3.10/site-packages/gpytorch/models/exact_gp.py:274: GPInputWarning: The input matches the stored training data. Did you forget to call model.train()?\n",
      "  warnings.warn(\n",
      "/Users/faycaldrissi/miniconda/envs/aoe/lib/python3.10/site-packages/gpytorch/models/exact_gp.py:274: GPInputWarning: The input matches the stored training data. Did you forget to call model.train()?\n",
      "  warnings.warn(\n",
      "/Users/faycaldrissi/miniconda/envs/aoe/lib/python3.10/site-packages/gpytorch/models/exact_gp.py:274: GPInputWarning: The input matches the stored training data. Did you forget to call model.train()?\n",
      "  warnings.warn(\n",
      "/Users/faycaldrissi/miniconda/envs/aoe/lib/python3.10/site-packages/gpytorch/models/exact_gp.py:274: GPInputWarning: The input matches the stored training data. Did you forget to call model.train()?\n",
      "  warnings.warn(\n",
      "/Users/faycaldrissi/miniconda/envs/aoe/lib/python3.10/site-packages/gpytorch/models/exact_gp.py:274: GPInputWarning: The input matches the stored training data. Did you forget to call model.train()?\n",
      "  warnings.warn(\n",
      "/Users/faycaldrissi/miniconda/envs/aoe/lib/python3.10/site-packages/gpytorch/models/exact_gp.py:274: GPInputWarning: The input matches the stored training data. Did you forget to call model.train()?\n",
      "  warnings.warn(\n",
      "/Users/faycaldrissi/miniconda/envs/aoe/lib/python3.10/site-packages/gpytorch/models/exact_gp.py:274: GPInputWarning: The input matches the stored training data. Did you forget to call model.train()?\n",
      "  warnings.warn(\n",
      "/Users/faycaldrissi/miniconda/envs/aoe/lib/python3.10/site-packages/gpytorch/models/exact_gp.py:274: GPInputWarning: The input matches the stored training data. Did you forget to call model.train()?\n",
      "  warnings.warn(\n",
      "/Users/faycaldrissi/miniconda/envs/aoe/lib/python3.10/site-packages/gpytorch/models/exact_gp.py:274: GPInputWarning: The input matches the stored training data. Did you forget to call model.train()?\n",
      "  warnings.warn(\n",
      "/Users/faycaldrissi/miniconda/envs/aoe/lib/python3.10/site-packages/gpytorch/models/exact_gp.py:274: GPInputWarning: The input matches the stored training data. Did you forget to call model.train()?\n",
      "  warnings.warn(\n",
      "/Users/faycaldrissi/miniconda/envs/aoe/lib/python3.10/site-packages/gpytorch/models/exact_gp.py:274: GPInputWarning: The input matches the stored training data. Did you forget to call model.train()?\n",
      "  warnings.warn(\n",
      "/Users/faycaldrissi/miniconda/envs/aoe/lib/python3.10/site-packages/gpytorch/models/exact_gp.py:274: GPInputWarning: The input matches the stored training data. Did you forget to call model.train()?\n",
      "  warnings.warn(\n",
      "/Users/faycaldrissi/miniconda/envs/aoe/lib/python3.10/site-packages/gpytorch/models/exact_gp.py:274: GPInputWarning: The input matches the stored training data. Did you forget to call model.train()?\n",
      "  warnings.warn(\n",
      "/Users/faycaldrissi/miniconda/envs/aoe/lib/python3.10/site-packages/gpytorch/models/exact_gp.py:274: GPInputWarning: The input matches the stored training data. Did you forget to call model.train()?\n",
      "  warnings.warn(\n",
      "/Users/faycaldrissi/miniconda/envs/aoe/lib/python3.10/site-packages/gpytorch/models/exact_gp.py:274: GPInputWarning: The input matches the stored training data. Did you forget to call model.train()?\n",
      "  warnings.warn(\n",
      "/Users/faycaldrissi/miniconda/envs/aoe/lib/python3.10/site-packages/gpytorch/models/exact_gp.py:274: GPInputWarning: The input matches the stored training data. Did you forget to call model.train()?\n",
      "  warnings.warn(\n",
      "/Users/faycaldrissi/miniconda/envs/aoe/lib/python3.10/site-packages/gpytorch/models/exact_gp.py:274: GPInputWarning: The input matches the stored training data. Did you forget to call model.train()?\n",
      "  warnings.warn(\n",
      "/Users/faycaldrissi/miniconda/envs/aoe/lib/python3.10/site-packages/gpytorch/models/exact_gp.py:274: GPInputWarning: The input matches the stored training data. Did you forget to call model.train()?\n",
      "  warnings.warn(\n",
      "/Users/faycaldrissi/miniconda/envs/aoe/lib/python3.10/site-packages/gpytorch/models/exact_gp.py:274: GPInputWarning: The input matches the stored training data. Did you forget to call model.train()?\n",
      "  warnings.warn(\n",
      "/Users/faycaldrissi/miniconda/envs/aoe/lib/python3.10/site-packages/gpytorch/models/exact_gp.py:274: GPInputWarning: The input matches the stored training data. Did you forget to call model.train()?\n",
      "  warnings.warn(\n",
      "/Users/faycaldrissi/miniconda/envs/aoe/lib/python3.10/site-packages/gpytorch/models/exact_gp.py:274: GPInputWarning: The input matches the stored training data. Did you forget to call model.train()?\n",
      "  warnings.warn(\n",
      "/Users/faycaldrissi/miniconda/envs/aoe/lib/python3.10/site-packages/gpytorch/models/exact_gp.py:274: GPInputWarning: The input matches the stored training data. Did you forget to call model.train()?\n",
      "  warnings.warn(\n",
      "/Users/faycaldrissi/miniconda/envs/aoe/lib/python3.10/site-packages/gpytorch/models/exact_gp.py:274: GPInputWarning: The input matches the stored training data. Did you forget to call model.train()?\n",
      "  warnings.warn(\n",
      "/Users/faycaldrissi/miniconda/envs/aoe/lib/python3.10/site-packages/gpytorch/models/exact_gp.py:274: GPInputWarning: The input matches the stored training data. Did you forget to call model.train()?\n",
      "  warnings.warn(\n",
      "/Users/faycaldrissi/miniconda/envs/aoe/lib/python3.10/site-packages/gpytorch/models/exact_gp.py:274: GPInputWarning: The input matches the stored training data. Did you forget to call model.train()?\n",
      "  warnings.warn(\n",
      "/Users/faycaldrissi/miniconda/envs/aoe/lib/python3.10/site-packages/gpytorch/models/exact_gp.py:274: GPInputWarning: The input matches the stored training data. Did you forget to call model.train()?\n",
      "  warnings.warn(\n",
      "/Users/faycaldrissi/miniconda/envs/aoe/lib/python3.10/site-packages/gpytorch/models/exact_gp.py:274: GPInputWarning: The input matches the stored training data. Did you forget to call model.train()?\n",
      "  warnings.warn(\n"
     ]
    },
    {
     "ename": "NameError",
     "evalue": "name 'res_simulations' is not defined",
     "output_type": "error",
     "traceback": [
      "\u001b[0;31m---------------------------------------------------------------------------\u001b[0m",
      "\u001b[0;31mNameError\u001b[0m                                 Traceback (most recent call last)",
      "Cell \u001b[0;32mIn[17], line 153\u001b[0m\n\u001b[1;32m    150\u001b[0m \u001b[38;5;28;01mfor\u001b[39;00m i \u001b[38;5;129;01min\u001b[39;00m \u001b[38;5;28mrange\u001b[39m(\u001b[38;5;28mlen\u001b[39m(bandit_rewards)):\n\u001b[1;32m    151\u001b[0m     bandit_rewards\u001b[38;5;241m.\u001b[39miloc[i,:] \u001b[38;5;241m=\u001b[39m np\u001b[38;5;241m.\u001b[39mabs(v[i]) \u001b[38;5;241m*\u001b[39m bandit_rewards\u001b[38;5;241m.\u001b[39miloc[i,:]\n\u001b[0;32m--> 153\u001b[0m \u001b[43mres_simulations\u001b[49m[i_simul] \u001b[38;5;241m=\u001b[39m buysell, bandit_rewards, bandits_fin_info, q\n\u001b[1;32m    155\u001b[0m \u001b[38;5;66;03m# verbose\u001b[39;00m\n\u001b[1;32m    156\u001b[0m clear_output(wait\u001b[38;5;241m=\u001b[39m\u001b[38;5;28;01mTrue\u001b[39;00m)\n",
      "\u001b[0;31mNameError\u001b[0m: name 'res_simulations' is not defined"
     ]
    }
   ],
   "source": [
    "nb_simulations    = 1\n",
    "res_simulations   = {}\n",
    "programme_horizon = '10min'\n",
    "\n",
    "#np.random.seed(14)\n",
    "\n",
    "for i_simul in range(nb_simulations):    \n",
    "    # choose a random starting point for the programme starting time\n",
    "    i_start = int(np.random.rand(1)*(9*len(all_data)/10))\n",
    "    programme_data = all_data.iloc[i_start:].first(programme_horizon)\n",
    "    \n",
    "    # Fill na exec prices accordingly\n",
    "    for col in programme_data.columns:\n",
    "        if 'Price_' in col:\n",
    "            programme_data[col].fillna(programme_data[ref_price], inplace=True)\n",
    "    \n",
    "    # This also create new bandit objects\n",
    "    bandit_rewards, bandits_fin_info, batch_times, bandits = init_variables(programme_data, _bandits)\n",
    "    \n",
    "    buysell          = 2*np.random.randint(0, 2, size=None, dtype=int)-1\n",
    "    verbose_print(verbose_level, None, f'I received an order at {None} with quantity {buysell}', True)\n",
    "    \n",
    "    q0     = 100*buysell\n",
    "    q      = np.zeros(len(batch_times)+1)\n",
    "    q[0]   = q0\n",
    "    dt     = T/len(batch_times)\n",
    "    \n",
    "    for (i_time, batch_time) in enumerate(batch_times): # leave a few minutes\n",
    "        # if np.random.poisson(arrival_intensity)>0:\n",
    "        sigma       = 5\n",
    "        q_cible     = q_star(T * i_time/len(batch_times), q0, T, 10**-3, sigma, V, nu, dt)\n",
    "        trade_size  = int(q_cible - q[i_time])     \n",
    "        q[i_time+1] = q[i_time]+trade_size\n",
    "        V           = 15000000 #TransactionTape.set_index('time').traded_quantity.rolling('1h').sum().mean()\n",
    "        nb_orders   += 1\n",
    "\n",
    "#             if ((nb_orders%20==0) & (i_time>0)):\n",
    "#                 print('************************************ Simul number:', i_simul)\n",
    "#                 clear_output(wait=True)\n",
    "#                 verbose_level = 1\n",
    "#                 for bandit_k in bandits.keys():\n",
    "#                     bandits[bandit_k].plot_strategies()         \n",
    "\n",
    "#                 # get historical rewards and regret\n",
    "#                 rewards_to_plot = pd.DataFrame(index=programme_data.index)\n",
    "#                 for bandit_k in bandits.keys():\n",
    "#                     rewards_to_plot[bandit_k] = np.array(bandit_rewards[bandit_k])\n",
    "#                 for (i_strat, strat) in enumerate(strategies.keys()):\n",
    "#                     rewards_to_plot[strat]    = np.array(bandit_rewards[strat])\n",
    "#                 rewards_to_plot = rewards_to_plot.sort_index()\n",
    "#                 regret_plots(strategies, rewards_to_plot.dropna(), programme_data,  bandits, W=5.5, figure_name = None)\n",
    "#             else:\n",
    "#                 verbose_level = 0\n",
    "\n",
    "        trade_date = str(batch_time).split(' ')[0]\n",
    "\n",
    "        ###############################################\n",
    "        # retrain GPs hyperparameters every N orders \n",
    "        ###############################################\n",
    "        retrain_hyperparameters = True\n",
    "\n",
    "        ##################################################\n",
    "        # if an order arrives: decide if buy & sell\n",
    "        ##################################################\n",
    "        i_order          += 1\n",
    "\n",
    "        ######################\n",
    "        # get feature values\n",
    "        ######################\n",
    "        feature_values = features.loc[batch_time, :]\n",
    "\n",
    "        ######################################\n",
    "        # select the strategy for all bandits\n",
    "        ######################################\n",
    "        verbose_print(verbose_level, batch_time, f'Selecting strategies ...')\n",
    "        best_strategies_bandits = {}\n",
    "        for bandit_k in bandits.keys():\n",
    "            verbose_print(verbose_level, batch_time, f'** Bandit {bandit_k}: Selecting strategies ...')\n",
    "            if i_time < 5*len(strategies): # at least 5 rewards before sampling\n",
    "                best_strategies_bandits[bandit_k]  = random.choice(list(strategies.keys()))\n",
    "            else:\n",
    "                best_strategies_bandits[bandit_k]  = bandits[bandit_k].select_best_strategy(feature_values)\n",
    "            verbose_print(verbose_level, batch_time, f'Selected strategy: {best_strategies_bandits[bandit_k]}')\n",
    "        \n",
    "        ######################################\n",
    "        # Update & Retrain the GPs\n",
    "        # & Non stationarity test\n",
    "        ######################################\n",
    "        tmp_pnls = {bandit_k:np.nan for bandit_k in bandits.keys()}\n",
    "        for bandit_k in bandits.keys():\n",
    "            if buysell == 1:\n",
    "                tmp_pnls[bandit_k] = -programme_data.loc[batch_time, f'buyPrice_{best_strategies_bandits[bandit_k]}'] + \\\n",
    "                            programme_data.loc[batch_time, ref_price]\n",
    "            else:\n",
    "                tmp_pnls[bandit_k] = programme_data.loc[batch_time, f'sellPrice_{best_strategies_bandits[bandit_k]}'] - \\\n",
    "                            programme_data.loc[batch_time, ref_price]\n",
    "        \n",
    "        for bandit_k in bandits.keys():\n",
    "            #print('Adding bandit : ', bandit_k, 'values are:', feature_values.MR, best_strategies_bandits[bandit_k], tmp_pnls[bandit_k])\n",
    "            try:\n",
    "                bandits[bandit_k].update_data(features  = feature_values, \n",
    "                                              strat     = best_strategies_bandits[bandit_k], \n",
    "                                              reward    = tmp_pnls[bandit_k],\n",
    "                                              retrain_hyperparameters = retrain_hyperparameters)\n",
    "            except Exception as e:\n",
    "                retrain_hyperparameters = True\n",
    "                print('Error while updating the bandit ', bandit_k ,': ', str(e), '\\n', tmp_pnls[bandit_k])\n",
    "                bandits[bandit_k].update_data(features  = feature_values, \n",
    "                                              strat     = best_strategies_bandits[bandit_k], \n",
    "                                              reward    = tmp_pnls[bandit_k],\n",
    "                                              retrain_hyperparameters = False)\n",
    "                #bandits[bandit_k].strat_gp_dict[best_strategies_bandits[bandit_k]].train()\n",
    "\n",
    "        ######################################\n",
    "        # Record rewards\n",
    "        ######################################\n",
    "        for bandit_k in bandits.keys():\n",
    "            if buysell == 1:\n",
    "                bandits_fin_info[bandit_k].loc[batch_time,'execPrice']  = \\\n",
    "                                programme_data.loc[batch_time, f'buyPrice_{best_strategies_bandits[bandit_k]}'] \n",
    "            else:\n",
    "                bandits_fin_info[bandit_k].loc[batch_time,'execPrice']  = \\\n",
    "                                programme_data.loc[batch_time, f'sellPrice_{best_strategies_bandits[bandit_k]}'] \n",
    "\n",
    "            bandit_rewards.loc[batch_time, bandit_k]               = tmp_pnls[bandit_k]\n",
    "            bandits_fin_info[bandit_k].loc[batch_time,'S0']        = programme_data.loc[batch_time, 'S0'] \n",
    "            bandits_fin_info[bandit_k].loc[batch_time,'ST']        = programme_data.loc[batch_time, 'ST'] \n",
    "            bandits_fin_info[bandit_k].loc[batch_time,'twapPrice'] = programme_data.loc[batch_time, 'twapPrice'] \n",
    "\n",
    "        for strat in strategies.keys():\n",
    "            if buysell == 1:\n",
    "                bandit_rewards.loc[batch_time, strat] = \\\n",
    "                            -programme_data.loc[batch_time, f'buyPrice_{strat}'] + \\\n",
    "                            programme_data.loc[batch_time, ref_price]\n",
    "            else:\n",
    "                bandit_rewards.loc[batch_time, strat] = \\\n",
    "                            programme_data.loc[batch_time, f'sellPrice_{strat}'] - \\\n",
    "                            programme_data.loc[batch_time, ref_price]\n",
    "\n",
    "\n",
    "        ##############################\n",
    "        # Record oracle info\n",
    "        ##############################\n",
    "        oracle_strategy = bandit_rewards.loc[batch_time, strategies.keys()].idxmax() #(pnls_buy.loc[batch_time]).idxmax()\n",
    "        bandit_rewards.loc[batch_time, 'oracle'] = bandit_rewards.loc[batch_time, f'{oracle_strategy}']\n",
    "        verbose_print(verbose_level, batch_time, f\"Oracle strategy: {oracle_strategy}\")\n",
    "    \n",
    "    # multiply pnls by trading speed\n",
    "    v = np.diff(q)\n",
    "    for i in range(len(bandit_rewards)):\n",
    "        bandit_rewards.iloc[i,:] = np.abs(v[i]) * bandit_rewards.iloc[i,:]\n",
    "    \n",
    "    res_simulations[i_simul] = buysell, bandit_rewards, bandits_fin_info, q\n",
    "    \n",
    "    # verbose\n",
    "    clear_output(wait=True)\n",
    "    print('************************************ Simul number:', i_simul)\n",
    "    \n",
    "    # prepare the plot\n",
    "    rescale_plot(8, 10, 3)\n",
    "    fig, (ax1, ax2, ax3) = plt.subplots(1, 3, sharex=True, constrained_layout=True)\n",
    "\n",
    "    # plot programme prices\n",
    "    ax1.plot(programme_data.index, programme_data.mid_price, color='k', lw=2)\n",
    "\n",
    "    # get regrets & rewards\n",
    "    rewards_to_plot = pd.DataFrame(index=programme_data.index)\n",
    "    for bandit_k in bandits.keys():\n",
    "        rewards_to_plot[bandit_k] = np.array(bandit_rewards[bandit_k])\n",
    "    for (i_strat, strat) in enumerate(strategies.keys()):\n",
    "        rewards_to_plot[strat]    = np.array(bandit_rewards[strat])\n",
    "    rewards_to_plot = rewards_to_plot.sort_index()\n",
    "    ax2.plot(rewards_to_plot.index, rewards_to_plot.dropna().cumsum(), lw=2)\n",
    "    ax2.legend(list(rewards_to_plot.columns), \n",
    "           loc='best', fancybox=True, framealpha=0.1, handlelength=0.1)\n",
    "    df_sim_results = pd.concat( (res_simulations[i][1].dropna().cumsum().iloc[-1] for i in res_simulations.keys()), axis=1).T\n",
    "    stats_sim = df_sim_results.describe().T\n",
    "    stats_sim['sharpe'] = stats_sim['mean']/stats_sim['std']\n",
    "    \n",
    "    # Some printing\n",
    "    display(stats_sim.sort_values(by='mean', ascending=False).loc[:, ['count', 'mean', 'std', 'sharpe']])\n",
    "    for bandit_k in bandits.keys():\n",
    "        print( bandit_k, ':', round(10000 * stats_sim.loc[bandit_k, 'mean']/bandits_fin_info[bandit_k].execPrice.mean(), 2), \"bps\" )\n",
    "    ax3.plot(res_simulations[i_simul][1].dropna().index, q[1:], color='k', lw=2) #np.linspace(len(res_simulations[i_simul][1].dropna()), 0, len(res_simulations[i_simul][1].dropna()))\n",
    "    for ax in (ax1, ax2, ax3): ax.grid(axis='both'); ax.set_xticklabels(ax.get_xticklabels(), rotation=-45, ha='right')\n",
    "    plt.show()\n",
    "    # regret_plots(strategies, rewards_to_plot.dropna(), programme_data,  bandits, W=5.5, figure_name = None)"
   ]
  },
  {
   "cell_type": "code",
   "execution_count": null,
   "id": "aeb217ad-5ddf-492f-9a8b-4625a4ced66e",
   "metadata": {
    "tags": []
   },
   "outputs": [],
   "source": [
    "plt.plot(q[1:50])\n",
    "plt.grid('both')"
   ]
  },
  {
   "cell_type": "markdown",
   "id": "860dc40b-5076-4d1e-8ded-326298db97a9",
   "metadata": {},
   "source": [
    "# non stationary tests statics"
   ]
  },
  {
   "cell_type": "code",
   "execution_count": 61,
   "id": "6588481d-0f1e-4c5b-b6f0-3ef5c2b0a36a",
   "metadata": {
    "tags": []
   },
   "outputs": [
    {
     "data": {
      "image/png": "[encoded data removed]",
      "text/plain": [
       "<Figure size 640x480 with 1 Axes>"
      ]
     },
     "metadata": {},
     "output_type": "display_data"
    },
    {
     "data": {
      "image/png": "[encoded data removed]",
      "text/plain": [
       "<Figure size 640x480 with 1 Axes>"
      ]
     },
     "metadata": {},
     "output_type": "display_data"
    }
   ],
   "source": [
    "bandit_name = 'GP_UCB_LR'\n",
    "for strat in strategies.keys():\n",
    "    lrstats_ = list(bandits[bandit_name].records['lr_statistic'][strat])\n",
    "    lrstats = [float(i) for i in lrstats]\n",
    "    \n",
    "    plt.hist(lrstats)\n",
    "    plt.show()"
   ]
  },
  {
   "cell_type": "markdown",
   "id": "a47eb468-46f4-4d1c-91ad-38310c5f0c64",
   "metadata": {},
   "source": [
    "# Final stats"
   ]
  },
  {
   "cell_type": "code",
   "execution_count": 18,
   "id": "103263a6-541c-4cc2-9abd-72949a4cb7ec",
   "metadata": {},
   "outputs": [
    {
     "ename": "NameError",
     "evalue": "name 'stats_sim' is not defined",
     "output_type": "error",
     "traceback": [
      "\u001b[0;31m---------------------------------------------------------------------------\u001b[0m",
      "\u001b[0;31mNameError\u001b[0m                                 Traceback (most recent call last)",
      "Cell \u001b[0;32mIn[18], line 2\u001b[0m\n\u001b[1;32m      1\u001b[0m \u001b[38;5;28;01mfor\u001b[39;00m bandit_k \u001b[38;5;129;01min\u001b[39;00m bandits\u001b[38;5;241m.\u001b[39mkeys():\n\u001b[0;32m----> 2\u001b[0m     \u001b[38;5;28mprint\u001b[39m( bandit_k, \u001b[38;5;124m'\u001b[39m\u001b[38;5;124m:\u001b[39m\u001b[38;5;124m'\u001b[39m, \u001b[38;5;28mround\u001b[39m(\u001b[38;5;241m10000\u001b[39m \u001b[38;5;241m*\u001b[39m \u001b[43mstats_sim\u001b[49m\u001b[38;5;241m.\u001b[39mloc[bandit_k, \u001b[38;5;124m'\u001b[39m\u001b[38;5;124mmean\u001b[39m\u001b[38;5;124m'\u001b[39m] \u001b[38;5;241m/\u001b[39m bandits_fin_info[bandit_k]\u001b[38;5;241m.\u001b[39mexecPrice\u001b[38;5;241m.\u001b[39mmean(), \u001b[38;5;241m2\u001b[39m), \u001b[38;5;124m\"\u001b[39m\u001b[38;5;124mbps\u001b[39m\u001b[38;5;124m\"\u001b[39m )\n",
      "\u001b[0;31mNameError\u001b[0m: name 'stats_sim' is not defined"
     ]
    }
   ],
   "source": [
    "for bandit_k in bandits.keys():\n",
    "    print( bandit_k, ':', round(10000 * stats_sim.loc[bandit_k, 'mean'] / bandits_fin_info[bandit_k].execPrice.mean(), 2), \"bps\" )"
   ]
  },
  {
   "cell_type": "code",
   "execution_count": 30,
   "id": "da50b90b-0445-474b-8461-051b7073a3bf",
   "metadata": {},
   "outputs": [
    {
     "data": {
      "text/html": [
       "<div>\n",
       "<style scoped>\n",
       "    .dataframe tbody tr th:only-of-type {\n",
       "        vertical-align: middle;\n",
       "    }\n",
       "\n",
       "    .dataframe tbody tr th {\n",
       "        vertical-align: top;\n",
       "    }\n",
       "\n",
       "    .dataframe thead th {\n",
       "        text-align: right;\n",
       "    }\n",
       "</style>\n",
       "<table border=\"1\" class=\"dataframe\">\n",
       "  <thead>\n",
       "    <tr style=\"text-align: right;\">\n",
       "      <th></th>\n",
       "      <th>count</th>\n",
       "      <th>mean</th>\n",
       "      <th>std</th>\n",
       "      <th>sharpe</th>\n",
       "    </tr>\n",
       "  </thead>\n",
       "  <tbody>\n",
       "    <tr>\n",
       "      <th>oracle</th>\n",
       "      <td>104.0</td>\n",
       "      <td>0.207596</td>\n",
       "      <td>0.169636</td>\n",
       "      <td>1.223778</td>\n",
       "    </tr>\n",
       "    <tr>\n",
       "      <th>imbalance_1</th>\n",
       "      <td>104.0</td>\n",
       "      <td>0.064231</td>\n",
       "      <td>0.094832</td>\n",
       "      <td>0.677312</td>\n",
       "    </tr>\n",
       "    <tr>\n",
       "      <th>GP_UCB_LR_NOREINIT</th>\n",
       "      <td>104.0</td>\n",
       "      <td>0.063750</td>\n",
       "      <td>0.096978</td>\n",
       "      <td>0.657366</td>\n",
       "    </tr>\n",
       "    <tr>\n",
       "      <th>GP_UCB_WAS_NOREINIT</th>\n",
       "      <td>104.0</td>\n",
       "      <td>0.062452</td>\n",
       "      <td>0.093958</td>\n",
       "      <td>0.664677</td>\n",
       "    </tr>\n",
       "    <tr>\n",
       "      <th>GP_UCB_LR</th>\n",
       "      <td>104.0</td>\n",
       "      <td>0.052981</td>\n",
       "      <td>0.092436</td>\n",
       "      <td>0.573161</td>\n",
       "    </tr>\n",
       "    <tr>\n",
       "      <th>GP_UCB_WAS</th>\n",
       "      <td>104.0</td>\n",
       "      <td>0.043750</td>\n",
       "      <td>0.087995</td>\n",
       "      <td>0.497189</td>\n",
       "    </tr>\n",
       "    <tr>\n",
       "      <th>RANDOM</th>\n",
       "      <td>104.0</td>\n",
       "      <td>0.039904</td>\n",
       "      <td>0.095307</td>\n",
       "      <td>0.418686</td>\n",
       "    </tr>\n",
       "    <tr>\n",
       "      <th>UCB_NS</th>\n",
       "      <td>104.0</td>\n",
       "      <td>0.037115</td>\n",
       "      <td>0.103969</td>\n",
       "      <td>0.356985</td>\n",
       "    </tr>\n",
       "    <tr>\n",
       "      <th>GP_UCB_NS</th>\n",
       "      <td>104.0</td>\n",
       "      <td>0.034760</td>\n",
       "      <td>0.091525</td>\n",
       "      <td>0.379781</td>\n",
       "    </tr>\n",
       "    <tr>\n",
       "      <th>MR2</th>\n",
       "      <td>104.0</td>\n",
       "      <td>0.006875</td>\n",
       "      <td>0.087982</td>\n",
       "      <td>0.078141</td>\n",
       "    </tr>\n",
       "  </tbody>\n",
       "</table>\n",
       "</div>"
      ],
      "text/plain": [
       "                     count      mean       std    sharpe\n",
       "oracle               104.0  0.207596  0.169636  1.223778\n",
       "imbalance_1          104.0  0.064231  0.094832  0.677312\n",
       "GP_UCB_LR_NOREINIT   104.0  0.063750  0.096978  0.657366\n",
       "GP_UCB_WAS_NOREINIT  104.0  0.062452  0.093958  0.664677\n",
       "GP_UCB_LR            104.0  0.052981  0.092436  0.573161\n",
       "GP_UCB_WAS           104.0  0.043750  0.087995  0.497189\n",
       "RANDOM               104.0  0.039904  0.095307  0.418686\n",
       "UCB_NS               104.0  0.037115  0.103969  0.356985\n",
       "GP_UCB_NS            104.0  0.034760  0.091525  0.379781\n",
       "MR2                  104.0  0.006875  0.087982  0.078141"
      ]
     },
     "execution_count": 30,
     "metadata": {},
     "output_type": "execute_result"
    }
   ],
   "source": [
    "df_sim_results = pd.concat( (res_simulations[i][1].dropna().cumsum().iloc[-1] for i in res_simulations.keys()), axis=1).T\n",
    "stats_sim = df_sim_results.describe().T\n",
    "stats_sim['sharpe'] = stats_sim['mean']/stats_sim['std']\n",
    "stats_sim.sort_values(by='mean', ascending=False).loc[:, ['count', 'mean', 'std', 'sharpe']]"
   ]
  },
  {
   "cell_type": "code",
   "execution_count": 20,
   "id": "ead5b4a8-a4ec-499d-b548-191a719696b2",
   "metadata": {},
   "outputs": [
    {
     "name": "stdout",
     "output_type": "stream",
     "text": [
      "\n",
      " *********** GP_UCB_NS ***********\n",
      "PNL when bench = twapPrice : 0.061\n",
      "PNL when bench = S0 : 0.054\n",
      "PNL when bench = ST : 0.076\n",
      "\n",
      " *********** GP_UCB_WAS ***********\n",
      "PNL when bench = twapPrice : 0.085\n",
      "PNL when bench = S0 : 0.078\n",
      "PNL when bench = ST : 0.1\n",
      "\n",
      " *********** GP_UCB_WAS_NOREINIT ***********\n",
      "PNL when bench = twapPrice : 0.087\n",
      "PNL when bench = S0 : 0.08\n",
      "PNL when bench = ST : 0.102\n",
      "\n",
      " *********** GP_UCB_LR ***********\n",
      "PNL when bench = twapPrice : 0.063\n",
      "PNL when bench = S0 : 0.056\n",
      "PNL when bench = ST : 0.078\n",
      "\n",
      " *********** GP_UCB_LR_NOREINIT ***********\n",
      "PNL when bench = twapPrice : 0.065\n",
      "PNL when bench = S0 : 0.058\n",
      "PNL when bench = ST : 0.079\n",
      "\n",
      " *********** RANDOM ***********\n",
      "PNL when bench = twapPrice : 0.066\n",
      "PNL when bench = S0 : 0.058\n",
      "PNL when bench = ST : 0.08\n",
      "\n",
      " *********** UCB_NS ***********\n",
      "PNL when bench = twapPrice : 0.058\n",
      "PNL when bench = S0 : 0.051\n",
      "PNL when bench = ST : 0.072\n"
     ]
    }
   ],
   "source": [
    "benchs    = ('twapPrice', 'S0', 'ST')\n",
    "\n",
    "for bandit_k in bandits.keys():\n",
    "    print('\\n', '***********', bandit_k, '***********')\n",
    "    n          = len(res_simulations)\n",
    "    for bench in benchs:\n",
    "        pnl_bandit = 0\n",
    "        pnl_twap   = 0\n",
    "        pnl_execS0 = 0\n",
    "        pnl_execST = 0\n",
    "        for i in range(n):\n",
    "            tmp_bandit   = res_simulations[i][2][bandit_k].dropna()\n",
    "            pnl_bandit   += res_simulations[i][0] * (-tmp_bandit.execPrice.mean() + tmp_bandit[bench].mean())\n",
    "            #tmp_bandit.execPrice.sum() - tmp_bandit[bench].sum()\n",
    "            # pnl_twap     += tmp_bandit.twapPrice.sum() - len(tmp_bandit)*tmp_bandit.iloc[0][bench]\n",
    "            # pnl_execS0   += tmp_bandit.S0.sum()        - len(tmp_bandit)*tmp_bandit.iloc[0][bench]\n",
    "            # pnl_execST   += tmp_bandit.ST.sum()        - len(tmp_bandit)*tmp_bandit.iloc[0][bench]\n",
    "    \n",
    "        print('PNL when bench =', bench, ':', round(pnl_bandit, 3))\n",
    "# res_simulations[i][1]['TS_WAS'].dropna().S0.sum()"
   ]
  },
  {
   "cell_type": "code",
   "execution_count": 21,
   "id": "a18289e2-1a13-479d-b10a-fa719f8b5759",
   "metadata": {},
   "outputs": [],
   "source": [
    "# fig, axes = plt.subplots(2, 3, sharey=True)\n",
    "# for (i_i, bandit_k) in enumerate(bandits.keys()):\n",
    "#     for (i_j, strat) in enumerate(strategies):\n",
    "#         axes[i_i, i_j].plot(distances[bandit_k][strat])\n",
    "#         axes[i_i, i_j].set_title(f'bandit {bandit_k}\\n strat {strat}')\n",
    "#         axes[i_i, i_j].grid(axis='both')\n",
    "# plt.tight_layout()"
   ]
  },
  {
   "cell_type": "markdown",
   "id": "858b1aa5-44ad-4113-a009-39c6526c33fb",
   "metadata": {},
   "source": [
    "# Regret analysis"
   ]
  },
  {
   "cell_type": "code",
   "execution_count": 22,
   "id": "9a68cd57-89cd-4e32-a255-54e5662c29ac",
   "metadata": {
    "tags": []
   },
   "outputs": [],
   "source": [
    "# get historical rewards and regret\n",
    "rewards_to_plot = pd.DataFrame(index = all_data.index)\n",
    "regrets_to_plot = pd.DataFrame(index = all_data.index)\n",
    "\n",
    "for bandit_k in bandits.keys(): regrets_to_plot[bandit_k] = np.nan\n",
    "for (i_strat, strat) in enumerate(strategies.keys()): regrets_to_plot[strat] = np.nan\n",
    "    \n",
    "for i_simul in range(nb_simulations):\n",
    "    buysell, bandit_rewards, bandits_fin_info, q = res_simulations[i_simul]\n",
    "    \n",
    "    for bandit_k in bandits.keys():\n",
    "        regrets_to_plot.loc[bandit_rewards.index, bandit_k] = - np.array(bandit_rewards[bandit_k]) + np.array(bandit_rewards['oracle'])\n",
    "        rewards_to_plot.loc[bandit_rewards.index, bandit_k] = np.array(bandit_rewards[bandit_k])\n",
    "        \n",
    "    for (i_strat, strat) in enumerate(strategies.keys()):\n",
    "        regrets_to_plot.loc[bandit_rewards.index, strat]    = - np.array(bandit_rewards[strat])  + np.array(bandit_rewards['oracle'])\n",
    "        rewards_to_plot.loc[bandit_rewards.index, strat]    = np.array(bandit_rewards[strat])"
   ]
  },
  {
   "cell_type": "code",
   "execution_count": 23,
   "id": "6afa3e06-77a3-4823-9d36-cc423374cb6e",
   "metadata": {
    "tags": []
   },
   "outputs": [
    {
     "data": {
      "image/png": "[encoded data removed]",
      "text/plain": [
       "<Figure size 800x240 with 1 Axes>"
      ]
     },
     "metadata": {},
     "output_type": "display_data"
    }
   ],
   "source": [
    "regrets_to_plot.cumsum().sort_index().dropna().reset_index(drop=True).plot()\n",
    "plt.grid('both')\n",
    "plt.show()"
   ]
  },
  {
   "cell_type": "markdown",
   "id": "a9206bf9-df12-49ee-80ba-377ba3220557",
   "metadata": {},
   "source": [
    "### Hit ratio"
   ]
  },
  {
   "cell_type": "code",
   "execution_count": 24,
   "id": "a6348446-dc5b-4823-ac3e-3a327aab1e10",
   "metadata": {},
   "outputs": [],
   "source": [
    "# (bandit_rewards.dropna()['UCB']==bandit_rewards.dropna()['oracle']).sum()/len(bandit_rewards.dropna())"
   ]
  },
  {
   "cell_type": "code",
   "execution_count": 25,
   "id": "e1847c05-86b4-4a4b-b43e-48753a19c418",
   "metadata": {},
   "outputs": [
    {
     "name": "stdout",
     "output_type": "stream",
     "text": [
      "Global number of rewards for every bandit: 260327\n",
      "Hit ratio GP_UCB_NS: 1 %\n",
      "Hit ratio GP_UCB_WAS: 1 %\n",
      "Hit ratio GP_UCB_WAS_NOREINIT: 1 %\n",
      "Hit ratio GP_UCB_LR: 1 %\n",
      "Hit ratio GP_UCB_LR_NOREINIT: 1 %\n",
      "Hit ratio RANDOM: 1 %\n",
      "Hit ratio UCB_NS: 1 %\n"
     ]
    }
   ],
   "source": [
    "hit_ratio_analysis(rewards_to_plot, bandit_rewards['oracle'], bandits, _W = 5.5)"
   ]
  },
  {
   "cell_type": "markdown",
   "id": "05251370-7e08-47ea-9317-2f950dbb7fd5",
   "metadata": {},
   "source": [
    "### Reward distributions"
   ]
  },
  {
   "cell_type": "code",
   "execution_count": 26,
   "id": "1a111ff4-79f8-4d15-98f9-2590ebb2db28",
   "metadata": {},
   "outputs": [
    {
     "data": {
      "text/plain": [
       "<matplotlib.legend.Legend at 0x293398220>"
      ]
     },
     "execution_count": 26,
     "metadata": {},
     "output_type": "execute_result"
    },
    {
     "data": {
      "image/png": "[encoded data removed]",
      "text/plain": [
       "<Figure size 800x240 with 1 Axes>"
      ]
     },
     "metadata": {},
     "output_type": "display_data"
    }
   ],
   "source": [
    "for (clr, bandit_k) in zip(('k', 'tan', 'blue'), bandits.keys()):\n",
    "    rewards_to_plot[bandit_k][rewards_to_plot[bandit_k].abs()<0.01].hist(bins=100,  color=clr, alpha=0.4, density=False)\n",
    "plt.legend(bandits.keys())"
   ]
  },
  {
   "cell_type": "markdown",
   "id": "8fa1fd62-48c5-4c37-936f-da7d21fb0ea3",
   "metadata": {},
   "source": [
    "### Reward distributions in time"
   ]
  },
  {
   "cell_type": "code",
   "execution_count": 27,
   "id": "76e4a8d1-fc9d-44d6-8ffa-19dee300649e",
   "metadata": {},
   "outputs": [
    {
     "ename": "KeyError",
     "evalue": "'UCB_WAS'",
     "output_type": "error",
     "traceback": [
      "\u001b[0;31m---------------------------------------------------------------------------\u001b[0m",
      "\u001b[0;31mKeyError\u001b[0m                                  Traceback (most recent call last)",
      "File \u001b[0;32m~/miniconda/envs/aoe/lib/python3.10/site-packages/pandas/core/indexes/base.py:3802\u001b[0m, in \u001b[0;36mIndex.get_loc\u001b[0;34m(self, key, method, tolerance)\u001b[0m\n\u001b[1;32m   3801\u001b[0m \u001b[38;5;28;01mtry\u001b[39;00m:\n\u001b[0;32m-> 3802\u001b[0m     \u001b[38;5;28;01mreturn\u001b[39;00m \u001b[38;5;28;43mself\u001b[39;49m\u001b[38;5;241;43m.\u001b[39;49m\u001b[43m_engine\u001b[49m\u001b[38;5;241;43m.\u001b[39;49m\u001b[43mget_loc\u001b[49m\u001b[43m(\u001b[49m\u001b[43mcasted_key\u001b[49m\u001b[43m)\u001b[49m\n\u001b[1;32m   3803\u001b[0m \u001b[38;5;28;01mexcept\u001b[39;00m \u001b[38;5;167;01mKeyError\u001b[39;00m \u001b[38;5;28;01mas\u001b[39;00m err:\n",
      "File \u001b[0;32m~/miniconda/envs/aoe/lib/python3.10/site-packages/pandas/_libs/index.pyx:138\u001b[0m, in \u001b[0;36mpandas._libs.index.IndexEngine.get_loc\u001b[0;34m()\u001b[0m\n",
      "File \u001b[0;32m~/miniconda/envs/aoe/lib/python3.10/site-packages/pandas/_libs/index.pyx:165\u001b[0m, in \u001b[0;36mpandas._libs.index.IndexEngine.get_loc\u001b[0;34m()\u001b[0m\n",
      "File \u001b[0;32mpandas/_libs/hashtable_class_helper.pxi:5745\u001b[0m, in \u001b[0;36mpandas._libs.hashtable.PyObjectHashTable.get_item\u001b[0;34m()\u001b[0m\n",
      "File \u001b[0;32mpandas/_libs/hashtable_class_helper.pxi:5753\u001b[0m, in \u001b[0;36mpandas._libs.hashtable.PyObjectHashTable.get_item\u001b[0;34m()\u001b[0m\n",
      "\u001b[0;31mKeyError\u001b[0m: 'UCB_WAS'",
      "\nThe above exception was the direct cause of the following exception:\n",
      "\u001b[0;31mKeyError\u001b[0m                                  Traceback (most recent call last)",
      "Cell \u001b[0;32mIn[27], line 6\u001b[0m\n\u001b[1;32m      2\u001b[0m bandit_name \u001b[38;5;241m=\u001b[39m \u001b[38;5;124m'\u001b[39m\u001b[38;5;124mUCB_WAS\u001b[39m\u001b[38;5;124m'\u001b[39m\n\u001b[1;32m      4\u001b[0m bandit_rewards  \u001b[38;5;241m=\u001b[39m pd\u001b[38;5;241m.\u001b[39mconcat((res_simulations[i_simul][\u001b[38;5;241m1\u001b[39m] \u001b[38;5;28;01mfor\u001b[39;00m i_simul \u001b[38;5;129;01min\u001b[39;00m \u001b[38;5;28mrange\u001b[39m(nb_simulations)), axis\u001b[38;5;241m=\u001b[39m\u001b[38;5;241m0\u001b[39m)\n\u001b[0;32m----> 6\u001b[0m \u001b[43mreward_distribution_analysis\u001b[49m\u001b[43m(\u001b[49m\u001b[43mbandit_name\u001b[49m\u001b[43m,\u001b[49m\u001b[43m \u001b[49m\u001b[43mbandits\u001b[49m\u001b[43m,\u001b[49m\u001b[43m \u001b[49m\u001b[43mperiod_est\u001b[49m\u001b[43m,\u001b[49m\u001b[43m \u001b[49m\u001b[43mall_data\u001b[49m\u001b[38;5;241;43m.\u001b[39;49m\u001b[43mloc\u001b[49m\u001b[43m[\u001b[49m\u001b[43mbandit_rewards\u001b[49m\u001b[38;5;241;43m.\u001b[39;49m\u001b[43mindex\u001b[49m\u001b[43m,\u001b[49m\u001b[43m:\u001b[49m\u001b[43m]\u001b[49m\u001b[43m,\u001b[49m\u001b[43m \u001b[49m\u001b[43mrewards_to_plot\u001b[49m\u001b[38;5;241;43m.\u001b[39;49m\u001b[43mloc\u001b[49m\u001b[43m[\u001b[49m\u001b[43mbandit_rewards\u001b[49m\u001b[38;5;241;43m.\u001b[39;49m\u001b[43mindex\u001b[49m\u001b[43m,\u001b[49m\u001b[43m:\u001b[49m\u001b[43m]\u001b[49m\u001b[38;5;241;43m.\u001b[39;49m\u001b[43mcumsum\u001b[49m\u001b[43m(\u001b[49m\u001b[43m)\u001b[49m\u001b[43m,\u001b[49m\u001b[43m \u001b[49m\u001b[43mbandit_rewards\u001b[49m\u001b[43m,\u001b[49m\n\u001b[1;32m      7\u001b[0m \u001b[43m                              \u001b[49m\u001b[43mstrategies\u001b[49m\u001b[43m,\u001b[49m\u001b[43m \u001b[49m\u001b[43mW\u001b[49m\u001b[43m \u001b[49m\u001b[38;5;241;43m=\u001b[39;49m\u001b[43m \u001b[49m\u001b[38;5;241;43m7\u001b[39;49m\u001b[43m,\u001b[49m\u001b[43m \u001b[49m\u001b[43mfigure_name\u001b[49m\u001b[43m \u001b[49m\u001b[38;5;241;43m=\u001b[39;49m\u001b[43m \u001b[49m\u001b[38;5;28;43;01mNone\u001b[39;49;00m\u001b[43m)\u001b[49m\n",
      "File \u001b[0;32m~/Library/CloudStorage/OneDrive-Personal/Documents/PhD/Main/AOE/AOE3/AOE/bandit_plots.py:53\u001b[0m, in \u001b[0;36mreward_distribution_analysis\u001b[0;34m(bandit_name, bandits, period_est, all_data, rewards_to_plot, bandit_rewards, strategies, W, figure_name)\u001b[0m\n\u001b[1;32m     50\u001b[0m price_time_index \u001b[38;5;241m=\u001b[39m np\u001b[38;5;241m.\u001b[39mlinspace(\u001b[38;5;241m0\u001b[39m, \u001b[38;5;241m1\u001b[39m, \u001b[38;5;28mlen\u001b[39m(sub_mid_prices)) \u001b[38;5;66;03m#sub_mid_prices.index\u001b[39;00m\n\u001b[1;32m     51\u001b[0m time_index       \u001b[38;5;241m=\u001b[39m np\u001b[38;5;241m.\u001b[39mlinspace(\u001b[38;5;241m0\u001b[39m, \u001b[38;5;241m1\u001b[39m, \u001b[38;5;28mlen\u001b[39m(rewards_to_plot)) \u001b[38;5;66;03m#sub_mid_prices.index\u001b[39;00m\n\u001b[0;32m---> 53\u001b[0m ax1\u001b[38;5;241m.\u001b[39mplot(time_index, \u001b[43mrewards_to_plot\u001b[49m\u001b[43m[\u001b[49m\u001b[43mbandit_k\u001b[49m\u001b[43m]\u001b[49m, color\u001b[38;5;241m=\u001b[39m\u001b[38;5;124m'\u001b[39m\u001b[38;5;124mgrey\u001b[39m\u001b[38;5;124m'\u001b[39m)\n\u001b[1;32m     54\u001b[0m ax1\u001b[38;5;241m.\u001b[39mplot(time_index, bandit_rewards[\u001b[38;5;124m'\u001b[39m\u001b[38;5;124moracle\u001b[39m\u001b[38;5;124m'\u001b[39m], color\u001b[38;5;241m=\u001b[39m\u001b[38;5;124m'\u001b[39m\u001b[38;5;124mtan\u001b[39m\u001b[38;5;124m'\u001b[39m, alpha\u001b[38;5;241m=\u001b[39m\u001b[38;5;241m0.5\u001b[39m)\n\u001b[1;32m     55\u001b[0m ax1\u001b[38;5;241m.\u001b[39mlegend([bandit_k, \u001b[38;5;124m'\u001b[39m\u001b[38;5;124mOracle\u001b[39m\u001b[38;5;124m'\u001b[39m])\n",
      "File \u001b[0;32m~/miniconda/envs/aoe/lib/python3.10/site-packages/pandas/core/frame.py:3807\u001b[0m, in \u001b[0;36mDataFrame.__getitem__\u001b[0;34m(self, key)\u001b[0m\n\u001b[1;32m   3805\u001b[0m \u001b[38;5;28;01mif\u001b[39;00m \u001b[38;5;28mself\u001b[39m\u001b[38;5;241m.\u001b[39mcolumns\u001b[38;5;241m.\u001b[39mnlevels \u001b[38;5;241m>\u001b[39m \u001b[38;5;241m1\u001b[39m:\n\u001b[1;32m   3806\u001b[0m     \u001b[38;5;28;01mreturn\u001b[39;00m \u001b[38;5;28mself\u001b[39m\u001b[38;5;241m.\u001b[39m_getitem_multilevel(key)\n\u001b[0;32m-> 3807\u001b[0m indexer \u001b[38;5;241m=\u001b[39m \u001b[38;5;28;43mself\u001b[39;49m\u001b[38;5;241;43m.\u001b[39;49m\u001b[43mcolumns\u001b[49m\u001b[38;5;241;43m.\u001b[39;49m\u001b[43mget_loc\u001b[49m\u001b[43m(\u001b[49m\u001b[43mkey\u001b[49m\u001b[43m)\u001b[49m\n\u001b[1;32m   3808\u001b[0m \u001b[38;5;28;01mif\u001b[39;00m is_integer(indexer):\n\u001b[1;32m   3809\u001b[0m     indexer \u001b[38;5;241m=\u001b[39m [indexer]\n",
      "File \u001b[0;32m~/miniconda/envs/aoe/lib/python3.10/site-packages/pandas/core/indexes/base.py:3804\u001b[0m, in \u001b[0;36mIndex.get_loc\u001b[0;34m(self, key, method, tolerance)\u001b[0m\n\u001b[1;32m   3802\u001b[0m     \u001b[38;5;28;01mreturn\u001b[39;00m \u001b[38;5;28mself\u001b[39m\u001b[38;5;241m.\u001b[39m_engine\u001b[38;5;241m.\u001b[39mget_loc(casted_key)\n\u001b[1;32m   3803\u001b[0m \u001b[38;5;28;01mexcept\u001b[39;00m \u001b[38;5;167;01mKeyError\u001b[39;00m \u001b[38;5;28;01mas\u001b[39;00m err:\n\u001b[0;32m-> 3804\u001b[0m     \u001b[38;5;28;01mraise\u001b[39;00m \u001b[38;5;167;01mKeyError\u001b[39;00m(key) \u001b[38;5;28;01mfrom\u001b[39;00m \u001b[38;5;21;01merr\u001b[39;00m\n\u001b[1;32m   3805\u001b[0m \u001b[38;5;28;01mexcept\u001b[39;00m \u001b[38;5;167;01mTypeError\u001b[39;00m:\n\u001b[1;32m   3806\u001b[0m     \u001b[38;5;66;03m# If we have a listlike key, _check_indexing_error will raise\u001b[39;00m\n\u001b[1;32m   3807\u001b[0m     \u001b[38;5;66;03m#  InvalidIndexError. Otherwise we fall through and re-raise\u001b[39;00m\n\u001b[1;32m   3808\u001b[0m     \u001b[38;5;66;03m#  the TypeError.\u001b[39;00m\n\u001b[1;32m   3809\u001b[0m     \u001b[38;5;28mself\u001b[39m\u001b[38;5;241m.\u001b[39m_check_indexing_error(key)\n",
      "\u001b[0;31mKeyError\u001b[0m: 'UCB_WAS'"
     ]
    },
    {
     "data": {
      "image/png": "[encoded data removed]",
      "text/plain": [
       "<Figure size 700x350 with 3 Axes>"
      ]
     },
     "metadata": {},
     "output_type": "display_data"
    }
   ],
   "source": [
    "period_est  = 20 # in number of rewards, can be \"10min\"\n",
    "bandit_name = 'UCB_WAS'\n",
    "\n",
    "bandit_rewards  = pd.concat((res_simulations[i_simul][1] for i_simul in range(nb_simulations)), axis=0)\n",
    "\n",
    "reward_distribution_analysis(bandit_name, bandits, period_est, all_data.loc[bandit_rewards.index,:], rewards_to_plot.loc[bandit_rewards.index,:].cumsum(), bandit_rewards,\n",
    "                              strategies, W = 7, figure_name = None)"
   ]
  },
  {
   "cell_type": "markdown",
   "id": "fb0c490e-d00a-4dce-940c-1089aa13b479",
   "metadata": {},
   "source": [
    "### Regret plots"
   ]
  },
  {
   "cell_type": "code",
   "execution_count": null,
   "id": "6affd7c9-5153-4427-99fc-5cc4bd820ffb",
   "metadata": {},
   "outputs": [],
   "source": [
    "regret_plots(strategies, regrets_to_plot.dropna(), all_data,  bandits, W=5.5, figure_name = None)"
   ]
  },
  {
   "cell_type": "code",
   "execution_count": null,
   "id": "0b634220-2ad8-4f5f-9ca0-5f6e2dbd80ae",
   "metadata": {},
   "outputs": [],
   "source": [
    "regret_plots(strategies, rewards_to_plot.dropna(), all_data,  bandits, W=5.5, figure_name = None)"
   ]
  },
  {
   "cell_type": "markdown",
   "id": "62722035-f9ae-4f20-bc69-cee9f4cd105d",
   "metadata": {},
   "source": [
    "### GP plot"
   ]
  },
  {
   "cell_type": "code",
   "execution_count": null,
   "id": "1b5f8019-4650-48ae-b2b2-18d505bb5bf4",
   "metadata": {},
   "outputs": [],
   "source": [
    "bandit_name  = 'UCB_WAS'\n",
    "bandits[bandit_name].plot_strategies()"
   ]
  }
 ],
 "metadata": {
  "kernelspec": {
   "display_name": "Python 3 (ipykernel)",
   "language": "python",
   "name": "python3"
  },
  "language_info": {
   "codemirror_mode": {
    "name": "ipython",
    "version": 3
   },
   "file_extension": ".py",
   "mimetype": "text/x-python",
   "name": "python",
   "nbconvert_exporter": "python",
   "pygments_lexer": "ipython3",
   "version": "3.10.9"
  }
 },
 "nbformat": 4,
 "nbformat_minor": 5
}
