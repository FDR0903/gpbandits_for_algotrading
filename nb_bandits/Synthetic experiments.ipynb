{
 "cells": [
  {
   "cell_type": "code",
   "execution_count": 2,
   "id": "11539250",
   "metadata": {},
   "outputs": [],
   "source": [
    "import numpy as np\n",
    "import matplotlib.pyplot as plt\n",
    "import pandas as pd\n",
    "from   IPython.display import display, HTML\n",
    "from collections import deque\n",
    "import random\n",
    "import os\n",
    "import sys\n",
    "import pathlib\n",
    "from collections import deque\n",
    "from tqdm.notebook import tqdm, trange\n",
    "import datetime\n",
    "from scipy import interpolate\n",
    "import math\n",
    "\n",
    "import matplotlib.ticker as mtick\n",
    "import matplotlib.dates as md\n",
    "\n",
    "from IPython.display import clear_output\n",
    "\n",
    "os.environ[\"KMP_DUPLICATE_LIB_OK\"] = \"TRUE\"\n",
    "\n",
    "import torch\n",
    "import gpytorch\n",
    "import matplotlib.dates as md"
   ]
  },
  {
   "cell_type": "code",
   "execution_count": null,
   "id": "a45c1f4d",
   "metadata": {},
   "outputs": [],
   "source": [
    "parent_module_path = os.path.abspath(os.path.join('..'))\n",
    "if parent_module_path not in sys.path:\n",
    "    sys.path.append(parent_module_path)"
   ]
  },
  {
   "cell_type": "code",
   "execution_count": null,
   "id": "6378a4fa",
   "metadata": {},
   "outputs": [],
   "source": [
    "pd.set_option('display.width', 1000)\n",
    "display(HTML(\"<style>.container { width:100% !important; }</style>\"))\n",
    "pd.set_option('mode.chained_assignment', None)"
   ]
  },
  {
   "cell_type": "markdown",
   "id": "305f946a",
   "metadata": {},
   "source": [
    "# Load Data & Signals"
   ]
  },
  {
   "cell_type": "code",
   "execution_count": null,
   "id": "714b8dbe",
   "metadata": {},
   "outputs": [],
   "source": [
    "from AOE.utils import get_LOB_data, get_LOB_features, get_meta_order_df, verbose_print\n",
    "from AOE.plots import rescale_plot\n",
    "from AOE.plots import hit_ratio_analysis, reward_distribution_analysis, regret_plots, analyze_meta_order"
   ]
  },
  {
   "cell_type": "code",
   "execution_count": null,
   "id": "604dceab",
   "metadata": {},
   "outputs": [],
   "source": [
    "data_path     = pathlib.Path(os.path.abspath(os.path.join('..')), \"data\", \"Market\")\n",
    "reward_path   = pathlib.Path(os.path.abspath(os.path.join('..')), \"data\", \"Rewards\")\n",
    "feature_path  = pathlib.Path(os.path.abspath(os.path.join('..')), \"data\", \"Features\")\n",
    "\n",
    "asset_name    = \"MSFT\"\n",
    "tick_size     = 0.001"
   ]
  },
  {
   "cell_type": "code",
   "execution_count": null,
   "id": "67922ba8-c1e9-4fa2-ab06-280cdbf6026c",
   "metadata": {},
   "outputs": [],
   "source": [
    "all_data = None\n",
    "\n",
    "for trade_day in ('01', '02'):#, '03', '06', '07', '08', '09', '10', '13', '14', '16', '17', '21', '22', '23', '24', '27', '28', '29', '30'):\n",
    "    trade_date    = f'2022-06-{trade_day}'\n",
    "    print('Reading', trade_date)\n",
    "    if False:\n",
    "        LOB_data, LOB_messages     = get_LOB_data(data_path, asset_name, trade_date)\n",
    "        LOB_features  = get_LOB_features(LOB_data,\n",
    "                                         trade_date = trade_date,\n",
    "                                         trend      = ({'w' : 25},),\n",
    "                                         vol        = ({'w' : 500}, {'w' : 1000}, \n",
    "                                                       {'w' : 5000}, {'w' : 20000}),\n",
    "                                         depth      = {'w' : 500},\n",
    "                                         LOB_msg    = LOB_messages)\n",
    "        LOB_features.to_pickle(f'../data/Features/LOB_features_{trade_date}.pkl')\n",
    "    else:\n",
    "        LOB_features = pd.read_pickle(f'../data/Features/LOB_features_{trade_date}.pkl')\n",
    "    \n",
    "    # take data every 10 trades\n",
    "    LOB_features = LOB_features.iloc[::10,:].set_index('timestamp')\n",
    "    \n",
    "    if all_data is None: \n",
    "        all_data = LOB_features\n",
    "    else:\n",
    "        # LOB_features.index = LOB_features.index #+ (all_data.index.values[-1] - LOB_features.index.values[0])\n",
    "        all_data = pd.concat((all_data, LOB_features))"
   ]
  },
  {
   "cell_type": "markdown",
   "id": "1429b209-68ce-4bf9-9acf-944a94859412",
   "metadata": {},
   "source": [
    "# Optimal Strategies & Trading parameters"
   ]
  },
  {
   "cell_type": "code",
   "execution_count": null,
   "id": "905cb83a-fa3d-4b09-96fa-85cc815c86af",
   "metadata": {},
   "outputs": [],
   "source": [
    "all_data['LT'] = (-(all_data['rsi_5_10000']-50)/6)\n",
    "LOB_features   = all_data.dropna().sort_index()"
   ]
  },
  {
   "cell_type": "code",
   "execution_count": null,
   "id": "4ad5e89e-1371-424b-b03e-c9d0f93657c1",
   "metadata": {},
   "outputs": [],
   "source": [
    "strategies  = {'imbalance' : {'name'             : 'imbalance',\n",
    "                              'params'           : {'feature_name'     : 'imbalance_1',\n",
    "                                                      'estimation_period': '1min',\n",
    "                                                      'use_interpolator' : False,\n",
    "                                                      'alpha'            : 10, \n",
    "                                                      'phi'              : 0.001, \n",
    "                                                      'kappa'            : 9e-10},\n",
    "                                'contextual_params': {'feature_name'  : 'vol_50_50000'}},\n",
    "               \n",
    "               'trend' : {'name'             : 'imbalance',\n",
    "                            'params'           : {'feature_name'     : 'LT',\n",
    "                                                  'estimation_period': '1min', \n",
    "                                                  'use_interpolator' : False,\n",
    "                                                  'alpha'            : 10, \n",
    "                                                  'phi'              : 0.001, \n",
    "                                                  'kappa'            : 9e-10},\n",
    "                            'contextual_params': {'feature_name'  : 'vol_50_50000'}},\n",
    "               \n",
    "               'twap'        : {'name'             : 'TWAP',\n",
    "                                'params'           : {'feature_name'     : 'imbalance_3',\n",
    "                                                      'estimation_period': '1min', \n",
    "                                                      'use_interpolator' : False,\n",
    "                                                      'alpha'            : 10, \n",
    "                                                      'phi'              : 0.001, \n",
    "                                                      'kappa'            : 9e-10},\n",
    "                                'contextual_params': {'feature_name'  : 'vol_50_50000'}}}"
   ]
  },
  {
   "cell_type": "code",
   "execution_count": null,
   "id": "8ce7daf5-e896-4e46-9e13-ba4ea7e938c8",
   "metadata": {},
   "outputs": [],
   "source": [
    "arrival_intensity   = 0.001 # in trade time\n",
    "meta_order_size     = 100 # Fiwed size of every order\n",
    "latency             = 0   # TODO: implement this\n",
    "T                   = 60*10 # trading window for every order in seconds\n",
    "trading_frequency   = 3  # in seconds"
   ]
  },
  {
   "cell_type": "markdown",
   "id": "ee3598ff",
   "metadata": {},
   "source": [
    "# GP bandits"
   ]
  },
  {
   "cell_type": "code",
   "execution_count": null,
   "id": "83ab7de2-d611-4e4c-86df-f4c30fe46ff6",
   "metadata": {},
   "outputs": [],
   "source": [
    "from AOE.gp_bandit import gp_bandit"
   ]
  },
  {
   "cell_type": "code",
   "execution_count": null,
   "id": "4e970f0c-5947-4dd7-a96c-3550675c0619",
   "metadata": {},
   "outputs": [],
   "source": [
    "# Likelihood models & non stationarity params\n",
    "likelihood              = gpytorch.likelihoods.GaussianLikelihood()\n",
    "size_buffer             = 100 # in terms of number of rewards to sample from\n",
    "size_buffer_nts         = 60*10 # in terms of seconds of oobservation\n",
    "nb_intermediary_rewards = 5\n",
    "\n",
    "# Bandit objects\n",
    "bandits = {'TS'  : gp_bandit(strategies, likelihood, size_buffer, bandit_algo='TS'), \n",
    "           'UCB' : gp_bandit(strategies, likelihood, size_buffer, bandit_algo='UCB', bandit_params=0.1) }\n",
    "\n",
    "bandits = {'TS'  : gp_bandit(strategies, likelihood, size_buffer, bandit_algo='TS')}\n",
    "\n"
   ]
  },
  {
   "cell_type": "markdown",
   "id": "e7cd52a8-1a9b-442c-9138-b05e67ce1388",
   "metadata": {},
   "source": [
    "# Other control parameters and variables"
   ]
  },
  {
   "cell_type": "code",
   "execution_count": null,
   "id": "f0f1edd5-a05e-4fe8-a4a9-3e2b3b94beb8",
   "metadata": {
    "tags": []
   },
   "outputs": [],
   "source": [
    "# variables for historical bandit data\n",
    "pending_rewards           = {bandit_k: {} for bandit_k in bandits.keys() }\n",
    "pending_int_rewards       = {bandit_k: {} for bandit_k in bandits.keys() }\n",
    "pending_rewards['oracle'] = {}\n",
    "historical_rewards        = {bandit_k: [] for bandit_k in bandits.keys() }\n",
    "historical_strats         = {bandit_k: [] for bandit_k in bandits.keys() }\n",
    "historical_oracle_rewards = []\n",
    "historical_oracle_strats  = []\n",
    "historical_all_rewards    = []\n",
    "historical_reward_times   = []\n",
    "order_arrival_times       = []\n",
    "\n",
    "# variables for historical trading data\n",
    "tape_meta_orders          = deque(maxlen=None) # A tape with meta order objects\n",
    "meta_order_id_c           = 0 # counter to flag meta orders with IDs\n",
    "order_id_c                = 0 # counter to flag orders with IDs\n",
    "\n",
    "i_order                   = 0\n",
    "nb_added_rewards          = {bandit_k:0 for bandit_k in bandits.keys()}\n",
    "order_arrival_times       = LOB_features.dropna().iloc[::5,:].index.values # .timestamp.values\n",
    "tape_meta_orders          = deque(maxlen=None)"
   ]
  },
  {
   "cell_type": "code",
   "execution_count": null,
   "id": "cdf66889-b3fd-4865-b74c-c97de1e84e70",
   "metadata": {},
   "outputs": [],
   "source": [
    "verbose_level             = 1"
   ]
  },
  {
   "cell_type": "markdown",
   "id": "9db58e01-a058-4db6-9b9e-92cf5f1ec53a",
   "metadata": {},
   "source": [
    "# Trading simulation"
   ]
  },
  {
   "cell_type": "code",
   "execution_count": null,
   "id": "4d87104b-eb15-4eae-8411-8ca3f95d59d8",
   "metadata": {},
   "outputs": [],
   "source": [
    "from AOE.order import order\n",
    "from AOE.meta_order import meta_order\n",
    "from AOE.strategy import strategy\n",
    "\n",
    "from AOE.stats import get_meta_order_df\n",
    "from AOE.stats import get_meta_order_details\n",
    "from AOE.plots import plot_meta_order\n",
    "\n",
    "from AOE.optimal_trading import execute_strategy\n",
    "from AOE.bandit_utils import update_reward_variables, update_bandit_variables\n",
    "from AOE.bandit_utils import pop_from_dict, execute_and_obtain_rewards, update_pending_rewards"
   ]
  },
  {
   "cell_type": "code",
   "execution_count": null,
   "id": "8cd04918",
   "metadata": {},
   "outputs": [],
   "source": [
    "#LOB_features.loc[order_arrival_time:].iloc[0,:].fillna(0.) # fillna should be controlled here .."
   ]
  },
  {
   "cell_type": "code",
   "execution_count": null,
   "id": "8799275f",
   "metadata": {},
   "outputs": [],
   "source": [
    "## Plot both gp and value ucb at each time step with data point\n",
    "## Try non stationarity\n",
    "## Create synthetic random datapoints\n",
    "bandit = gp_bandit(strategies, likelihood, size_buffer, bandit_algo='TS')\n",
    "reward_imbalance = lambda x: x**2\n",
    "reward_trend = lambda x: -x**2 + 0.5\n",
    "reward_twap = lambda x: -3*x**2 + 1\n",
    "d = {'vol_50_50000': np.random.normal()}\n",
    "\n",
    "for i in range(50):\n",
    "    d['vol_50_50000'] = np.random.normal()\n",
    "    feature_values = pd.Series(data=d, index=['vol_50_50000'])\n",
    "    best_strategy_bandit  = bandit.select_best_strategy(feature_values)\n",
    "    \n",
    "    if best_strategy_bandit == \"imbalance\":\n",
    "        reward = reward_imbalance(d['vol_50_50000'])\n",
    "    elif best_strategy_bandit == \"trend\":\n",
    "        reward = reward_trend(d['vol_50_50000'])\n",
    "    else:\n",
    "        reward = reward_twap(d['vol_50_50000'])\n",
    "    \n",
    "    bandit.update_data(feature_values, best_strategy_bandit, reward, retrain_hyperparameters = True)\n",
    "    \n",
    "    bandit.plot_fit_all()"
   ]
  },
  {
   "cell_type": "code",
   "execution_count": null,
   "id": "17314a7d",
   "metadata": {},
   "outputs": [],
   "source": [
    "## same with ucb\n",
    "bandit = gp_bandit(strategies, likelihood, size_buffer, bandit_algo='UCB')\n",
    "reward_imbalance = lambda x: x**2\n",
    "reward_trend = lambda x: -x**2 + 0.5\n",
    "reward_twap = lambda x: -3*x**2 + 1\n",
    "d = {'vol_50_50000': np.random.normal()}\n",
    "\n",
    "for i in range(50):\n",
    "    d['vol_50_50000'] = np.random.normal()\n",
    "    feature_values = pd.Series(data=d, index=['vol_50_50000'])\n",
    "    best_strategy_bandit  = bandit.select_best_strategy(feature_values)\n",
    "    \n",
    "    if best_strategy_bandit == \"imbalance\":\n",
    "        reward = reward_imbalance(d['vol_50_50000'])\n",
    "    elif best_strategy_bandit == \"trend\":\n",
    "        reward = reward_trend(d['vol_50_50000'])\n",
    "    else:\n",
    "        reward = reward_twap(d['vol_50_50000']) \n",
    "    \n",
    "    bandit.update_data(feature_values, best_strategy_bandit, reward, retrain_hyperparameters = True)\n",
    "    \n",
    "    bandit.plot_fit_all()"
   ]
  },
  {
   "cell_type": "code",
   "execution_count": null,
   "id": "5de8b374",
   "metadata": {},
   "outputs": [],
   "source": [
    "## same with non stationarity\n",
    "size_buffer_nts = 10\n",
    "bandit = gp_bandit(strategies, likelihood, size_buffer_nts, bandit_algo='TS')\n",
    "reward_imbalance = lambda x: x**2\n",
    "reward_trend = lambda x: -x**2 + 0.5\n",
    "reward_twap = lambda x: -3*x**2 + 1\n",
    "d = {'vol_50_50000': np.random.normal()}\n",
    "\n",
    "for i in range(50):\n",
    "    \n",
    "    d['vol_50_50000'] = np.random.normal()\n",
    "    feature_values = pd.Series(data=d, index=['vol_50_50000'])\n",
    "    best_strategy_bandit  = bandit.select_best_strategy(feature_values)\n",
    "    \n",
    "    if best_strategy_bandit == \"imbalance\":\n",
    "        reward = reward_imbalance(d['vol_50_50000'])\n",
    "    elif best_strategy_bandit == \"trend\":\n",
    "        reward = reward_trend(d['vol_50_50000'])\n",
    "    else:\n",
    "        reward = reward_twap(d['vol_50_50000']) \n",
    "    \n",
    "    bandit.strat_model_dict[best_strategy_bandit].reward_observation_times.append(i)\n",
    "    bandit.update_data_nst(feature_values, best_strategy_bandit, reward, i, retrain_hyperparameters = True)\n",
    "    \n",
    "    bandit.plot_fit_all()"
   ]
  },
  {
   "cell_type": "code",
   "execution_count": null,
   "id": "41d2c066",
   "metadata": {},
   "outputs": [],
   "source": []
  }
 ],
 "metadata": {
  "kernelspec": {
   "display_name": "Python 3 (ipykernel)",
   "language": "python",
   "name": "python3"
  },
  "language_info": {
   "codemirror_mode": {
    "name": "ipython",
    "version": 3
   },
   "file_extension": ".py",
   "mimetype": "text/x-python",
   "name": "python",
   "nbconvert_exporter": "python",
   "pygments_lexer": "ipython3",
   "version": "3.10.9"
  }
 },
 "nbformat": 4,
 "nbformat_minor": 5
}
