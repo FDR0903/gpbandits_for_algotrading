{
 "cells": [
  {
   "cell_type": "code",
   "execution_count": 1,
   "id": "11539250",
   "metadata": {},
   "outputs": [],
   "source": [
    "import numpy as np\n",
    "import matplotlib.pyplot as plt\n",
    "import pandas as pd\n",
    "from   IPython.display import display, HTML\n",
    "from collections import deque\n",
    "import random\n",
    "import os\n",
    "import sys\n",
    "import pathlib\n",
    "from collections import deque\n",
    "from tqdm.notebook import tqdm, trange\n",
    "import datetime\n",
    "from scipy import interpolate\n",
    "import math\n",
    "\n",
    "import matplotlib.ticker as mtick\n",
    "import matplotlib.dates as md\n",
    "\n",
    "from IPython.display import clear_output\n",
    "\n",
    "os.environ[\"KMP_DUPLICATE_LIB_OK\"] = \"TRUE\"\n",
    "\n",
    "import torch\n",
    "import gpytorch\n",
    "import matplotlib.dates as md"
   ]
  },
  {
   "cell_type": "code",
   "execution_count": 2,
   "id": "a45c1f4d",
   "metadata": {},
   "outputs": [],
   "source": [
    "parent_module_path = os.path.abspath(os.path.join('..'))\n",
    "if parent_module_path not in sys.path:\n",
    "    sys.path.append(parent_module_path)"
   ]
  },
  {
   "cell_type": "code",
   "execution_count": 3,
   "id": "6378a4fa",
   "metadata": {},
   "outputs": [
    {
     "data": {
      "text/html": [
       "<style>.container { width:100% !important; }</style>"
      ],
      "text/plain": [
       "<IPython.core.display.HTML object>"
      ]
     },
     "metadata": {},
     "output_type": "display_data"
    }
   ],
   "source": [
    "pd.set_option('display.width', 1000)\n",
    "display(HTML(\"<style>.container { width:100% !important; }</style>\"))\n",
    "pd.set_option('mode.chained_assignment', None)"
   ]
  },
  {
   "cell_type": "markdown",
   "id": "69dea3a8-ae4f-477d-8d6d-791e9ea0b4a1",
   "metadata": {},
   "source": [
    "# Load Data & Signals"
   ]
  },
  {
   "cell_type": "code",
   "execution_count": 4,
   "id": "41c738f3-a210-4f0c-84cc-c878ae0271fd",
   "metadata": {},
   "outputs": [],
   "source": [
    "trade_date = '2022-10-03'\n",
    "asset_name = 'BIDU'"
   ]
  },
  {
   "cell_type": "code",
   "execution_count": 5,
   "id": "e777a51c-cc39-4fc2-a94b-4bde87756ec0",
   "metadata": {
    "tags": []
   },
   "outputs": [],
   "source": [
    "all_data = None\n",
    "for filename in os.listdir(f'../data/Rewards'):\n",
    "    f = os.path.join(f'../data/Rewards', filename)\n",
    "    # checking if it is a file\n",
    "    if os.path.isfile(f):\n",
    "        if asset_name in filename:\n",
    "            trade_date = filename.split('_')[1]\n",
    "            reward_fn = f'{asset_name}_{trade_date}_rewards.pkl'\n",
    "            _all_data  = pd.read_pickle(f'../data/Rewards/{reward_fn}')\n",
    "            _all_data  = _all_data[~_all_data.index.duplicated()].resample('1s').last().fillna(method='ffill')\n",
    "            if all_data is None:\n",
    "                all_data = _all_data \n",
    "            else:\n",
    "                all_data = pd.concat((all_data, _all_data), axis=0)\n",
    "all_data = all_data.sort_index()"
   ]
  },
  {
   "cell_type": "code",
   "execution_count": 6,
   "id": "242b1986-913d-4fbe-a4d7-67fea27efece",
   "metadata": {
    "tags": []
   },
   "outputs": [
    {
     "data": {
      "text/html": [
       "<div>\n",
       "<style scoped>\n",
       "    .dataframe tbody tr th:only-of-type {\n",
       "        vertical-align: middle;\n",
       "    }\n",
       "\n",
       "    .dataframe tbody tr th {\n",
       "        vertical-align: top;\n",
       "    }\n",
       "\n",
       "    .dataframe thead th {\n",
       "        text-align: right;\n",
       "    }\n",
       "</style>\n",
       "<table border=\"1\" class=\"dataframe\">\n",
       "  <thead>\n",
       "    <tr style=\"text-align: right;\">\n",
       "      <th></th>\n",
       "      <th>2022-12-23 15:59:54</th>\n",
       "      <th>2022-12-23 15:59:55</th>\n",
       "      <th>2022-12-23 15:59:56</th>\n",
       "      <th>2022-12-23 15:59:57</th>\n",
       "    </tr>\n",
       "  </thead>\n",
       "  <tbody>\n",
       "    <tr>\n",
       "      <th>buyPrice_imbalance_1</th>\n",
       "      <td>111.610000</td>\n",
       "      <td>111.640000</td>\n",
       "      <td>111.595000</td>\n",
       "      <td>111.590000</td>\n",
       "    </tr>\n",
       "    <tr>\n",
       "      <th>buyPrice_MR</th>\n",
       "      <td>111.610000</td>\n",
       "      <td>111.640000</td>\n",
       "      <td>111.595000</td>\n",
       "      <td>111.590000</td>\n",
       "    </tr>\n",
       "    <tr>\n",
       "      <th>buyPrice_TF</th>\n",
       "      <td>111.640000</td>\n",
       "      <td>111.630000</td>\n",
       "      <td>111.600000</td>\n",
       "      <td>111.600000</td>\n",
       "    </tr>\n",
       "    <tr>\n",
       "      <th>sellPrice_imbalance_1</th>\n",
       "      <td>111.640000</td>\n",
       "      <td>111.630000</td>\n",
       "      <td>111.600000</td>\n",
       "      <td>111.600000</td>\n",
       "    </tr>\n",
       "    <tr>\n",
       "      <th>sellPrice_MR</th>\n",
       "      <td>111.640000</td>\n",
       "      <td>111.630000</td>\n",
       "      <td>111.600000</td>\n",
       "      <td>111.600000</td>\n",
       "    </tr>\n",
       "    <tr>\n",
       "      <th>sellPrice_TF</th>\n",
       "      <td>111.610000</td>\n",
       "      <td>111.640000</td>\n",
       "      <td>111.595000</td>\n",
       "      <td>111.590000</td>\n",
       "    </tr>\n",
       "    <tr>\n",
       "      <th>twapPrice</th>\n",
       "      <td>111.645781</td>\n",
       "      <td>111.632500</td>\n",
       "      <td>111.597500</td>\n",
       "      <td>111.595682</td>\n",
       "    </tr>\n",
       "    <tr>\n",
       "      <th>S0</th>\n",
       "      <td>111.610000</td>\n",
       "      <td>111.640000</td>\n",
       "      <td>111.595000</td>\n",
       "      <td>111.600000</td>\n",
       "    </tr>\n",
       "    <tr>\n",
       "      <th>ST</th>\n",
       "      <td>111.640000</td>\n",
       "      <td>111.630000</td>\n",
       "      <td>111.600000</td>\n",
       "      <td>111.590000</td>\n",
       "    </tr>\n",
       "    <tr>\n",
       "      <th>mid_price</th>\n",
       "      <td>111.610000</td>\n",
       "      <td>111.640000</td>\n",
       "      <td>111.595000</td>\n",
       "      <td>111.600000</td>\n",
       "    </tr>\n",
       "    <tr>\n",
       "      <th>imbalance_1</th>\n",
       "      <td>0.476280</td>\n",
       "      <td>0.505595</td>\n",
       "      <td>0.037703</td>\n",
       "      <td>-0.430245</td>\n",
       "    </tr>\n",
       "    <tr>\n",
       "      <th>macd_120_260_90</th>\n",
       "      <td>-2.580629</td>\n",
       "      <td>2.558445</td>\n",
       "      <td>-3.110456</td>\n",
       "      <td>-2.467753</td>\n",
       "    </tr>\n",
       "    <tr>\n",
       "      <th>macd_1200_2600_900</th>\n",
       "      <td>-0.003084</td>\n",
       "      <td>-0.002852</td>\n",
       "      <td>-0.004339</td>\n",
       "      <td>-0.004964</td>\n",
       "    </tr>\n",
       "    <tr>\n",
       "      <th>time_of_day</th>\n",
       "      <td>16.000000</td>\n",
       "      <td>16.000000</td>\n",
       "      <td>16.000000</td>\n",
       "      <td>16.000000</td>\n",
       "    </tr>\n",
       "    <tr>\n",
       "      <th>macd_12_26_9</th>\n",
       "      <td>-0.451209</td>\n",
       "      <td>-4.147247</td>\n",
       "      <td>0.324878</td>\n",
       "      <td>0.793387</td>\n",
       "    </tr>\n",
       "    <tr>\n",
       "      <th>TF</th>\n",
       "      <td>-0.678774</td>\n",
       "      <td>-1.293726</td>\n",
       "      <td>-0.031979</td>\n",
       "      <td>0.943773</td>\n",
       "    </tr>\n",
       "    <tr>\n",
       "      <th>MR</th>\n",
       "      <td>-0.678774</td>\n",
       "      <td>-1.293726</td>\n",
       "      <td>-0.031979</td>\n",
       "      <td>0.943773</td>\n",
       "    </tr>\n",
       "  </tbody>\n",
       "</table>\n",
       "</div>"
      ],
      "text/plain": [
       "                       2022-12-23 15:59:54  2022-12-23 15:59:55  2022-12-23 15:59:56  2022-12-23 15:59:57\n",
       "buyPrice_imbalance_1            111.610000           111.640000           111.595000           111.590000\n",
       "buyPrice_MR                     111.610000           111.640000           111.595000           111.590000\n",
       "buyPrice_TF                     111.640000           111.630000           111.600000           111.600000\n",
       "sellPrice_imbalance_1           111.640000           111.630000           111.600000           111.600000\n",
       "sellPrice_MR                    111.640000           111.630000           111.600000           111.600000\n",
       "sellPrice_TF                    111.610000           111.640000           111.595000           111.590000\n",
       "twapPrice                       111.645781           111.632500           111.597500           111.595682\n",
       "S0                              111.610000           111.640000           111.595000           111.600000\n",
       "ST                              111.640000           111.630000           111.600000           111.590000\n",
       "mid_price                       111.610000           111.640000           111.595000           111.600000\n",
       "imbalance_1                       0.476280             0.505595             0.037703            -0.430245\n",
       "macd_120_260_90                  -2.580629             2.558445            -3.110456            -2.467753\n",
       "macd_1200_2600_900               -0.003084            -0.002852            -0.004339            -0.004964\n",
       "time_of_day                      16.000000            16.000000            16.000000            16.000000\n",
       "macd_12_26_9                     -0.451209            -4.147247             0.324878             0.793387\n",
       "TF                               -0.678774            -1.293726            -0.031979             0.943773\n",
       "MR                               -0.678774            -1.293726            -0.031979             0.943773"
      ]
     },
     "execution_count": 6,
     "metadata": {},
     "output_type": "execute_result"
    }
   ],
   "source": [
    "all_data.tail(4).T"
   ]
  },
  {
   "cell_type": "code",
   "execution_count": 7,
   "id": "b269ccc4-d15f-4813-bace-0f688f983d96",
   "metadata": {},
   "outputs": [],
   "source": [
    "# all_data\n",
    "# all_data.buyPrice_TF.dropna()\n",
    "# all_data"
   ]
  },
  {
   "cell_type": "markdown",
   "id": "ee3598ff",
   "metadata": {},
   "source": [
    "# GP bandits"
   ]
  },
  {
   "cell_type": "code",
   "execution_count": 8,
   "id": "83ab7de2-d611-4e4c-86df-f4c30fe46ff6",
   "metadata": {},
   "outputs": [
    {
     "name": "stdout",
     "output_type": "stream",
     "text": [
      "The Zen of Python, by Tim Peters\n",
      "\n",
      "Beautiful is better than ugly.\n",
      "Explicit is better than implicit.\n",
      "Simple is better than complex.\n",
      "Complex is better than complicated.\n",
      "Flat is better than nested.\n",
      "Sparse is better than dense.\n",
      "Readability counts.\n",
      "Special cases aren't special enough to break the rules.\n",
      "Although practicality beats purity.\n",
      "Errors should never pass silently.\n",
      "Unless explicitly silenced.\n",
      "In the face of ambiguity, refuse the temptation to guess.\n",
      "There should be one-- and preferably only one --obvious way to do it.\n",
      "Although that way may not be obvious at first unless you're Dutch.\n",
      "Now is better than never.\n",
      "Although never is often better than *right* now.\n",
      "If the implementation is hard to explain, it's a bad idea.\n",
      "If the implementation is easy to explain, it may be a good idea.\n",
      "Namespaces are one honking great idea -- let's do more of those!\n"
     ]
    }
   ],
   "source": [
    "from AOE.utils import verbose_print\n",
    "from AOE.bandit_plots import hit_ratio_analysis, reward_distribution_analysis, regret_plots\n",
    "from AOE.gp_bandit_finance import gp_bandit_finance, Wasserstein_GP_mean#, Wasserstein_GP\n",
    "from AOE.plots import rescale_plot"
   ]
  },
  {
   "cell_type": "code",
   "execution_count": 9,
   "id": "f1195219-ebc1-4d7b-9f8a-dd12821daf42",
   "metadata": {},
   "outputs": [],
   "source": [
    "strategies  = {'imbalance_1' : {'name'             : 'imbalance_1',\n",
    "                                     'params'           : {'feature_name'     : 'imbalance_1'},\n",
    "                                     'contextual_params': {'feature_name'     : 'imbalance_1'}},\n",
    "\n",
    "               'MR' : {'name'             : 'MR',\n",
    "                                  'params'           : {'feature_name'     : 'MR'},\n",
    "                                  'contextual_params': {'feature_name'     : 'MR'}},\n",
    "\n",
    "               'TF' : {'name'             : 'TF',\n",
    "                                  'params'           : {'feature_name'     : 'TF'},\n",
    "                                  'contextual_params': {'feature_name'     : 'TF'}}\n",
    "              }"
   ]
  },
  {
   "cell_type": "code",
   "execution_count": 10,
   "id": "e9481d58-25ce-43b5-8321-2bf3cd31b0e5",
   "metadata": {},
   "outputs": [],
   "source": [
    "features = all_data[[s for s in all_data.columns if (('buyPrice' not in s)&('sellPrice' not in s))]]"
   ]
  },
  {
   "cell_type": "code",
   "execution_count": null,
   "id": "9942efa0-dc5a-4daf-9f45-d1bdd98f1ab2",
   "metadata": {
    "tags": []
   },
   "outputs": [],
   "source": []
  },
  {
   "cell_type": "code",
   "execution_count": 11,
   "id": "4e970f0c-5947-4dd7-a96c-3550675c0619",
   "metadata": {},
   "outputs": [],
   "source": [
    "# Likelihood models & non stationarity params\n",
    "likelihood              = gpytorch.likelihoods.GaussianLikelihood()\n",
    "size_buffer             = 30 # in terms of number of rewards to sample from\n",
    "size_buffer_2           = 30 # in terms of number of rewards to sample from\n",
    "size_window             = 15 # for non statonarity\n",
    "bandit_params = {'size_buffer': size_buffer_2, \n",
    "                 'size_window': size_window,\n",
    "                 'threshold'  : 0.0005,\n",
    "                 'lambda'     : 0.6,\n",
    "                 'delta'      : 0.1 } # Delta is bound on type 1 error\n",
    "\n",
    "# Bandit objects\n",
    "bandits = {\n",
    "           #'TS_NS'  : gp_bandit_finance(strategies, bandit_algo='TS_NS', likelihood=likelihood, \n",
    "           #                                      bandit_params=bandit_params), \n",
    "           'UCB_NS' : gp_bandit_finance(strategies, bandit_algo='UCB_NS', likelihood=likelihood, \n",
    "                                                 bandit_params=bandit_params),\n",
    "           # 'TS'  : gp_bandit_finance(strategies, bandit_algo='TS', likelihood=likelihood, size_buffer=size_buffer, size_window=size_window), \n",
    "           # 'UCB' : gp_bandit_finance(strategies, bandit_algo='UCB', likelihood=likelihood, size_buffer=size_buffer, size_window=size_window, bandit_params=0.1),\n",
    "           #'TS_WAS'      : gp_bandit_finance(strategies, bandit_algo='TS_WAS', likelihood=likelihood, \n",
    "           #                              bandit_params=bandit_params),\n",
    "           'UCB_WAS'      : gp_bandit_finance(strategies, bandit_algo='UCB_WAS', likelihood=likelihood, \n",
    "                                         bandit_params=bandit_params),}\n",
    "           #'TS_ADAGA'      : gp_bandit_finance(strategies, bandit_algo='TS_ADAGA', likelihood=likelihood, \n",
    "           #                              bandit_params=bandit_params),\n",
    "           #'UCB_ADAGA'      : gp_bandit_finance(strategies, bandit_algo='UCB_ADAGA', likelihood=likelihood, \n",
    "           #                              bandit_params=bandit_params)}"
   ]
  },
  {
   "cell_type": "markdown",
   "id": "e7cd52a8-1a9b-442c-9138-b05e67ce1388",
   "metadata": {},
   "source": [
    "# Other control parameters and variables"
   ]
  },
  {
   "cell_type": "code",
   "execution_count": 12,
   "id": "f0f1edd5-a05e-4fe8-a4a9-3e2b3b94beb8",
   "metadata": {
    "tags": []
   },
   "outputs": [],
   "source": [
    "# variables for historical trading data\n",
    "i_order                   = 0\n",
    "nb_added_rewards          = {bandit_k:0 for bandit_k in bandits.keys()}\n",
    "verbose_level             = 0\n",
    "arrival_intensity         = 0.5\n",
    "ref_price                 = 'twapPrice'\n",
    "nb_orders                 = 0"
   ]
  },
  {
   "cell_type": "code",
   "execution_count": 13,
   "id": "c2ffce51-ab03-4ce2-b603-1e263cdbc339",
   "metadata": {},
   "outputs": [],
   "source": [
    "def init_variables(all_data, bandits):\n",
    "    bandit_rewards = pd.DataFrame(index=all_data.index)\n",
    "    for bandit_k in bandits.keys(): \n",
    "        bandit_rewards[bandit_k] = np.nan\n",
    "    bandit_rewards['oracle'] = np.nan\n",
    "    for strat in strategies.keys():\n",
    "        bandit_rewards[strat] = np.nan\n",
    "    \n",
    "    batch_times = list(all_data.index)\n",
    "    # distances   = {bandit_k:{strat: [] for strat in strategies.keys()} for bandit_k in bandits.keys()}\n",
    "\n",
    "    bandits_fin_info = {bandit_k:pd.DataFrame(index=all_data.index) for bandit_k in bandits.keys()}\n",
    "    for bandit_k in bandits.keys(): \n",
    "        bandits_fin_info[bandit_k]['execPrice'] = np.nan\n",
    "        bandits_fin_info[bandit_k]['S0']        = np.nan\n",
    "        bandits_fin_info[bandit_k]['ST']        = np.nan\n",
    "        bandits_fin_info[bandit_k]['twapPrice'] = np.nan\n",
    "        \n",
    "    return bandit_rewards, bandits_fin_info, batch_times"
   ]
  },
  {
   "cell_type": "markdown",
   "id": "9db58e01-a058-4db6-9b9e-92cf5f1ec53a",
   "metadata": {},
   "source": [
    "# Trading simulation"
   ]
  },
  {
   "cell_type": "code",
   "execution_count": 14,
   "id": "588f8c4c-79f6-4cf5-a709-eb820a24ce10",
   "metadata": {},
   "outputs": [],
   "source": [
    "def alpha(gamma, sigma, V, nu, dt):\n",
    "    cosh_alpha_dt = 1 + (gamma * V * (dt*sigma)**2) / (4 * nu)\n",
    "    return (1/dt) * np.arccosh(cosh_alpha_dt)\n",
    "\n",
    "def q_star(x, q0, T, gamma, sigma, V, nu, dt):\n",
    "    alpha_ = alpha(gamma, sigma, V, nu, dt)\n",
    "    return q0 * np.sinh(alpha_*(T - x))/np.sinh(alpha_*T)\n",
    "\n",
    "S0        = 100\n",
    "sigma     = 5\n",
    "V         = 15000000 #TransactionTape.set_index('time').traded_quantity.rolling('1h').sum().mean()\n",
    "nu        = 10 # 0.1 dollar per contract for AC style.\n",
    "gamma     = 10**1 #per dollar\n",
    "T         = 5/60/24\n",
    "\n",
    "timesteps = np.linspace(0, T, 100)\n",
    "q0        = 100 #int(0.1 * V) # nb of shares to liquidate : 10% of total traded volume\n",
    "dt        = T/100"
   ]
  },
  {
   "cell_type": "code",
   "execution_count": null,
   "id": "bb3a23e6-142e-46ff-8de6-88a2606b2792",
   "metadata": {
    "tags": []
   },
   "outputs": [
    {
     "name": "stdout",
     "output_type": "stream",
     "text": [
      "************************************ Simul number: 11\n"
     ]
    },
    {
     "data": {
      "text/html": [
       "<div>\n",
       "<style scoped>\n",
       "    .dataframe tbody tr th:only-of-type {\n",
       "        vertical-align: middle;\n",
       "    }\n",
       "\n",
       "    .dataframe tbody tr th {\n",
       "        vertical-align: top;\n",
       "    }\n",
       "\n",
       "    .dataframe thead th {\n",
       "        text-align: right;\n",
       "    }\n",
       "</style>\n",
       "<table border=\"1\" class=\"dataframe\">\n",
       "  <thead>\n",
       "    <tr style=\"text-align: right;\">\n",
       "      <th></th>\n",
       "      <th>count</th>\n",
       "      <th>mean</th>\n",
       "      <th>std</th>\n",
       "      <th>sharpe</th>\n",
       "    </tr>\n",
       "  </thead>\n",
       "  <tbody>\n",
       "    <tr>\n",
       "      <th>oracle</th>\n",
       "      <td>12.0</td>\n",
       "      <td>0.263443</td>\n",
       "      <td>0.093709</td>\n",
       "      <td>2.811280</td>\n",
       "    </tr>\n",
       "    <tr>\n",
       "      <th>UCB_NS</th>\n",
       "      <td>12.0</td>\n",
       "      <td>0.039693</td>\n",
       "      <td>0.091289</td>\n",
       "      <td>0.434802</td>\n",
       "    </tr>\n",
       "    <tr>\n",
       "      <th>MR</th>\n",
       "      <td>12.0</td>\n",
       "      <td>0.030109</td>\n",
       "      <td>0.092077</td>\n",
       "      <td>0.327004</td>\n",
       "    </tr>\n",
       "    <tr>\n",
       "      <th>UCB_WAS</th>\n",
       "      <td>12.0</td>\n",
       "      <td>0.028859</td>\n",
       "      <td>0.067911</td>\n",
       "      <td>0.424958</td>\n",
       "    </tr>\n",
       "    <tr>\n",
       "      <th>imbalance_1</th>\n",
       "      <td>12.0</td>\n",
       "      <td>0.018859</td>\n",
       "      <td>0.100201</td>\n",
       "      <td>0.188217</td>\n",
       "    </tr>\n",
       "    <tr>\n",
       "      <th>TF</th>\n",
       "      <td>12.0</td>\n",
       "      <td>-0.039891</td>\n",
       "      <td>0.069411</td>\n",
       "      <td>-0.574696</td>\n",
       "    </tr>\n",
       "  </tbody>\n",
       "</table>\n",
       "</div>"
      ],
      "text/plain": [
       "             count      mean       std    sharpe\n",
       "oracle        12.0  0.263443  0.093709  2.811280\n",
       "UCB_NS        12.0  0.039693  0.091289  0.434802\n",
       "MR            12.0  0.030109  0.092077  0.327004\n",
       "UCB_WAS       12.0  0.028859  0.067911  0.424958\n",
       "imbalance_1   12.0  0.018859  0.100201  0.188217\n",
       "TF            12.0 -0.039891  0.069411 -0.574696"
      ]
     },
     "metadata": {},
     "output_type": "display_data"
    },
    {
     "name": "stdout",
     "output_type": "stream",
     "text": [
      "UCB_NS : 4.21 bps\n",
      "UCB_WAS : 3.06 bps\n"
     ]
    },
    {
     "name": "stderr",
     "output_type": "stream",
     "text": [
      "/var/folders/h3/cyxpytps41d3jmsv99t0x7ww0000gn/T/ipykernel_907/3493576990.py:184: UserWarning: FixedFormatter should only be used together with FixedLocator\n",
      "  for ax in (ax1, ax2, ax3): ax.grid(axis='both'); ax.set_xticklabels(ax.get_xticklabels(), rotation=-45, ha='right')\n"
     ]
    },
    {
     "data": {
      "image/png": "[encoded data removed]",
      "text/plain": [
       "<Figure size 800x240 with 3 Axes>"
      ]
     },
     "metadata": {},
     "output_type": "display_data"
    }
   ],
   "source": [
    "nb_simulations    = 1000 \n",
    "res_simulations   = {}\n",
    "programme_horizon = '5min'\n",
    "\n",
    "np.random.seed(15)\n",
    "\n",
    "for i_simul in range(nb_simulations):    \n",
    "    # choose a random starting point for the programme starting time\n",
    "    i_start = int(np.random.rand(1)*(9*len(all_data)/10))\n",
    "    programme_data = all_data.iloc[i_start:].first(programme_horizon)\n",
    "    \n",
    "    # Fill na exec prices accordingly\n",
    "    for col in programme_data.columns:\n",
    "        if 'Price_' in col:\n",
    "            programme_data[col].fillna(programme_data[ref_price], inplace=True)\n",
    "    \n",
    "    bandit_rewards, bandits_fin_info, batch_times = init_variables(programme_data, bandits)\n",
    "    \n",
    "    buysell          = 2*np.random.randint(0, 2, size=None, dtype=int)-1\n",
    "    verbose_print(verbose_level, None, f'I received an order at {None} with quantity {buysell}', True)\n",
    "    \n",
    "    q0     = 100*buysell\n",
    "    q      = np.zeros(len(batch_times)+1)\n",
    "    q[0]   = q0\n",
    "    dt     = T/len(batch_times)\n",
    "    \n",
    "    for (i_time, batch_time) in enumerate(batch_times): # leave a few minutes\n",
    "        # if np.random.poisson(arrival_intensity)>0:\n",
    "        sigma       = 5\n",
    "        q_cible     = q_star(T * i_time/len(batch_times), q0, T, 10**-3, sigma, V, nu, dt)\n",
    "        trade_size  = int(q_cible - q[i_time])     \n",
    "        q[i_time+1] = q[i_time]+trade_size\n",
    "        V           = 15000000 #TransactionTape.set_index('time').traded_quantity.rolling('1h').sum().mean()\n",
    "        nb_orders   += 1\n",
    "\n",
    "#             if ((nb_orders%20==0) & (i_time>0)):\n",
    "#                 print('************************************ Simul number:', i_simul)\n",
    "#                 clear_output(wait=True)\n",
    "#                 verbose_level = 1\n",
    "#                 for bandit_k in bandits.keys():\n",
    "#                     bandits[bandit_k].plot_strategies()         \n",
    "\n",
    "#                 # get historical rewards and regret\n",
    "#                 rewards_to_plot = pd.DataFrame(index=programme_data.index)\n",
    "#                 for bandit_k in bandits.keys():\n",
    "#                     rewards_to_plot[bandit_k] = np.array(bandit_rewards[bandit_k])\n",
    "#                 for (i_strat, strat) in enumerate(strategies.keys()):\n",
    "#                     rewards_to_plot[strat]    = np.array(bandit_rewards[strat])\n",
    "#                 rewards_to_plot = rewards_to_plot.sort_index()\n",
    "#                 regret_plots(strategies, rewards_to_plot.dropna(), programme_data,  bandits, W=5.5, figure_name = None)\n",
    "#             else:\n",
    "#                 verbose_level = 0\n",
    "\n",
    "        trade_date = str(batch_time).split(' ')[0]\n",
    "\n",
    "        ###############################################\n",
    "        # retrain GPs hyperparameters every N orders \n",
    "        ###############################################\n",
    "        retrain_hyperparameters = True\n",
    "\n",
    "        ##################################################\n",
    "        # if an order arrives: decide if buy & sell\n",
    "        ##################################################\n",
    "        i_order          += 1\n",
    "\n",
    "        ######################\n",
    "        # get feature values\n",
    "        ######################\n",
    "        feature_values = features.loc[batch_time, :]\n",
    "\n",
    "        ######################################\n",
    "        # select the strategy for all bandits\n",
    "        ######################################\n",
    "        verbose_print(verbose_level, batch_time, f'Selecting strategies ...')\n",
    "        best_strategies_bandits = {}\n",
    "        for bandit_k in bandits.keys():\n",
    "            verbose_print(verbose_level, batch_time, f'** Bandit {bandit_k}: Selecting strategies ...')\n",
    "            if i_time < 5*len(strategies): # at least 5 rewards before sampling\n",
    "                best_strategies_bandits[bandit_k]  = random.choice(list(strategies.keys()))\n",
    "            else:\n",
    "                best_strategies_bandits[bandit_k]  = bandits[bandit_k].select_best_strategy(feature_values)\n",
    "            verbose_print(verbose_level, batch_time, f'Selected strategy: {best_strategies_bandits[bandit_k]}')\n",
    "        \n",
    "        ######################################\n",
    "        # Update & Retrain the GPs\n",
    "        # & Non stationarity test\n",
    "        ######################################\n",
    "        tmp_pnls = {bandit_k:np.nan for bandit_k in bandits.keys()}\n",
    "        for bandit_k in bandits.keys():\n",
    "            if buysell == 1:\n",
    "                tmp_pnls[bandit_k] = -programme_data.loc[batch_time, f'buyPrice_{best_strategies_bandits[bandit_k]}'] + \\\n",
    "                            programme_data.loc[batch_time, ref_price]\n",
    "            else:\n",
    "                tmp_pnls[bandit_k] = programme_data.loc[batch_time, f'sellPrice_{best_strategies_bandits[bandit_k]}'] - \\\n",
    "                            programme_data.loc[batch_time, ref_price]\n",
    "        \n",
    "        for bandit_k in bandits.keys():\n",
    "            #print('Adding bandit : ', bandit_k, 'values are:', feature_values.MR, best_strategies_bandits[bandit_k], tmp_pnls[bandit_k])\n",
    "            try:\n",
    "                bandits[bandit_k].update_data(features  = feature_values, \n",
    "                                              strat     = best_strategies_bandits[bandit_k], \n",
    "                                              reward    = tmp_pnls[bandit_k],\n",
    "                                              retrain_hyperparameters = retrain_hyperparameters)\n",
    "            except Exception as e:\n",
    "                retrain_hyperparameters = True\n",
    "                print('Error while updating the bandit ', bandit_k ,': ', str(e), '\\n', tmp_pnls[bandit_k])\n",
    "                bandits[bandit_k].update_data(features  = feature_values, \n",
    "                                              strat     = best_strategies_bandits[bandit_k], \n",
    "                                              reward    = tmp_pnls[bandit_k],\n",
    "                                              retrain_hyperparameters = False)\n",
    "                #bandits[bandit_k].strat_gp_dict[best_strategies_bandits[bandit_k]].train()\n",
    "\n",
    "        ######################################\n",
    "        # Record rewards\n",
    "        ######################################\n",
    "        for bandit_k in bandits.keys():\n",
    "            if buysell == 1:\n",
    "                bandits_fin_info[bandit_k].loc[batch_time,'execPrice']  = \\\n",
    "                                programme_data.loc[batch_time, f'buyPrice_{best_strategies_bandits[bandit_k]}'] \n",
    "            else:\n",
    "                bandits_fin_info[bandit_k].loc[batch_time,'execPrice']  = \\\n",
    "                                programme_data.loc[batch_time, f'sellPrice_{best_strategies_bandits[bandit_k]}'] \n",
    "\n",
    "            bandit_rewards.loc[batch_time, bandit_k]               = tmp_pnls[bandit_k]\n",
    "            bandits_fin_info[bandit_k].loc[batch_time,'S0']        = programme_data.loc[batch_time, 'S0'] \n",
    "            bandits_fin_info[bandit_k].loc[batch_time,'ST']        = programme_data.loc[batch_time, 'ST'] \n",
    "            bandits_fin_info[bandit_k].loc[batch_time,'twapPrice'] = programme_data.loc[batch_time, 'twapPrice'] \n",
    "\n",
    "        for strat in strategies.keys():\n",
    "            if buysell == 1:\n",
    "                bandit_rewards.loc[batch_time, strat] = \\\n",
    "                            -programme_data.loc[batch_time, f'buyPrice_{strat}'] + \\\n",
    "                            programme_data.loc[batch_time, ref_price]\n",
    "            else:\n",
    "                bandit_rewards.loc[batch_time, strat] = \\\n",
    "                            programme_data.loc[batch_time, f'sellPrice_{strat}'] - \\\n",
    "                            programme_data.loc[batch_time, ref_price]\n",
    "\n",
    "\n",
    "        ##############################\n",
    "        # Record oracle info\n",
    "        ##############################\n",
    "        oracle_strategy = bandit_rewards.loc[batch_time, strategies.keys()].idxmax() #(pnls_buy.loc[batch_time]).idxmax()\n",
    "        bandit_rewards.loc[batch_time, 'oracle'] = bandit_rewards.loc[batch_time, f'{oracle_strategy}']\n",
    "        verbose_print(verbose_level, batch_time, f\"Oracle strategy: {oracle_strategy}\")\n",
    "    \n",
    "    # multiply pnls by trading speed\n",
    "    v = np.diff(q)\n",
    "    for i in range(len(bandit_rewards)):\n",
    "        bandit_rewards.iloc[i,:] = np.abs(v[i]) * bandit_rewards.iloc[i,:]\n",
    "\n",
    "    res_simulations[i_simul] = buysell, bandit_rewards, bandits_fin_info, q\n",
    "    \n",
    "    # verbose\n",
    "    clear_output(wait=True)\n",
    "    print('************************************ Simul number:', i_simul)\n",
    "    \n",
    "    # prepare the plot\n",
    "    rescale_plot(8, 10, 3)\n",
    "    fig, (ax1, ax2, ax3) = plt.subplots(1, 3, sharex=True, constrained_layout=True)\n",
    "\n",
    "    # plot programme prices\n",
    "    ax1.plot(programme_data.index, programme_data.mid_price, color='k', lw=2)\n",
    "\n",
    "    # get regrets & rewards\n",
    "    rewards_to_plot = pd.DataFrame(index=programme_data.index)\n",
    "    for bandit_k in bandits.keys():\n",
    "        rewards_to_plot[bandit_k] = np.array(bandit_rewards[bandit_k])\n",
    "    for (i_strat, strat) in enumerate(strategies.keys()):\n",
    "        rewards_to_plot[strat]    = np.array(bandit_rewards[strat])\n",
    "    rewards_to_plot = rewards_to_plot.sort_index()\n",
    "    ax2.plot(rewards_to_plot.index, rewards_to_plot.dropna().cumsum(), lw=2)\n",
    "    ax2.legend(list(rewards_to_plot.columns), \n",
    "           loc='best', fancybox=True, framealpha=0.1, handlelength=0.1)\n",
    "    df_sim_results = pd.concat( (res_simulations[i][1].dropna().cumsum().iloc[-1] for i in res_simulations.keys()), axis=1).T\n",
    "    stats_sim = df_sim_results.describe().T\n",
    "    stats_sim['sharpe'] = stats_sim['mean']/stats_sim['std']\n",
    "\n",
    "    # Some printing\n",
    "    display(stats_sim.sort_values(by='mean', ascending=False).loc[:, ['count', 'mean', 'std', 'sharpe']])\n",
    "    for bandit_k in bandits.keys():\n",
    "        print( bandit_k, ':', round(10000 * stats_sim.loc[bandit_k, 'mean']/bandits_fin_info[bandit_k].execPrice.mean(), 2), \"bps\" )\n",
    "    ax3.plot(res_simulations[i_simul][1].dropna().index, q[1:], color='k', lw=2) #np.linspace(len(res_simulations[i_simul][1].dropna()), 0, len(res_simulations[i_simul][1].dropna()))\n",
    "    for ax in (ax1, ax2, ax3): ax.grid(axis='both'); ax.set_xticklabels(ax.get_xticklabels(), rotation=-45, ha='right')\n",
    "    plt.show()\n",
    "    # regret_plots(strategies, rewards_to_plot.dropna(), programme_data,  bandits, W=5.5, figure_name = None)"
   ]
  },
  {
   "cell_type": "code",
   "execution_count": null,
   "id": "aeb217ad-5ddf-492f-9a8b-4625a4ced66e",
   "metadata": {
    "tags": []
   },
   "outputs": [],
   "source": [
    "plt.plot(q[1:50])\n",
    "plt.grid('both')"
   ]
  },
  {
   "cell_type": "code",
   "execution_count": null,
   "id": "c82ccbe8-191a-4a73-a5e6-5a5c60698e81",
   "metadata": {
    "tags": []
   },
   "outputs": [],
   "source": [
    "fig, (ax1, ax2, ax3) = plt.subplots(1, 3, sharex=True, constrained_layout=True)\n",
    "\n",
    "# plot programme prices\n",
    "ax1.plot(programme_data.index, programme_data.mid_price, color='k', lw=2)\n",
    "\n",
    "# get regrets & rewards\n",
    "rewards_to_plot = pd.DataFrame(index=programme_data.index)\n",
    "for bandit_k in bandits.keys():\n",
    "    rewards_to_plot[bandit_k] = np.array(bandit_rewards[bandit_k])\n",
    "for (i_strat, strat) in enumerate(strategies.keys()):\n",
    "    rewards_to_plot[strat]    = np.array(bandit_rewards[strat])\n",
    "rewards_to_plot = rewards_to_plot.sort_index()\n",
    "rewards_to_plot.dropna().cumsum().plot(ax=ax2, lw=2)\n",
    "\n",
    "df_sim_results = pd.concat( (res_simulations[i][1].dropna().cumsum().iloc[-1] for i in res_simulations.keys()), axis=1).T\n",
    "stats_sim = df_sim_results.describe().T\n",
    "stats_sim['sharpe'] = stats_sim['mean']/stats_sim['std']\n",
    "\n",
    "# Some printing\n",
    "display(stats_sim.sort_values(by='mean', ascending=False).loc[:, ['count', 'mean', 'std', 'sharpe']])\n",
    "for bandit_k in bandits.keys():\n",
    "    print( bandit_k, ':', round(10000 * stats_sim.loc[bandit_k, 'mean']/bandits_fin_info[bandit_k].execPrice.mean(), 2), \"bps\" )\n",
    "ax3.plot(res_simulations[i_simul][1].dropna().index, q[1:], color='k', lw=2) #np.linspace(len(res_simulations[i_simul][1].dropna()), 0, len(res_simulations[i_simul][1].dropna()))\n",
    "for ax in (ax1, ax2, ax3): ax.grid(axis='both')\n",
    "plt.show()\n",
    "# regret_plots(strategies, rewards_to_plot.dropna(), programme_data,  bandits, W=5.5, figure_name = None)"
   ]
  },
  {
   "cell_type": "markdown",
   "id": "a47eb468-46f4-4d1c-91ad-38310c5f0c64",
   "metadata": {},
   "source": [
    "### Final stats"
   ]
  },
  {
   "cell_type": "code",
   "execution_count": null,
   "id": "103263a6-541c-4cc2-9abd-72949a4cb7ec",
   "metadata": {},
   "outputs": [],
   "source": [
    "for bandit_k in bandits.keys():\n",
    "    print( bandit_k, ':', round(10000 * stats_sim.loc[bandit_k, 'mean']/bandits_fin_info[bandit_k].execPrice.mean(), 2), \"bps\" )"
   ]
  },
  {
   "cell_type": "code",
   "execution_count": null,
   "id": "da50b90b-0445-474b-8461-051b7073a3bf",
   "metadata": {},
   "outputs": [],
   "source": [
    "df_sim_results = pd.concat( (res_simulations[i][1].dropna().cumsum().iloc[-1] for i in res_simulations.keys()), axis=1).T\n",
    "stats_sim = df_sim_results.describe().T\n",
    "stats_sim['sharpe'] = stats_sim['mean']/stats_sim['std']\n",
    "print(stats_sim.sort_values(by='mean', ascending=False).loc[:, ['count', 'mean', 'std', 'sharpe']])"
   ]
  },
  {
   "cell_type": "code",
   "execution_count": null,
   "id": "b037ee55-dfd5-4049-9d14-683cd2cf5dea",
   "metadata": {},
   "outputs": [],
   "source": [
    "# res_simulations[i][2][bandit_k]\n",
    "# df_sim_results\n",
    "# df_sim_results"
   ]
  },
  {
   "cell_type": "code",
   "execution_count": null,
   "id": "8b96c830-51a1-4a87-877d-094fcf5ee685",
   "metadata": {},
   "outputs": [],
   "source": [
    "df_sim_results = pd.concat( (res_simulations[i][1].dropna().cumsum().iloc[-1] for i in res_simulations.keys()), axis=1).T\n",
    "stats_sim = df_sim_results.describe().T\n",
    "stats_sim['sharpe'] = stats_sim['mean']/stats_sim['std']\n",
    "\n",
    "stats_sim.sort_values(by='mean', ascending=False).loc[:, ['count', 'mean', 'std', 'sharpe']]"
   ]
  },
  {
   "cell_type": "code",
   "execution_count": null,
   "id": "9ec6f1b1-886a-4770-b253-07691ac0abf9",
   "metadata": {},
   "outputs": [],
   "source": [
    "# res_simulations[i][2][bandit_k].dropna()"
   ]
  },
  {
   "cell_type": "code",
   "execution_count": null,
   "id": "18009c22-0807-42f6-9517-bf2e81ce9b1f",
   "metadata": {},
   "outputs": [],
   "source": [
    "# rewards_to_plot.dropna().cumsum().plot()"
   ]
  },
  {
   "cell_type": "code",
   "execution_count": null,
   "id": "b549b882-4e6b-4287-a5f7-90301830fe1a",
   "metadata": {},
   "outputs": [],
   "source": [
    "# i=0\n",
    "# res_simulations[i][1][bandit_k].dropna()\n",
    "res_simulations[i][1][bandit_k]"
   ]
  },
  {
   "cell_type": "code",
   "execution_count": null,
   "id": "ead5b4a8-a4ec-499d-b548-191a719696b2",
   "metadata": {},
   "outputs": [],
   "source": [
    "bench    = 'twapPrice'\n",
    "\n",
    "for bandit_k in bandits.keys():\n",
    "    print('\\n', '***********', bandit_k, '***********')\n",
    "    pnl_bandit = 0\n",
    "    pnl_twap   = 0\n",
    "    pnl_execS0 = 0\n",
    "    pnl_execST = 0\n",
    "    n          = len(res_simulations)\n",
    "    \n",
    "    for i in range(n):\n",
    "        tmp_bandit   = res_simulations[i][2][bandit_k].dropna()\n",
    "        pnl_bandit   += tmp_bandit.execPrice.sum() - tmp_bandit[bench].sum()\n",
    "        # pnl_twap     += tmp_bandit.twapPrice.sum() - len(tmp_bandit)*tmp_bandit.iloc[0][bench]\n",
    "        # pnl_execS0   += tmp_bandit.S0.sum()        - len(tmp_bandit)*tmp_bandit.iloc[0][bench]\n",
    "        # pnl_execST   += tmp_bandit.ST.sum()        - len(tmp_bandit)*tmp_bandit.iloc[0][bench]\n",
    "\n",
    "    print('PNL:', pnl_bandit/n)\n",
    "# res_simulations[i][1]['TS_WAS'].dropna().S0.sum()"
   ]
  },
  {
   "cell_type": "code",
   "execution_count": null,
   "id": "a18289e2-1a13-479d-b10a-fa719f8b5759",
   "metadata": {},
   "outputs": [],
   "source": [
    "# fig, axes = plt.subplots(2, 3, sharey=True)\n",
    "# for (i_i, bandit_k) in enumerate(bandits.keys()):\n",
    "#     for (i_j, strat) in enumerate(strategies):\n",
    "#         axes[i_i, i_j].plot(distances[bandit_k][strat])\n",
    "#         axes[i_i, i_j].set_title(f'bandit {bandit_k}\\n strat {strat}')\n",
    "#         axes[i_i, i_j].grid(axis='both')\n",
    "# plt.tight_layout()"
   ]
  },
  {
   "cell_type": "markdown",
   "id": "858b1aa5-44ad-4113-a009-39c6526c33fb",
   "metadata": {},
   "source": [
    "# Regret analysis"
   ]
  },
  {
   "cell_type": "code",
   "execution_count": null,
   "id": "929a9038-b857-484f-84d2-574b27164ada",
   "metadata": {},
   "outputs": [],
   "source": [
    "# get historical rewards and regret\n",
    "rewards_to_plot = pd.DataFrame(index=all_data.index)\n",
    "regrets_to_plot = pd.DataFrame(index=all_data.index)\n",
    "\n",
    "for bandit_k in bandits.keys():\n",
    "    regrets_to_plot[bandit_k] = - np.array(bandit_rewards[bandit_k]) + np.array(bandit_rewards['oracle'])\n",
    "for (i_strat, strat) in enumerate(strategies.keys()):\n",
    "    regrets_to_plot[strat]    = - np.array(bandit_rewards[strat]) + np.array(bandit_rewards['oracle'])\n",
    "\n",
    "for bandit_k in bandits.keys():\n",
    "    rewards_to_plot[bandit_k] = np.array(bandit_rewards[bandit_k])\n",
    "for (i_strat, strat) in enumerate(strategies.keys()):\n",
    "    rewards_to_plot[strat]    = np.array(bandit_rewards[strat])\n",
    "\n",
    "regrets_to_plot = regrets_to_plot.sort_index()\n",
    "rewards_to_plot = rewards_to_plot.sort_index()"
   ]
  },
  {
   "cell_type": "markdown",
   "id": "a9206bf9-df12-49ee-80ba-377ba3220557",
   "metadata": {},
   "source": [
    "### Hit ratio"
   ]
  },
  {
   "cell_type": "code",
   "execution_count": null,
   "id": "a6348446-dc5b-4823-ac3e-3a327aab1e10",
   "metadata": {},
   "outputs": [],
   "source": [
    "# (bandit_rewards.dropna()['UCB']==bandit_rewards.dropna()['oracle']).sum()/len(bandit_rewards.dropna())"
   ]
  },
  {
   "cell_type": "code",
   "execution_count": null,
   "id": "e1847c05-86b4-4a4b-b43e-48753a19c418",
   "metadata": {},
   "outputs": [],
   "source": [
    "hit_ratio_analysis(rewards_to_plot, bandit_rewards['oracle'], bandits, _W = 5.5)"
   ]
  },
  {
   "cell_type": "markdown",
   "id": "05251370-7e08-47ea-9317-2f950dbb7fd5",
   "metadata": {},
   "source": [
    "### Reward distributions"
   ]
  },
  {
   "cell_type": "code",
   "execution_count": null,
   "id": "1a111ff4-79f8-4d15-98f9-2590ebb2db28",
   "metadata": {},
   "outputs": [],
   "source": [
    "for (clr, bandit_k) in zip(('k', 'tan', 'blue'), bandits.keys()):\n",
    "    rewards_to_plot[bandit_k].hist(bins=30,  color=clr, alpha=0.4, density=True)\n",
    "\n",
    "plt.legend(bandits.keys())"
   ]
  },
  {
   "cell_type": "markdown",
   "id": "8fa1fd62-48c5-4c37-936f-da7d21fb0ea3",
   "metadata": {},
   "source": [
    "### Reward distributions in time"
   ]
  },
  {
   "cell_type": "code",
   "execution_count": null,
   "id": "76e4a8d1-fc9d-44d6-8ffa-19dee300649e",
   "metadata": {},
   "outputs": [],
   "source": [
    "period_est  = 20 # in number of rewards, can be \"10min\"\n",
    "bandit_name = 'TS_WAS'\n",
    "\n",
    "reward_distribution_analysis(bandit_name, bandits, period_est, all_data, rewards_to_plot.dropna(), bandit_rewards.dropna(),\n",
    "                              strategies, W = 7, figure_name = None)"
   ]
  },
  {
   "cell_type": "markdown",
   "id": "fb0c490e-d00a-4dce-940c-1089aa13b479",
   "metadata": {},
   "source": [
    "### Regret plots"
   ]
  },
  {
   "cell_type": "code",
   "execution_count": null,
   "id": "6affd7c9-5153-4427-99fc-5cc4bd820ffb",
   "metadata": {},
   "outputs": [],
   "source": [
    "regret_plots(strategies, regrets_to_plot.dropna(), all_data,  bandits, W=5.5, figure_name = None)"
   ]
  },
  {
   "cell_type": "code",
   "execution_count": null,
   "id": "0b634220-2ad8-4f5f-9ca0-5f6e2dbd80ae",
   "metadata": {},
   "outputs": [],
   "source": [
    "regret_plots(strategies, rewards_to_plot.dropna(), all_data,  bandits, W=5.5, figure_name = None)"
   ]
  },
  {
   "cell_type": "markdown",
   "id": "62722035-f9ae-4f20-bc69-cee9f4cd105d",
   "metadata": {},
   "source": [
    "### GP plot"
   ]
  },
  {
   "cell_type": "code",
   "execution_count": null,
   "id": "1b5f8019-4650-48ae-b2b2-18d505bb5bf4",
   "metadata": {},
   "outputs": [],
   "source": [
    "bandit_name  = 'TS_WAS'\n",
    "bandits[bandit_name].plot_strategies()"
   ]
  },
  {
   "cell_type": "code",
   "execution_count": null,
   "id": "adcf8f66-ae11-4efb-aa6f-6ecb800cbf7d",
   "metadata": {},
   "outputs": [],
   "source": [
    "bandit_name  = 'UCB_WAS'\n",
    "bandits[bandit_name].plot_strategies()"
   ]
  },
  {
   "cell_type": "code",
   "execution_count": null,
   "id": "fc8a2323-eb19-4402-8c93-0ea07b4265c3",
   "metadata": {},
   "outputs": [],
   "source": [
    "rewards_to_plot"
   ]
  },
  {
   "cell_type": "code",
   "execution_count": null,
   "id": "d779d192-a8fd-471e-8370-a0f52526ce9d",
   "metadata": {},
   "outputs": [],
   "source": []
  }
 ],
 "metadata": {
  "kernelspec": {
   "display_name": "Python 3 (ipykernel)",
   "language": "python",
   "name": "python3"
  },
  "language_info": {
   "codemirror_mode": {
    "name": "ipython",
    "version": 3
   },
   "file_extension": ".py",
   "mimetype": "text/x-python",
   "name": "python",
   "nbconvert_exporter": "python",
   "pygments_lexer": "ipython3",
   "version": "3.10.9"
  }
 },
 "nbformat": 4,
 "nbformat_minor": 5
}
