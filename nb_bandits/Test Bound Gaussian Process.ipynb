{
 "cells": [
  {
   "cell_type": "code",
   "execution_count": 65,
   "id": "5e6e3995",
   "metadata": {},
   "outputs": [
    {
     "data": {
      "text/html": [
       "<style>.container { width:100% !important; }</style>"
      ],
      "text/plain": [
       "<IPython.core.display.HTML object>"
      ]
     },
     "metadata": {},
     "output_type": "display_data"
    }
   ],
   "source": [
    "import numpy as np\n",
    "import matplotlib.pyplot as plt\n",
    "import pandas as pd\n",
    "from IPython.display import display, HTML\n",
    "from collections import deque\n",
    "import random\n",
    "import os\n",
    "import sys\n",
    "import pathlib\n",
    "from collections import deque\n",
    "from tqdm.notebook import tqdm, trange\n",
    "import datetime\n",
    "from scipy import interpolate\n",
    "import math\n",
    "from tqdm import tqdm\n",
    "import matplotlib.ticker as mtick\n",
    "import matplotlib.dates as md\n",
    "\n",
    "from IPython.display import clear_output\n",
    "\n",
    "os.environ[\"KMP_DUPLICATE_LIB_OK\"] = \"TRUE\"\n",
    "\n",
    "import torch\n",
    "import gpytorch\n",
    "import matplotlib.dates as md\n",
    "\n",
    "parent_module_path = os.path.abspath(os.path.join('..'))\n",
    "if parent_module_path not in sys.path:\n",
    "    sys.path.append(parent_module_path)\n",
    "    \n",
    "pd.set_option('display.width', 1000)\n",
    "display(HTML(\"<style>.container { width:100% !important; }</style>\"))\n",
    "pd.set_option('mode.chained_assignment', None)"
   ]
  },
  {
   "cell_type": "code",
   "execution_count": 66,
   "id": "606e11d3",
   "metadata": {},
   "outputs": [],
   "source": [
    "from AOE.gp_bandit import ExactGPModel, Wasserstein_GP_mean"
   ]
  },
  {
   "cell_type": "markdown",
   "id": "47bf48b2",
   "metadata": {},
   "source": [
    "## Setup test"
   ]
  },
  {
   "cell_type": "code",
   "execution_count": 67,
   "id": "a43c2f0b",
   "metadata": {},
   "outputs": [],
   "source": [
    "#Create function to approximate\n",
    "reward = lambda x: x**2"
   ]
  },
  {
   "cell_type": "code",
   "execution_count": 71,
   "id": "e695bcde",
   "metadata": {},
   "outputs": [
    {
     "name": "stderr",
     "output_type": "stream",
     "text": [
      "100%|█████████████████████████████████████████| 500/500 [01:04<00:00,  7.75it/s]\n"
     ]
    }
   ],
   "source": [
    "test_x = torch.linspace(-1, 1, 100).double()\n",
    "nb_samples = 500\n",
    "nb_N = 20\n",
    "\n",
    "\n",
    "distances = np.zeros(nb_samples)\n",
    "\n",
    "\n",
    "i = 5\n",
    "    \n",
    "for m in tqdm(range(nb_samples)):\n",
    "\n",
    "    x_new1 = 2*np.random.random(i) - 1\n",
    "    y_new1 = reward(x_new1)\n",
    "\n",
    "    x_new2 = 2*np.random.random(i) - 1\n",
    "    y_new2 = reward(x_new2)\n",
    "\n",
    "    gp1 = ExactGPModel(torch.tensor(x_new1.reshape(-1,1), dtype=torch.float64), torch.tensor(y_new1, dtype=torch.float64), gpytorch.likelihoods.GaussianLikelihood())\n",
    "    gp2 = ExactGPModel(torch.tensor(x_new2.reshape(-1,1), dtype=torch.float64), torch.tensor(y_new2, dtype=torch.float64), gpytorch.likelihoods.GaussianLikelihood())\n",
    "\n",
    "    gp1.eval()\n",
    "    gp2.eval()\n",
    "\n",
    "    with torch.no_grad(), gpytorch.settings.fast_pred_var():\n",
    "        observation1 = gp1.likelihood(gp1(test_x))\n",
    "        observation2 = gp2.likelihood(gp2(test_x))\n",
    "\n",
    "    posterior_mean_1, posterior_covar_1 = observation1.mean, observation1.covariance_matrix\n",
    "    posterior_mean_2, posterior_covar_2 = observation2.mean, observation2.covariance_matrix\n",
    "\n",
    "    distances[m] = Wasserstein_GP_mean(posterior_mean_1.numpy(), posterior_covar_1.numpy(), posterior_mean_2.numpy(), posterior_covar_2.numpy())\n"
   ]
  },
  {
   "cell_type": "code",
   "execution_count": 72,
   "id": "096ee3df",
   "metadata": {},
   "outputs": [
    {
     "data": {
      "text/plain": [
       "array([5.51395145e-02, 6.31159543e-02, 3.36860062e-02, 2.38450998e-03,\n",
       "       6.28820184e-02, 1.96419463e-02, 2.50759816e-02, 1.03243337e-01,\n",
       "       1.19163227e-01, 2.15122665e-02, 1.48700333e-02, 1.57592305e-03,\n",
       "       3.41878179e-02, 1.41839467e-02, 7.13717859e-02, 2.72041834e-03,\n",
       "       3.74708246e-02, 3.94493890e-03, 4.92539854e-02, 5.13767744e-02,\n",
       "       8.51523709e-02, 3.71282908e-03, 2.06926773e-02, 5.05031902e-02,\n",
       "       4.02517588e-02, 3.50709589e-02, 8.96163419e-02, 1.03394150e-02,\n",
       "       1.36915680e-01, 7.11376138e-02, 4.42139272e-02, 1.98135865e-02,\n",
       "       6.73480805e-02, 5.54678102e-02, 2.71649246e-02, 5.30316691e-02,\n",
       "       2.25922084e-02, 2.54782887e-02, 1.54672551e-02, 1.68940903e-01,\n",
       "       7.30262906e-03, 2.25127658e-01, 2.29924196e-02, 1.02952831e-02,\n",
       "       1.19584704e-02, 5.30435755e-02, 1.27649338e-01, 8.15063976e-02,\n",
       "       4.94474079e-02, 6.00736192e-02, 4.91754921e-02, 7.42665434e-02,\n",
       "       1.07127032e-02, 1.80219162e-02, 5.17198860e-02, 1.37179449e-02,\n",
       "       6.03235081e-02, 6.55274763e-03, 2.80041500e-02, 4.09193659e-02,\n",
       "       2.30881960e-01, 1.33961692e-02, 2.21494583e-02, 2.69573036e-02,\n",
       "       8.36268108e-02, 9.47998373e-02, 2.04693318e-01, 6.06651910e-02,\n",
       "       5.89886419e-03, 4.55836941e-02, 1.46754829e-02, 6.55928341e-02,\n",
       "       5.84693828e-02, 1.58122200e-02, 3.83626525e-03, 3.27839238e-02,\n",
       "       1.17132495e-02, 8.26846719e-02, 2.34767368e-02, 1.29763794e-02,\n",
       "       7.29759573e-02, 9.77927462e-02, 2.77738371e-02, 8.31941685e-03,\n",
       "       7.48637370e-02, 7.66060963e-02, 2.19600389e-02, 4.11936846e-02,\n",
       "       2.03044159e-02, 1.02486223e-01, 1.51180993e-02, 4.25699528e-02,\n",
       "       2.16892369e-02, 1.26920325e-01, 1.19106171e-02, 7.72380260e-02,\n",
       "       1.52206181e-02, 6.68733195e-02, 6.97732815e-02, 1.06854728e-02,\n",
       "       1.49809336e-02, 2.46155936e-02, 2.75687194e-02, 4.19797965e-02,\n",
       "       5.76802379e-02, 1.28015016e-01, 1.98517492e-02, 1.99197165e-02,\n",
       "       1.53301296e-01, 8.09864172e-02, 6.95864220e-02, 3.84624115e-02,\n",
       "       8.50543535e-03, 6.39800682e-02, 1.61928504e-02, 1.52024062e-02,\n",
       "       1.33555988e-01, 5.82802530e-03, 9.28516945e-02, 8.30024054e-02,\n",
       "       1.86461876e-02, 6.24649510e-02, 1.78254363e-01, 1.92289008e-02,\n",
       "       1.85864307e-02, 8.17345734e-03, 7.43369747e-02, 7.04050424e-02,\n",
       "       8.79697435e-02, 4.02093794e-02, 5.07223981e-02, 3.48094507e-03,\n",
       "       4.69879182e-02, 1.02316707e-01, 1.80632105e-02, 5.43715490e-03,\n",
       "       3.03925244e-02, 7.34656807e-02, 1.62945815e-01, 1.37595137e-02,\n",
       "       2.42794176e-02, 6.08809949e-02, 1.87764304e-01, 2.76398958e-02,\n",
       "       7.43431579e-03, 1.94334740e-03, 5.48584787e-03, 7.87897853e-03,\n",
       "       1.23349647e-02, 3.24766499e-02, 4.29626182e-02, 6.23846745e-02,\n",
       "       2.50169655e-02, 5.64165471e-03, 9.48490332e-03, 6.65113918e-03,\n",
       "       3.81678256e-02, 7.34225876e-02, 4.75531394e-02, 1.63832287e-03,\n",
       "       5.21917968e-02, 3.65732433e-02, 1.49124290e-02, 5.26130274e-02,\n",
       "       7.56611807e-02, 1.21636271e-01, 4.67849174e-02, 4.80269578e-02,\n",
       "       7.91692484e-02, 7.41409562e-02, 5.95780703e-02, 1.43432307e-02,\n",
       "       2.44340656e-02, 1.20726894e-01, 3.74708233e-02, 4.27136873e-02,\n",
       "       4.60937759e-02, 8.09602139e-02, 1.45027851e-01, 3.22225132e-02,\n",
       "       4.57790539e-02, 3.66016198e-02, 1.33802530e-02, 1.51415102e-02,\n",
       "       1.00833647e-01, 9.12730435e-02, 8.42958055e-02, 1.05087014e-01,\n",
       "       7.19498049e-02, 2.56425063e-02, 7.47663891e-02, 1.15991049e-02,\n",
       "       4.62077703e-03, 5.74553175e-02, 2.94568055e-02, 4.10961147e-02,\n",
       "       1.17408428e-02, 1.65518587e-01, 6.35034219e-02, 1.45529625e-02,\n",
       "       4.50618307e-02, 1.42278007e-02, 4.61316720e-02, 1.31940623e-01,\n",
       "       4.88267681e-02, 5.22503593e-02, 2.67463058e-02, 1.18540108e-01,\n",
       "       5.32401710e-02, 2.23581940e-02, 5.62480590e-03, 1.64389517e-02,\n",
       "       1.40046174e-02, 4.84007184e-03, 3.45768738e-02, 8.89344866e-02,\n",
       "       1.52035017e-01, 6.59169351e-02, 4.80780940e-02, 1.72295036e-02,\n",
       "       1.90810198e-02, 1.69383727e-02, 2.28624334e-02, 2.90652369e-02,\n",
       "       2.95937446e-02, 4.01297770e-02, 1.35338951e-02, 3.15947772e-02,\n",
       "       3.91504934e-02, 4.18421244e-02, 2.81668409e-02, 6.92945382e-02,\n",
       "       6.26786376e-03, 3.53946368e-02, 3.28254320e-03, 1.19620487e-01,\n",
       "       4.94303905e-02, 5.59140719e-03, 1.42138763e-02, 4.75920638e-03,\n",
       "       6.44484478e-03, 9.79809877e-02, 6.82314808e-02, 1.92363836e-02,\n",
       "       2.27652337e-02, 1.18971675e-01, 6.77490340e-02, 1.00474780e-02,\n",
       "       5.23515388e-02, 2.07189076e-02, 2.00002312e-03, 8.03893906e-05,\n",
       "       1.16695955e-02, 2.06153095e-02, 4.76920309e-02, 6.39541679e-02,\n",
       "       1.48698079e-01, 1.77332441e-01, 3.76970445e-02, 7.61355193e-02,\n",
       "       1.84766739e-02, 1.44410240e-02, 4.30255610e-02, 1.88157841e-02,\n",
       "       1.04817302e-01, 1.49619595e-01, 3.21299433e-02, 4.48856408e-02,\n",
       "       4.91480266e-02, 6.28190984e-02, 1.10602926e-01, 3.54089493e-02,\n",
       "       8.57299684e-02, 5.86769757e-02, 1.64865866e-02, 1.48953949e-01,\n",
       "       6.64898034e-03, 4.53757766e-02, 8.98419420e-02, 1.18711925e-01,\n",
       "       6.13663317e-02, 7.69467230e-02, 1.51989209e-01, 8.13616454e-02,\n",
       "       3.07660608e-02, 1.13449008e-01, 4.44630127e-02, 1.84360021e-02,\n",
       "       9.37564334e-02, 6.53959101e-02, 8.71753365e-03, 1.41520906e-01,\n",
       "       3.47511943e-02, 2.43512205e-02, 9.57843760e-03, 3.44308434e-02,\n",
       "       3.49326689e-02, 3.04504528e-02, 4.64542327e-02, 1.49627862e-02,\n",
       "       1.46379627e-01, 9.57467852e-03, 3.22702767e-02, 6.96805320e-02,\n",
       "       2.29601730e-02, 1.10550994e-02, 1.71602676e-03, 1.60174724e-02,\n",
       "       4.72383279e-02, 4.15751741e-03, 3.12393950e-02, 4.16912909e-02,\n",
       "       3.63230845e-02, 5.22751809e-02, 6.19241036e-02, 4.14290513e-02,\n",
       "       3.74240805e-02, 8.12741201e-02, 2.92746967e-02, 1.47966172e-03,\n",
       "       6.86766800e-02, 1.89736677e-02, 3.31665965e-02, 3.90532128e-02,\n",
       "       3.16173079e-02, 2.99230063e-02, 3.92297016e-02, 1.32308661e-02,\n",
       "       1.00941453e-01, 1.43016841e-01, 6.08785527e-02, 2.11180949e-02,\n",
       "       2.08716602e-02, 1.98428503e-02, 1.68838475e-02, 1.05356435e-02,\n",
       "       8.65150500e-02, 5.05707246e-02, 3.38004170e-02, 2.05129477e-02,\n",
       "       8.38180712e-02, 3.08230263e-02, 5.36518524e-02, 9.11587108e-02,\n",
       "       3.28654827e-02, 1.58967911e-02, 1.03040944e-02, 2.45688052e-02,\n",
       "       5.09121605e-03, 9.12979308e-02, 2.51085943e-02, 2.91610840e-02,\n",
       "       8.06824955e-03, 8.53843677e-02, 1.30003874e-02, 4.86818911e-02,\n",
       "       1.71313362e-02, 5.81535930e-02, 6.33725035e-02, 2.50092545e-01,\n",
       "       2.89331372e-02, 6.23274149e-02, 4.30099954e-02, 9.94864610e-02,\n",
       "       1.99178019e-02, 1.07421536e-01, 8.08864583e-02, 7.56107501e-02,\n",
       "       1.35269293e-01, 4.09880352e-02, 7.73596006e-02, 4.93311714e-02,\n",
       "       5.66269212e-02, 1.61658375e-02, 9.83639230e-02, 9.25010671e-02,\n",
       "       8.44785056e-02, 5.86833792e-02, 2.17540603e-02, 2.09401229e-02,\n",
       "       4.28605802e-02, 3.23567732e-02, 3.82420684e-02, 2.56435070e-02,\n",
       "       1.46014764e-02, 8.52894324e-02, 2.32371322e-02, 4.22411695e-02,\n",
       "       2.84668095e-02, 5.22229024e-02, 6.85103634e-02, 8.93418302e-02,\n",
       "       9.91058892e-03, 1.54260182e-02, 1.14631180e-02, 2.52910714e-02,\n",
       "       7.58754067e-02, 3.48038323e-02, 6.31814366e-02, 6.88044924e-02,\n",
       "       4.50291448e-02, 2.92817524e-02, 6.90533560e-02, 7.54277325e-02,\n",
       "       2.94144676e-03, 6.29465301e-02, 8.17979181e-02, 3.88370008e-02,\n",
       "       6.83445221e-03, 4.07507279e-02, 3.11908975e-02, 1.92140293e-02,\n",
       "       1.41114335e-02, 1.40826305e-02, 9.86508222e-02, 1.18248820e-01,\n",
       "       3.27166122e-02, 3.65717399e-02, 7.32825600e-02, 1.72697294e-02,\n",
       "       1.09445152e-01, 3.74001008e-02, 5.93456357e-02, 8.79022404e-02,\n",
       "       2.41946650e-03, 8.50902665e-03, 4.00701241e-02, 3.70809353e-02,\n",
       "       1.77518275e-02, 3.10753202e-02, 1.67068409e-02, 3.88676188e-02,\n",
       "       3.98565198e-02, 1.94187168e-02, 7.28874023e-02, 2.01226235e-02,\n",
       "       1.24295019e-02, 9.24474681e-03, 2.15043995e-02, 1.05036797e-01,\n",
       "       3.62522382e-02, 2.89245764e-02, 2.33163647e-02, 1.15864430e-02,\n",
       "       2.82441979e-02, 1.20453527e-02, 3.55287461e-02, 2.87610833e-02,\n",
       "       3.53102211e-03, 9.16600449e-02, 6.25039061e-02, 2.15164186e-02,\n",
       "       4.09332389e-02, 8.84855454e-02, 4.46140115e-02, 9.10646051e-03,\n",
       "       4.79684685e-02, 3.22226220e-02, 4.98715523e-02, 5.36696498e-02,\n",
       "       2.24309895e-02, 2.83423444e-01, 2.82943459e-02, 5.28435470e-03,\n",
       "       4.18980776e-02, 1.45014381e-02, 1.48676443e-02, 1.28809959e-01,\n",
       "       3.55754876e-02, 1.29323420e-02, 1.07040153e-01, 4.06011573e-02,\n",
       "       9.15183762e-03, 4.03396710e-02, 1.28553755e-01, 6.19737776e-03,\n",
       "       6.03484743e-02, 4.83678608e-02, 3.17021927e-02, 8.90073398e-03,\n",
       "       3.17953120e-02, 1.83632974e-02, 1.29989159e-02, 2.29225691e-02,\n",
       "       1.55707263e-02, 1.77690155e-03, 6.28492380e-02, 2.68294523e-02,\n",
       "       1.25738497e-02, 6.97130886e-02, 5.55538038e-02, 3.20813097e-02,\n",
       "       3.73658472e-02, 7.54218761e-02, 5.10478523e-02, 2.71795933e-02,\n",
       "       1.48508909e-02, 6.08843435e-02, 5.23511031e-02, 3.80528323e-02])"
      ]
     },
     "execution_count": 72,
     "metadata": {},
     "output_type": "execute_result"
    }
   ],
   "source": [
    "distances"
   ]
  },
  {
   "cell_type": "code",
   "execution_count": 60,
   "id": "cb55a9e5",
   "metadata": {
    "scrolled": true
   },
   "outputs": [
    {
     "name": "stderr",
     "output_type": "stream",
     "text": [
      "100%|███████████████████████████████████████████| 50/50 [17:35<00:00, 21.10s/it]\n"
     ]
    }
   ],
   "source": [
    "test_x = torch.linspace(-1, 1, 100).double()\n",
    "nb_samples = 500\n",
    "nb_N = 20\n",
    "distances = np.zeros((nb_experiments, nb_n_per_experiment))\n",
    "\n",
    "\n",
    "for i in range(2,nb_N):\n",
    "    \n",
    "    \n",
    "    for m in range(nb_samples):\n",
    "        \n",
    "        x_new1 = 2*np.random.random(i) - 1\n",
    "        y_new1 = reward(x_new1)\n",
    "\n",
    "        x_new2 = 2*np.random.random(i) - 1\n",
    "        y_new2 = reward(x_new2)\n",
    "\n",
    "        gp1 = ExactGPModel(torch.tensor(x_new1.reshape(-1,1), dtype=torch.float64), torch.tensor(y_new1, dtype=torch.float64), gpytorch.likelihoods.GaussianLikelihood())\n",
    "        gp2 = ExactGPModel(torch.tensor(x_new2.reshape(-1,1), dtype=torch.float64), torch.tensor(y_new2, dtype=torch.float64), gpytorch.likelihoods.GaussianLikelihood())\n",
    "\n",
    "        gp1.eval()\n",
    "        gp2.eval()\n",
    "        \n",
    "        with torch.no_grad(), gpytorch.settings.fast_pred_var():\n",
    "            observation1 = gp1.likelihood(gp1(test_x))\n",
    "            observation2 = gp2.likelihood(gp2(test_x))\n",
    "\n",
    "        posterior_mean_1, posterior_covar_1 = observation1.mean, observation1.covariance_matrix\n",
    "        posterior_mean_2, posterior_covar_2 = observation2.mean, observation2.covariance_matrix\n",
    "\n",
    "        distance = Wasserstein_GP_mean(posterior_mean_1.numpy(), posterior_covar_1.numpy(), posterior_mean_2.numpy(), posterior_covar_2.numpy())\n",
    "        \n",
    "\n",
    "for p in tqdm(range(nb_experiments)):\n",
    "\n",
    "    gp1 = ExactGPModel(torch.zeros((0, 1), dtype=torch.float64), torch.zeros(0, dtype=torch.float64), gpytorch.likelihoods.GaussianLikelihood())\n",
    "    gp2 = ExactGPModel(torch.zeros((0, 1), dtype=torch.float64), torch.zeros(0, dtype=torch.float64), gpytorch.likelihoods.GaussianLikelihood())\n",
    "\n",
    "    gp1.eval()\n",
    "    gp2.eval()\n",
    "\n",
    "    for n in range(nb_n_per_experiment):\n",
    "        # sample new point\n",
    "        # Update gp\n",
    "        # Compute \n",
    "        x_new1 = 2*np.random.random() - 1\n",
    "        y_new1 = reward(x_new1)\n",
    "\n",
    "        x_new2 = 2*np.random.random() - 1\n",
    "        y_new2 = reward(x_new2)\n",
    "\n",
    "        gp1.add_point(x_new1, y_new1)\n",
    "        gp2.add_point(x_new2, y_new2)\n",
    "        with torch.no_grad(), gpytorch.settings.fast_pred_var():\n",
    "            observation1 = gp1.likelihood(gp1(test_x))\n",
    "            observation2 = gp2.likelihood(gp2(test_x))\n",
    "\n",
    "        posterior_mean_1, posterior_covar_1 = observation1.mean, observation1.covariance_matrix\n",
    "        posterior_mean_2, posterior_covar_2 = observation2.mean, observation2.covariance_matrix\n",
    "\n",
    "        distance = Wasserstein_GP_mean(posterior_mean_1.numpy(), posterior_covar_1.numpy(), posterior_mean_2.numpy(), posterior_covar_2.numpy())\n",
    "        distances[p,n] = distance"
   ]
  },
  {
   "cell_type": "code",
   "execution_count": 61,
   "id": "5c1481e2",
   "metadata": {},
   "outputs": [
    {
     "data": {
      "text/plain": [
       "<matplotlib.legend.Legend at 0x7fe6c9c5d070>"
      ]
     },
     "execution_count": 61,
     "metadata": {},
     "output_type": "execute_result"
    },
    {
     "data": {
      "image/png": "[encoded data removed]",
      "text/plain": [
       "<Figure size 432x288 with 1 Axes>"
      ]
     },
     "metadata": {
      "needs_background": "light"
     },
     "output_type": "display_data"
    }
   ],
   "source": [
    "distance_mean = np.mean(distances, axis = 0)\n",
    "distance_std = np.std(distances, axis = 0)\n",
    "\n",
    "x = range(nb_n_per_experiment)\n",
    "plt.plot(x, distance_mean, '-', color='blue', label='Error')\n",
    "plt.fill_between(x, distance_mean - distance_std, distance_mean + distance_std, color='blue', alpha=0.2)\n",
    "plt.xlim(0, nb_n_per_experiment)\n",
    "plt.legend()"
   ]
  },
  {
   "cell_type": "code",
   "execution_count": 62,
   "id": "03727bf2",
   "metadata": {},
   "outputs": [
    {
     "data": {
      "text/plain": [
       "[<matplotlib.lines.Line2D at 0x7fe6c9c74a00>]"
      ]
     },
     "execution_count": 62,
     "metadata": {},
     "output_type": "execute_result"
    },
    {
     "data": {
      "image/png": "[encoded data removed]",
      "text/plain": [
       "<Figure size 432x288 with 1 Axes>"
      ]
     },
     "metadata": {
      "needs_background": "light"
     },
     "output_type": "display_data"
    }
   ],
   "source": [
    "plt.plot(-np.log(distance_mean))"
   ]
  },
  {
   "cell_type": "code",
   "execution_count": 63,
   "id": "a5aad277",
   "metadata": {},
   "outputs": [
    {
     "data": {
      "text/plain": [
       "[<matplotlib.lines.Line2D at 0x7fe6ea5e9640>]"
      ]
     },
     "execution_count": 63,
     "metadata": {},
     "output_type": "execute_result"
    },
    {
     "data": {
      "image/png": "[encoded data removed]",
      "text/plain": [
       "<Figure size 432x288 with 1 Axes>"
      ]
     },
     "metadata": {
      "needs_background": "light"
     },
     "output_type": "display_data"
    }
   ],
   "source": [
    "plt.plot(np.log(range(1, nb_n_per_experiment+1)), np.log(-np.log(distance_mean)))"
   ]
  },
  {
   "cell_type": "code",
   "execution_count": 64,
   "id": "9146f654",
   "metadata": {},
   "outputs": [
    {
     "name": "stderr",
     "output_type": "stream",
     "text": [
      "/tmp/ipykernel_35672/351520457.py:1: RuntimeWarning: divide by zero encountered in true_divide\n",
      "  plt.plot(np.log(-np.log(distance_mean))/np.log(range(1, nb_n_per_experiment+1)))\n"
     ]
    },
    {
     "data": {
      "text/plain": [
       "[<matplotlib.lines.Line2D at 0x7fe6c9c954c0>]"
      ]
     },
     "execution_count": 64,
     "metadata": {},
     "output_type": "execute_result"
    },
    {
     "data": {
      "image/png": "[encoded data removed]",
      "text/plain": [
       "<Figure size 432x288 with 1 Axes>"
      ]
     },
     "metadata": {
      "needs_background": "light"
     },
     "output_type": "display_data"
    }
   ],
   "source": [
    "plt.plot(np.log(-np.log(distance_mean))/np.log(range(1, nb_n_per_experiment+1)))"
   ]
  },
  {
   "cell_type": "code",
   "execution_count": 56,
   "id": "dac905ca",
   "metadata": {},
   "outputs": [
    {
     "name": "stderr",
     "output_type": "stream",
     "text": [
      "/tmp/ipykernel_35672/2895698303.py:1: RuntimeWarning: divide by zero encountered in log\n",
      "  np.log(range(nb_n_per_experiment))\n"
     ]
    },
    {
     "data": {
      "text/plain": [
       "array([      -inf, 0.        , 0.69314718, 1.09861229, 1.38629436,\n",
       "       1.60943791, 1.79175947, 1.94591015, 2.07944154, 2.19722458,\n",
       "       2.30258509, 2.39789527, 2.48490665, 2.56494936, 2.63905733,\n",
       "       2.7080502 , 2.77258872, 2.83321334, 2.89037176, 2.94443898,\n",
       "       2.99573227, 3.04452244, 3.09104245, 3.13549422, 3.17805383,\n",
       "       3.21887582, 3.25809654, 3.29583687, 3.33220451, 3.36729583,\n",
       "       3.40119738, 3.4339872 , 3.4657359 , 3.49650756, 3.52636052,\n",
       "       3.55534806, 3.58351894, 3.61091791, 3.63758616, 3.66356165,\n",
       "       3.68887945, 3.71357207, 3.73766962, 3.76120012, 3.78418963,\n",
       "       3.80666249, 3.8286414 , 3.8501476 , 3.87120101, 3.8918203 ])"
      ]
     },
     "execution_count": 56,
     "metadata": {},
     "output_type": "execute_result"
    }
   ],
   "source": [
    "np.log(range(nb_n_per_experiment))"
   ]
  },
  {
   "cell_type": "code",
   "execution_count": 47,
   "id": "0e24ba92",
   "metadata": {},
   "outputs": [
    {
     "data": {
      "image/png": "[encoded data removed]",
      "text/plain": [
       "<Figure size 432x288 with 1 Axes>"
      ]
     },
     "metadata": {
      "needs_background": "light"
     },
     "output_type": "display_data"
    }
   ],
   "source": [
    "f, ax = plt.subplots(1)\n",
    "\n",
    "# Get upper and lower confidence bounds\n",
    "lower, upper = observation1.confidence_region()\n",
    "# Plot training data as black stars\n",
    "ax.plot(gp1.train_inputs[0].numpy(), gp1.train_targets.numpy(), 'k*')\n",
    "# Plot predictive means as blue line\n",
    "ax.plot(test_x.numpy(), observation1.mean.numpy(), 'b')\n",
    "# Shade between the lower and upper confidence bounds\n",
    "ax.fill_between(test_x.detach().numpy(), lower.detach().numpy(), upper.detach().numpy(), alpha=0.5)\n",
    "# ax.set_ylim([-3, 3])\n",
    "ax.grid(axis='both', color='gainsboro', linestyle='-', linewidth=0.5)\n",
    "#ax.yaxis.set_label_positi"
   ]
  },
  {
   "cell_type": "code",
   "execution_count": 48,
   "id": "f8f1e6f1",
   "metadata": {},
   "outputs": [
    {
     "data": {
      "image/png": "[encoded data removed]",
      "text/plain": [
       "<Figure size 432x288 with 1 Axes>"
      ]
     },
     "metadata": {
      "needs_background": "light"
     },
     "output_type": "display_data"
    }
   ],
   "source": [
    "f, ax = plt.subplots(1)\n",
    "\n",
    "# Get upper and lower confidence bounds\n",
    "lower, upper = observation2.confidence_region()\n",
    "# Plot training data as black stars\n",
    "ax.plot(gp2.train_inputs[0].numpy(), gp2.train_targets.numpy(), 'k*')\n",
    "# Plot predictive means as blue line\n",
    "ax.plot(test_x.numpy(), observation2.mean.numpy(), 'b')\n",
    "# Shade between the lower and upper confidence bounds\n",
    "ax.fill_between(test_x.detach().numpy(), lower.detach().numpy(), upper.detach().numpy(), alpha=0.5)\n",
    "# ax.set_ylim([-3, 3])\n",
    "ax.grid(axis='both', color='gainsboro', linestyle='-', linewidth=0.5)\n",
    "#ax.yaxis.set_label_positi"
   ]
  },
  {
   "cell_type": "code",
   "execution_count": 68,
   "id": "cf2b849c",
   "metadata": {},
   "outputs": [
    {
     "data": {
      "text/plain": [
       "array([[0.6950716 , 0.16918465, 0.43730887, 0.70079706, 0.71242949,\n",
       "        0.1163369 , 0.7122726 , 0.87106041, 0.93967789, 0.14172961],\n",
       "       [0.46435066, 0.35342169, 0.27706056, 0.16776763, 0.82010743,\n",
       "        0.20871908, 0.91728796, 0.5335205 , 0.0241914 , 0.07733395],\n",
       "       [0.77971903, 0.27529538, 0.10083416, 0.18292432, 0.55509572,\n",
       "        0.35706541, 0.07360255, 0.30766423, 0.43941024, 0.55129324],\n",
       "       [0.20000366, 0.63749195, 0.79287329, 0.74159835, 0.08722875,\n",
       "        0.72391082, 0.34961813, 0.2258995 , 0.33490391, 0.77966125],\n",
       "       [0.60292573, 0.60041731, 0.9877184 , 0.61393037, 0.741911  ,\n",
       "        0.83636634, 0.26823191, 0.95231918, 0.28433162, 0.88444055],\n",
       "       [0.40951435, 0.1549798 , 0.10174772, 0.86270905, 0.26784965,\n",
       "        0.99210382, 0.2805311 , 0.77105806, 0.63001545, 0.93386413],\n",
       "       [0.81165867, 0.24803155, 0.50717866, 0.7896162 , 0.90692169,\n",
       "        0.74302137, 0.62241004, 0.63746284, 0.75984187, 0.7385086 ],\n",
       "       [0.74112237, 0.33249817, 0.38864741, 0.81716257, 0.28094083,\n",
       "        0.45379954, 0.68422332, 0.3211599 , 0.13585093, 0.40690115],\n",
       "       [0.97706322, 0.65993552, 0.71722193, 0.92133164, 0.67726272,\n",
       "        0.66764585, 0.31925415, 0.45846669, 0.43007153, 0.6445291 ],\n",
       "       [0.81053591, 0.2074213 , 0.15763046, 0.48941034, 0.49423508,\n",
       "        0.26476956, 0.51156079, 0.65296435, 0.83912028, 0.70478206]])"
      ]
     },
     "execution_count": 68,
     "metadata": {},
     "output_type": "execute_result"
    }
   ],
   "source": [
    "np.random.random((10,10))"
   ]
  },
  {
   "cell_type": "code",
   "execution_count": 70,
   "id": "760a89b1",
   "metadata": {},
   "outputs": [
    {
     "data": {
      "text/plain": [
       "array([0.77401621, 0.34367253, 1.31256251])"
      ]
     },
     "execution_count": 70,
     "metadata": {},
     "output_type": "execute_result"
    }
   ],
   "source": [
    "2*np.random.random(3)"
   ]
  },
  {
   "cell_type": "code",
   "execution_count": null,
   "id": "4072ecfe",
   "metadata": {},
   "outputs": [],
   "source": []
  }
 ],
 "metadata": {
  "kernelspec": {
   "display_name": "Python 3 (ipykernel)",
   "language": "python",
   "name": "python3"
  },
  "language_info": {
   "codemirror_mode": {
    "name": "ipython",
    "version": 3
   },
   "file_extension": ".py",
   "mimetype": "text/x-python",
   "name": "python",
   "nbconvert_exporter": "python",
   "pygments_lexer": "ipython3",
   "version": "3.9.12"
  }
 },
 "nbformat": 4,
 "nbformat_minor": 5
}
