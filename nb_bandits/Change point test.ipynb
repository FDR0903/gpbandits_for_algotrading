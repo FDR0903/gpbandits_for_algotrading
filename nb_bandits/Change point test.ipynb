{
 "cells": [
  {
   "cell_type": "code",
   "execution_count": 3,
   "id": "11539250",
   "metadata": {},
   "outputs": [
    {
     "data": {
      "text/html": [
       "<style>.container { width:100% !important; }</style>"
      ],
      "text/plain": [
       "<IPython.core.display.HTML object>"
      ]
     },
     "metadata": {},
     "output_type": "display_data"
    }
   ],
   "source": [
    "import numpy as np\n",
    "import matplotlib.pyplot as plt\n",
    "import pandas as pd\n",
    "from IPython.display import display, HTML\n",
    "from collections import deque\n",
    "import random\n",
    "import os\n",
    "import sys\n",
    "import pathlib\n",
    "from collections import deque\n",
    "from tqdm.notebook import tqdm, trange\n",
    "import datetime\n",
    "from scipy import interpolate\n",
    "import math\n",
    "\n",
    "import matplotlib.ticker as mtick\n",
    "import matplotlib.dates as md\n",
    "\n",
    "from IPython.display import clear_output\n",
    "\n",
    "os.environ[\"KMP_DUPLICATE_LIB_OK\"] = \"TRUE\"\n",
    "\n",
    "import torch\n",
    "import gpytorch\n",
    "import matplotlib.dates as md\n",
    "\n",
    "parent_module_path = os.path.abspath(os.path.join('..'))\n",
    "if parent_module_path not in sys.path:\n",
    "    sys.path.append(parent_module_path)\n",
    "    \n",
    "pd.set_option('display.width', 1000)\n",
    "display(HTML(\"<style>.container { width:100% !important; }</style>\"))\n",
    "pd.set_option('mode.chained_assignment', None)"
   ]
  },
  {
   "cell_type": "code",
   "execution_count": 4,
   "id": "6aa2a6bf-a721-4343-b76c-4963881c5b8f",
   "metadata": {},
   "outputs": [],
   "source": [
    "def rescale_plot(W=5, rectangle=False):\n",
    "    if rectangle:\n",
    "        plt.rcParams.update({\n",
    "            'figure.figsize': (W, W/(6/3)),     # 4:3 aspect ratio\n",
    "            'font.size' : 8,                   # Set font size to 11pt\n",
    "            'axes.labelsize': 8,               # -> axis labels\n",
    "            'legend.fontsize': 8,              # -> legends\n",
    "            'font.family': 'lmodern',\n",
    "            'text.usetex': True,\n",
    "            'text.latex.preamble': (            # LaTeX preamble\n",
    "                r'\\usepackage{lmodern}'\n",
    "                # ... more packages if needed\n",
    "            )\n",
    "        })\n",
    "    else:\n",
    "        plt.rcParams.update({\n",
    "            'figure.figsize': (W, W/(4/3)),     # 4:3 aspect ratio\n",
    "            'font.size' : 8,                   # Set font size to 11pt\n",
    "            'axes.labelsize': 8,               # -> axis labels\n",
    "            'legend.fontsize': 8,              # -> legends\n",
    "            'font.family': 'lmodern',\n",
    "            'text.usetex': True,\n",
    "            'text.latex.preamble': (            # LaTeX preamble\n",
    "                r'\\usepackage{lmodern}'\n",
    "                # ... more packages if needed\n",
    "            )\n",
    "        })"
   ]
  },
  {
   "cell_type": "markdown",
   "id": "ee3598ff",
   "metadata": {},
   "source": [
    "# Data"
   ]
  },
  {
   "cell_type": "code",
   "execution_count": 5,
   "id": "83ab7de2-d611-4e4c-86df-f4c30fe46ff6",
   "metadata": {},
   "outputs": [
    {
     "name": "stdout",
     "output_type": "stream",
     "text": [
      "The Zen of Python, by Tim Peters\n",
      "\n",
      "Beautiful is better than ugly.\n",
      "Explicit is better than implicit.\n",
      "Simple is better than complex.\n",
      "Complex is better than complicated.\n",
      "Flat is better than nested.\n",
      "Sparse is better than dense.\n",
      "Readability counts.\n",
      "Special cases aren't special enough to break the rules.\n",
      "Although practicality beats purity.\n",
      "Errors should never pass silently.\n",
      "Unless explicitly silenced.\n",
      "In the face of ambiguity, refuse the temptation to guess.\n",
      "There should be one-- and preferably only one --obvious way to do it.\n",
      "Although that way may not be obvious at first unless you're Dutch.\n",
      "Now is better than never.\n",
      "Although never is often better than *right* now.\n",
      "If the implementation is hard to explain, it's a bad idea.\n",
      "If the implementation is easy to explain, it may be a good idea.\n",
      "Namespaces are one honking great idea -- let's do more of those!\n"
     ]
    }
   ],
   "source": [
    "from AOE.gp_utils import Wasserstein_GP_mean, Wasserstein_GP\n",
    "from AOE.gp_bandit_finance import gp_bandit_finance"
   ]
  },
  {
   "cell_type": "code",
   "execution_count": 6,
   "id": "0adf5fea-132e-4161-8d15-f26b6417c216",
   "metadata": {},
   "outputs": [],
   "source": [
    "all_rewards = pd.read_pickle('../data/Rewards/2021-10-21_rewards.pkl')\n",
    "all_data    = pd.read_pickle('../data/Rewards/2021-10-21_rewards.pkl')\n",
    "all_rewards = all_rewards[~all_rewards.index.duplicated()]"
   ]
  },
  {
   "cell_type": "code",
   "execution_count": 7,
   "id": "0b47ba68-634e-4977-b109-29ef1816d622",
   "metadata": {},
   "outputs": [],
   "source": [
    "# all_rewards['imbalance_1'] = all_rewards['imbalance_1'].rolling(5).mean()\n",
    "# all_rewards['MR'] = all_rewards['MR'].rolling(5).mean()\n",
    "# all_rewards['TF'] = all_rewards['TF'].rolling(5).mean()"
   ]
  },
  {
   "cell_type": "code",
   "execution_count": 8,
   "id": "9d01842c-7c1d-4ff3-80f9-f6c4971167a0",
   "metadata": {},
   "outputs": [],
   "source": [
    "all_rewards  = all_rewards.dropna()"
   ]
  },
  {
   "cell_type": "code",
   "execution_count": 9,
   "id": "05a7e640-8458-4c0a-ac24-1ec2c08e76f6",
   "metadata": {},
   "outputs": [],
   "source": [
    "reward_imbalance = all_rewards['sellPrice_imbalance_1'] - all_rewards['twapPrice'] #lambda x: (x-1.333)**2\n",
    "reward_trend     = all_rewards['sellPrice_TF'] - all_rewards['twapPrice']\n",
    "reward_MR        = all_rewards['sellPrice_MR'] - all_rewards['twapPrice']"
   ]
  },
  {
   "cell_type": "code",
   "execution_count": 197,
   "id": "7cdac0f2-1fdf-4242-a36a-f69a2adc71d5",
   "metadata": {},
   "outputs": [],
   "source": [
    "# pd.concat((reward_imbalance, all_rewards['imbalance_1']), axis=1).iloc[-1000:].set_index('imbalance_1').sort_index().plot()\n",
    "# reward_MR        = reward_MR.dropna().rolling(3).mean().dropna()\n",
    "# reward_imbalance = reward_imbalance.dropna().rolling(3).mean().dropna()\n",
    "# reward_trend     = reward_trend.dropna().rolling(3).mean().dropna()"
   ]
  },
  {
   "cell_type": "code",
   "execution_count": 9,
   "id": "b264cdfe-e099-46a7-8e60-c42dc49bd6ea",
   "metadata": {},
   "outputs": [],
   "source": [
    "# waaaw.groupby('TF').mean()"
   ]
  },
  {
   "cell_type": "code",
   "execution_count": 10,
   "id": "4cc855b4-1d9c-4062-baea-492922321bec",
   "metadata": {},
   "outputs": [],
   "source": [
    "models_TF = pd.concat((all_rewards.TF.round(1), reward_trend), axis=1)\n",
    "models_MR = pd.concat((all_rewards.MR.round(1), reward_MR), axis=1)\n",
    "models_IMB = pd.concat((all_rewards.imbalance_1.round(1), reward_imbalance), axis=1)"
   ]
  },
  {
   "cell_type": "code",
   "execution_count": 342,
   "id": "d607a530-4b7f-4e71-a5e9-aa83baf1110a",
   "metadata": {},
   "outputs": [],
   "source": [
    "# all_rewards_"
   ]
  },
  {
   "cell_type": "code",
   "execution_count": 343,
   "id": "52535cb0-72c0-4d33-a7b5-12ea452dcfcb",
   "metadata": {},
   "outputs": [],
   "source": [
    "# plt.scatter(reward_imbalance.iloc[:30], all_rewards['imbalance_1'].iloc[:30])\n"
   ]
  },
  {
   "cell_type": "markdown",
   "id": "9db58e01-a058-4db6-9b9e-92cf5f1ec53a",
   "metadata": {},
   "source": [
    "# Trading simulation"
   ]
  },
  {
   "cell_type": "code",
   "execution_count": 11,
   "id": "286c6515-2ef4-45a0-b348-6c7ea5eaebb0",
   "metadata": {},
   "outputs": [],
   "source": [
    "strategies  = {'TF' :          {'name'             : 'TF',\n",
    "                                'params'           : {'feature_name'     : 'TF'},\n",
    "                                'contextual_params': {'feature_name'     : 'TF'}},\n",
    "              'MR'  :          {'name'             : 'MR',\n",
    "                                'params'           : {'feature_name'     : 'MR'},\n",
    "                                'contextual_params': {'feature_name'     : 'MR'}},\n",
    "              'imbalance_1' :          {'name'             : 'imbalance_1',\n",
    "                                'params'           : {'feature_name'     : 'imbalance_1'},\n",
    "                                'contextual_params': {'feature_name'     : 'imbalance_1'}}\n",
    "              }"
   ]
  },
  {
   "cell_type": "code",
   "execution_count": 12,
   "id": "1ecb6765-7eff-4f59-82de-97b9ffc454a6",
   "metadata": {},
   "outputs": [],
   "source": [
    "size_buffer   = 500\n",
    "size_window   = 500\n",
    "tick_size     = 0.01\n",
    "\n",
    "likelihood    = gpytorch.likelihoods.GaussianLikelihood()\n",
    "\n",
    "bandit_params = {'size_buffer': size_buffer, \n",
    "                 'size_window': size_window,\n",
    "                 'threshold'  : 0.0005,\n",
    "                 'lambda'     : 0.1 }"
   ]
  },
  {
   "cell_type": "code",
   "execution_count": 13,
   "id": "0ffede0f-8d32-4588-8f9e-f9fdb08bd7c6",
   "metadata": {},
   "outputs": [],
   "source": [
    "# models_/tick_size\n"
   ]
  },
  {
   "cell_type": "code",
   "execution_count": 25,
   "id": "eb14e336-28ad-4ee2-8d6a-f5c945313bf5",
   "metadata": {},
   "outputs": [
    {
     "data": {
      "image/png": "[encoded data removed]",
      "text/plain": [
       "<Figure size 252x126 with 2 Axes>"
      ]
     },
     "metadata": {
      "needs_background": "light"
     },
     "output_type": "display_data"
    }
   ],
   "source": [
    "rescale_plot(W = 3.5, rectangle = True)\n",
    "\n",
    "bandit1 = gp_bandit_finance(strategies, \n",
    "                           bandit_algo='UCB', \n",
    "                           training_iter = 1,\n",
    "                           bandit_params=bandit_params)\n",
    "bandit2 = gp_bandit_finance(strategies, \n",
    "                           bandit_algo='UCB', \n",
    "                           training_iter = 2,\n",
    "                           bandit_params=bandit_params)\n",
    "\n",
    "best_strategy_bandit = 'imbalance_1'\n",
    "distances            = []\n",
    "\n",
    "models1_ = models_IMB.first('5min').groupby(best_strategy_bandit).mean().reset_index()\n",
    "models2_ = models_IMB.first('10min').last('3min').groupby(best_strategy_bandit).mean().reset_index()\n",
    "\n",
    "for i in range(0, len(models1_), 1):\n",
    "    feature_values = models1_.iloc[i, :]\n",
    "    reward         = models1_.iloc[i, 1]/tick_size\n",
    "    bandit1.update_data(feature_values, \n",
    "                       best_strategy_bandit, reward, \n",
    "                       retrain_hyperparameters = True)\n",
    "\n",
    "for i in range(0, len(models2_), 1):\n",
    "    feature_values = models2_.iloc[i, :]\n",
    "    reward         = models2_.iloc[i, 1]/tick_size\n",
    "    bandit2.update_data(feature_values, \n",
    "                       best_strategy_bandit, reward, \n",
    "                       retrain_hyperparameters = True)\n",
    "\n",
    "lv = -1\n",
    "uv = 1\n",
    "\n",
    "strat  = best_strategy_bandit\n",
    "strats = bandit1.strategies.keys()\n",
    "\n",
    "f, (ax, ax2) = plt.subplots(1, 2, constrained_layout=True,\n",
    "                           sharex=True, sharey=True)\n",
    "gp1, gp2 = bandit1.strat_gp_dict[strat], bandit2.strat_gp_dict[strat]\n",
    "ax = gp1.build_plot(ax, lv=lv, uv=uv, \n",
    "                   n_test=20, xlabel=None)\n",
    "ax2 = gp2.build_plot(ax2, lv=lv, uv=uv, \n",
    "                   n_test=20, xlabel=None)\n",
    "\n",
    "ax2.legend(['Rewards', 'GP mean', 'Conf. bounds'], \n",
    "      handlelength=0.3, framealpha=0.6, loc='best', ncol=1)\n",
    "ax.set_ylabel('Avg. reward in tick size')\n",
    "ax.set_xlabel('MR')\n",
    "ax.tick_params(\"y\", left=False, labelleft=False)\n",
    "ax2.tick_params(\"y\", right=True, labelright=True)\n",
    "\n",
    "# ax.set_ylim(-4, 4)\n",
    "plt.show()"
   ]
  },
  {
   "cell_type": "code",
   "execution_count": 30,
   "id": "4c8acb06-c194-4fd3-974f-360f45574507",
   "metadata": {},
   "outputs": [
    {
     "data": {
      "text/html": [
       "<div>\n",
       "<style scoped>\n",
       "    .dataframe tbody tr th:only-of-type {\n",
       "        vertical-align: middle;\n",
       "    }\n",
       "\n",
       "    .dataframe tbody tr th {\n",
       "        vertical-align: top;\n",
       "    }\n",
       "\n",
       "    .dataframe thead th {\n",
       "        text-align: right;\n",
       "    }\n",
       "</style>\n",
       "<table border=\"1\" class=\"dataframe\">\n",
       "  <thead>\n",
       "    <tr style=\"text-align: right;\">\n",
       "      <th></th>\n",
       "      <th>MR</th>\n",
       "      <th>0</th>\n",
       "    </tr>\n",
       "  </thead>\n",
       "  <tbody>\n",
       "    <tr>\n",
       "      <th>2021-10-21 09:30:01.031769</th>\n",
       "      <td>-0.3</td>\n",
       "      <td>0.014608</td>\n",
       "    </tr>\n",
       "    <tr>\n",
       "      <th>2021-10-21 09:30:02.012061</th>\n",
       "      <td>-0.3</td>\n",
       "      <td>-0.038665</td>\n",
       "    </tr>\n",
       "    <tr>\n",
       "      <th>2021-10-21 09:30:03.040047</th>\n",
       "      <td>-0.0</td>\n",
       "      <td>-0.042817</td>\n",
       "    </tr>\n",
       "    <tr>\n",
       "      <th>2021-10-21 09:30:03.753893</th>\n",
       "      <td>-0.4</td>\n",
       "      <td>0.003397</td>\n",
       "    </tr>\n",
       "    <tr>\n",
       "      <th>2021-10-21 09:30:05.089522</th>\n",
       "      <td>-0.7</td>\n",
       "      <td>-0.072055</td>\n",
       "    </tr>\n",
       "    <tr>\n",
       "      <th>...</th>\n",
       "      <td>...</td>\n",
       "      <td>...</td>\n",
       "    </tr>\n",
       "    <tr>\n",
       "      <th>2021-10-21 09:34:57.008796</th>\n",
       "      <td>-0.1</td>\n",
       "      <td>-0.021771</td>\n",
       "    </tr>\n",
       "    <tr>\n",
       "      <th>2021-10-21 09:34:58.402749</th>\n",
       "      <td>0.3</td>\n",
       "      <td>-0.035256</td>\n",
       "    </tr>\n",
       "    <tr>\n",
       "      <th>2021-10-21 09:34:59.095998</th>\n",
       "      <td>0.2</td>\n",
       "      <td>-0.024088</td>\n",
       "    </tr>\n",
       "    <tr>\n",
       "      <th>2021-10-21 09:35:00.007071</th>\n",
       "      <td>-0.4</td>\n",
       "      <td>0.017353</td>\n",
       "    </tr>\n",
       "    <tr>\n",
       "      <th>2021-10-21 09:35:00.991838</th>\n",
       "      <td>0.2</td>\n",
       "      <td>-0.016698</td>\n",
       "    </tr>\n",
       "  </tbody>\n",
       "</table>\n",
       "<p>300 rows × 2 columns</p>\n",
       "</div>"
      ],
      "text/plain": [
       "                             MR         0\n",
       "2021-10-21 09:30:01.031769 -0.3  0.014608\n",
       "2021-10-21 09:30:02.012061 -0.3 -0.038665\n",
       "2021-10-21 09:30:03.040047 -0.0 -0.042817\n",
       "2021-10-21 09:30:03.753893 -0.4  0.003397\n",
       "2021-10-21 09:30:05.089522 -0.7 -0.072055\n",
       "...                         ...       ...\n",
       "2021-10-21 09:34:57.008796 -0.1 -0.021771\n",
       "2021-10-21 09:34:58.402749  0.3 -0.035256\n",
       "2021-10-21 09:34:59.095998  0.2 -0.024088\n",
       "2021-10-21 09:35:00.007071 -0.4  0.017353\n",
       "2021-10-21 09:35:00.991838  0.2 -0.016698\n",
       "\n",
       "[300 rows x 2 columns]"
      ]
     },
     "execution_count": 30,
     "metadata": {},
     "output_type": "execute_result"
    }
   ],
   "source": [
    "# models_MR.first('5min')"
   ]
  },
  {
   "cell_type": "code",
   "execution_count": 35,
   "id": "17edc078-2b66-4984-8b77-8109eb420a31",
   "metadata": {},
   "outputs": [
    {
     "data": {
      "image/png": "[encoded data removed]",
      "text/plain": [
       "<Figure size 252x126 with 2 Axes>"
      ]
     },
     "metadata": {
      "needs_background": "light"
     },
     "output_type": "display_data"
    }
   ],
   "source": [
    "rescale_plot(W = 3.5, rectangle = True)\n",
    "\n",
    "bandit1 = gp_bandit_finance(strategies, \n",
    "                           bandit_algo='UCB', \n",
    "                           training_iter = 3,\n",
    "                           bandit_params=bandit_params)\n",
    "bandit2 = gp_bandit_finance(strategies,\n",
    "                           bandit_algo='UCB', \n",
    "                           training_iter = 3,\n",
    "                           bandit_params=bandit_params)\n",
    "\n",
    "best_strategy_bandit = 'MR'\n",
    "distances            = []\n",
    "\n",
    "models1_ = models_MR.first('5min').groupby(best_strategy_bandit).mean().reset_index()\n",
    "models2_ = models_MR.first('10min').last('3min').groupby(best_strategy_bandit).mean().reset_index()\n",
    "\n",
    "for i in range(0, len(models1_), 2):\n",
    "    feature_values = models1_.iloc[i, :]\n",
    "    reward         = models1_.iloc[i, 1]/tick_size\n",
    "    bandit1.update_data(feature_values, \n",
    "                       best_strategy_bandit, reward, \n",
    "                       retrain_hyperparameters = True)\n",
    "\n",
    "for i in range(0, len(models2_), 2):\n",
    "    feature_values = models2_.iloc[i, :]\n",
    "    reward         = models2_.iloc[i, 1]/tick_size\n",
    "    bandit2.update_data(feature_values, \n",
    "                       best_strategy_bandit, reward, \n",
    "                       retrain_hyperparameters = True)\n",
    "\n",
    "lv = -2\n",
    "uv = 2\n",
    "strat  = 'MR'\n",
    "strats = bandit1.strategies.keys()\n",
    "\n",
    "f, (ax, ax2) = plt.subplots(1, 2, constrained_layout=True,\n",
    "                            sharey=True)\n",
    "gp1, gp2 = bandit1.strat_gp_dict[strat], bandit2.strat_gp_dict[strat]\n",
    "ax = gp1.build_plot(ax, lv=lv, uv=uv, \n",
    "                   n_test=20, xlabel=None)\n",
    "\n",
    "lv = -1\n",
    "uv = 1\n",
    "ax2 = gp2.build_plot(ax2, lv=lv, uv=uv, \n",
    "                   n_test=20, xlabel=None)\n",
    "\n",
    "ax2.legend(['Rewards', 'GP mean', 'Conf. bounds'], \n",
    "      handlelength=0.3, framealpha=0.6, loc='best', ncol=1)\n",
    "ax.set_ylabel('Avg. reward in ticks')\n",
    "ax.set_xlabel('MR')\n",
    "ax2.set_xlabel('MR')\n",
    "ax.tick_params(\"y\", left=False, labelleft=False)\n",
    "ax2.tick_params(\"y\", right=True, labelright=True)\n",
    "\n",
    "ax.set_title(r'09:30 $\\rightarrow$ 09:35')\n",
    "ax2.set_title(r'09:35 $\\rightarrow$ 09:40')\n",
    "\n",
    "# ax.set_ylim(-4, 4)\n",
    "plt.savefig('GP1.pdf', bbox_inches='tight')\n",
    "plt.show()"
   ]
  },
  {
   "cell_type": "code",
   "execution_count": 22,
   "id": "d041a7ac-35bb-4971-aad0-6d4d1a6ea52f",
   "metadata": {},
   "outputs": [
    {
     "data": {
      "image/png": "[encoded data removed]",
      "text/plain": [
       "<Figure size 252x126 with 2 Axes>"
      ]
     },
     "metadata": {
      "needs_background": "light"
     },
     "output_type": "display_data"
    }
   ],
   "source": [
    "rescale_plot(W = 3.5, rectangle = True)\n",
    "\n",
    "bandit1 = gp_bandit_finance(strategies, \n",
    "                           bandit_algo='UCB', \n",
    "                           training_iter = 1,\n",
    "                           bandit_params=bandit_params)\n",
    "bandit2 = gp_bandit_finance(strategies,\n",
    "                           bandit_algo='UCB', \n",
    "                           training_iter = 10,\n",
    "                           bandit_params=bandit_params)\n",
    "\n",
    "best_strategy_bandit = 'TF'\n",
    "distances            = []\n",
    "\n",
    "models1_ = models_TF.first('5min').groupby(best_strategy_bandit).mean().reset_index()\n",
    "models2_ = models_TF.first('10min').last('5min').groupby(best_strategy_bandit).mean().reset_index()\n",
    "\n",
    "for i in range(0, len(models1_), 2):\n",
    "    feature_values = models1_.iloc[i, :]\n",
    "    reward         = models1_.iloc[i, 1]/tick_size\n",
    "    bandit1.update_data(feature_values, \n",
    "                       best_strategy_bandit, reward, \n",
    "                       retrain_hyperparameters = True)\n",
    "\n",
    "for i in range(0, len(models2_), 1):\n",
    "    feature_values = models2_.iloc[i, :]\n",
    "    reward         = models2_.iloc[i, 1]/tick_size\n",
    "    bandit2.update_data(feature_values, \n",
    "                       best_strategy_bandit, reward, \n",
    "                       retrain_hyperparameters = True)\n",
    "\n",
    "lv = None\n",
    "uv = None\n",
    "\n",
    "strat  = best_strategy_bandit\n",
    "strats = bandit1.strategies.keys()\n",
    "\n",
    "f, (ax, ax2) = plt.subplots(1, 2, constrained_layout=True,\n",
    "                            sharey=True)\n",
    "gp1, gp2 = bandit1.strat_gp_dict[strat], bandit2.strat_gp_dict[strat]\n",
    "ax = gp1.build_plot(ax, lv=lv, uv=uv, \n",
    "                   n_test=100, xlabel=None)\n",
    "ax2 = gp2.build_plot(ax2, lv=lv, uv=uv, \n",
    "                   n_test=100, xlabel=None)\n",
    "\n",
    "ax2.legend(['Rewards', 'GP mean', 'Conf. bounds'], \n",
    "      handlelength=0.3, framealpha=0.6, loc='best', ncol=1)\n",
    "ax.set_ylabel('Reward in tick size')\n",
    "ax.set_xlabel('TF')\n",
    "ax.tick_params(\"y\", left=False, labelleft=False)\n",
    "ax2.tick_params(\"y\", right=True, labelright=True)\n",
    "\n",
    "# ax.set_ylim(-4, 4)\n",
    "plt.show()"
   ]
  },
  {
   "cell_type": "code",
   "execution_count": 317,
   "id": "1c81caea-7c20-47c2-b9d8-f015c5b37e6c",
   "metadata": {},
   "outputs": [
    {
     "data": {
      "image/png": "[encoded data removed]",
      "text/plain": [
       "<Figure size 252x126 with 2 Axes>"
      ]
     },
     "metadata": {
      "needs_background": "light"
     },
     "output_type": "display_data"
    }
   ],
   "source": [
    "rescale_plot(W = 3.5, rectangle = True)\n",
    "\n",
    "bandit1 = gp_bandit_finance(strategies, \n",
    "                           bandit_algo='UCB', \n",
    "                           training_iter = 1,\n",
    "                           bandit_params=bandit_params)\n",
    "bandit2 = gp_bandit_finance(strategies, \n",
    "                           bandit_algo='UCB', \n",
    "                           training_iter = 1,\n",
    "                           bandit_params=bandit_params)\n",
    "\n",
    "best_strategy_bandit = 'MR'\n",
    "distances            = []\n",
    "\n",
    "models_ = models_MR.dropna()\n",
    "#.iloc[-500:].groupby(best_strategy_bandit\n",
    "                                         # ).mean().reset_index()\n",
    "\n",
    "for i in range(0, 30, 1):\n",
    "    feature_values = models_.iloc[i, :]\n",
    "    reward         = models_.iloc[i, 1]/tick_size\n",
    "    bandit1.update_data(feature_values, \n",
    "                       best_strategy_bandit, reward, \n",
    "                       retrain_hyperparameters = True)\n",
    "for i in range(30, 60, 2):\n",
    "    feature_values = models_.iloc[i, :]\n",
    "    reward         = models_.iloc[i, 1]/tick_size\n",
    "    bandit2.update_data(feature_values, \n",
    "                       best_strategy_bandit, reward, \n",
    "                       retrain_hyperparameters = True)\n",
    "    \n",
    "rescale_plot(W = 3.5, rectangle = True)\n",
    "\n",
    "lv = -1.2\n",
    "uv = 2\n",
    "strat  = 'MR'\n",
    "strats = bandit.strategies.keys()\n",
    "\n",
    "f, (ax, ax2) = plt.subplots(1, 2, \n",
    "                constrained_layout=True, \n",
    "                            sharex=True, sharey=True)\n",
    "gp1, gp2 = bandit1.strat_gp_dict[strat], bandit2.strat_gp_dict[strat]\n",
    "ax = gp1.build_plot(ax, lv=lv, uv=uv, \n",
    "                   n_test=100, xlabel=None)\n",
    "ax2 = gp2.build_plot(ax2, lv=lv, uv=uv, \n",
    "                   n_test=100, xlabel=None)\n",
    "\n",
    "ax2.legend(['Rewards', 'GP mean', 'conf. bounds'], \n",
    "      handlelength=0.3, framealpha=0.6, loc='best', ncol=1)\n",
    "# ax.yaxis.tick_right()\n",
    "ax.set_ylabel('Reward in tick size')\n",
    "ax.set_xlabel('MR')\n",
    "ax2.set_xlabel('MR')\n",
    "\n",
    "ax.tick_params(\"y\", left=False, labelleft=False)\n",
    "ax2.tick_params(\"y\", right=True, labelright=True)\n",
    "\n",
    "# ax.set_ylim(-4.5, 3)\n",
    "plt.show()"
   ]
  },
  {
   "cell_type": "code",
   "execution_count": 318,
   "id": "5e1b849b-8001-4c37-8aa8-6ee2be735725",
   "metadata": {},
   "outputs": [
    {
     "data": {
      "image/png": "[encoded data removed]",
      "text/plain": [
       "<Figure size 252x126 with 2 Axes>"
      ]
     },
     "metadata": {
      "needs_background": "light"
     },
     "output_type": "display_data"
    }
   ],
   "source": [
    "rescale_plot(W = 3.5, rectangle = True)\n",
    "\n",
    "bandit1 = gp_bandit_finance(strategies, \n",
    "                           bandit_algo='UCB', \n",
    "                           training_iter = 1,\n",
    "                           bandit_params=bandit_params)\n",
    "bandit2 = gp_bandit_finance(strategies, \n",
    "                           bandit_algo='UCB', \n",
    "                           training_iter = 1,\n",
    "                           bandit_params=bandit_params)\n",
    "\n",
    "best_strategy_bandit = 'imbalance_1'\n",
    "distances            = []\n",
    "\n",
    "models_ = models_IMB.dropna()\n",
    "#.iloc[-500:].groupby(best_strategy_bandit\n",
    "                                         # ).mean().reset_index()\n",
    "\n",
    "for i in range(0, 30, 1):\n",
    "    feature_values = models_.iloc[i, :]\n",
    "    reward         = models_.iloc[i, 1]/tick_size\n",
    "    bandit1.update_data(feature_values, \n",
    "                       best_strategy_bandit, reward, \n",
    "                       retrain_hyperparameters = True)\n",
    "for i in range(30, 60, 1):\n",
    "    feature_values = models_.iloc[i, :]\n",
    "    reward         = models_.iloc[i, 1]/tick_size\n",
    "    bandit2.update_data(feature_values, \n",
    "                       best_strategy_bandit, reward, \n",
    "                       retrain_hyperparameters = True)\n",
    "    \n",
    "rescale_plot(W = 3.5, rectangle = True)\n",
    "\n",
    "lv = -1\n",
    "uv = 1\n",
    "strat  = 'imbalance_1'\n",
    "strats = bandit.strategies.keys()\n",
    "\n",
    "f, (ax, ax2) = plt.subplots(1, 2, \n",
    "                constrained_layout=True, \n",
    "                            sharex=True, sharey=True)\n",
    "gp1, gp2 = bandit1.strat_gp_dict[strat], bandit2.strat_gp_dict[strat]\n",
    "ax = gp1.build_plot(ax, lv=lv, uv=uv, \n",
    "                   n_test=100, xlabel=None)\n",
    "ax2 = gp2.build_plot(ax2, lv=lv, uv=uv, \n",
    "                   n_test=100, xlabel=None)\n",
    "\n",
    "ax2.legend(['Rewards', 'GP mean', 'conf. bounds'], \n",
    "      handlelength=0.3, framealpha=0.1, loc='best', ncol=1)\n",
    "# ax.yaxis.tick_right()\n",
    "ax.set_ylabel('Reward in tick size')\n",
    "ax.set_xlabel('MR')\n",
    "ax2.set_xlabel('MR')\n",
    "\n",
    "ax.tick_params(\"y\", left=False, labelleft=False)\n",
    "ax2.tick_params(\"y\", right=True, labelright=True)\n",
    "\n",
    "# ax.set_ylim(-4.5, 3)\n",
    "plt.show()"
   ]
  },
  {
   "cell_type": "code",
   "execution_count": 78,
   "id": "ad31e6a5-dfac-4c1a-bc65-641bed5c79f4",
   "metadata": {},
   "outputs": [
    {
     "data": {
      "text/html": [
       "<div>\n",
       "<style scoped>\n",
       "    .dataframe tbody tr th:only-of-type {\n",
       "        vertical-align: middle;\n",
       "    }\n",
       "\n",
       "    .dataframe tbody tr th {\n",
       "        vertical-align: top;\n",
       "    }\n",
       "\n",
       "    .dataframe thead th {\n",
       "        text-align: right;\n",
       "    }\n",
       "</style>\n",
       "<table border=\"1\" class=\"dataframe\">\n",
       "  <thead>\n",
       "    <tr style=\"text-align: right;\">\n",
       "      <th></th>\n",
       "      <th>MR</th>\n",
       "      <th>0</th>\n",
       "    </tr>\n",
       "  </thead>\n",
       "  <tbody>\n",
       "    <tr>\n",
       "      <th>0</th>\n",
       "      <td>-0.2</td>\n",
       "      <td>-0.004878</td>\n",
       "    </tr>\n",
       "    <tr>\n",
       "      <th>1</th>\n",
       "      <td>-0.1</td>\n",
       "      <td>0.002570</td>\n",
       "    </tr>\n",
       "    <tr>\n",
       "      <th>2</th>\n",
       "      <td>-0.0</td>\n",
       "      <td>-0.000602</td>\n",
       "    </tr>\n",
       "    <tr>\n",
       "      <th>3</th>\n",
       "      <td>0.1</td>\n",
       "      <td>-0.000571</td>\n",
       "    </tr>\n",
       "    <tr>\n",
       "      <th>4</th>\n",
       "      <td>0.2</td>\n",
       "      <td>-0.002192</td>\n",
       "    </tr>\n",
       "  </tbody>\n",
       "</table>\n",
       "</div>"
      ],
      "text/plain": [
       "    MR         0\n",
       "0 -0.2 -0.004878\n",
       "1 -0.1  0.002570\n",
       "2 -0.0 -0.000602\n",
       "3  0.1 -0.000571\n",
       "4  0.2 -0.002192"
      ]
     },
     "execution_count": 78,
     "metadata": {},
     "output_type": "execute_result"
    }
   ],
   "source": [
    "# models_IMB.iloc[40]\n",
    "models_"
   ]
  },
  {
   "cell_type": "code",
   "execution_count": 83,
   "id": "c7fe3e09-45a3-41ff-920a-b2714df207a1",
   "metadata": {},
   "outputs": [
    {
     "data": {
      "image/png": "[encoded data removed]",
      "text/plain": [
       "<Figure size 180x135 with 1 Axes>"
      ]
     },
     "metadata": {
      "needs_background": "light"
     },
     "output_type": "display_data"
    }
   ],
   "source": [
    "rescale_plot(W = 3, rectangle = True)\n",
    "\n",
    "bandit = gp_bandit_finance(strategies, \n",
    "                           bandit_algo='UCB', \n",
    "                           training_iter = 0,\n",
    "                           bandit_params=bandit_params)\n",
    "\n",
    "best_strategy_bandit = 'MR'\n",
    "distances            = []\n",
    "models_ = models_MR.iloc[-2000:-1000].groupby(best_strategy_bandit\n",
    "                                         ).mean().reset_index()\n",
    "\n",
    "for i in range(0, len(models_)):\n",
    "    feature_values = models_.iloc[i, :]\n",
    "    reward         = models_.iloc[i, 1]/tick_size\n",
    "    # print(feature_values[best_strategy_bandit], reward)\n",
    "    bandit.update_data(feature_values, \n",
    "                       best_strategy_bandit, reward, \n",
    "                       retrain_hyperparameters = True)\n",
    "\n",
    "rescale_plot(W = 2.5, rectangle = False)\n",
    "\n",
    "strat  = 'MR'\n",
    "lv = None\n",
    "uv = None\n",
    "\n",
    "strats = bandit.strategies.keys()\n",
    "f, ax = plt.subplots(1, 1, constrained_layout=True)\n",
    "gp = bandit.strat_gp_dict[strat]\n",
    "ax = gp.build_plot(ax, lv=lv, uv=uv, \n",
    "                   n_test=100, xlabel=None)\n",
    "\n",
    "\n",
    "ax.legend(['Rewards', 'lower/upper conf. bounds'], \n",
    "      handlelength=0.3, framealpha=0.6, loc='best', ncol=1)\n",
    "ax.yaxis.tick_right()\n",
    "ax.set_ylabel('Reward in tick size')\n",
    "ax.set_xlabel('Imbalance')\n",
    "\n",
    "# ax.set_xlim(-2, 3)\n",
    "# ax.set_ylim(-0.8, 1.2)\n",
    "\n",
    "plt.show()"
   ]
  },
  {
   "cell_type": "code",
   "execution_count": 77,
   "id": "0b3e593b-5a3e-4f07-9c38-21af69c271e0",
   "metadata": {},
   "outputs": [
    {
     "data": {
      "text/plain": [
       "MR   -0.20000\n",
       "0    -0.01022\n",
       "Name: 2022-01-10 15:25:20.017164, dtype: float64"
      ]
     },
     "execution_count": 77,
     "metadata": {},
     "output_type": "execute_result"
    }
   ],
   "source": [
    "models_MR.iloc[-2000]\n",
    "# reward_MR"
   ]
  },
  {
   "cell_type": "code",
   "execution_count": 54,
   "id": "8799275f",
   "metadata": {
    "scrolled": true,
    "tags": []
   },
   "outputs": [
    {
     "data": {
      "image/png": "[encoded data removed]",
      "text/plain": [
       "<Figure size 288x216 with 1 Axes>"
      ]
     },
     "metadata": {
      "needs_background": "light"
     },
     "output_type": "display_data"
    },
    {
     "ename": "NanError",
     "evalue": "cholesky_cpu: 2 of 4 elements of the torch.Size([2, 2]) tensor are NaN.",
     "output_type": "error",
     "traceback": [
      "\u001b[0;31m---------------------------------------------------------------------------\u001b[0m",
      "\u001b[0;31mNanError\u001b[0m                                  Traceback (most recent call last)",
      "\u001b[0;32m/var/folders/h3/cyxpytps41d3jmsv99t0x7ww0000gn/T/ipykernel_5416/2806821374.py\u001b[0m in \u001b[0;36m<module>\u001b[0;34m\u001b[0m\n\u001b[1;32m     20\u001b[0m     \u001b[0mfeature_values\u001b[0m \u001b[0;34m=\u001b[0m \u001b[0mall_rewards\u001b[0m\u001b[0;34m.\u001b[0m\u001b[0miloc\u001b[0m\u001b[0;34m[\u001b[0m\u001b[0mi\u001b[0m\u001b[0;34m]\u001b[0m\u001b[0;34m\u001b[0m\u001b[0;34m\u001b[0m\u001b[0m\n\u001b[1;32m     21\u001b[0m     \u001b[0mreward\u001b[0m         \u001b[0;34m=\u001b[0m \u001b[0mreward_\u001b[0m\u001b[0;34m.\u001b[0m\u001b[0miloc\u001b[0m\u001b[0;34m[\u001b[0m\u001b[0mi\u001b[0m\u001b[0;34m]\u001b[0m\u001b[0;34m/\u001b[0m\u001b[0mtick_size\u001b[0m\u001b[0;34m\u001b[0m\u001b[0;34m\u001b[0m\u001b[0m\n\u001b[0;32m---> 22\u001b[0;31m     \u001b[0mbandit\u001b[0m\u001b[0;34m.\u001b[0m\u001b[0mupdate_data\u001b[0m\u001b[0;34m(\u001b[0m\u001b[0mfeature_values\u001b[0m\u001b[0;34m.\u001b[0m\u001b[0mround\u001b[0m\u001b[0;34m(\u001b[0m\u001b[0;36m1\u001b[0m\u001b[0;34m)\u001b[0m\u001b[0;34m,\u001b[0m \u001b[0mbest_strategy_bandit\u001b[0m\u001b[0;34m,\u001b[0m \u001b[0mreward\u001b[0m\u001b[0;34m,\u001b[0m \u001b[0mretrain_hyperparameters\u001b[0m \u001b[0;34m=\u001b[0m \u001b[0;32mTrue\u001b[0m\u001b[0;34m)\u001b[0m\u001b[0;34m\u001b[0m\u001b[0;34m\u001b[0m\u001b[0m\n\u001b[0m\u001b[1;32m     23\u001b[0m \u001b[0;34m\u001b[0m\u001b[0m\n\u001b[1;32m     24\u001b[0m     \u001b[0;32mif\u001b[0m \u001b[0mj\u001b[0m \u001b[0;34m>\u001b[0m \u001b[0msize_window\u001b[0m\u001b[0;34m:\u001b[0m\u001b[0;34m\u001b[0m\u001b[0;34m\u001b[0m\u001b[0m\n",
      "\u001b[0;32m~/Library/CloudStorage/OneDrive-Personal/Documents/PhD/Main/AOE/AOE/AOE/gp_bandit_finance.py\u001b[0m in \u001b[0;36mupdate_data\u001b[0;34m(self, features, strat, reward, retrain_hyperparameters)\u001b[0m\n\u001b[1;32m    145\u001b[0m \u001b[0;34m\u001b[0m\u001b[0m\n\u001b[1;32m    146\u001b[0m         \u001b[0;32mif\u001b[0m \u001b[0mretrain_hyperparameters\u001b[0m\u001b[0;34m:\u001b[0m\u001b[0;34m\u001b[0m\u001b[0;34m\u001b[0m\u001b[0m\n\u001b[0;32m--> 147\u001b[0;31m             \u001b[0mmodel\u001b[0m\u001b[0;34m.\u001b[0m\u001b[0mtrain\u001b[0m\u001b[0;34m(\u001b[0m\u001b[0;34m)\u001b[0m\u001b[0;34m\u001b[0m\u001b[0;34m\u001b[0m\u001b[0m\n\u001b[0m\u001b[1;32m    148\u001b[0m \u001b[0;34m\u001b[0m\u001b[0m\n\u001b[1;32m    149\u001b[0m \u001b[0;31m#    def update_data_nst(self, features, strat, reward, size_buffer, retrain_hyperparameters = False):\u001b[0m\u001b[0;34m\u001b[0m\u001b[0;34m\u001b[0m\u001b[0;34m\u001b[0m\u001b[0m\n",
      "\u001b[0;32m~/Library/CloudStorage/OneDrive-Personal/Documents/PhD/Main/AOE/AOE/AOE/gp_bandit.py\u001b[0m in \u001b[0;36mtrain\u001b[0;34m(self, training_iter)\u001b[0m\n\u001b[1;32m     48\u001b[0m             \u001b[0moutput\u001b[0m \u001b[0;34m=\u001b[0m \u001b[0mmodel\u001b[0m\u001b[0;34m(\u001b[0m\u001b[0mx_train\u001b[0m\u001b[0;34m)\u001b[0m\u001b[0;34m\u001b[0m\u001b[0;34m\u001b[0m\u001b[0m\n\u001b[1;32m     49\u001b[0m             \u001b[0;31m# Calc loss and backprop gradients\u001b[0m\u001b[0;34m\u001b[0m\u001b[0;34m\u001b[0m\u001b[0;34m\u001b[0m\u001b[0m\n\u001b[0;32m---> 50\u001b[0;31m             \u001b[0mloss\u001b[0m \u001b[0;34m=\u001b[0m \u001b[0;34m-\u001b[0m\u001b[0mmll\u001b[0m\u001b[0;34m(\u001b[0m\u001b[0moutput\u001b[0m\u001b[0;34m,\u001b[0m \u001b[0my_train\u001b[0m\u001b[0;34m)\u001b[0m\u001b[0;34m\u001b[0m\u001b[0;34m\u001b[0m\u001b[0m\n\u001b[0m\u001b[1;32m     51\u001b[0m             \u001b[0mloss\u001b[0m\u001b[0;34m.\u001b[0m\u001b[0mbackward\u001b[0m\u001b[0;34m(\u001b[0m\u001b[0;34m)\u001b[0m\u001b[0;34m\u001b[0m\u001b[0;34m\u001b[0m\u001b[0m\n\u001b[1;32m     52\u001b[0m \u001b[0;34m\u001b[0m\u001b[0m\n",
      "\u001b[0;32m~/opt/anaconda3/envs/aoe3/lib/python3.7/site-packages/gpytorch/module.py\u001b[0m in \u001b[0;36m__call__\u001b[0;34m(self, *inputs, **kwargs)\u001b[0m\n\u001b[1;32m     28\u001b[0m \u001b[0;34m\u001b[0m\u001b[0m\n\u001b[1;32m     29\u001b[0m     \u001b[0;32mdef\u001b[0m \u001b[0m__call__\u001b[0m\u001b[0;34m(\u001b[0m\u001b[0mself\u001b[0m\u001b[0;34m,\u001b[0m \u001b[0;34m*\u001b[0m\u001b[0minputs\u001b[0m\u001b[0;34m,\u001b[0m \u001b[0;34m**\u001b[0m\u001b[0mkwargs\u001b[0m\u001b[0;34m)\u001b[0m\u001b[0;34m:\u001b[0m\u001b[0;34m\u001b[0m\u001b[0;34m\u001b[0m\u001b[0m\n\u001b[0;32m---> 30\u001b[0;31m         \u001b[0moutputs\u001b[0m \u001b[0;34m=\u001b[0m \u001b[0mself\u001b[0m\u001b[0;34m.\u001b[0m\u001b[0mforward\u001b[0m\u001b[0;34m(\u001b[0m\u001b[0;34m*\u001b[0m\u001b[0minputs\u001b[0m\u001b[0;34m,\u001b[0m \u001b[0;34m**\u001b[0m\u001b[0mkwargs\u001b[0m\u001b[0;34m)\u001b[0m\u001b[0;34m\u001b[0m\u001b[0;34m\u001b[0m\u001b[0m\n\u001b[0m\u001b[1;32m     31\u001b[0m         \u001b[0;32mif\u001b[0m \u001b[0misinstance\u001b[0m\u001b[0;34m(\u001b[0m\u001b[0moutputs\u001b[0m\u001b[0;34m,\u001b[0m \u001b[0mlist\u001b[0m\u001b[0;34m)\u001b[0m\u001b[0;34m:\u001b[0m\u001b[0;34m\u001b[0m\u001b[0;34m\u001b[0m\u001b[0m\n\u001b[1;32m     32\u001b[0m             \u001b[0;32mreturn\u001b[0m \u001b[0;34m[\u001b[0m\u001b[0m_validate_module_outputs\u001b[0m\u001b[0;34m(\u001b[0m\u001b[0moutput\u001b[0m\u001b[0;34m)\u001b[0m \u001b[0;32mfor\u001b[0m \u001b[0moutput\u001b[0m \u001b[0;32min\u001b[0m \u001b[0moutputs\u001b[0m\u001b[0;34m]\u001b[0m\u001b[0;34m\u001b[0m\u001b[0;34m\u001b[0m\u001b[0m\n",
      "\u001b[0;32m~/opt/anaconda3/envs/aoe3/lib/python3.7/site-packages/gpytorch/mlls/exact_marginal_log_likelihood.py\u001b[0m in \u001b[0;36mforward\u001b[0;34m(self, function_dist, target, *params)\u001b[0m\n\u001b[1;32m     60\u001b[0m         \u001b[0;31m# Get the log prob of the marginal distribution\u001b[0m\u001b[0;34m\u001b[0m\u001b[0;34m\u001b[0m\u001b[0;34m\u001b[0m\u001b[0m\n\u001b[1;32m     61\u001b[0m         \u001b[0moutput\u001b[0m \u001b[0;34m=\u001b[0m \u001b[0mself\u001b[0m\u001b[0;34m.\u001b[0m\u001b[0mlikelihood\u001b[0m\u001b[0;34m(\u001b[0m\u001b[0mfunction_dist\u001b[0m\u001b[0;34m,\u001b[0m \u001b[0;34m*\u001b[0m\u001b[0mparams\u001b[0m\u001b[0;34m)\u001b[0m\u001b[0;34m\u001b[0m\u001b[0;34m\u001b[0m\u001b[0m\n\u001b[0;32m---> 62\u001b[0;31m         \u001b[0mres\u001b[0m \u001b[0;34m=\u001b[0m \u001b[0moutput\u001b[0m\u001b[0;34m.\u001b[0m\u001b[0mlog_prob\u001b[0m\u001b[0;34m(\u001b[0m\u001b[0mtarget\u001b[0m\u001b[0;34m)\u001b[0m\u001b[0;34m\u001b[0m\u001b[0;34m\u001b[0m\u001b[0m\n\u001b[0m\u001b[1;32m     63\u001b[0m         \u001b[0mres\u001b[0m \u001b[0;34m=\u001b[0m \u001b[0mself\u001b[0m\u001b[0;34m.\u001b[0m\u001b[0m_add_other_terms\u001b[0m\u001b[0;34m(\u001b[0m\u001b[0mres\u001b[0m\u001b[0;34m,\u001b[0m \u001b[0mparams\u001b[0m\u001b[0;34m)\u001b[0m\u001b[0;34m\u001b[0m\u001b[0;34m\u001b[0m\u001b[0m\n\u001b[1;32m     64\u001b[0m \u001b[0;34m\u001b[0m\u001b[0m\n",
      "\u001b[0;32m~/opt/anaconda3/envs/aoe3/lib/python3.7/site-packages/gpytorch/distributions/multivariate_normal.py\u001b[0m in \u001b[0;36mlog_prob\u001b[0;34m(self, value)\u001b[0m\n\u001b[1;32m    167\u001b[0m         \u001b[0;31m# Get log determininant and first part of quadratic form\u001b[0m\u001b[0;34m\u001b[0m\u001b[0;34m\u001b[0m\u001b[0;34m\u001b[0m\u001b[0m\n\u001b[1;32m    168\u001b[0m         \u001b[0mcovar\u001b[0m \u001b[0;34m=\u001b[0m \u001b[0mcovar\u001b[0m\u001b[0;34m.\u001b[0m\u001b[0mevaluate_kernel\u001b[0m\u001b[0;34m(\u001b[0m\u001b[0;34m)\u001b[0m\u001b[0;34m\u001b[0m\u001b[0;34m\u001b[0m\u001b[0m\n\u001b[0;32m--> 169\u001b[0;31m         \u001b[0minv_quad\u001b[0m\u001b[0;34m,\u001b[0m \u001b[0mlogdet\u001b[0m \u001b[0;34m=\u001b[0m \u001b[0mcovar\u001b[0m\u001b[0;34m.\u001b[0m\u001b[0minv_quad_logdet\u001b[0m\u001b[0;34m(\u001b[0m\u001b[0minv_quad_rhs\u001b[0m\u001b[0;34m=\u001b[0m\u001b[0mdiff\u001b[0m\u001b[0;34m.\u001b[0m\u001b[0munsqueeze\u001b[0m\u001b[0;34m(\u001b[0m\u001b[0;34m-\u001b[0m\u001b[0;36m1\u001b[0m\u001b[0;34m)\u001b[0m\u001b[0;34m,\u001b[0m \u001b[0mlogdet\u001b[0m\u001b[0;34m=\u001b[0m\u001b[0;32mTrue\u001b[0m\u001b[0;34m)\u001b[0m\u001b[0;34m\u001b[0m\u001b[0;34m\u001b[0m\u001b[0m\n\u001b[0m\u001b[1;32m    170\u001b[0m \u001b[0;34m\u001b[0m\u001b[0m\n\u001b[1;32m    171\u001b[0m         \u001b[0mres\u001b[0m \u001b[0;34m=\u001b[0m \u001b[0;34m-\u001b[0m\u001b[0;36m0.5\u001b[0m \u001b[0;34m*\u001b[0m \u001b[0msum\u001b[0m\u001b[0;34m(\u001b[0m\u001b[0;34m[\u001b[0m\u001b[0minv_quad\u001b[0m\u001b[0;34m,\u001b[0m \u001b[0mlogdet\u001b[0m\u001b[0;34m,\u001b[0m \u001b[0mdiff\u001b[0m\u001b[0;34m.\u001b[0m\u001b[0msize\u001b[0m\u001b[0;34m(\u001b[0m\u001b[0;34m-\u001b[0m\u001b[0;36m1\u001b[0m\u001b[0;34m)\u001b[0m \u001b[0;34m*\u001b[0m \u001b[0mmath\u001b[0m\u001b[0;34m.\u001b[0m\u001b[0mlog\u001b[0m\u001b[0;34m(\u001b[0m\u001b[0;36m2\u001b[0m \u001b[0;34m*\u001b[0m \u001b[0mmath\u001b[0m\u001b[0;34m.\u001b[0m\u001b[0mpi\u001b[0m\u001b[0;34m)\u001b[0m\u001b[0;34m]\u001b[0m\u001b[0;34m)\u001b[0m\u001b[0;34m\u001b[0m\u001b[0;34m\u001b[0m\u001b[0m\n",
      "\u001b[0;32m~/opt/anaconda3/envs/aoe3/lib/python3.7/site-packages/gpytorch/lazy/lazy_tensor.py\u001b[0m in \u001b[0;36minv_quad_logdet\u001b[0;34m(self, inv_quad_rhs, logdet, reduce_inv_quad)\u001b[0m\n\u001b[1;32m   1289\u001b[0m                     \u001b[0mwill_need_cholesky\u001b[0m \u001b[0;34m=\u001b[0m \u001b[0;32mFalse\u001b[0m\u001b[0;34m\u001b[0m\u001b[0;34m\u001b[0m\u001b[0m\n\u001b[1;32m   1290\u001b[0m             \u001b[0;32mif\u001b[0m \u001b[0mwill_need_cholesky\u001b[0m\u001b[0;34m:\u001b[0m\u001b[0;34m\u001b[0m\u001b[0;34m\u001b[0m\u001b[0m\n\u001b[0;32m-> 1291\u001b[0;31m                 \u001b[0mcholesky\u001b[0m \u001b[0;34m=\u001b[0m \u001b[0mCholLazyTensor\u001b[0m\u001b[0;34m(\u001b[0m\u001b[0mTriangularLazyTensor\u001b[0m\u001b[0;34m(\u001b[0m\u001b[0mself\u001b[0m\u001b[0;34m.\u001b[0m\u001b[0mcholesky\u001b[0m\u001b[0;34m(\u001b[0m\u001b[0;34m)\u001b[0m\u001b[0;34m)\u001b[0m\u001b[0;34m)\u001b[0m\u001b[0;34m\u001b[0m\u001b[0;34m\u001b[0m\u001b[0m\n\u001b[0m\u001b[1;32m   1292\u001b[0m             return cholesky.inv_quad_logdet(\n\u001b[1;32m   1293\u001b[0m                 \u001b[0minv_quad_rhs\u001b[0m\u001b[0;34m=\u001b[0m\u001b[0minv_quad_rhs\u001b[0m\u001b[0;34m,\u001b[0m\u001b[0;34m\u001b[0m\u001b[0;34m\u001b[0m\u001b[0m\n",
      "\u001b[0;32m~/opt/anaconda3/envs/aoe3/lib/python3.7/site-packages/gpytorch/lazy/lazy_tensor.py\u001b[0m in \u001b[0;36mcholesky\u001b[0;34m(self, upper)\u001b[0m\n\u001b[1;32m   1002\u001b[0m             \u001b[0;34m(\u001b[0m\u001b[0mLazyTensor\u001b[0m\u001b[0;34m)\u001b[0m \u001b[0mCholesky\u001b[0m \u001b[0mfactor\u001b[0m \u001b[0;34m(\u001b[0m\u001b[0mtriangular\u001b[0m\u001b[0;34m,\u001b[0m \u001b[0mupper\u001b[0m\u001b[0;34m/\u001b[0m\u001b[0mlower\u001b[0m \u001b[0mdepending\u001b[0m \u001b[0mon\u001b[0m \u001b[0;34m\"upper\"\u001b[0m \u001b[0marg\u001b[0m\u001b[0;34m)\u001b[0m\u001b[0;34m\u001b[0m\u001b[0;34m\u001b[0m\u001b[0m\n\u001b[1;32m   1003\u001b[0m         \"\"\"\n\u001b[0;32m-> 1004\u001b[0;31m         \u001b[0mchol\u001b[0m \u001b[0;34m=\u001b[0m \u001b[0mself\u001b[0m\u001b[0;34m.\u001b[0m\u001b[0m_cholesky\u001b[0m\u001b[0;34m(\u001b[0m\u001b[0mupper\u001b[0m\u001b[0;34m=\u001b[0m\u001b[0;32mFalse\u001b[0m\u001b[0;34m)\u001b[0m\u001b[0;34m\u001b[0m\u001b[0;34m\u001b[0m\u001b[0m\n\u001b[0m\u001b[1;32m   1005\u001b[0m         \u001b[0;32mif\u001b[0m \u001b[0mupper\u001b[0m\u001b[0;34m:\u001b[0m\u001b[0;34m\u001b[0m\u001b[0;34m\u001b[0m\u001b[0m\n\u001b[1;32m   1006\u001b[0m             \u001b[0mchol\u001b[0m \u001b[0;34m=\u001b[0m \u001b[0mchol\u001b[0m\u001b[0;34m.\u001b[0m\u001b[0m_transpose_nonbatch\u001b[0m\u001b[0;34m(\u001b[0m\u001b[0;34m)\u001b[0m\u001b[0;34m\u001b[0m\u001b[0;34m\u001b[0m\u001b[0m\n",
      "\u001b[0;32m~/opt/anaconda3/envs/aoe3/lib/python3.7/site-packages/gpytorch/utils/memoize.py\u001b[0m in \u001b[0;36mg\u001b[0;34m(self, *args, **kwargs)\u001b[0m\n\u001b[1;32m     57\u001b[0m         \u001b[0mkwargs_pkl\u001b[0m \u001b[0;34m=\u001b[0m \u001b[0mpickle\u001b[0m\u001b[0;34m.\u001b[0m\u001b[0mdumps\u001b[0m\u001b[0;34m(\u001b[0m\u001b[0mkwargs\u001b[0m\u001b[0;34m)\u001b[0m\u001b[0;34m\u001b[0m\u001b[0;34m\u001b[0m\u001b[0m\n\u001b[1;32m     58\u001b[0m         \u001b[0;32mif\u001b[0m \u001b[0;32mnot\u001b[0m \u001b[0m_is_in_cache\u001b[0m\u001b[0;34m(\u001b[0m\u001b[0mself\u001b[0m\u001b[0;34m,\u001b[0m \u001b[0mcache_name\u001b[0m\u001b[0;34m,\u001b[0m \u001b[0;34m*\u001b[0m\u001b[0margs\u001b[0m\u001b[0;34m,\u001b[0m \u001b[0mkwargs_pkl\u001b[0m\u001b[0;34m=\u001b[0m\u001b[0mkwargs_pkl\u001b[0m\u001b[0;34m)\u001b[0m\u001b[0;34m:\u001b[0m\u001b[0;34m\u001b[0m\u001b[0;34m\u001b[0m\u001b[0m\n\u001b[0;32m---> 59\u001b[0;31m             \u001b[0;32mreturn\u001b[0m \u001b[0m_add_to_cache\u001b[0m\u001b[0;34m(\u001b[0m\u001b[0mself\u001b[0m\u001b[0;34m,\u001b[0m \u001b[0mcache_name\u001b[0m\u001b[0;34m,\u001b[0m \u001b[0mmethod\u001b[0m\u001b[0;34m(\u001b[0m\u001b[0mself\u001b[0m\u001b[0;34m,\u001b[0m \u001b[0;34m*\u001b[0m\u001b[0margs\u001b[0m\u001b[0;34m,\u001b[0m \u001b[0;34m**\u001b[0m\u001b[0mkwargs\u001b[0m\u001b[0;34m)\u001b[0m\u001b[0;34m,\u001b[0m \u001b[0;34m*\u001b[0m\u001b[0margs\u001b[0m\u001b[0;34m,\u001b[0m \u001b[0mkwargs_pkl\u001b[0m\u001b[0;34m=\u001b[0m\u001b[0mkwargs_pkl\u001b[0m\u001b[0;34m)\u001b[0m\u001b[0;34m\u001b[0m\u001b[0;34m\u001b[0m\u001b[0m\n\u001b[0m\u001b[1;32m     60\u001b[0m         \u001b[0;32mreturn\u001b[0m \u001b[0m_get_from_cache\u001b[0m\u001b[0;34m(\u001b[0m\u001b[0mself\u001b[0m\u001b[0;34m,\u001b[0m \u001b[0mcache_name\u001b[0m\u001b[0;34m,\u001b[0m \u001b[0;34m*\u001b[0m\u001b[0margs\u001b[0m\u001b[0;34m,\u001b[0m \u001b[0mkwargs_pkl\u001b[0m\u001b[0;34m=\u001b[0m\u001b[0mkwargs_pkl\u001b[0m\u001b[0;34m)\u001b[0m\u001b[0;34m\u001b[0m\u001b[0;34m\u001b[0m\u001b[0m\n\u001b[1;32m     61\u001b[0m \u001b[0;34m\u001b[0m\u001b[0m\n",
      "\u001b[0;32m~/opt/anaconda3/envs/aoe3/lib/python3.7/site-packages/gpytorch/lazy/lazy_tensor.py\u001b[0m in \u001b[0;36m_cholesky\u001b[0;34m(self, upper)\u001b[0m\n\u001b[1;32m    433\u001b[0m \u001b[0;34m\u001b[0m\u001b[0m\n\u001b[1;32m    434\u001b[0m         \u001b[0;31m# contiguous call is necessary here\u001b[0m\u001b[0;34m\u001b[0m\u001b[0;34m\u001b[0m\u001b[0;34m\u001b[0m\u001b[0m\n\u001b[0;32m--> 435\u001b[0;31m         \u001b[0mcholesky\u001b[0m \u001b[0;34m=\u001b[0m \u001b[0mpsd_safe_cholesky\u001b[0m\u001b[0;34m(\u001b[0m\u001b[0mevaluated_mat\u001b[0m\u001b[0;34m,\u001b[0m \u001b[0mupper\u001b[0m\u001b[0;34m=\u001b[0m\u001b[0mupper\u001b[0m\u001b[0;34m)\u001b[0m\u001b[0;34m.\u001b[0m\u001b[0mcontiguous\u001b[0m\u001b[0;34m(\u001b[0m\u001b[0;34m)\u001b[0m\u001b[0;34m\u001b[0m\u001b[0;34m\u001b[0m\u001b[0m\n\u001b[0m\u001b[1;32m    436\u001b[0m         \u001b[0;32mreturn\u001b[0m \u001b[0mTriangularLazyTensor\u001b[0m\u001b[0;34m(\u001b[0m\u001b[0mcholesky\u001b[0m\u001b[0;34m,\u001b[0m \u001b[0mupper\u001b[0m\u001b[0;34m=\u001b[0m\u001b[0mupper\u001b[0m\u001b[0;34m)\u001b[0m\u001b[0;34m\u001b[0m\u001b[0;34m\u001b[0m\u001b[0m\n\u001b[1;32m    437\u001b[0m \u001b[0;34m\u001b[0m\u001b[0m\n",
      "\u001b[0;32m~/opt/anaconda3/envs/aoe3/lib/python3.7/site-packages/gpytorch/utils/cholesky.py\u001b[0m in \u001b[0;36mpsd_safe_cholesky\u001b[0;34m(A, upper, out, jitter, max_tries)\u001b[0m\n\u001b[1;32m     63\u001b[0m             \u001b[0mNumber\u001b[0m \u001b[0mof\u001b[0m \u001b[0mattempts\u001b[0m \u001b[0;34m(\u001b[0m\u001b[0;32mwith\u001b[0m \u001b[0msuccessively\u001b[0m \u001b[0mincreasing\u001b[0m \u001b[0mjitter\u001b[0m\u001b[0;34m)\u001b[0m \u001b[0mto\u001b[0m \u001b[0mmake\u001b[0m \u001b[0mbefore\u001b[0m \u001b[0mraising\u001b[0m \u001b[0man\u001b[0m \u001b[0merror\u001b[0m\u001b[0;34m.\u001b[0m\u001b[0;34m\u001b[0m\u001b[0;34m\u001b[0m\u001b[0m\n\u001b[1;32m     64\u001b[0m     \"\"\"\n\u001b[0;32m---> 65\u001b[0;31m     \u001b[0mL\u001b[0m \u001b[0;34m=\u001b[0m \u001b[0m_psd_safe_cholesky\u001b[0m\u001b[0;34m(\u001b[0m\u001b[0mA\u001b[0m\u001b[0;34m,\u001b[0m \u001b[0mout\u001b[0m\u001b[0;34m=\u001b[0m\u001b[0mout\u001b[0m\u001b[0;34m,\u001b[0m \u001b[0mjitter\u001b[0m\u001b[0;34m=\u001b[0m\u001b[0mjitter\u001b[0m\u001b[0;34m,\u001b[0m \u001b[0mmax_tries\u001b[0m\u001b[0;34m=\u001b[0m\u001b[0mmax_tries\u001b[0m\u001b[0;34m)\u001b[0m\u001b[0;34m\u001b[0m\u001b[0;34m\u001b[0m\u001b[0m\n\u001b[0m\u001b[1;32m     66\u001b[0m     \u001b[0;32mif\u001b[0m \u001b[0mupper\u001b[0m\u001b[0;34m:\u001b[0m\u001b[0;34m\u001b[0m\u001b[0;34m\u001b[0m\u001b[0m\n\u001b[1;32m     67\u001b[0m         \u001b[0;32mif\u001b[0m \u001b[0mout\u001b[0m \u001b[0;32mis\u001b[0m \u001b[0;32mnot\u001b[0m \u001b[0;32mNone\u001b[0m\u001b[0;34m:\u001b[0m\u001b[0;34m\u001b[0m\u001b[0;34m\u001b[0m\u001b[0m\n",
      "\u001b[0;32m~/opt/anaconda3/envs/aoe3/lib/python3.7/site-packages/gpytorch/utils/cholesky.py\u001b[0m in \u001b[0;36m_psd_safe_cholesky\u001b[0;34m(A, out, jitter, max_tries)\u001b[0m\n\u001b[1;32m     24\u001b[0m     \u001b[0misnan\u001b[0m \u001b[0;34m=\u001b[0m \u001b[0mtorch\u001b[0m\u001b[0;34m.\u001b[0m\u001b[0misnan\u001b[0m\u001b[0;34m(\u001b[0m\u001b[0mA\u001b[0m\u001b[0;34m)\u001b[0m\u001b[0;34m\u001b[0m\u001b[0;34m\u001b[0m\u001b[0m\n\u001b[1;32m     25\u001b[0m     \u001b[0;32mif\u001b[0m \u001b[0misnan\u001b[0m\u001b[0;34m.\u001b[0m\u001b[0many\u001b[0m\u001b[0;34m(\u001b[0m\u001b[0;34m)\u001b[0m\u001b[0;34m:\u001b[0m\u001b[0;34m\u001b[0m\u001b[0;34m\u001b[0m\u001b[0m\n\u001b[0;32m---> 26\u001b[0;31m         \u001b[0;32mraise\u001b[0m \u001b[0mNanError\u001b[0m\u001b[0;34m(\u001b[0m\u001b[0;34mf\"cholesky_cpu: {isnan.sum().item()} of {A.numel()} elements of the {A.shape} tensor are NaN.\"\u001b[0m\u001b[0;34m)\u001b[0m\u001b[0;34m\u001b[0m\u001b[0;34m\u001b[0m\u001b[0m\n\u001b[0m\u001b[1;32m     27\u001b[0m \u001b[0;34m\u001b[0m\u001b[0m\n\u001b[1;32m     28\u001b[0m     \u001b[0;32mif\u001b[0m \u001b[0mjitter\u001b[0m \u001b[0;32mis\u001b[0m \u001b[0;32mNone\u001b[0m\u001b[0;34m:\u001b[0m\u001b[0;34m\u001b[0m\u001b[0;34m\u001b[0m\u001b[0m\n",
      "\u001b[0;31mNanError\u001b[0m: cholesky_cpu: 2 of 4 elements of the torch.Size([2, 2]) tensor are NaN."
     ]
    }
   ],
   "source": [
    "%matplotlib inline\n",
    "rescale_plot(W=3, rectangle=True)\n",
    "\n",
    "## Plot both gp and value ucb at each time step with data point\n",
    "## Try non stationarity\n",
    "## Create synthetic random datapoints\n",
    "\n",
    "best_strategy_bandit = 'imbalance_1'\n",
    "reward_              = reward_imbalance\n",
    "distances            = []\n",
    "j                    = 0\n",
    "\n",
    "bandit = gp_bandit_finance(strategies, bandit_algo = 'TS_WAS', \n",
    "                           likelihood              = likelihood, \n",
    "                           bandit_params           = bandit_params)\n",
    "\n",
    "for i in range(0,30):\n",
    "    j += 1\n",
    "    \n",
    "    feature_values = all_rewards.iloc[i]\n",
    "    reward         = reward_.iloc[i]/tick_size\n",
    "    bandit.update_data(feature_values.round(1), best_strategy_bandit, reward, retrain_hyperparameters = True)\n",
    "    \n",
    "    if j > size_window:\n",
    "        posterior_mean_1, lower1, upper1, posterior_mean_2, lower2, upper2 = bandit.posterior_sliding_window_confidence(best_strategy_bandit)\n",
    "        \n",
    "        train_x = bandit.strat_gp_dict[best_strategy_bandit].model.train_inputs[0]\n",
    "        train_y = bandit.strat_gp_dict[best_strategy_bandit].model.train_targets\n",
    "        \n",
    "        train_x_1 = train_x[(-bandit.size_window//2):]\n",
    "        train_y_1 = train_y[(-bandit.size_window//2):]\n",
    "        train_x_2 = train_x[(-bandit.size_window):(- bandit.size_window//2)]\n",
    "        train_y_2 = train_y[(-bandit.size_window):(- bandit.size_window//2)]\n",
    "        \n",
    "        posterior_mean_1, posterior_covar_1, posterior_mean_2, posterior_covar_2 = bandit.posterior_sliding_window_covar(best_strategy_bandit)\n",
    "        distance = Wasserstein_GP_mean(posterior_mean_1.numpy(), posterior_covar_1.numpy(), posterior_mean_2.numpy(), posterior_covar_2.numpy())\n",
    "        distances.append(distance)\n",
    "        \n",
    "        test_x = torch.linspace(train_x.min().item(), train_x.max().item(), 100).double()\n",
    "        f, ax  = plt.subplots(1, 1)\n",
    "        \n",
    "        ax.plot(train_x_1.numpy(), train_y_1.numpy(), 'k*', color='k')\n",
    "        ax.plot(test_x.numpy(), posterior_mean_1.numpy(),   color='k')\n",
    "        \n",
    "        ax.plot(train_x_2.numpy(), train_y_2.numpy(), 'k*',  color='moccasin')\n",
    "        ax.plot(test_x.numpy(), posterior_mean_2.numpy(),  color='moccasin')\n",
    "        \n",
    "        ax.set_title(f\"Wasserstein distance: distance {distance}\")\n",
    "        \n",
    "        ax.fill_between(test_x.numpy(), lower1.detach().numpy(), upper1.detach().numpy(), alpha=0.4, color='k')\n",
    "        ax.fill_between(test_x.numpy(), lower2.detach().numpy(), upper2.detach().numpy(), alpha=0.4, color='darkred')\n",
    "        \n",
    "        # ax.xaxis.set_major_formatter(myFmt)\n",
    "        ax.yaxis.tick_right()\n",
    "        ax.yaxis.set_label_position(\"left\")\n",
    "        ax.grid(axis='both',  linestyle='-', linewidth=0.5)\n",
    "        ax.set_axisbelow(True)        \n",
    "        ax.set_ylabel('Reward in ticks')\n",
    "        ax.set_xlabel('Imbalance')\n",
    "        ax.legend(['GP1', '', 'GP2', ''], \n",
    "                   handlelength=0.2, framealpha=0.2, loc='best', ncol=2)\n",
    "\n",
    "    if i%20==0:\n",
    "        j = 0\n",
    "        bandit.plot_strategies([best_strategy_bandit])\n",
    "        bandit = gp_bandit_finance(strategies, bandit_algo = 'TS_WAS', \n",
    "                           likelihood              = likelihood, \n",
    "                           bandit_params           = bandit_params)\n",
    "        \n",
    "        # bandit.change_point(strat, n_test = 100, lv = -1, uv = 1)"
   ]
  },
  {
   "cell_type": "code",
   "execution_count": null,
   "id": "fa67f9f7-9196-4999-a87f-d57dcf5c598d",
   "metadata": {},
   "outputs": [],
   "source": []
  },
  {
   "cell_type": "code",
   "execution_count": null,
   "id": "ab1e8a03-d21d-4585-a049-5ef0ff205bbc",
   "metadata": {},
   "outputs": [],
   "source": []
  }
 ],
 "metadata": {
  "kernelspec": {
   "display_name": "Python 3",
   "language": "python",
   "name": "python3"
  },
  "language_info": {
   "codemirror_mode": {
    "name": "ipython",
    "version": 3
   },
   "file_extension": ".py",
   "mimetype": "text/x-python",
   "name": "python",
   "nbconvert_exporter": "python",
   "pygments_lexer": "ipython3",
   "version": "3.10.9"
  },
  "vscode": {
   "interpreter": {
    "hash": "f64736bf92f22dc967359f56a2b57762c983f99a73e4729021c8f5fa3b3d10d2"
   }
  }
 },
 "nbformat": 4,
 "nbformat_minor": 5
}
